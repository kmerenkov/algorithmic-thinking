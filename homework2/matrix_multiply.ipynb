{
 "metadata": {
  "name": ""
 },
 "nbformat": 3,
 "nbformat_minor": 0,
 "worksheets": [
  {
   "cells": [
    {
     "cell_type": "code",
     "collapsed": false,
     "input": [
      "import numpy"
     ],
     "language": "python",
     "metadata": {},
     "outputs": [],
     "prompt_number": 14
    },
    {
     "cell_type": "code",
     "collapsed": false,
     "input": [
      "graph = {0: {1, 2},\n",
      "         1: {0},\n",
      "         2: {0, 4},\n",
      "         3: set(),\n",
      "         4: {2, 5},\n",
      "         5: {4},\n",
      "         }\n",
      "\n",
      "#   0 1 2 3 4\n",
      "# 0 0 1 2 0 0\n",
      "# 1 1 0 0 0 0\n",
      "# 2 1 0 0 0 1\n",
      "# 3 0 0 0 0 0\n",
      "# 4 0 0 1 0 0\n",
      "\n",
      "mx = [[0, 1, 2, 0, 0],\n",
      "      [1, 0, 0, 0, 0],\n",
      "      [1, 0, 0, 0, 1],\n",
      "      [0, 0, 0, 0, 0],\n",
      "      [0, 0, 1, 0, 0]]\n",
      "\n",
      "mx = numpy.matrix(mx)"
     ],
     "language": "python",
     "metadata": {},
     "outputs": [],
     "prompt_number": 33
    },
    {
     "cell_type": "code",
     "collapsed": false,
     "input": [
      "def adj_matrix(graph):\n",
      "    matrix = {}\n",
      "    for node1, neighbors1 in graph.items():\n",
      "        for node2, neighbors2 in graph.items():\n",
      "            matrix[(node1, node2)] = int(node1 in neighbors2)\n",
      "    a_x = [[] for _ in graph.items()]\n",
      "    for (i, j), connected in sorted(matrix.iteritems(), key=lambda x: x[0]):\n",
      "        a_x[i].append(connected)\n",
      "    return numpy.matrix(a_x)\n"
     ],
     "language": "python",
     "metadata": {},
     "outputs": [
      {
       "metadata": {},
       "output_type": "pyout",
       "prompt_number": 22,
       "text": [
        "matrix([[0, 1, 1, 0, 0],\n",
        "        [1, 0, 0, 0, 0],\n",
        "        [1, 0, 0, 0, 1],\n",
        "        [0, 0, 0, 0, 0],\n",
        "        [0, 0, 1, 0, 0]])"
       ]
      }
     ],
     "prompt_number": 22
    },
    {
     "cell_type": "code",
     "collapsed": false,
     "input": [
      "def shortest_path(graph, i, j):\n",
      "    for k in range(1, len(graph) + 1):\n",
      "        a_m = adj_matrix(graph) ** k\n",
      "        if a_m[i, j]:\n",
      "            return k\n",
      "    return 0"
     ],
     "language": "python",
     "metadata": {},
     "outputs": [],
     "prompt_number": 99
    },
    {
     "cell_type": "code",
     "collapsed": false,
     "input": [
      "for node1 in graph.keys():\n",
      "    for node2 in graph.keys():\n",
      "        if node1 == node2:\n",
      "            continue\n",
      "        hops = shortest_path(graph, node1, node2)\n",
      "        print \"{} -> {} in {} hops\".format(node1, node2, hops)"
     ],
     "language": "python",
     "metadata": {},
     "outputs": [
      {
       "output_type": "stream",
       "stream": "stdout",
       "text": [
        "0 -> 1 in 1 hops\n",
        "0 -> 2 in 1 hops\n",
        "0 -> 3 in 0 hops\n",
        "0 -> 4 in 2 hops\n",
        "0 -> 5 in 3 hops\n",
        "1 -> 0 in 1 hops\n",
        "1 -> 2 in 2 hops\n",
        "1 -> 3 in 0 hops\n",
        "1 -> 4 in 3 hops\n",
        "1 -> 5 in 4 hops\n",
        "2 -> 0 in 1 hops\n",
        "2 -> 1 in 2 hops\n",
        "2 -> 3 in 0 hops\n",
        "2 -> 4 in 1 hops\n",
        "2 -> 5 in 2 hops\n",
        "3 -> 0 in 0 hops\n",
        "3 -> 1 in 0 hops\n",
        "3 -> 2 in 0 hops\n",
        "3 -> 4 in 0 hops\n",
        "3 -> 5 in 0 hops\n",
        "4 -> 0 in 2 hops\n",
        "4 -> 1 in 3 hops\n",
        "4 -> 2 in 1 hops\n",
        "4 -> 3 in 0 hops\n",
        "4 -> 5 in 1 hops\n",
        "5 -> 0 in 3 hops\n",
        "5 -> 1 in 4 hops\n",
        "5 -> 2 in 2 hops\n",
        "5 -> 3 in 0 hops\n",
        "5 -> 4 in 1 hops\n"
       ]
      }
     ],
     "prompt_number": 100
    },
    {
     "cell_type": "code",
     "collapsed": false,
     "input": [],
     "language": "python",
     "metadata": {},
     "outputs": [],
     "prompt_number": 93
    },
    {
     "cell_type": "code",
     "collapsed": false,
     "input": [],
     "language": "python",
     "metadata": {},
     "outputs": []
    }
   ],
   "metadata": {}
  }
 ]
}