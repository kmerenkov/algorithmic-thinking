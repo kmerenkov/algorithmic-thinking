{
 "metadata": {
  "name": "",
  "signature": "sha256:0aeb28eba85dc29de6f443e3c64b88f367ac7da28de467ec2ec37e7159733145"
 },
 "nbformat": 3,
 "nbformat_minor": 0,
 "worksheets": [
  {
   "cells": [
    {
     "cell_type": "code",
     "collapsed": false,
     "input": [
      "%matplotlib inline\n",
      "import matplotlib.pyplot as plt\n",
      "import numpy as np\n",
      "import matplotlib.pylab as pylab\n",
      "pylab.rcParams['figure.figsize'] = 10, 6\n",
      "import itertools"
     ],
     "language": "python",
     "metadata": {},
     "outputs": [],
     "prompt_number": 1
    },
    {
     "cell_type": "code",
     "collapsed": false,
     "input": [
      "import random\n",
      "import itertools\n",
      "\n",
      "\n",
      "def generate_complete_graph(num_of_nodes):\n",
      "    graph = {}\n",
      "    for i in range(0, num_of_nodes):\n",
      "        for j in range(0, num_of_nodes):\n",
      "            if i == j:\n",
      "                continue\n",
      "            if i not in graph:\n",
      "                graph[i] = set()\n",
      "            graph[i].add(j)\n",
      "    return graph\n",
      "\n",
      "\n",
      "def in_degree_norm_distribution(digraph):\n",
      "    \"\"\"Computes normalized indegree distribution of a digraph.\n",
      "    \"\"\"\n",
      "    indeg = compute_in_degrees(digraph)\n",
      "    result = {}\n",
      "    sum_indegrees = 0\n",
      "    for val in indeg.itervalues():\n",
      "        if val not in result:\n",
      "            result[val] = 0\n",
      "        result[val] += 1\n",
      "        sum_indegrees += 1\n",
      "    for val in result.iterkeys():\n",
      "        result[val] = result[val] / float(sum_indegrees)\n",
      "    return result\n",
      "\n",
      "\n",
      "def node_in_degree(digraph, node):\n",
      "    in_degree = 0\n",
      "    for neighbors in digraph.itervalues():\n",
      "        if node in neighbors:\n",
      "            in_degree += 1\n",
      "    return in_degree\n",
      "\n",
      "\n",
      "def compute_in_degrees(digraph):\n",
      "    \"\"\"Takes a directed graph digraph (represented as a dictionary)\n",
      "    and computes the in-degrees for the nodes in the graph\"\"\"\n",
      "    graph = {}\n",
      "    for node1 in digraph:\n",
      "        graph[node1] = 0\n",
      "    for nodes in digraph.itervalues():\n",
      "        for node in nodes:\n",
      "            graph[node] += 1\n",
      "    return graph\n",
      "\n",
      "\n",
      "def dpa(num_of_nodes, m):\n",
      "    assert 1 <= m <= num_of_nodes\n",
      "    graph = generate_complete_graph(m)\n",
      "    indeg = compute_in_degrees(graph)\n",
      "    nodes_ps = list(itertools.chain.from_iterable([node] * (indeg[node] + 1) for node in graph.keys()))\n",
      "    for i in range(m, num_of_nodes):\n",
      "        nodes = set()\n",
      "        for _ in range(m):\n",
      "            node = random.choice(nodes_ps)\n",
      "            nodes.add(node)\n",
      "        graph[i] = set()\n",
      "        nodes_ps += list(nodes)\n",
      "        nodes_ps.append(i)\n",
      "        for node in nodes:\n",
      "            graph[i].add(node)\n",
      "    return graph"
     ],
     "language": "python",
     "metadata": {},
     "outputs": [],
     "prompt_number": 2
    },
    {
     "cell_type": "code",
     "collapsed": false,
     "input": [
      "dpa(20, 3)"
     ],
     "language": "python",
     "metadata": {},
     "outputs": [
      {
       "metadata": {},
       "output_type": "pyout",
       "prompt_number": 3,
       "text": [
        "{0: {1, 2},\n",
        " 1: {0, 2},\n",
        " 2: {0, 1},\n",
        " 3: {0},\n",
        " 4: {0, 2, 3},\n",
        " 5: {0, 1, 2},\n",
        " 6: {0, 2, 4},\n",
        " 7: {0, 5},\n",
        " 8: {0, 1},\n",
        " 9: {0, 1},\n",
        " 10: {2},\n",
        " 11: {0, 4, 5},\n",
        " 12: {1, 4, 9},\n",
        " 13: {0, 1, 7},\n",
        " 14: {0, 2, 4},\n",
        " 15: {0, 5, 9},\n",
        " 16: {0, 2},\n",
        " 17: {0, 2, 15},\n",
        " 18: {0, 2, 5},\n",
        " 19: {1, 2, 17}}"
       ]
      }
     ],
     "prompt_number": 3
    },
    {
     "cell_type": "code",
     "collapsed": false,
     "input": [
      "import pickle\n",
      "\n",
      "with open(\"/Users/kmerenkov/Projects/algorithmic-thinking/homework1/ololo.bin\", \"r\") as f:\n",
      "    citation_graph = pickle.load(f)"
     ],
     "language": "python",
     "metadata": {},
     "outputs": [],
     "prompt_number": 4
    },
    {
     "cell_type": "code",
     "collapsed": false,
     "input": [
      "graph_1 = citation_graph\n",
      "graph_2 = dpa(27770, 13)"
     ],
     "language": "python",
     "metadata": {},
     "outputs": [],
     "prompt_number": 5
    },
    {
     "cell_type": "code",
     "collapsed": false,
     "input": [
      "plt.xscale(\"log\")\n",
      "plt.yscale(\"log\")\n",
      "\n",
      "plots = [\n",
      "         (\"green\", \"c.\", \"citation papers\", graph_1),\n",
      "         (\"blue\", \"r.\", \"DPA n=27770 m=13\", graph_2),\n",
      "]\n",
      "\n",
      "\n",
      "for color, options, label, graph in plots:\n",
      "    distribution = in_degree_norm_distribution(graph)\n",
      "    \n",
      "    xs, ys = zip(*distribution.items())\n",
      "    plt.xlabel(\"in-degree of nodes\")\n",
      "    plt.ylabel(\"normalized distribution\")\n",
      "    plt.plot(xs, ys, options, label=label)\n",
      "\n",
      "plt.legend()\n",
      "\n",
      "plt.show()"
     ],
     "language": "python",
     "metadata": {},
     "outputs": [
      {
       "metadata": {},
       "output_type": "display_data",
       "png": "[encoded data removed]",
       "text": [
        "<matplotlib.figure.Figure at 0x112fefa10>"
       ]
      }
     ],
     "prompt_number": 6
    },
    {
     "cell_type": "code",
     "collapsed": false,
     "input": [],
     "language": "python",
     "metadata": {},
     "outputs": []
    }
   ],
   "metadata": {}
  }
 ]
}