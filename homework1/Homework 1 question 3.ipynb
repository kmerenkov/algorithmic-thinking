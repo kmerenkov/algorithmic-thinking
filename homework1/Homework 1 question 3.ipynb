{
 "metadata": {
  "name": "",
  "signature": "sha256:70eaf4c8e09123fadd9222ca253e3160f7e964dd9e98c2b89ae35dda52db95b1"
 },
 "nbformat": 3,
 "nbformat_minor": 0,
 "worksheets": [
  {
   "cells": [
    {
     "cell_type": "code",
     "collapsed": false,
     "input": [
      "%matplotlib inline\n",
      "import matplotlib.pyplot as plt\n",
      "import numpy as np\n",
      "import matplotlib.pylab as pylab\n",
      "pylab.rcParams['figure.figsize'] = 10, 6\n",
      "import itertools"
     ],
     "language": "python",
     "metadata": {},
     "outputs": [],
     "prompt_number": 16
    },
    {
     "cell_type": "code",
     "collapsed": false,
     "input": [
      "import random\n",
      "import itertools\n",
      "\n",
      "\n",
      "def generate_complete_graph(num_of_nodes):\n",
      "    graph = {}\n",
      "    for i in range(0, num_of_nodes):\n",
      "        for j in range(0, num_of_nodes):\n",
      "            if i == j:\n",
      "                continue\n",
      "            if i not in graph:\n",
      "                graph[i] = set()\n",
      "            graph[i].add(j)\n",
      "    return graph\n",
      "\n",
      "\n",
      "def in_degree_norm_distribution(digraph):\n",
      "    \"\"\"Computes normalized indegree distribution of a digraph.\n",
      "    \"\"\"\n",
      "    indeg = compute_in_degrees(digraph)\n",
      "    result = {}\n",
      "    sum_indegrees = 0\n",
      "    for val in indeg.itervalues():\n",
      "        if val not in result:\n",
      "            result[val] = 0\n",
      "        result[val] += 1\n",
      "        sum_indegrees += 1\n",
      "    for val in result.iterkeys():\n",
      "        result[val] = result[val] / float(sum_indegrees)\n",
      "    return result\n",
      "\n",
      "\n",
      "def node_in_degree(digraph, node):\n",
      "    in_degree = 0\n",
      "    for neighbors in digraph.itervalues():\n",
      "        if node in neighbors:\n",
      "            in_degree += 1\n",
      "    return in_degree\n",
      "\n",
      "\n",
      "def compute_in_degrees(digraph):\n",
      "    \"\"\"Takes a directed graph digraph (represented as a dictionary)\n",
      "    and computes the in-degrees for the nodes in the graph\"\"\"\n",
      "    graph = {}\n",
      "    for node1 in digraph:\n",
      "        graph[node1] = 0\n",
      "    for nodes in digraph.itervalues():\n",
      "        for node in nodes:\n",
      "            graph[node] += 1\n",
      "    return graph\n",
      "\n",
      "\n",
      "def pick_random_nodes(graph, m, key):\n",
      "    picked_nodes = set()\n",
      "    assert len(graph) >= m\n",
      "    while len(picked_nodes) < m:\n",
      "    #for _ in range(m):\n",
      "        node = random.choice(graph.keys())\n",
      "        if node in picked_nodes:\n",
      "            continue\n",
      "        if key(node):\n",
      "            picked_nodes.add(node)\n",
      "    return picked_nodes\n",
      "\n",
      "\n",
      "def dpa(num_of_nodes, m):\n",
      "    assert 1 <= m <= num_of_nodes\n",
      "    graph = generate_complete_graph(m)\n",
      "    indeg = compute_in_degrees(graph)\n",
      "    total_indeg = sum(indeg.itervalues())\n",
      "    for i in range(m, num_of_nodes):\n",
      "        graph_size = len(graph)\n",
      "        # key = lambda node: random.random() > ((indeg.get(node, 0) + 1) / float(total_indeg + graph_size))\n",
      "        key = lambda node: random.random() > ((indeg.get(node, 0) + 1) / float(total_indeg))\n",
      "        nodes = pick_random_nodes(graph,\n",
      "                                  m,\n",
      "                                  key)\n",
      "        graph[i] = set()\n",
      "        total_indeg += len(nodes)\n",
      "        for node in nodes:\n",
      "            if node not in indeg:\n",
      "                indeg[node] = 0\n",
      "            indeg[node] += 1\n",
      "            graph[i].add(node)\n",
      "    return graph"
     ],
     "language": "python",
     "metadata": {},
     "outputs": [],
     "prompt_number": 57
    },
    {
     "cell_type": "code",
     "collapsed": false,
     "input": [
      "dpa(10, 5)"
     ],
     "language": "python",
     "metadata": {},
     "outputs": [
      {
       "metadata": {},
       "output_type": "pyout",
       "prompt_number": 58,
       "text": [
        "{0: {1, 2, 3, 4},\n",
        " 1: {0, 2, 3, 4},\n",
        " 2: {0, 1, 3, 4},\n",
        " 3: {0, 1, 2, 4},\n",
        " 4: {0, 1, 2, 3},\n",
        " 5: {0, 1, 2, 3, 4},\n",
        " 6: {0, 1, 3, 4, 5},\n",
        " 7: {0, 1, 2, 3, 4},\n",
        " 8: {3, 4, 5, 6, 7},\n",
        " 9: {1, 2, 4, 5, 7}}"
       ]
      }
     ],
     "prompt_number": 58
    },
    {
     "cell_type": "code",
     "collapsed": false,
     "input": [
      "import pickle\n",
      "\n",
      "with open(\"/Users/kmerenkov/Projects/algorithmic-thinking/homework1/ololo.bin\", \"r\") as f:\n",
      "    citation_graph = pickle.load(f)"
     ],
     "language": "python",
     "metadata": {},
     "outputs": [],
     "prompt_number": 50
    },
    {
     "cell_type": "code",
     "collapsed": false,
     "input": [
      "graph_1 = citation_graph\n",
      "graph_2 = dpa(27770, 13)"
     ],
     "language": "python",
     "metadata": {},
     "outputs": [],
     "prompt_number": 59
    },
    {
     "cell_type": "code",
     "collapsed": false,
     "input": [
      "plt.xscale(\"log\")\n",
      "plt.yscale(\"log\")\n",
      "\n",
      "plots = [\n",
      "         (\"green\", \"c.\", \"citation papers\", graph_1),\n",
      "         (\"blue\", \"r.\", \"DPA n=27770 m=13\", graph_2),\n",
      "]\n",
      "\n",
      "\n",
      "for color, options, label, graph in plots:\n",
      "    distribution = in_degree_norm_distribution(graph)\n",
      "    \n",
      "    xs, ys = zip(*distribution.items())\n",
      "    plt.xlabel(\"in-degree of nodes\")\n",
      "    plt.ylabel(\"normalized distribution\")\n",
      "    plt.plot(xs, ys, options, label=label)\n",
      "\n",
      "plt.legend()\n",
      "\n",
      "plt.show()"
     ],
     "language": "python",
     "metadata": {},
     "outputs": [
      {
       "metadata": {},
       "output_type": "display_data",
       "png": "[encoded data removed]",
       "text": [
        "<matplotlib.figure.Figure at 0x10dadea50>"
       ]
      }
     ],
     "prompt_number": 60
    },
    {
     "cell_type": "code",
     "collapsed": false,
     "input": [],
     "language": "python",
     "metadata": {},
     "outputs": []
    }
   ],
   "metadata": {}
  }
 ]
}