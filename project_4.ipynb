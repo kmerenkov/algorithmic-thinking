{
 "metadata": {
  "name": "",
  "signature": "sha256:d49509affacf016085c2ef804386fe95400ea24609433ebf4ab9593c55ca3b4e"
 },
 "nbformat": 3,
 "nbformat_minor": 0,
 "worksheets": [
  {
   "cells": [
    {
     "cell_type": "code",
     "collapsed": false,
     "input": [
      "\"\"\"Project 4 for Algorithmic Thinking coursera course\"\"\"\n",
      "\n",
      "\n",
      "def build_scoring_matrix(alphabet, diag_score, off_diag_score, dash_score):\n",
      "    \"\"\"\n",
      "    The function returns a dictionary of dictionaries whose entries are indexed by pairs of characters in alphabet plus '-'. \n",
      "    \"\"\"\n",
      "    scoring_matrix = {}\n",
      "    alphabet = set(alphabet) | set('-')\n",
      "    for char1 in alphabet:\n",
      "        scoring_matrix[char1] = {}\n",
      "        for char2 in alphabet:\n",
      "            if char1 == '-' or char2 == '-':\n",
      "                scoring_matrix[char1][char2] = dash_score\n",
      "            elif char1 == char2:\n",
      "                scoring_matrix[char1][char2] = diag_score\n",
      "            else:\n",
      "                scoring_matrix[char1][char2] = off_diag_score\n",
      "    return scoring_matrix"
     ],
     "language": "python",
     "metadata": {},
     "outputs": [],
     "prompt_number": 1
    },
    {
     "cell_type": "code",
     "collapsed": false,
     "input": [
      "def compute_alignment_matrix(seq_x, seq_y, scoring_matrix, global_flag):\n",
      "    \"\"\"\n",
      "    The function computes and returns the alignment matrix for seq_x and seq_y as described in the Homework.\n",
      "    \"\"\"\n",
      "    alignment_matrix = []\n",
      "    for _ in range(len(seq_x) + 1):\n",
      "        alignment_matrix.append([0 for _ in range(len(seq_y) + 1)])\n",
      "    alignment_matrix[0][0] = 0\n",
      "\n",
      "    for idx in range(1, len(seq_x) + 1):\n",
      "        score = alignment_matrix[idx-1][0] + scoring_matrix[seq_x[idx-1]]['-']\n",
      "        if not global_flag and score < 0:\n",
      "            alignment_matrix[idx][0] = 0\n",
      "        else:\n",
      "            alignment_matrix[idx][0] = score\n",
      "    for idx in range(1, len(seq_y) + 1):\n",
      "        score = alignment_matrix[0][idx-1] + scoring_matrix['-'][seq_y[idx-1]]\n",
      "        if not global_flag and score < 0:\n",
      "            alignment_matrix[0][idx] = 0\n",
      "        else:\n",
      "            alignment_matrix[0][idx] = score\n",
      "\n",
      "    for idx1 in range(1, len(seq_x) + 1):\n",
      "        for idx2 in range(1, len(seq_y) + 1):\n",
      "            score = max([\n",
      "                alignment_matrix[idx1-1][idx2-1] + scoring_matrix[seq_x[idx1-1]][seq_y[idx2-1]],\n",
      "                alignment_matrix[idx1-1][idx2] + scoring_matrix[seq_x[idx1-1]]['-'],\n",
      "                alignment_matrix[idx1][idx2-1] + scoring_matrix['-'][seq_y[idx2-1]],\n",
      "            ])\n",
      "            if not global_flag and score < 0:\n",
      "                alignment_matrix[idx1][idx2] = 0\n",
      "            else:\n",
      "                alignment_matrix[idx1][idx2] = score\n",
      "    return alignment_matrix"
     ],
     "language": "python",
     "metadata": {},
     "outputs": [],
     "prompt_number": 2
    },
    {
     "cell_type": "code",
     "collapsed": false,
     "input": [
      "def compute_global_alignment(seq_x, seq_y, scoring_matrix, alignment_matrix):\n",
      "    \"\"\"\n",
      "    This function computes a global alignment of seq_x and seq_y using the global alignment matrix alignment_matrix.\n",
      "    \"\"\"\n",
      "    idx1 = len(seq_x)\n",
      "    idx2 = len(seq_y)\n",
      "    x_alignment = []\n",
      "    y_alignment = []\n",
      "    while idx1 and idx2:\n",
      "        if alignment_matrix[idx1][idx2] == alignment_matrix[idx1-1][idx2-1] + scoring_matrix[seq_x[idx1-1]][seq_y[idx2-1]]:\n",
      "            x_alignment.append(seq_x[idx1-1])\n",
      "            y_alignment.append(seq_y[idx2-1])\n",
      "            idx1 -= 1\n",
      "            idx2 -= 1\n",
      "        else:\n",
      "            if alignment_matrix[idx1][idx2] == alignment_matrix[idx1-1][idx2] + scoring_matrix[seq_x[idx1-1]]['-']:\n",
      "                x_alignment.append(seq_x[idx1-1])\n",
      "                y_alignment.append('-')\n",
      "                idx1 -= 1\n",
      "            else:\n",
      "                x_alignment.append('-')\n",
      "                y_alignment.append(seq_y[idx2-1])\n",
      "                idx2 -= 1\n",
      "    while idx1:\n",
      "        x_alignment.append(seq_x[idx1-1])\n",
      "        y_alignment.append('-')\n",
      "        idx1 -= 1\n",
      "    while idx2:\n",
      "        x_alignment.append('-')\n",
      "        y_alignment.append(seq_y[idx2-1])\n",
      "        idx2 -= 1\n",
      "    x_alignment = reversed(x_alignment)\n",
      "    y_alignment = reversed(y_alignment)\n",
      "    return alignment_matrix[-1][-1], ''.join(x_alignment), ''.join(y_alignment)"
     ],
     "language": "python",
     "metadata": {},
     "outputs": [],
     "prompt_number": 3
    },
    {
     "cell_type": "code",
     "collapsed": false,
     "input": [
      "def max_matrix(matrix):\n",
      "    \"\"\"\n",
      "    Finds maximum value in a matrix. Returns i, j and the value itself.\n",
      "    \"\"\"\n",
      "    prev_max = None\n",
      "    max_i = -1\n",
      "    max_j = -1\n",
      "    for idx, row in enumerate(matrix):\n",
      "        for jdx, column in enumerate(row):\n",
      "            if prev_max is None:\n",
      "                prev_max = column\n",
      "                max_i = idx\n",
      "                max_j = jdx\n",
      "            if column > prev_max:\n",
      "                max_i = idx\n",
      "                max_j = jdx\n",
      "                prev_max = column\n",
      "    return max_i, max_j, prev_max\n",
      "\n",
      "\n",
      "def compute_local_alignment(seq_x, seq_y, scoring_matrix, alignment_matrix):\n",
      "    \"\"\"\n",
      "    This function computes a local alignment of seq_x and seq_y using the local alignment matrix alignment_matrix.\n",
      "    \"\"\"\n",
      "    max_idx1, max_idx2, _ = max_matrix(alignment_matrix)\n",
      "    idx1 = max_idx1\n",
      "    idx2 = max_idx2\n",
      "    if idx1 == -1 or idx2 == -1:\n",
      "        return 0, '', ''\n",
      "    print 'start', idx1, idx2\n",
      "    x_alignment = []\n",
      "    y_alignment = []\n",
      "    stop = False\n",
      "    while idx1 and idx2:\n",
      "        if alignment_matrix[idx1][idx2] == 0:\n",
      "            stop = True\n",
      "            break\n",
      "        if alignment_matrix[idx1][idx2] == alignment_matrix[idx1-1][idx2-1] + scoring_matrix[seq_x[idx1-1]][seq_y[idx2-1]]:\n",
      "            x_alignment.append(seq_x[idx1-1])\n",
      "            y_alignment.append(seq_y[idx2-1])\n",
      "            idx1 -= 1\n",
      "            idx2 -= 1\n",
      "        else:\n",
      "            if alignment_matrix[idx1][idx2] == alignment_matrix[idx1-1][idx2] + scoring_matrix[seq_x[idx1-1]]['-']:\n",
      "                x_alignment.append(seq_x[idx1-1])\n",
      "                y_alignment.append('-')\n",
      "                idx1 -= 1\n",
      "            else:\n",
      "                x_alignment.append('-')\n",
      "                y_alignment.append(seq_y[idx2-1])\n",
      "                idx2 -= 1\n",
      "    if not (idx1 and idx2):\n",
      "        stop = True\n",
      "    print \"idx1\", idx1, \"idx2\", idx2\n",
      "    if not stop:\n",
      "        while idx1:\n",
      "            x_alignment.append(seq_x[idx1-1])\n",
      "            y_alignment.append('-')\n",
      "            idx1 -= 1\n",
      "        while idx2:\n",
      "            x_alignment.append('-')\n",
      "            y_alignment.append(seq_y[idx2-1])\n",
      "            idx2 -= 1\n",
      "    local_score = sum(scoring_matrix[x_char][y_char] for x_char, y_char in zip(x_alignment, y_alignment))\n",
      "    local_score = alignment_matrix[max_idx1][max_idx2]\n",
      "    x_alignment = reversed(x_alignment)\n",
      "    y_alignment = reversed(y_alignment)\n",
      "    return local_score, ''.join(x_alignment), ''.join(y_alignment)"
     ],
     "language": "python",
     "metadata": {},
     "outputs": [],
     "prompt_number": 4
    },
    {
     "cell_type": "code",
     "collapsed": false,
     "input": [
      "import math\n",
      "import random\n",
      "import matplotlib.pyplot as plt\n",
      "\n",
      "\n",
      "PAM50 = \"alg_PAM50.txt\"\n",
      "HUMAN_EYELESS = \"alg_HumanEyelessProtein.txt\"\n",
      "FRUITFLY_EYELESS = \"alg_FruitflyEyelessProtein.txt\"\n",
      "CONSENSUS_PAX = \"alg_ConsensusPAXDomain.txt\"\n",
      "WORD_LIST = \"assets_scrabble_words3.txt\"\n",
      "\n",
      "\n",
      "\n",
      "\n",
      "def read_scoring_matrix(filename):\n",
      "    \"\"\"\n",
      "    Read a scoring matrix from the file named filename.  \n",
      "\n",
      "    Argument:\n",
      "    filename -- name of file containing a scoring matrix\n",
      "\n",
      "    Returns:\n",
      "    A dictionary of dictionaries mapping X and Y characters to scores\n",
      "    \"\"\"\n",
      "    scoring_dict = {}\n",
      "    scoring_file = open(filename)\n",
      "    ykeys = scoring_file.readline()\n",
      "    ykeychars = ykeys.split()\n",
      "    for line in scoring_file.readlines():\n",
      "        vals = line.split()\n",
      "        xkey = vals.pop(0)\n",
      "        scoring_dict[xkey] = {}\n",
      "        for ykey, val in zip(ykeychars, vals):\n",
      "            scoring_dict[xkey][ykey] = int(val)\n",
      "    return scoring_dict\n",
      "\n",
      "\n",
      "def read_protein(filename):\n",
      "    \"\"\"\n",
      "    Read a protein sequence from the file named filename.\n",
      "\n",
      "    Arguments:\n",
      "    filename -- name of file containing a protein sequence\n",
      "\n",
      "    Returns:\n",
      "    A string representing the protein\n",
      "    \"\"\"\n",
      "    protein_file = open(filename)\n",
      "    protein_seq = protein_file.read()\n",
      "    protein_seq = protein_seq.rstrip()\n",
      "    return protein_seq\n",
      "\n",
      "\n",
      "def read_words(filename):\n",
      "    \"\"\"\n",
      "    Load word list from the file named filename.\n",
      "\n",
      "    Returns a list of strings.\n",
      "    \"\"\"\n",
      "    # load assets\n",
      "    word_file = open(filename)\n",
      "    \n",
      "    # read in files as string\n",
      "    words = word_file.read()\n",
      "    \n",
      "    # template lines and solution lines list of line string\n",
      "    word_list = words.split('\\n')\n",
      "    print \"Loaded a dictionary with\", len(word_list), \"words\"\n",
      "    return word_list"
     ],
     "language": "python",
     "metadata": {},
     "outputs": [],
     "prompt_number": 5
    },
    {
     "cell_type": "code",
     "collapsed": false,
     "input": [
      "# Question 1\n",
      "human_eyeless = read_protein(HUMAN_EYELESS)\n",
      "fruitfly_eyeless = read_protein(FRUITFLY_EYELESS)\n",
      "pam_50_scoring = read_scoring_matrix(PAM50)\n",
      "\n",
      "alignment_matrix = compute_alignment_matrix(human_eyeless, fruitfly_eyeless, pam_50_scoring, False)\n",
      "score, human_local, fruitfly_local = compute_local_alignment(human_eyeless, fruitfly_eyeless, pam_50_scoring, alignment_matrix)\n",
      "human_fruitfly_score = score\n",
      "print score, human_local, fruitfly_local\n",
      "print 'Length', len(human_local), len(fruitfly_local)"
     ],
     "language": "python",
     "metadata": {},
     "outputs": [
      {
       "output_type": "stream",
       "stream": "stdout",
       "text": [
        " start 136 189\n",
        "idx1 4 idx2 56\n",
        "875 HSGVNQLGGVFVNGRPLPDSTRQKIVELAHSGARPCDISRILQVSNGCVSKILGRYYETGSIRPRAIGGSKPRVATPEVVSKIAQYKRECPSIFAWEIRDRLLSEGVCTNDNIPSVSSINRVLRNLASEK-QQ HSGVNQLGGVFVGGRPLPDSTRQKIVELAHSGARPCDISRILQVSNGCVSKILGRYYETGSIRPRAIGGSKPRVATAEVVSKISQYKRECPSIFAWEIRDRLLQENVCTNDNIPSVSSINRVLRNLAAQKEQQ\n",
        "Length 133 133\n"
       ]
      }
     ],
     "prompt_number": 43
    },
    {
     "cell_type": "code",
     "collapsed": false,
     "input": [
      "# Question 2\n",
      "consensus_pax = read_protein(CONSENSUS_PAX)\n",
      "\n",
      "print 'len(human_eyeless)', len(human_eyeless)\n",
      "print 'len(fruitfly_eyeless)', len(fruitfly_eyeless)\n",
      "print 'len(consensus_pax)', len(consensus_pax)\n",
      "\n",
      "\n",
      "print\n",
      "print\n",
      "\n",
      "\n",
      "alignment_matrix = compute_alignment_matrix(human_local.replace('-', ''), consensus_pax, pam_50_scoring, True)\n",
      "score, human_global, consensus_global = compute_global_alignment(human_local.replace('-', ''),\n",
      "                                                                 consensus_pax,\n",
      "                                                                 pam_50_scoring,\n",
      "                                                                 alignment_matrix)\n",
      "print 'Global alignment of local human vs consensus PAX'\n",
      "print 'Score of global alignment:', score\n",
      "print 'Local human:', human_global\n",
      "print 'Consensus PAX:', consensus_global\n",
      "match = sum(1 for x, y in zip(human_global, consensus_global) if x == y)\n",
      "print 'Percentage:', 1.0 * match / len(consensus_global)\n",
      "\n",
      "print\n",
      "print\n",
      "\n",
      "alignment_matrix = compute_alignment_matrix(fruitfly_local.replace('-', ''), consensus_pax, pam_50_scoring, True)\n",
      "score, fruitfly_global, consensus_global = compute_global_alignment(fruitfly_local.replace('-', ''),\n",
      "                                                                 consensus_pax,\n",
      "                                                                 pam_50_scoring,\n",
      "                                                                 alignment_matrix)\n",
      "print 'Global alignment of local fruitfly vs consensus PAX'\n",
      "print 'Score of global alignment:', score\n",
      "print 'Local fruitfly:', fruitfly_global\n",
      "print 'Consensus PAX:', consensus_global\n",
      "match = sum(1 for x, y in zip(fruitfly_global, consensus_global) if x == y)\n",
      "print 'Percentage:', 1.0 * match / len(consensus_global)"
     ],
     "language": "python",
     "metadata": {},
     "outputs": [
      {
       "output_type": "stream",
       "stream": "stdout",
       "text": [
        "len(human_eyeless) 422\n",
        "len(fruitfly_eyeless) 857\n",
        "len(consensus_pax) 125\n",
        "\n",
        "\n",
        "Global alignment of local human vs consensus PAX"
       ]
      },
      {
       "output_type": "stream",
       "stream": "stdout",
       "text": [
        "\n",
        "Score of global alignment: 613\n",
        "Local human: -HSGVNQLGGVFVNGRPLPDSTRQKIVELAHSGARPCDISRILQVSNGCVSKILGRYYETGSIRPRAIGGSKPRVATPEVVSKIAQYKRECPSIFAWEIRDRLLSEGVCTNDNIPSVSSINRVLRNLASEKQQ\n",
        "Consensus PAX: GHGGVNQLGGVFVNGRPLPDVVRQRIVELAHQGVRPCDISRQLRVSHGCVSKILGRYYETGSIKPGVIGGSKPKVATPKVVEKIAEYKRQNPTMFAWEIRDRLLAERVCDNDTVPSVSSINRIIR--------\n",
        "Percentage: 0.729323308271\n",
        "\n",
        "\n",
        "Global alignment of local fruitfly vs consensus PAX\n",
        "Score of global alignment: 586\n",
        "Local fruitfly: -HSGVNQLGGVFVGGRPLPDSTRQKIVELAHSGARPCDISRILQVSNGCVSKILGRYYETGSIRPRAIGGSKPRVATAEVVSKISQYKRECPSIFAWEIRDRLLQENVCTNDNIPSVSSINRVLRNLAAQKEQQ\n",
        "Consensus PAX: GHGGVNQLGGVFVNGRPLPDVVRQRIVELAHQGVRPCDISRQLRVSHGCVSKILGRYYETGSIKPGVIGGSKPKVATPKVVEKIAEYKRQNPTMFAWEIRDRLLAERVCDNDTVPSVSSINRIIR---------\n",
        "Percentage: 0.701492537313\n"
       ]
      }
     ],
     "prompt_number": 7
    },
    {
     "cell_type": "code",
     "collapsed": false,
     "input": [
      "# Question 4\n",
      "import random\n",
      "\n",
      "\n",
      "def generate_null_distribution(seq_x, seq_y, scoring_matrix, num_trials):\n",
      "    scoring_distribution = {}\n",
      "    for _ in range(num_trials):\n",
      "        rand_x = list(seq_x)\n",
      "        rand_y = list(seq_y)\n",
      "        random.shuffle(rand_x)\n",
      "        random.shuffle(rand_y)\n",
      "        alignment_matrix = compute_alignment_matrix(rand_x, rand_y, scoring_matrix, False)\n",
      "        score, _x_alignment, _y_alignment = compute_local_alignment(rand_x, rand_y, scoring_matrix, alignment_matrix)\n",
      "        if score not in scoring_distribution:\n",
      "            scoring_distribution[score] = 1\n",
      "        else:\n",
      "            scoring_distribution[score] += 1\n",
      "    return scoring_distribution"
     ],
     "language": "python",
     "metadata": {},
     "outputs": [],
     "prompt_number": 16
    },
    {
     "cell_type": "code",
     "collapsed": false,
     "input": [
      "sd = generate_null_distribution(human_eyeless, fruitfly_eyeless, pam_50_scoring, 1000)"
     ],
     "language": "python",
     "metadata": {},
     "outputs": [
      {
       "output_type": "stream",
       "stream": "stdout",
       "text": [
        "start 243 589\n",
        "idx1 216 idx2 559\n",
        "50 G-LRSTIPVGSSRRIP---R-R-QNQLQSQVSV GPLPGTISV-PSRP-PSQMRSRPQSDLES-TSV\n",
        "start"
       ]
      },
      {
       "output_type": "stream",
       "stream": "stdout",
       "text": [
        " 289 410\n",
        "idx1 255 idx2 375\n",
        "53 LEIIEM-P-N-AGH-TLNYASSGLTMHASVGDNPVRR-L LQIINLSPLGVSGHSSMDY--SG-AV-SSVSQQAQRRFL\n",
        "start"
       ]
      },
      {
       "output_type": "stream",
       "stream": "stdout",
       "text": [
        " 326 856\n",
        "idx1 256 idx2 787\n",
        "57 QNLAKRQTSSR-RNPRNRKE-LSS-PEKQKYELLYLVVQA-RTQ-ET-SYS-QP-GR-L--NI-YAVESCTRRGRSPNSPSQ QNLMK-NSPSRQR-PANKRDGYSTWHAN-SFE-VY---EANRSNSETPSLSLRPSGSALPRNISY-L-S-TQSD-DP-SP-Q\n",
        "start"
       ]
      },
      {
       "output_type": "stream",
       "stream": "stdout",
       "text": [
        " 216 766\n",
        "idx1 156 idx2 703\n",
        "58 VEQ-MEINTN-V-SW--NQRNMSDELVTQEGGRIDQSIGNSGVGA---VLPWQPERGDTGI-TVSGIGS IDQATPVQSNSVPSWFAN-RN-GAQHSRQATG-VN-SLSSAGVGATPSITSW-SA-AQTGVEAVNGPGS\n",
        "start"
       ]
      },
      {
       "output_type": "stream",
       "stream": "stdout",
       "text": [
        " 236 124\n",
        "idx1 220 idx2 110\n",
        "39 G-MSVNQRVVVKSPGKV GKLS-NQR--VSSPAQV\n",
        "start"
       ]
      },
      {
       "output_type": "stream",
       "stream": "stdout",
       "text": [
        " 243 85\n",
        "idx1 207 idx2 39\n",
        "42 SQ--INGQNSQSSG-IVVR--GPV--CPP--TV-LGQPVKPQGALM SQPKIHSQSPETNGFISSRPSGAVTFPPPQNSSKLGDKVSPESSYM\n",
        "start"
       ]
      },
      {
       "output_type": "stream",
       "stream": "stdout",
       "text": [
        " 296 689\n",
        "idx1 287 idx2 679\n",
        "44 RT-VKAFMRS RTSIGAFMRS\n",
        "start"
       ]
      },
      {
       "output_type": "stream",
       "stream": "stdout",
       "text": [
        " 175 142\n",
        "idx1 132 idx2 95\n",
        "49 PQ-DNSAL-AKR-MQSTAQGLN--RS--SSGGPYSTTNTNNEPVPFPP-RS PELDNSSICAGRAVPPTDQLLNVSRTLLIDGEP-S--NA-HEPSESPPGRS\n",
        "start"
       ]
      },
      {
       "output_type": "stream",
       "stream": "stdout",
       "text": [
        " 194 586\n",
        "idx1 159 idx2 554\n",
        "55 EAVQCIPSHVSA-M-TAGR-E-LQDLPLDGKVPTFCPLS EAL--IPSH-SSFKPTSGRVNKAADLP-N-N-PSIC-LS\n",
        "start"
       ]
      },
      {
       "output_type": "stream",
       "stream": "stdout",
       "text": [
        " 97 424\n",
        "idx1 55 idx2 388\n",
        "60 QDHSY-NVEESFPHEM-GHQYTSDADNSKAQ-IFCDSRIFNSSSR Q-HSYRNL-DN-PHSIPGN--SGDASQA-AEDI-TDAQ--NSSSR\n",
        "start"
       ]
      },
      {
       "output_type": "stream",
       "stream": "stdout",
       "text": [
        " 157 98\n",
        "idx1 142 idx2 84\n",
        "44 RTTQAGSSMNAPSVG KSTLSGGSIN-PSVG\n",
        "start"
       ]
      },
      {
       "output_type": "stream",
       "stream": "stdout",
       "text": [
        " 279 605\n",
        "idx1 264 idx2 589\n",
        "43 AESG-PASE-QRSPMGS AESDWSSTEIQ-SSMGS\n",
        "start"
       ]
      },
      {
       "output_type": "stream",
       "stream": "stdout",
       "text": [
        " 290 41\n",
        "idx1 270 idx2 17\n",
        "49 PQ-QYFNPTTV--PN-IVMN-SEAW PQGQALSQ-TVDSPNDIAMSFSNGW\n",
        "start"
       ]
      },
      {
       "output_type": "stream",
       "stream": "stdout",
       "text": [
        " 241 570\n",
        "idx1 208 idx2 544\n",
        "60 SRTPPNPYARDYRRLPNMTS-RPPDQNETPEL-QP SRS--S-YPR-IRRFP-VSSER-P-QNQ-P-LAEP\n",
        "start"
       ]
      },
      {
       "output_type": "stream",
       "stream": "stdout",
       "text": [
        " 250 170\n",
        "idx1 188 idx2 110\n",
        "57 LTIPPQGGSNDNP-ENI-LKDNAP-GLHAPQI-ESQAGGDSATHWVSK-PLSRSNSPLDPSDTVMLR LTSSPESASCDNRGHDADFSSNLPIAVHAPAVTE-EY-SN-AA--ISNGPLAHSSDA-DPSTTA-LR\n",
        "start"
       ]
      },
      {
       "output_type": "stream",
       "stream": "stdout",
       "text": [
        " 291 240\n",
        "idx1 267 idx2 218\n",
        "47 STQ-HNLSHLPGPQFRSRFGP-PWS-P SNQGHNLPR--G-QTHNR--PTPWAFP\n",
        "start"
       ]
      },
      {
       "output_type": "stream",
       "stream": "stdout",
       "text": [
        " 59 690\n",
        "idx1 11 idx2 646\n",
        "56 TQSN-T-SVPSYQLLIGQS-VSPTAYESMGSA-PRQKPQGPSSFSGSIRPDS T-TNATSSLQRYE-IIRQTGGSP-A-GSSASAHANQ-PLGNSTFS-S--PSS\n",
        "start"
       ]
      },
      {
       "output_type": "stream",
       "stream": "stdout",
       "text": [
        " 362 253\n",
        "idx1 328 idx2 223\n",
        "44 TAI-RRGIQGRFLN-NRMRRRGHENAVNGSS-WGTEI TAIQRRFI-GQ-LNANS-PCQPHE-G--GSSLR-TQI\n",
        "start"
       ]
      },
      {
       "output_type": "stream",
       "stream": "stdout",
       "text": [
        " 98 705\n",
        "idx1 67 idx2 669\n",
        "54 PNEQSR---S--T--GM-PVRQNEKQSNT-S-DSQPNTRGS PNEQVRPFLSPATADGLPPVS-ND-Q-NTGSLQSRSN-R-S\n",
        "start"
       ]
      },
      {
       "output_type": "stream",
       "stream": "stdout",
       "text": [
        " 403 615\n",
        "idx1 381 idx2 596\n",
        "52 SPPGPQYSRGSGMSRPNASHRS SPPPPQ--RGS-MEAADGYNRS\n",
        "start"
       ]
      },
      {
       "output_type": "stream",
       "stream": "stdout",
       "text": [
        " 131 168\n",
        "idx1 101 idx2 139\n",
        "45 TEEGFVSLSGRSS--PNTSDANGGEQPQPPPP TGQG-I-LQARPGIQPQKS-ANGSAGPDPTPP\n",
        "start"
       ]
      },
      {
       "output_type": "stream",
       "stream": "stdout",
       "text": [
        " 209 318\n",
        "idx1 187 idx2 301\n",
        "48 PRQSNQGDS-DEQQMGVTPGCPS PR-SSQ--SLD-QQT-V-PSSPS\n",
        "start"
       ]
      },
      {
       "output_type": "stream",
       "stream": "stdout",
       "text": [
        " 245 699\n",
        "idx1 231 idx2 682\n",
        "56 PS--SIVRQFYS--STMR PSRHSIL-QFYSVVSTLR\n",
        "start"
       ]
      },
      {
       "output_type": "stream",
       "stream": "stdout",
       "text": [
        " 119 713\n",
        "idx1 57 idx2 643\n",
        "72 LPSRSVGLS-ISLA-GY--GQASRRPVARKGISNSYRITRKVT-SPVDIGS-AS-M-QWT-MSEPGSRT-NS LPPASIGQSGIALAHGLMPTQNNVSVIAAPGVSHSSRSAHTITGSPVQSGSGSSYLPQSTYTS-P-HQTENS\n",
        "start"
       ]
      },
      {
       "output_type": "stream",
       "stream": "stdout",
       "text": [
        " 111 307\n",
        "idx1 73 idx2 263\n",
        "47 Y-TSFIRDGPYSTANTGFEG-SLN-ER-L-G-GFNLP--MEQGS-IQ YMAPLIR-G--STGETSFPGQSSSFEQTLEDYGYNNSGNLEESSAIQ\n",
        "start"
       ]
      },
      {
       "output_type": "stream",
       "stream": "stdout",
       "text": [
        " 200 798\n",
        "idx1 139 idx2 737\n",
        "52 GGSKPR-SRVKSIISIPADNVKNAFSQTSVLAYTQPQFSR-TSDTPVVGYNNNISQITS-TQ-YL GSSEASASRADSLIA-GASTGTGAHAQTTGIGH-QPVFSCGDEDSHSVG-SGH-TQGTSETELYL\n",
        "start"
       ]
      },
      {
       "output_type": "stream",
       "stream": "stdout",
       "text": [
        " 29 224\n",
        "idx1 1 idx2 200\n",
        "43 VINPYSDGMPI-RSSDPKCTTPRSFRKLS VL-P-S-G-PARRSPNP-CSIPESTRAIS\n",
        "start"
       ]
      },
      {
       "output_type": "stream",
       "stream": "stdout",
       "text": [
        " 83 505\n",
        "idx1 53 idx2 479\n",
        "43 PLG-VQLSQR-TTRLDNKGERRQSISGSREKG PLGSVQ-SDRPPAK-DNH-ARSNWVS-S-E-G\n",
        "start"
       ]
      },
      {
       "output_type": "stream",
       "stream": "stdout",
       "text": [
        " 111 811\n",
        "idx1 94 idx2 791\n",
        "44 PSH-S-RASQHVSLQ-VRTR PAHQSGGASAHSSSETVRTR\n",
        "start"
       ]
      },
      {
       "output_type": "stream",
       "stream": "stdout",
       "text": [
        " 27 759\n",
        "idx1 1 idx2 734\n",
        "49 VAEQISPQHIKRERSKHGSGSRVG-NY VGDAVGPQRGASD-SKRGTGS-VGVEY\n",
        "start"
       ]
      },
      {
       "output_type": "stream",
       "stream": "stdout",
       "text": [
        " 226 472\n",
        "idx1 203 idx2 446\n",
        "52 NVRSYG-S-I-PLVGSSSIG-RDI-PPQ NVRV-GRSRTSPTV-SPTIGNSGIFPPQ\n",
        "start"
       ]
      },
      {
       "output_type": "stream",
       "stream": "stdout",
       "text": [
        " 264 510\n",
        "idx1 233 idx2 475\n",
        "59 ISQQKMRKTSH-V-SQG-A-N-TLA-VQGSPSDPSGS ISQHRMH-APHIVSSDGEVQSCTRPCVI-TPAEPSGS\n",
        "start"
       ]
      },
      {
       "output_type": "stream",
       "stream": "stdout",
       "text": [
        " 50 681\n",
        "idx1 7 idx2 641\n",
        "66 QNGEGSSEGGSNS--SRIHQGSKV-QRGRQLPSPLCTSTRSIPAGL HHGQ-NSEGGSSSVVSSCLQGTLAPEI-RH-PE-MCASS-NIPA-L\n",
        "start"
       ]
      },
      {
       "output_type": "stream",
       "stream": "stdout",
       "text": [
        " 348 132\n",
        "idx1 332 idx2 117\n",
        "42 PSPGVNGDES-AVSMGT PTP-VSNEASCA-SMST\n",
        "start"
       ]
      },
      {
       "output_type": "stream",
       "stream": "stdout",
       "text": [
        " 331 627\n",
        "idx1 289 idx2 595\n",
        "48 GKVNPKSRSRVSTPDPGGAQVRTTSLPTTSGISQGPTYTSIA GR-N-QSNSRSSSAE-GGT--RPGS--NTSPCS-GP-Y-SVA\n",
        "start"
       ]
      },
      {
       "output_type": "stream",
       "stream": "stdout",
       "text": [
        " 324 270\n",
        "idx1 246 idx2 196\n",
        "48 L-STPSTSMYRKSQKHDMGKTYRIT-IPG---GGYRTHNPG-S-SNDRSSP-SDGSAIKPLSSNGTSTP-PRPT--MNVAIQS-EPFG--GL LVATPNTS-FP-SQ--NVNST--ISAVVGSTTGG--SNNPEFQIST--SSPQS-GS--RP--SN---TPQPQNVWRVDSAMQSRNPLGSDGL\n",
        "start"
       ]
      },
      {
       "output_type": "stream",
       "stream": "stdout",
       "text": [
        " 241 391\n",
        "idx1 228 idx2 376\n",
        "45 GLS-P-T-PSREIQLS G-SHPVTMPSRQSQLS\n",
        "start"
       ]
      },
      {
       "output_type": "stream",
       "stream": "stdout",
       "text": [
        " 411 416\n",
        "idx1 393 idx2 396\n",
        "44 NETEWVSGGMPPSP-SG-LS NITESDSGGVPNNPSSAQLS\n",
        "start"
       ]
      },
      {
       "output_type": "stream",
       "stream": "stdout",
       "text": [
        " 90 846\n",
        "idx1 46 idx2 807\n",
        "38 VQVIRGFVQPSITHRRVRTRY-RGQRS-YSD-KAYGGGMSQTSDQAR VRCIRSHV-PSII---LFTHYVKG--SENSDSNA-VSG-STTTQQYR\n",
        "start"
       ]
      },
      {
       "output_type": "stream",
       "stream": "stdout",
       "text": [
        " 368 360\n",
        "idx1 300 idx2 289\n",
        "57 RVPSGNNPLPS----RSPVE-GADDGGQGTESRPARQGSIPTPLVVLSQVTATQ-DTRQFD--HSVS-Y-GQRTG-G-RS RI-SGNSEMSSEINQKNPGNSGAAALGEASE--P-RH-S---P-VVIAHLSAYQAGVRPSDPWHSKSIYHPLRSGLGTRS\n",
        "start"
       ]
      },
      {
       "output_type": "stream",
       "stream": "stdout",
       "text": [
        " 334 363\n",
        "idx1 314 idx2 347\n",
        "42 PPTVRSPSLPEGQTTL-SGNI PP-GRSP-L-D-E-SLGGGNI\n",
        "start"
       ]
      },
      {
       "output_type": "stream",
       "stream": "stdout",
       "text": [
        " 313 73\n",
        "idx1 294 idx2 56\n",
        "49 TAG--ISLEEPIPQVLSGRAL SAGSIISLKQ--PQ-LSGR-L\n",
        "start"
       ]
      },
      {
       "output_type": "stream",
       "stream": "stdout",
       "text": [
        " 99 127\n",
        "idx1 57 idx2 87\n",
        "43 SQVQIENSGSPGRRSFRS-PYTR-SACYDQHQ-RITGKTAHMEES SQ-HIAFTISQG-RSARTRP-ARISP-NEQAQYQLTKKRG-MSQS\n",
        "start"
       ]
      },
      {
       "output_type": "stream",
       "stream": "stdout",
       "text": [
        " 289 300\n",
        "idx1 234 idx2 247\n",
        "53 VTNNQQTRSNSCGVAQMNYSQVLQGSLP-EET-G--ENGSQLSDDSIATGQ--MVSTDNAH VSNTQESTGN--GV--V--SRVQQSSDPTGESPSPVEYGSQ-SGDGGSAGETNMIS-NRSH\n",
        "start"
       ]
      },
      {
       "output_type": "stream",
       "stream": "stdout",
       "text": [
        " 218 777\n",
        "idx1 172 idx2 739\n",
        "63 IVGSKKEYTERSNLWGISQRQLYVTCSERL-G-SA-CQTSYSDRVSSPP IT-S-KE-THRSS--N-SP-Q--V-CSDFLQGYAATCQNNH-DRPSRPP\n",
        "start"
       ]
      },
      {
       "output_type": "stream",
       "stream": "stdout",
       "text": [
        " 37 854\n",
        "idx1 2 idx2 816\n",
        "49 SISSA-TM-PYRSGTSYKPPG-P-STVNN-R--E-RRPRSNTS S-SSTLSLCP-RAGPS--GHGSPVSKMKNIRTAESRR-HANTS\n",
        "start"
       ]
      },
      {
       "output_type": "stream",
       "stream": "stdout",
       "text": [
        " 120 429\n",
        "idx1 96 idx2 409\n",
        "50 SYSSE-SSLTNNRSDDPPTAAARNS S-SSERSS-T-NRI--PSTADADNS\n",
        "start"
       ]
      },
      {
       "output_type": "stream",
       "stream": "stdout",
       "text": [
        " 121 722\n",
        "idx1 96 idx2 693\n",
        "44 TRSQA--PT---TEGVIPECSGKR-RSSSPS SR-QAPIPSIANSEGAVPN-SPSRTRSSNGS\n",
        "start"
       ]
      },
      {
       "output_type": "stream",
       "stream": "stdout",
       "text": [
        " 396 285\n",
        "idx1 359 idx2 246\n",
        "47 TSVANETLQQETSYEM-NGIRAIIVIQ-SP---GS-S-SARDLS SSAAPASLEP-T-LDMSSG--AII-IEGAPTATGSPSKTSQELS\n",
        "start"
       ]
      },
      {
       "output_type": "stream",
       "stream": "stdout",
       "text": [
        " 293 98\n",
        "idx1 266 idx2 69\n",
        "47 SPPGVARI-V-RPGLNS-LFSSTRAPM--PPG SSPGAVRVEMGSP-LDSPL-PS-MAPSGPPPG\n",
        "start"
       ]
      },
      {
       "output_type": "stream",
       "stream": "stdout",
       "text": [
        " 46 366\n",
        "idx1 31 idx2 353\n",
        "49 VPGEKEQG-FSDPSSS VPS--EQSDFS-PSSS\n",
        "start"
       ]
      },
      {
       "output_type": "stream",
       "stream": "stdout",
       "text": [
        " 394 525\n",
        "idx1 354 idx2 491\n",
        "50 PRL-E-TYKQELIRPRHALSMENTETEISEYRMISRPSNERE PKLIEVSY-QQ--PPSHP-S---SELEIHA-SIISLPCNEHQ\n",
        "start"
       ]
      },
      {
       "output_type": "stream",
       "stream": "stdout",
       "text": [
        " 332 811\n",
        "idx1 320 idx2 799\n",
        "48 PG-PTSPVIVQIR PGAPTSR-IIQLR\n",
        "start"
       ]
      },
      {
       "output_type": "stream",
       "stream": "stdout",
       "text": [
        " 328 669\n",
        "idx1 313 idx2 653\n",
        "52 NERSQTRNQ-PETGRR SEHSQSRNQNADSSQR\n",
        "start"
       ]
      },
      {
       "output_type": "stream",
       "stream": "stdout",
       "text": [
        " 90 225\n",
        "idx1 4 idx2 146\n",
        "55 LDPLFLPQ-QSSRECNSDSRPDFKINIG--SSPANSQHRP-Y-LL-VNEF-RSH-MGHPISFAIVVQMVVGSTLPLYQPTIKGAVS-TGTEPTPN LHAL-VSQAHSS---NS-SHEEF-ISISYYRKSAVSQQ-PYYTIQTVSQYRRDYKL-H--A-PI---MVVASE-ANNE-TLVEALPDSGTPPTPS\n",
        "start"
       ]
      },
      {
       "output_type": "stream",
       "stream": "stdout",
       "text": [
        " 254 42\n",
        "idx1 230 idx2 17\n",
        "50 QQQ-PQSI-SPIGPSNQCV-QPYPQAV EQLGPRSIASNIAPGSH-LGQ-YPAPV\n",
        "start"
       ]
      },
      {
       "output_type": "stream",
       "stream": "stdout",
       "text": [
        " 212 275\n",
        "idx1 188 idx2 248\n",
        "52 ATQPTL-VEPSIN-WV-LGILAA-NNVG ATKP-LQIESGTNVWVALPRQASESNVG\n",
        "start"
       ]
      },
      {
       "output_type": "stream",
       "stream": "stdout",
       "text": [
        " 389 73\n",
        "idx1 331 idx2 13\n",
        "52 RRSGSSPLG-R-TVVTLV-CPDS-RPGKWPI---SH-DITASKEE-AYRNMREWYSSMASSLQGVMD RHSGNAVWSNRHLVVGNVGRPSSQRPD-LPIASGSHREIGSSKQHLAN-SLP--FAS-TSGLQ--ME\n",
        "start"
       ]
      },
      {
       "output_type": "stream",
       "stream": "stdout",
       "text": [
        " 396 151\n",
        "idx1 351 idx2 104\n",
        "54 NQVLE-KP--SHL--FE-S--GLRTTPTLNPTRTVVQPIQKSSSSTLVSDN-RS SQPLDFQPTNSHLSHYEYSKFGLRAT-A-DAN-T-VHG-HR-SIS-LVEENMRN\n",
        "start"
       ]
      },
      {
       "output_type": "stream",
       "stream": "stdout",
       "text": [
        " 159 396\n",
        "idx1 152 idx2 389\n",
        "45 HPNIPVP HPSIPIP\n",
        "start"
       ]
      },
      {
       "output_type": "stream",
       "stream": "stdout",
       "text": [
        " 321 436\n",
        "idx1 298 idx2 417\n",
        "58 PMDPNPFLQRPASKNQSYQVDDA PVDPS-FTQ-PNS-NSS-QVSEA\n",
        "start"
       ]
      },
      {
       "output_type": "stream",
       "stream": "stdout",
       "text": [
        " 368 405\n",
        "idx1 316 idx2 351\n",
        "50 NWCG-QNNSN--VINESQ-SASD-MPG-GCYIALI-TVPPGGSIALNIVHRALPQMPHK NRCNFLNSPHEGIIAQRQVSDDDSLPSPAC-ISPIGAAQSNGSEA-NLAH-EI-Q-GHK\n",
        "start"
       ]
      },
      {
       "output_type": "stream",
       "stream": "stdout",
       "text": [
        " 355 548\n",
        "idx1 318 idx2 514\n",
        "60 PAEVNLNTSSIGVR-EDTMVKRY-VVGDIRRKEQE-VCQL PIEVP-PTSSI-IRINDS-VNVYFVIG---RAEPTRVCPL\n",
        "start"
       ]
      },
      {
       "output_type": "stream",
       "stream": "stdout",
       "text": [
        " 345 419\n",
        "idx1 313 idx2 382\n",
        "46 PQPTPSAI-SNTGE-RS-G---WG-GSNTQ-SNVQERTLR P-PTPRSICSEAGSLRNAGLVASSEASSTLVSNV--RPLR\n",
        "start"
       ]
      },
      {
       "output_type": "stream",
       "stream": "stdout",
       "text": [
        " 194 346\n",
        "idx1 166 idx2 315\n",
        "64 SF--T-QVSISRPPVASSTPDANVIFSPR-PT SFAVTARLAISRPSGASS-PAANDGGSPREPS\n",
        "start"
       ]
      },
      {
       "output_type": "stream",
       "stream": "stdout",
       "text": [
        " 163 855\n",
        "idx1 113 idx2 806\n",
        "60 VVAYVSAFMESG-E-SQCQLKG-V--SDVSCEAPLRQKP-APRSLQG-PTSNP-QS-SF VVT-VST-V-SGPESSE-QLSALIQTSN-S-DTQLRTSSGGP-S-QACP--DPSQSASF\n",
        "start"
       ]
      },
      {
       "output_type": "stream",
       "stream": "stdout",
       "text": [
        " 238 299\n",
        "idx1 210 idx2 274\n",
        "51 PEPDKPTQRSTRQ-LSQFSYQRNTSVQS-P PSPD-P-QHAS-QILSQ-N-QSGASPQRVP\n",
        "start"
       ]
      },
      {
       "output_type": "stream",
       "stream": "stdout",
       "text": [
        " 343 289\n",
        "idx1 295 idx2 245\n",
        "59 QRTQLNITLTNIKWSQGG-GT--NSPFVSRIPNLSSG-SFRA-SSSAAPQGAH QSTERN-HM-NIN-AAGGCGSGINGPYV--I-NYSSGPS-RNHGTSSS-EG-H\n",
        "start"
       ]
      },
      {
       "output_type": "stream",
       "stream": "stdout",
       "text": [
        " 422 679\n",
        "idx1 385 idx2 642\n",
        "48 YERGEPLG-VR-NWANGNSWH--VAQDSLKPGQL-RPISIIQ Y-SGE-LSYLRLSRPNA-SLHSSIAMGS-TP-QVHRPTSTMQ\n",
        "start"
       ]
      },
      {
       "output_type": "stream",
       "stream": "stdout",
       "text": [
        " 49 749\n",
        "idx1 23 idx2 723\n",
        "56 FESPKSGYSPPESV-E-PR-AGQSG-CGKV FSSPR---S-PESVSQAPRTAGGTGEIGKI\n",
        "start"
       ]
      },
      {
       "output_type": "stream",
       "stream": "stdout",
       "text": [
        " 253 822\n",
        "idx1 236 idx2 804\n",
        "45 INYR-SSP-PGGRLLEIPK IS-RLNSPKPGERIMNVSK\n",
        "start"
       ]
      },
      {
       "output_type": "stream",
       "stream": "stdout",
       "text": [
        " 316 798\n",
        "idx1 280 idx2 761\n",
        "55 GPKQFPQTIDV-RLK-Q-PPSRGPEDPSQAQAS-DS-S-R-SG GP--F-QS-DSFALNDQRHPRR-A-DPSSAQPSAESPSARKAG\n",
        "start"
       ]
      },
      {
       "output_type": "stream",
       "stream": "stdout",
       "text": [
        " 142 554\n",
        "idx1 119 idx2 533\n",
        "53 STIKQQALVTPERSTRTSTFPRS SSFHDQA-IHPGRSARIST-SRS\n",
        "start"
       ]
      },
      {
       "output_type": "stream",
       "stream": "stdout",
       "text": [
        " 61 78\n",
        "idx1 38 idx2 59\n",
        "54 ASYSSTGLSV-PQTSKLSDQPTNR ASYPAH-LSVNPQTS-LT--P-NK\n",
        "start"
       ]
      },
      {
       "output_type": "stream",
       "stream": "stdout",
       "text": [
        " 103 355\n",
        "idx1 74 idx2 320\n",
        "47 GPSRLMS-S--SVSLGP--PSPPTP-FQ-YQMATES GPPPVASQSQASDSL-PHCAPPPTPNIQILQATTDS\n",
        "start"
       ]
      },
      {
       "output_type": "stream",
       "stream": "stdout",
       "text": [
        " 320 502\n",
        "idx1 254 idx2 431\n",
        "44 HET-SPSWT-GEFTSISV-E-GSRRCQSTV-V-IS-IYNPSG-EPQNVVISPSVPGPSLVINSNPAME-SK--DYEP HATQSP-WTCG--SGIKVPECDLPKSPANGRACISGP-GPTSHEP-DTTMGPLGPGIALVIHSY-ERACSKILEYSP\n",
        "start"
       ]
      },
      {
       "output_type": "stream",
       "stream": "stdout",
       "text": [
        " 17 795\n",
        "idx1 0 idx2 781\n",
        "40 PETPLQVCPPYNLGVSG PATSVSV-PPY-LN-SG\n",
        "start"
       ]
      },
      {
       "output_type": "stream",
       "stream": "stdout",
       "text": [
        " 114 689\n",
        "idx1 68 idx2 646\n",
        "55 GES-PVWYS-PWIQGIQVEHEGFGFTTSDL-QRSRLYSANSRTQAGFDS GESGPP-HNLP-VQGGSVA-QALNF-TPDLTPRSS-FSDASISESG-DN\n",
        "start"
       ]
      },
      {
       "output_type": "stream",
       "stream": "stdout",
       "text": [
        " 231 796\n",
        "idx1 185 idx2 750\n",
        "61 SFSLRSFSTMTPEASTYHQQAIRVVGPLG-NASE-E-D-VREVSGAFGPV SFSI-SFS-KTSHTGPNH-IVISVPTPISTSDSDYEIDPSRRV-GGLGPV\n",
        "start"
       ]
      },
      {
       "output_type": "stream",
       "stream": "stdout",
       "text": [
        " 361 539\n",
        "idx1 277 idx2 462\n",
        "56 NTAVRNSGNG--S-GSTH-KG-Q-DTSLFRAIPNEFPSTEYLSQTRVALPNPPTPIRLQCQISPSD-S--G-SVKSSLGMYEQGL-GKTYPSFQP NQAIISSGNGRASHNSLHLNGEQRNTT---CIPIEGPKI--LP---VKLGSQQNPI--Q-GIGPGEVSLIGHTL-SS-DM-QQGMVG---PS-HP\n",
        "start"
       ]
      },
      {
       "output_type": "stream",
       "stream": "stdout",
       "text": [
        " 28 25\n",
        "idx1 17 idx2 14\n",
        "39 RLPRGNYVP-HP RLPDGN-SPDHP\n",
        "start"
       ]
      },
      {
       "output_type": "stream",
       "stream": "stdout",
       "text": [
        " 275 299\n",
        "idx1 231 idx2 260\n",
        "54 PPAST-VPR-Q-NGVIESFYSRNEFRGQQINAVS--DQSCRSASPPSRM PPQSTSASRHQKNGV-NS-NGSH-FPS--I-P-SCLNQ-C-SAATPS-M\n",
        "start"
       ]
      },
      {
       "output_type": "stream",
       "stream": "stdout",
       "text": [
        " 83 118\n",
        "idx1 62 idx2 98\n",
        "59 CTQS-DGNSAKDRFENRYSLRP CTQSVDGNSL-QRFAAHCS-QP\n",
        "start"
       ]
      },
      {
       "output_type": "stream",
       "stream": "stdout",
       "text": [
        " 148 196\n",
        "idx1 132 idx2 181\n",
        "57 RPGECGSR-LPHDMQES RPG--GSRQIPQDQQQS\n",
        "start"
       ]
      },
      {
       "output_type": "stream",
       "stream": "stdout",
       "text": [
        " 74 813\n",
        "idx1 58 idx2 797\n",
        "47 FRSYAT-STNQSGSGQL FVSYSIRSALQS-SGQL\n",
        "start"
       ]
      },
      {
       "output_type": "stream",
       "stream": "stdout",
       "text": [
        " 121 461\n",
        "idx1 86 idx2 430\n",
        "51 VFTNVR-QARTPMVQP-VFQRVGMIQRPTSSSPTTVE VLPN-RLQGHSPSCQPEVF-K-G-IEH-SAES-TVVQ\n",
        "start"
       ]
      },
      {
       "output_type": "stream",
       "stream": "stdout",
       "text": [
        " 273 276\n",
        "idx1 229 idx2 237\n",
        "63 SREAERISSKQSASSQ-TDSRTVIQLGEVGHAEQDYTN-GNSQTT-P S-EGDSATSLNS-STQGPDSQT--PLGE---PEQ-YIPLGSSQSTLP\n",
        "start"
       ]
      },
      {
       "output_type": "stream",
       "stream": "stdout",
       "text": [
        " 350 819\n",
        "idx1 308 idx2 774\n",
        "47 PNQYSM-EFLNAN-ASSKQ-PVS-AATSPGYL-VGS-GGNT-SFRTSMP PSAFSISAF-N-NPPTSRQRPCPEVSTSAG-VNAASDSGNSKS-STAAP\n",
        "start"
       ]
      },
      {
       "output_type": "stream",
       "stream": "stdout",
       "text": [
        " 68 43\n",
        "idx1 57 idx2 29\n",
        "44 P-TN-SAP-RELKI PTTNGSAPARQLPI\n",
        "start"
       ]
      },
      {
       "output_type": "stream",
       "stream": "stdout",
       "text": [
        " 258 132\n",
        "idx1 223 idx2 95\n",
        "45 RVDSTEYGR-G-TR-LRRSNHHAA-SCMGRRGS--WTRFSQ R-NSSA-GRKNQTQGISSSANHTSLAC-SRRGNDMWGP-SQ\n",
        "start"
       ]
      },
      {
       "output_type": "stream",
       "stream": "stdout",
       "text": [
        " 418 423\n",
        "idx1 404 idx2 409\n",
        "45 SRNGQP-IDSSPSLR S-NGGPEIDSNQSLK\n",
        "start"
       ]
      },
      {
       "output_type": "stream",
       "stream": "stdout",
       "text": [
        " 106 458\n",
        "idx1 83 idx2 436\n",
        "49 EPSDMDNESQSTYLSLRAASLPS DPGSLDTRSPDSY-GLRVCSLPS\n",
        "start"
       ]
      },
      {
       "output_type": "stream",
       "stream": "stdout",
       "text": [
        " 15 16\n",
        "idx1 2 idx2 3\n",
        "46 I-ETIPLGSAST-PL IQET-PLAS-STAPL\n",
        "start"
       ]
      },
      {
       "output_type": "stream",
       "stream": "stdout",
       "text": [
        " 359 800\n",
        "idx1 331 idx2 771\n",
        "53 PSWIPSYICP-VTARTA-RRGP-F-AHSV-DDP PS--PS-ISSTV-APSPLRQSPEFEAHSLRNNP\n",
        "start"
       ]
      },
      {
       "output_type": "stream",
       "stream": "stdout",
       "text": [
        " 218 829\n",
        "idx1 142 idx2 753\n",
        "44 I-DIR-QEPSPVRGDPSKPNLY-QSRP-G-SQLSGNHPGSTIQRSS-KMMKEGVVGLTPE-DHA--FTQRSSRPYEG-GSACGGGG ISNVRCSVSTPV-GAQS--HRYAHTRAEGEGQINV-HP-SNVT-SYLKVF-E-LLGLPPNSDDAINYSH-SNLG-GGQGSASGDSG\n",
        "start"
       ]
      },
      {
       "output_type": "stream",
       "stream": "stdout",
       "text": [
        " 191 72\n",
        "idx1 156 idx2 37\n",
        "46 ENESSITTPNEPT-QT-RIGAPLTKGPSNLP-EVP-SRR ERENS-TTGTAATAESNRIATNL--GPSP-PHSSPGSSR\n",
        "start"
       ]
      },
      {
       "output_type": "stream",
       "stream": "stdout",
       "text": [
        " 337 333\n",
        "idx1 296 idx2 296\n",
        "48 TSVVSYTL-A-MTSSILKQLGYKSEMEVSKNATQSTNGNFRP-S SSVLSY-LDGHKGPAI--QLGVPSS-AAAK-GTHST--NIRPIS\n",
        "start"
       ]
      },
      {
       "output_type": "stream",
       "stream": "stdout",
       "text": [
        " 274 816\n",
        "idx1 224 idx2 773\n",
        "55 TDRETQSVRELSIQSASMMDINRDAVNSSTSPPRKLPSKHQGQSIRDRAS TSRGSQSMSE--IQ--NLQH-GRGGPGSPVSPAQNHPSKGRGE-I-SQAS\n",
        "start"
       ]
      },
      {
       "output_type": "stream",
       "stream": "stdout",
       "text": [
        " 395 490\n",
        "idx1 355 idx2 445\n",
        "48 ETSTAPS-SS-GR-KVS-T-R-P-T-STWPALQRSSRISITMPRP-QAI EQSVAPNHSSIGSISGSPTARDPCSPSTRPP-E-PS-VSIEI-HSYQAV\n",
        "start"
       ]
      },
      {
       "output_type": "stream",
       "stream": "stdout",
       "text": [
        " 60 848\n",
        "idx1 50 idx2 839\n",
        "47 EQVNSSGPYS EQEN-SGPYS\n",
        "start"
       ]
      },
      {
       "output_type": "stream",
       "stream": "stdout",
       "text": [
        " 49 588\n",
        "idx1 26 idx2 561\n",
        "46 SG--TSAFPYM-IDRQP--ETVI-SPMRA SGNQTKA-PSMNIDRETCMGTIVGTP-RA\n",
        "start"
       ]
      },
      {
       "output_type": "stream",
       "stream": "stdout",
       "text": [
        " 61 617\n",
        "idx1 29 idx2 588\n",
        "47 TISISTPSREPNLSQAR-NTQALVPDR-MQFQSG TISLSSP--EPH-PQ-HVHAHTL-PGQALTLRSG\n",
        "start"
       ]
      },
      {
       "output_type": "stream",
       "stream": "stdout",
       "text": [
        " 184 664\n",
        "idx1 143 idx2 615\n",
        "52 S-VPTNR-SAPPP-T-AQ-PTIS-S-DDQS-R-EQMQSR-PRL-SPARNFDS SHV-SSRYYAPPAFTHAEAPTINASGSNSSLRPNQ-QGVYPGAGAPGR-IDS\n",
        "start"
       ]
      },
      {
       "output_type": "stream",
       "stream": "stdout",
       "text": [
        " 289 102\n",
        "idx1 272 idx2 83\n",
        "44 GSN-PNPNGLYVP-GVV-PV GSNQPSCNSL-IPSSVTSPV\n",
        "start"
       ]
      },
      {
       "output_type": "stream",
       "stream": "stdout",
       "text": [
        " 416 685\n",
        "idx1 344 idx2 615\n",
        "53 SKTQSLRQTQPSNLAPN-MNSLRG-TVASPWTRER-GNDQPKNSSSLE---QVPDGAQSRGSLSSRPRGPS--PGDYGAP SETQS-SSAKPP-LSPNILIVLHPQSVGK-RT-EHAGC-HF-DSSSLESAKRVASGY-T--NLSSKPWIPSGAPV-YGIP\n",
        "start"
       ]
      },
      {
       "output_type": "stream",
       "stream": "stdout",
       "text": [
        " 95 792\n",
        "idx1 75 idx2 769\n",
        "53 PNQNATQ-PIL-AS-QPGFTSSQ PSRSPGQRPVLAASGEPGGTSRQ\n",
        "start"
       ]
      },
      {
       "output_type": "stream",
       "stream": "stdout",
       "text": [
        " 105 289\n",
        "idx1 75 idx2 260\n",
        "48 EGSSPRQAVRSID-NRP--INQNQSVNMKPMST E-SSPSPS-RSRDTSPPHAINEG-TANLR-IST\n",
        "start"
       ]
      },
      {
       "output_type": "stream",
       "stream": "stdout",
       "text": [
        " 221 713\n",
        "idx1 183 idx2 679\n",
        "55 EGSFC-SLRNFANG-THWPDSLRSER-SLTSQDSASPRAAH ESS-CSSTRCYGNSMTE-P-S-RT-RSSIYPGDS-S-RAAH\n",
        "start"
       ]
      },
      {
       "output_type": "stream",
       "stream": "stdout",
       "text": [
        " 299 557\n",
        "idx1 251 idx2 512\n",
        "50 PVPYTVIRSQTTYRASQP-QRSIRLRQTNPERYTPTNLPQ-P-EPEGVSPG PSP-SHI-AQSTSGGTGPVAPSIHSRP-SRGRH-PHNAPQSPCE-E-VNPG\n",
        "start"
       ]
      },
      {
       "output_type": "stream",
       "stream": "stdout",
       "text": [
        " 132 79\n",
        "idx1 96 idx2 42\n",
        "55 GVAI-LISDVG-DGQ-SPMCSPQTPEERSMVGFHL-RART GVAMALINESGPD-QSSP-PS-QISQKPSVASFSIYRRRS\n",
        "start"
       ]
      },
      {
       "output_type": "stream",
       "stream": "stdout",
       "text": [
        " 302 401\n",
        "idx1 237 idx2 341\n",
        "45 PMTE-SAR---ARVSNQLNGNVAPMTL-KTPI-SDRSEARRYGKSTSESSNGSPISRTNFSGNP-DCT-SQEQ PIREGGARQPFAR-SPQLSTHAASSALIISSIFS-RFHS-R-G-S-GD--KVSPI---D-SG-PGSCTGNEEH\n",
        "start"
       ]
      },
      {
       "output_type": "stream",
       "stream": "stdout",
       "text": [
        " 116 851\n",
        "idx1 76 idx2 809\n",
        "51 SMSSR-HG-ETLQFSNEGFPSFLVGQQLS---AMRLSTLI-N--QP-EA SMRSHGHGTDELEF---G-PT-ACSNQLSHGDVVR-S-MINNVVQPDEA\n",
        "start"
       ]
      },
      {
       "output_type": "stream",
       "stream": "stdout",
       "text": [
        " 257 650\n",
        "idx1 219 idx2 614\n",
        "45 ATS-SSVNMMNSSLESLVPATSSV-ISAEP-LPNYI-PCLNG ANSHSSVHLSN-T--S--P-TSTVDIMADAGFSAHNGPCMAG\n",
        "start"
       ]
      },
      {
       "output_type": "stream",
       "stream": "stdout",
       "text": [
        " 168 473\n",
        "idx1 129 idx2 426\n",
        "47 HSNPVN-Q--S-AGP-TTDGTHS-AE-A--TVRSQNIMQMPPPGYTVE HSNPGNGRPLSISGSRTAETT-SYAHVGRYSVISHGALGMSSSSYTIE\n",
        "start"
       ]
      },
      {
       "output_type": "stream",
       "stream": "stdout",
       "text": [
        " 129 756\n",
        "idx1 90 idx2 713\n",
        "50 RDTPSVSP-SQKVY-ES-NKP-DSG-LSQQKSEQSGGSMGT-SAS RSIPSHSPQADRVVGHSLSKSLDNGIISLVSSQHAGG--GILSAS\n",
        "start"
       ]
      },
      {
       "output_type": "stream",
       "stream": "stdout",
       "text": [
        " 92 712\n",
        "idx1 57 idx2 686\n",
        "56 GNYPSSVADVQIRGIRTSIQILGEI---LLASESMAFP GNY---VS-V-IRP-RTC-Q--GETGKSLL-S-SM-FP\n",
        "start"
       ]
      },
      {
       "output_type": "stream",
       "stream": "stdout",
       "text": [
        " 264 526\n",
        "idx1 230 idx2 490\n",
        "48 PRSGTGQ--QLGSKE--TERLG-SWGPFD--LDEIGINETA P-NGSGEAPQ-GSSQTSTDHLVRSYGA-ERVL-E-GINDSA\n",
        "start"
       ]
      },
      {
       "output_type": "stream",
       "stream": "stdout",
       "text": [
        " 292 394\n",
        "idx1 260 idx2 362\n",
        "63 SARESTVPDPTR-PRVSHP-NGSSQGSPR-SGISE SLR-SYAPPPSHGPS-THPVNSSSP-SSRVASISE\n",
        "start"
       ]
      },
      {
       "output_type": "stream",
       "stream": "stdout",
       "text": [
        " 365 697\n",
        "idx1 325 idx2 653\n",
        "51 NG-PWDV-C--PVRE-GKSLPGQVQR-RRT-AERQMQPSQS-T-PEGGK NAVPWNSHCVTPVEEFAQS---QV-RLPHTVSDSSLQ-SQSLSQPNPGK\n",
        "start"
       ]
      },
      {
       "output_type": "stream",
       "stream": "stdout",
       "text": [
        " 198 530\n",
        "idx1 143 idx2 479\n",
        "54 NTQKTNQVSILSNGSVIVQG--G-RPPNWVLPGNTLYGSMNIDSQSHCQE-TKSEGMIT NTPKPNALAISSHAD-I--GSCAYHPGHWGLSGVRL-PS-NSDS-SGCPEYTQ-DGM-T\n",
        "start"
       ]
      },
      {
       "output_type": "stream",
       "stream": "stdout",
       "text": [
        " 130 646\n",
        "idx1 53 idx2 573\n",
        "44 RKDSGGPLAGNGRT---SLPVPRPTRERH-DVVLTCPAMNQSS-SQLRNQQSSQ-AGL-NLSIIQRPTFD-LDVVYQR-GSRGETP R-ESGASYSTSARTYPSSLPI-QPG-G-HCAVT-SCREIKLSPVTQ-HNNAGSELPGLGN-S-TPWAGFESID---SRPSSR--TP\n",
        "start"
       ]
      },
      {
       "output_type": "stream",
       "stream": "stdout",
       "text": [
        " 160 416\n",
        "idx1 141 idx2 397\n",
        "48 PS-S-EGRPTIFTPSHSTRSG PSDSKQNPPSI--PNHSSPSG\n",
        "start"
       ]
      },
      {
       "output_type": "stream",
       "stream": "stdout",
       "text": [
        " 383 366\n",
        "idx1 368 idx2 347\n",
        "45 RVPAGRN-G-Q-N-TWKSE RQPISRSPGSQPNWSWRSE\n",
        "start"
       ]
      },
      {
       "output_type": "stream",
       "stream": "stdout",
       "text": [
        " 46 574\n",
        "idx1 29 idx2 558\n",
        "56 MLPTVATMQSRIPEMSP MHPSVGAM-SRIGEHSP\n",
        "start"
       ]
      },
      {
       "output_type": "stream",
       "stream": "stdout",
       "text": [
        " 286 336\n",
        "idx1 254 idx2 306\n",
        "47 AGSG-LTAGDYTSVIKSGEAMPALSSKTPFS-QS AGNGAFASGGSPPVI----PMQRLSSSSPYSAQS\n",
        "start"
       ]
      },
      {
       "output_type": "stream",
       "stream": "stdout",
       "text": [
        " 109 312\n",
        "idx1 70 idx2 272\n",
        "44 NSTYEMSR---LIDGSNPPKPMDARQYCG-PQEA-A-S-GS-PHRGS NKNYQL-RDVALI-GS-AP-S--ARL-SGVPRAAHAISAGSIPSRPS\n",
        "start"
       ]
      },
      {
       "output_type": "stream",
       "stream": "stdout",
       "text": [
        " 390 806\n",
        "idx1 369 idx2 785\n",
        "58 VEDNGYAG-TRCSPTSR-KSRSS VGNSG-GGET-CSPSDRITSRSS\n",
        "start"
       ]
      },
      {
       "output_type": "stream",
       "stream": "stdout",
       "text": [
        " 30 551\n",
        "idx1 15 idx2 533\n",
        "48 QSNGL-GEH-V-PSMARP QKNGLGGGHQARPSMGMP\n",
        "start"
       ]
      },
      {
       "output_type": "stream",
       "stream": "stdout",
       "text": [
        " 39 653\n",
        "idx1 15 idx2 633\n",
        "46 ESRGSV-S-FSSIFTPHQPSGPSPGQ DSR-TVATLF-NIF--H-PS-SSSNQ\n",
        "start"
       ]
      },
      {
       "output_type": "stream",
       "stream": "stdout",
       "text": [
        " 393 54\n",
        "idx1 366 idx2 26\n",
        "49 GR-GLLQSS-PAMSPQKYTRTS--MSASYL-G GRAGILQSGQPARNP---SRVSVFVSGS-LPG\n",
        "start"
       ]
      },
      {
       "output_type": "stream",
       "stream": "stdout",
       "text": [
        " 175 615\n",
        "idx1 156 idx2 591\n",
        "46 PAQSGYGS--R--VYAYRPHT-SP PAQSPFAPIYRGPVYGYRVDIESP\n",
        "start"
       ]
      },
      {
       "output_type": "stream",
       "stream": "stdout",
       "text": [
        " 47 484\n",
        "idx1 27 idx2 464\n",
        "42 GTSRG-CRTE-S-PPNSDTYAIT GTG-GEC-TEPTQPANVE-YSIS\n",
        "start"
       ]
      },
      {
       "output_type": "stream",
       "stream": "stdout",
       "text": [
        " 73 393\n",
        "idx1 54 idx2 370\n",
        "48 R-RLE-LSTTISPSEARR-SG-P RPSLDGVSTQHSPSQLRRGSGRP\n",
        "start"
       ]
      },
      {
       "output_type": "stream",
       "stream": "stdout",
       "text": [
        " 80 291\n",
        "idx1 57 idx2 268\n",
        "44 QTA-R-GSSTTPIRSEGLTTPMSSR HSAQRISPGTSPI-SERLHTP-SLR\n",
        "start"
       ]
      },
      {
       "output_type": "stream",
       "stream": "stdout",
       "text": [
        " 247 539\n",
        "idx1 227 idx2 520\n",
        "47 SEQADTPSIHETSGTEHSV-G S-QSNDAS-HSTSGSARSVAG\n",
        "start"
       ]
      },
      {
       "output_type": "stream",
       "stream": "stdout",
       "text": [
        " 264 749\n",
        "idx1 236 idx2 723\n",
        "48 SPMIQEPVDQLY-VGSGSGDE-NSLPNNAP S-LI--PLAQTYTVDR-SKEQTNSLTNSAP\n",
        "start"
       ]
      },
      {
       "output_type": "stream",
       "stream": "stdout",
       "text": [
        " 344 431\n",
        "idx1 303 idx2 390\n",
        "48 EVWPLDQS-G-NFPGDGGAQTITNMSNG-ESMSRSWSDSDSVQS EVRPM-HSTGTNLQQNGSPGNSSNKGSGREG-SRV-SDLGSIPS\n",
        "start"
       ]
      },
      {
       "output_type": "stream",
       "stream": "stdout",
       "text": [
        " 203 271\n",
        "idx1 192 idx2 260\n",
        "46 ARMLDSTTSRP AQMYDSATTRP\n",
        "start"
       ]
      },
      {
       "output_type": "stream",
       "stream": "stdout",
       "text": [
        " 199 455\n",
        "idx1 184 idx2 437\n",
        "47 LIESSDIPSQPP--SG-T LIGSSGAPAHPPQISGVT\n",
        "start"
       ]
      },
      {
       "output_type": "stream",
       "stream": "stdout",
       "text": [
        " 284 775\n",
        "idx1 251 idx2 745\n",
        "51 RS-TYLRYTSQLSTGGNTS-LPLSAKLFEDPQLPY RSIAYITYHTDLGP-GNISLLPL-IR-F-SPLL-Y\n",
        "start"
       ]
      },
      {
       "output_type": "stream",
       "stream": "stdout",
       "text": [
        " 288 647\n",
        "idx1 265 idx2 620\n",
        "55 PRT-S-NP----SP-PNGTYTDQSSLYSVS PRVHSANPCIGEGPKPSATY-D-SSL-SIS\n",
        "start"
       ]
      },
      {
       "output_type": "stream",
       "stream": "stdout",
       "text": [
        " 64 278\n",
        "idx1 38 idx2 257\n",
        "41 QNAMGMQRPSVTIVSQPDSKQGNREG QSSI-LQSGSGTIMSH--A-QGSR-G\n",
        "start"
       ]
      },
      {
       "output_type": "stream",
       "stream": "stdout",
       "text": [
        " 335 140\n",
        "idx1 320 idx2 124\n",
        "47 SKSSEVNTA-SLSGGS SHASAVNAAHQLSGGS\n",
        "start"
       ]
      },
      {
       "output_type": "stream",
       "stream": "stdout",
       "text": [
        " 286 793\n",
        "idx1 239 idx2 744\n",
        "55 QLRMQSSNRRGDV--VE-TSGSPGTS-L-LR-QN-PSENQPVRISSR-HFRIESM ELQIQ--N--GDMTPIESTPG-QGTSTVHLNDENYAGESHSCRGSSRVH-PLGSM\n",
        "start"
       ]
      },
      {
       "output_type": "stream",
       "stream": "stdout",
       "text": [
        " 94 833\n",
        "idx1 77 idx2 816\n",
        "45 RIGPP-PNTQGRY-FMHNE RI-PPVPHMQ-RIGLIHHE\n",
        "start"
       ]
      },
      {
       "output_type": "stream",
       "stream": "stdout",
       "text": [
        " 247 200\n",
        "idx1 212 idx2 165\n",
        "49 QMPNFHNSAIFAAQMSSVPGTQSI-LSSTMT--PPQGS QQSDHHNSSLF-RQEANTP--HNIGNSSASTARPPVGS\n",
        "start"
       ]
      },
      {
       "output_type": "stream",
       "stream": "stdout",
       "text": [
        " 306 152\n",
        "idx1 292 idx2 140\n",
        "47 PRTIRMSLSSGQTS PRT-RVSASS-ETS\n",
        "start"
       ]
      },
      {
       "output_type": "stream",
       "stream": "stdout",
       "text": [
        " 223 140\n",
        "idx1 203 idx2 118\n",
        "46 VQGQSITCSSSSP--THIVTPT VHAQTIQSSNSTPNYSHAGTAT\n",
        "start"
       ]
      },
      {
       "output_type": "stream",
       "stream": "stdout",
       "text": [
        " 70 501\n",
        "idx1 44 idx2 476\n",
        "43 EWNFRSS-ANVFPGVGPMAKHGNSSHN ESSYRSSKASE-PGTPPIASQ-NFANN\n",
        "start"
       ]
      },
      {
       "output_type": "stream",
       "stream": "stdout",
       "text": [
        " 186 198\n",
        "idx1 139 idx2 155\n",
        "55 SPMP--VFTPRSETRLSIPMPSGESRDRTDLGVNNTGKEMKPALRGTMS SPRPEHV-TTDSAVRFSLPRPTVPTQ-RSQL---STASPM-PAVSQTMS\n",
        "start"
       ]
      },
      {
       "output_type": "stream",
       "stream": "stdout",
       "text": [
        " 369 605\n",
        "idx1 340 idx2 582\n",
        "43 YVASTSQSRVNVGEGAARNPPSPSLCPSS YSASGSQ-R-EV---PS-NMPRGSACPSS\n",
        "start"
       ]
      },
      {
       "output_type": "stream",
       "stream": "stdout",
       "text": [
        " 340 187\n",
        "idx1 298 idx2 139\n",
        "44 VR-PLRVSQT-VESFNN-MYEG-VTHEYRPG-V-RS-G-IVQMHPGQA-EG IRQPMHVGPNLLDSLANRKHGGSISHERRAEHCFPSDDPIVQ---GQAIEG\n",
        "start"
       ]
      },
      {
       "output_type": "stream",
       "stream": "stdout",
       "text": [
        " 94 22\n",
        "idx1 75 idx2 1\n",
        "56 GLVGRY-PS-SNRQTPGDSSQ GQVTRYGPSNSSRSTPFEVSQ\n",
        "start"
       ]
      },
      {
       "output_type": "stream",
       "stream": "stdout",
       "text": [
        " 319 489\n",
        "idx1 303 idx2 474\n",
        "43 GRSGNRGP-SGGPGYIN GSGGN-SPTSGAPG-VN\n",
        "start"
       ]
      },
      {
       "output_type": "stream",
       "stream": "stdout",
       "text": [
        " 389 160\n",
        "idx1 361 idx2 126\n",
        "55 R-QHSDINS-YAV-SSSNTPHRTP-A--LRGTRP RKPHSNIASVFPVLQSSNASNQSSESCQFRGGRP\n",
        "start"
       ]
      },
      {
       "output_type": "stream",
       "stream": "stdout",
       "text": [
        " 211 725\n",
        "idx1 194 idx2 710\n",
        "40 PFCDPTPEPTTSKFQSQ PVCEPS-DPPRSH-QSQ\n",
        "start"
       ]
      },
      {
       "output_type": "stream",
       "stream": "stdout",
       "text": [
        " 70 757\n",
        "idx1 34 idx2 722\n",
        "44 Q-GNLGVESPAAHLLRR-GTNTTRIEITTSSPATQIPW QTANLALAG-TSHLHNKEGSGAT-TSTPASGPLTQ-PW\n",
        "start"
       ]
      },
      {
       "output_type": "stream",
       "stream": "stdout",
       "text": [
        " 66 285\n",
        "idx1 35 idx2 260\n",
        "52 KPGELPGEVLPTQLRNYSQAIPISGMGASGD KPGG-PGQI-P--FR--STTIPPSGGGPSTD\n",
        "start"
       ]
      },
      {
       "output_type": "stream",
       "stream": "stdout",
       "text": [
        " 98 581\n",
        "idx1 50 idx2 533\n",
        "47 PRPASPLS--SS--EQ--QTPTEP-AESATQRGKGAQCPGTYNAPAVRYSPMRRG P-PESALSVLSSPTSQGDHNAADPSAIMA-EGGSG-HI-GTYEN-S-R-VPMSRG\n",
        "start"
       ]
      },
      {
       "output_type": "stream",
       "stream": "stdout",
       "text": [
        " 277 489\n",
        "idx1 247 idx2 457\n",
        "50 RSQILSHGDS-SDMTGQ-PSS--VLSCPTQVSDS R-QINSQA-SHTEAAGNGPSSPWSLSYPLHPSDS\n",
        "start"
       ]
      },
      {
       "output_type": "stream",
       "stream": "stdout",
       "text": [
        " 93 38\n",
        "idx1 53 idx2 0\n",
        "49 P-ISDSVR-SMRPERRQNLVISMRGTSSTEPSHSEASRTSG-G PGITATISTSKK-D-RQS-S-SAR-SSSAVQSHRQATSMSGHG\n",
        "start"
       ]
      },
      {
       "output_type": "stream",
       "stream": "stdout",
       "text": [
        " 399 83\n",
        "idx1 356 idx2 43\n",
        "53 D-HMSDIHASSRQFQRLPQYTESQPS-NMSQMDWL-LNSSE-V-RGET DGHLS-IR---RA-QITP-YT-SGPSVSASH-SSLYLNAAQRVGSGET\n",
        "start"
       ]
      },
      {
       "output_type": "stream",
       "stream": "stdout",
       "text": [
        " 76 690\n",
        "idx1 43 idx2 650\n",
        "61 SPS-M-NKSV-G-SGPPTTDEQ-IVSAPV--KLNSPESMA SASAMRNSSIPGLSGRHTLEQQSIASAVVFMRQESPTSTA\n",
        "start"
       ]
      },
      {
       "output_type": "stream",
       "stream": "stdout",
       "text": [
        " 260 101\n",
        "idx1 192 idx2 37\n",
        "62 EQPTNMKKSTQDS-TPM-GTIIPRSVIDSFDDLEQIS-TSDEQANRL-L-QVR--PSARDVSVSI-GMEWLTN-SKS EHP--MPRGSHNPHSPLSGS---HS-I-TFESSNQVSMAPD-LLN-LNAEQVRTGPHA-SV-VSIPG-A-LSSISKS\n",
        "start"
       ]
      },
      {
       "output_type": "stream",
       "stream": "stdout",
       "text": [
        " 131 544\n",
        "idx1 105 idx2 520\n",
        "47 QSPNTSCASVGSTNSTDSSNAGTET-S ESPKKTCV-V-SPSGARSSNAD-ETGS\n",
        "start"
       ]
      },
      {
       "output_type": "stream",
       "stream": "stdout",
       "text": [
        " 266 140\n",
        "idx1 242 idx2 115\n",
        "48 SK-QTEGRGSGEASESHKQNQ-P-NG-D SKMQSE-HANS-ASSSRTQ-QYPRNGSD\n",
        "start"
       ]
      },
      {
       "output_type": "stream",
       "stream": "stdout",
       "text": [
        " 370 408\n",
        "idx1 343 idx2 383\n",
        "50 QRSSPPNTPLTMSYPSLSWA-DRP-EDEL QNTS-SSTP-S-AYPSLNRAFG-PSDNDL\n",
        "start"
       ]
      },
      {
       "output_type": "stream",
       "stream": "stdout",
       "text": [
        " 156 244\n",
        "idx1 97 idx2 184\n",
        "76 PSQVEEPLCQ-S-NSQEWTSPS-RNSLGASPITA-CSLKVEHFANARIYQQIDGSGS---NQ--VGPR PSQVRSRLCDLSLSGED-IS-SQRNS-GISNIAAQSSLPTAH---A--YRALNPSGSRPRSESSVGPR\n",
        "start"
       ]
      },
      {
       "output_type": "stream",
       "stream": "stdout",
       "text": [
        " 314 248\n",
        "idx1 263 idx2 198\n",
        "47 PWMDTP-TNVALASKS-S-LFHYGTQ---P-GMETYTRSSVGSRRINRGSSPVSSS-PC P-MSPPRGHVQLPSSSASGL-A-ATQNKKSDG-AAY-HSS-GA-IIT--SLPVSSSWAC\n",
        "start"
       ]
      },
      {
       "output_type": "stream",
       "stream": "stdout",
       "text": [
        " 154 64\n",
        "idx1 136 idx2 45\n",
        "44 QPLQ-I-QASDEIDVTTLSR QPVHSLTHATDEC-AATLSR\n",
        "start"
       ]
      },
      {
       "output_type": "stream",
       "stream": "stdout",
       "text": [
        " 332 824\n",
        "idx1 302 idx2 791\n",
        "51 PV-RL-GRNNWRVSQTPWE-LPQRQTT-RST-NRQ PVSRLIKRSEW-EANSAHDILPQK-TSFRSPCNAQ\n",
        "start"
       ]
      },
      {
       "output_type": "stream",
       "stream": "stdout",
       "text": [
        " 209 62\n",
        "idx1 178 idx2 31\n",
        "54 NA-IRPGLT-ETPDINKSRPDTGPQSQQS-DNEN NAGIQ-SMTSDSGNTTMSRED-GQHSQHSYQN-N\n",
        "start"
       ]
      },
      {
       "output_type": "stream",
       "stream": "stdout",
       "text": [
        " 255 299\n",
        "idx1 196 idx2 245\n",
        "52 SSSRSQNQLMDTRSVMDAT-PKVESSI-GTMRTSQPSP-NF-I-E-QVSGAQGSQVIPKRGDSGP TSSKSQ-PL-D--SVIGSTAPPIAGSVTGPPRIG-GSPETFPLSSWHHSG-RGRHV---RG-S-P\n",
        "start"
       ]
      },
      {
       "output_type": "stream",
       "stream": "stdout",
       "text": [
        " 144 834\n",
        "idx1 134 idx2 823\n",
        "48 S-SSRAPDGSS SESSRARDGSS\n",
        "start"
       ]
      },
      {
       "output_type": "stream",
       "stream": "stdout",
       "text": [
        " 66 544\n",
        "idx1 36 idx2 518\n",
        "46 CPSRTVGSSLRG---RGQMEFSAPTLSGTLSAR CSS-SI-ASLGGPPSR-QM--SASCLS--LSAR\n",
        "start"
       ]
      },
      {
       "output_type": "stream",
       "stream": "stdout",
       "text": [
        " 102 217\n",
        "idx1 64 idx2 181\n",
        "53 STANKEKQPTYADM--QDS--TVRIPESVLQWEVQTAPVSPA ST-NK-KLEV-A-MSGQSSACALRI-NSV-HSSSQSAPSSPA\n",
        "start"
       ]
      },
      {
       "output_type": "stream",
       "stream": "stdout",
       "text": [
        " 323 348\n",
        "idx1 286 idx2 305\n",
        "51 AVL-SVKTL-SGAK-L-IQDP-SES-SLP-TFVVSSPF-AYPSKS AVVSSSKTLESSLQILSIHSSLTASGGLPCIWVDATPFGA-P-KS\n",
        "start"
       ]
      },
      {
       "output_type": "stream",
       "stream": "stdout",
       "text": [
        " 337 575\n",
        "idx1 303 idx2 542\n",
        "57 V-EPSEMQKTTNNIRHL--DLCQRSQSAI-PQ-NGEPRG VGQPSEI-K-SGTIRYLNND--HRS-AAVSPDSSGE-QG\n",
        "start"
       ]
      },
      {
       "output_type": "stream",
       "stream": "stdout",
       "text": [
        " 315 452\n",
        "idx1 278 idx2 419\n",
        "48 VRSPSYTAALDGHRASNTYEPGPPCQT-G-ASPSGVTSY VRSNS-T-EF-G--PGNSSQPSPP-QPLSIANSSSVIPY\n",
        "start"
       ]
      },
      {
       "output_type": "stream",
       "stream": "stdout",
       "text": [
        " 308 558\n",
        "idx1 248 idx2 482\n",
        "61 SRESST-VRV-SSSGS-SLRGPQDGGIP-VNP---A--K--VKPR-S-PKIF-R-GGDYVGG-PEGP-PR-VRPT-HTS SHQASTDIRVIDTAGSLALRG-LD-SISESNPSLHSGHMLGIRQSGSGPS-FPSLGGAYSGEVSSGALPRSVRASENTS\n",
        "start"
       ]
      },
      {
       "output_type": "stream",
       "stream": "stdout",
       "text": [
        " 315 795\n",
        "idx1 285 idx2 765\n",
        "56 SR--E-STASSETYL-CEQR-LSLDGTSQLKSSIW SRVTETSSPSPNT-LNREHRYLS-SG--QL-SPVW\n",
        "start"
       ]
      },
      {
       "output_type": "stream",
       "stream": "stdout",
       "text": [
        " 184 53\n",
        "idx1 141 idx2 8\n",
        "53 HTSGPS-SMMQQS---QS-SDQT-VGPSPRTSPMQSQFPCQIFQAIMRS HSSDPSQS-LQSSMGPQARSNGTDVGSSTSDAPGASSLPSP--QAIV-S\n",
        "start"
       ]
      },
      {
       "output_type": "stream",
       "stream": "stdout",
       "text": [
        " 108 819\n",
        "idx1 58 idx2 772\n",
        "56 QSTSGQLN--GGGVPERMRAG-IENSSPIPYN-GDWNSSCV-WNYHNTGPDEWQT QSTSKQVARYSAGVA--L-EGAFQDISP-PFEIGE--GACLSSNSH-TGPDG-QS\n",
        "start"
       ]
      },
      {
       "output_type": "stream",
       "stream": "stdout",
       "text": [
        " 214 517\n",
        "idx1 157 idx2 467\n",
        "55 RKPR-QSGS-RNLETPFGS-STSRRPIGSQQGINQPENTNTQNPYSSCQHYGSQKT-ADGG R-PRVKSASGRS-KT-FGNYSNS---I-S-NA-NRSTNENQENR-SD-QNRGQQNSLADAG\n",
        "start"
       ]
      },
      {
       "output_type": "stream",
       "stream": "stdout",
       "text": [
        " 145 316\n",
        "idx1 120 idx2 289\n",
        "52 PG-ASRLS-S-TALGSAQPDRGSSGSGR PGKAARLSNSKNSL-SVPPHPSSRGSMR\n",
        "start"
       ]
      },
      {
       "output_type": "stream",
       "stream": "stdout",
       "text": [
        " 319 514\n",
        "idx1 285 idx2 476\n",
        "46 NSQDVSQV-NY--KPIPAS--PSNIANGV-ANSDTPQPTS HSQEASPLREYDTKSSPASQVPSQ-A-GLYARSGPPEAIS\n",
        "start"
       ]
      },
      {
       "output_type": "stream",
       "stream": "stdout",
       "text": [
        " 48 176\n",
        "idx1 3 idx2 131\n",
        "47 SSSPINYIMS-AWIT-AIS-GIPIPWREEK-H-RS-PWYMIMRQDHSVTAL NSSPGG-ELSHPW-SLGVSGGI-VHSSDQSGHSRSVRW--IL-DDKAITSL\n",
        "start"
       ]
      },
      {
       "output_type": "stream",
       "stream": "stdout",
       "text": [
        " 204 421\n",
        "idx1 155 idx2 383\n",
        "46 SVLN-NISSDSRQNVPQGNSSMVVGGKIDTGTPDAMLHTSDSSMISGMRG TV-NGN-AS-SRESHAQ-N-W--VGAN-D-GSS-ALLRTT-SGLLYA-RG\n",
        "start"
       ]
      },
      {
       "output_type": "stream",
       "stream": "stdout",
       "text": [
        " 240 62\n",
        "idx1 208 idx2 22\n",
        "55 MSI-SG--P-SE-V-RESNQLQ-EQGDG-NPIY-QATKPKN MTISSGPQPSSDHGNRASSP-QWAAVEGLNSIYTQTSAPTN\n",
        "start"
       ]
      },
      {
       "output_type": "stream",
       "stream": "stdout",
       "text": [
        " 60 159\n",
        "idx1 45 idx2 144\n",
        "45 SLTTNQIL-DPEQSMG NL-SNQYLQDPNQSRG\n",
        "start"
       ]
      },
      {
       "output_type": "stream",
       "stream": "stdout",
       "text": [
        " 154 223\n",
        "idx1 114 idx2 182\n",
        "52 SNSNLPVSENTLPMPVEC-SS-PQ--M-SRVNAGRGSAQMSPTIS NNSNNS-SDDELLLS-QCPSSRPQGGSPSSINAA-GEVTMPPS-S\n",
        "start"
       ]
      },
      {
       "output_type": "stream",
       "stream": "stdout",
       "text": [
        " 223 429\n",
        "idx1 206 idx2 410\n",
        "44 VL-PHIYSPQ-SS-RYTPSP VLSPSSYSTQGASQHY-PTP\n",
        "start"
       ]
      },
      {
       "output_type": "stream",
       "stream": "stdout",
       "text": [
        " 68 210\n",
        "idx1 54 idx2 195\n",
        "45 NIELDPSFSIKR-SV NVPQEPSFEIHRNSV\n",
        "start"
       ]
      },
      {
       "output_type": "stream",
       "stream": "stdout",
       "text": [
        " 113 841\n",
        "idx1 83 idx2 816\n",
        "48 YHSKPSGARFASPTGGRRSDAWPAEGEMSN YQ-MPSPSRIV-P-GSRRANP-PL-GHRSN\n",
        "start"
       ]
      },
      {
       "output_type": "stream",
       "stream": "stdout",
       "text": [
        " 360 519\n",
        "idx1 335 idx2 496\n",
        "53 ISGPF-MQVQEEMPPVPY-TRDMPSIK IS-PINM-LTEE-PAV-YSSRNATSVK\n",
        "start"
       ]
      },
      {
       "output_type": "stream",
       "stream": "stdout",
       "text": [
        " 398 69\n",
        "idx1 378 idx2 50\n",
        "50 VVPSKSNFQSR-RPTEGRGP-G VIPS-S-FHGRPRPANS-APVG\n",
        "start"
       ]
      },
      {
       "output_type": "stream",
       "stream": "stdout",
       "text": [
        " 323 174\n",
        "idx1 285 idx2 143\n",
        "44 NRRTKLYPH-QMNPRVQGRDLMPAQGRITE-EMPRTKHPF N-R-K-YSQSQ-TVQSQAWAVMP-DS-I-EVDLSR-K-PF\n",
        "start"
       ]
      },
      {
       "output_type": "stream",
       "stream": "stdout",
       "text": [
        " 337 123\n",
        "idx1 288 idx2 76\n",
        "54 APGHALQT-GKSRVPTPQSQESYSSIYS-LEEIGS-QSSKSIQITPNAR--AMT AAAHS-HTRGESSL-S-QSTES-SGISNVLAP-GSAQHSLSL-F-PSERPGPMT\n",
        "start"
       ]
      },
      {
       "output_type": "stream",
       "stream": "stdout",
       "text": [
        " 152 169\n",
        "idx1 107 idx2 123\n",
        "50 SPHRNNNV-NA-PLQ-F--TWAGDVGQIDPVMLPDSM-IRRPPPFS-RS-IEG SPSIEDGVSNSIPLRSFQGNW-G--GQLKPC--P-SAGIQRHGP-SLRAGIIG\n",
        "start"
       ]
      },
      {
       "output_type": "stream",
       "stream": "stdout",
       "text": [
        " 294 502\n",
        "idx1 244 idx2 449\n",
        "47 STSN-LRCSIIRQEMLSNR--ARTGSWHES-PYLSTATQRF-NV-NHEQ--GKFLASM SVSNHLR--VLGQPIRSPRSVSRAGA-QQALPYYESITP-YAAVDDHDQNVSQF-ASL\n",
        "start"
       ]
      },
      {
       "output_type": "stream",
       "stream": "stdout",
       "text": [
        " 416 138\n",
        "idx1 387 idx2 112\n",
        "47 SDPQSRGLVLRSL-CSD-SQNDQSTSNQVNQ TDS-SPGLV-SSLK-SNLS-T-QPTSIEVGQ\n",
        "start"
       ]
      },
      {
       "output_type": "stream",
       "stream": "stdout",
       "text": [
        " 159 555\n",
        "idx1 127 idx2 522\n",
        "48 PNR-PVERRTTP-RPNSLE-SPESSLGR-SI-KPSSV PQRNGVE--GSPGHSNS-EATPGSS-ARVPVMKAPSV\n",
        "start"
       ]
      },
      {
       "output_type": "stream",
       "stream": "stdout",
       "text": [
        " 336 73\n",
        "idx1 287 idx2 27\n",
        "57 NPHRGISQTED-QR-PPS-PGQSSNIEFEISSRIVDIG-SAQSFPPSMRLQMN SPNR---Q-QDHQMFQGSGSGHSDG-EYEISSKFAEVEKRA-S-GAALRLDTN\n",
        "start"
       ]
      },
      {
       "output_type": "stream",
       "stream": "stdout",
       "text": [
        " 273 288\n",
        "idx1 260 idx2 275\n",
        "41 LRASSRSW-WTPSI LRPAS-SWPHGPSI\n",
        "start"
       ]
      },
      {
       "output_type": "stream",
       "stream": "stdout",
       "text": [
        " 215 96\n",
        "idx1 162 idx2 33\n",
        "55 GNDRGSPG-EVQNFSEQQRRIQSPRQVS-NA-S-GTGDN-WES-N-K-R-SG--GKM--I--SSGNLQ GKHQASPGLEVL-IG---RKIYSP-QVSQAAPNYNSTQSVWASKSARDRDSGQPGRMKCNSQSSGNME\n",
        "start"
       ]
      },
      {
       "output_type": "stream",
       "stream": "stdout",
       "text": [
        " 125 296\n",
        "idx1 95 idx2 269\n",
        "48 RSYPHTVPNVSMLDDEIREPTESRIPTSES RRYTHQAPAV--LKSP-RSPNASQVSTGES\n",
        "start"
       ]
      },
      {
       "output_type": "stream",
       "stream": "stdout",
       "text": [
        " 172 659\n",
        "idx1 107 idx2 593\n",
        "63 GSQEFRAQPTGRFESPRGPGRGATRNRTDMAP-GSVQR-S-SI-V-PVQDLPG--QQ-MADP-ENNLSCSGVPQ GSM-FNS-PT-RYNSRRSNASGKQQGSTQ-ASFGSTQRKSKRMDVLKVR-L-GSFEQSQA-PDEDS-SCSAISE\n",
        "start"
       ]
      },
      {
       "output_type": "stream",
       "stream": "stdout",
       "text": [
        " 222 118\n",
        "idx1 181 idx2 72\n",
        "50 SS-I--SS-GIPG-VTNSPRRDQ-GSTLNRQLMQQSKQGASY-S-P--WKG SSGICSSSCGRPGYSTSSVNRSPY-SD-AAQL--QTRQG-SYHGRPTAWEG\n",
        "start"
       ]
      },
      {
       "output_type": "stream",
       "stream": "stdout",
       "text": [
        " 75 830\n",
        "idx1 57 idx2 812\n",
        "50 AGN-EFGSISGSRVLHVGT AANRQLGSISANR-LRGGT\n",
        "start"
       ]
      },
      {
       "output_type": "stream",
       "stream": "stdout",
       "text": [
        " 321 54\n",
        "idx1 298 idx2 33\n",
        "46 PRRAENSIMTRSQSQP-SNL-VALV PRRA--TILV-NPCEPRDNLGV-LV\n",
        "start"
       ]
      },
      {
       "output_type": "stream",
       "stream": "stdout",
       "text": [
        " 133 168\n",
        "idx1 71 idx2 104\n",
        "54 E-P-NNSTQQVEMIT-HERPGQVSSGQL-SSQKFLPQSV--APWSHI-VDITPPVS-GNSTIRSQIDVGS ELPTSSSTQR-ETSTSHERSGLLACA-LPSSVSSNP-VIGDSPW-QLGSDLTHGLAIAQSA-SSQI-IAS\n",
        "start"
       ]
      },
      {
       "output_type": "stream",
       "stream": "stdout",
       "text": [
        " 127 781\n",
        "idx1 94 idx2 752\n",
        "41 LAINVGSSQSPVGFVSDSFTDV-CRESLEEGTTL LPIS-GVWES-VNYV-QS-VAVKCQHATEE-TAL\n",
        "start"
       ]
      },
      {
       "output_type": "stream",
       "stream": "stdout",
       "text": [
        " 229 200\n",
        "idx1 189 idx2 159\n",
        "45 SPSL-PYSI-SMLGYISNGG-GKRV-SQVASEWQNS-SSTVRTPQ NPSLGPSSIGSQH-FVA-GKFGPSADSQGESP-RSSLYST-RSPQ\n",
        "start"
       ]
      },
      {
       "output_type": "stream",
       "stream": "stdout",
       "text": [
        " 402 311\n",
        "idx1 379 idx2 287\n",
        "52 GVNNPQM-Q-SNMESYIQQPSSGNP G-SNPSMYSGNNMAVYLHLASSPNP\n",
        "start"
       ]
      },
      {
       "output_type": "stream",
       "stream": "stdout",
       "text": [
        " 86 843\n",
        "idx1 53 idx2 813\n",
        "46 SS-DA-PTYGGGNSVG-TRPTRLSQKATQNRPRAVY SSLDAVPSY-ESTS-GLIKP-RPCTNA--SRP-PVY\n",
        "start"
       ]
      },
      {
       "output_type": "stream",
       "stream": "stdout",
       "text": [
        " 42 697\n",
        "idx1 2 idx2 654\n",
        "44 IPTSEPLIQ-QG--I-NNTP-QMKI-NL-VNPMSKKSSMD-Q-CESWPR IP---PLIQADSCPVANNVPTSIKARGQHVPP-S--SIMDRQVSHNWSR\n",
        "start"
       ]
      },
      {
       "output_type": "stream",
       "stream": "stdout",
       "text": [
        " 304 705\n",
        "idx1 276 idx2 673\n",
        "48 GANASMTGQKNST-NWSRSRR--Q-G-ATRGGP GASYSSAAQTHSNLN-AQVRRWVQHGSASQGGP\n",
        "start"
       ]
      },
      {
       "output_type": "stream",
       "stream": "stdout",
       "text": [
        " 156 845\n",
        "idx1 125 idx2 813\n",
        "47 PTSREGIRPNQ-RFSTMRRES-GSHR--SPAA-SMR PISHDGSR-NKYAFS--RRTTPG-HRVDAPPSDSPR\n",
        "start"
       ]
      },
      {
       "output_type": "stream",
       "stream": "stdout",
       "text": [
        " 112 557\n",
        "idx1 75 idx2 520\n",
        "43 DTSESALLR-TS-INSPKE-SNTRDTRREPPTNANPLPCN ESSSSAMHQDSSNLESAHALPNASGT-AESP-NSNP-NCN\n",
        "start"
       ]
      },
      {
       "output_type": "stream",
       "stream": "stdout",
       "text": [
        " 331 638\n",
        "idx1 310 idx2 616\n",
        "48 TGRVSAERINMGVP-I-LSGG-SI TVRNGAE-IALG-PYISLQGGHSI\n",
        "start"
       ]
      },
      {
       "output_type": "stream",
       "stream": "stdout",
       "text": [
        " 137 216\n",
        "idx1 121 idx2 198\n",
        "54 P-RMTP-RLPPSSMCSE-G PSRATPLREPPSSV-SEVG\n",
        "start"
       ]
      },
      {
       "output_type": "stream",
       "stream": "stdout",
       "text": [
        " 266 669\n",
        "idx1 245 idx2 647\n",
        "45 RNSPAD--RKILQTVPSIV-AEGT RSS-SDVVHAIL-TSPAIVLAGGT\n",
        "start"
       ]
      },
      {
       "output_type": "stream",
       "stream": "stdout",
       "text": [
        " 283 131\n",
        "idx1 255 idx2 104\n",
        "56 VTN-GNTSMMMSSVVEMMSKVHKTQGDMW VNNPGQTA-LM-SVTAVISKEHSSSGSKW\n",
        "start"
       ]
      },
      {
       "output_type": "stream",
       "stream": "stdout",
       "text": [
        " 232 857\n",
        "idx1 213 idx2 837\n",
        "43 NAST-YE--AGPSRPDTGMSSM NASTHHDVSAGPS--EAGTSWM\n",
        "start"
       ]
      },
      {
       "output_type": "stream",
       "stream": "stdout",
       "text": [
        " 233 857\n",
        "idx1 187 idx2 801\n",
        "51 TPANAMPSVQA-S-AS-ST--PTLT-VE-M---G-LQTSEGGSTAMR-PLNP-MPSTET SPSRDLSSVSSLSHASITTFRPTLSNSEIIAARGAAHSSQGGS--VRY-LHPSLPTDDT\n",
        "start"
       ]
      },
      {
       "output_type": "stream",
       "stream": "stdout",
       "text": [
        " 279 24\n",
        "idx1 259 idx2 4\n",
        "51 SMSLKET-TIQNTH-PQ-QLGIS S-SWKMTRKIH-THSPQLQL-IS\n",
        "start"
       ]
      },
      {
       "output_type": "stream",
       "stream": "stdout",
       "text": [
        " 117 435\n",
        "idx1 62 idx2 383\n",
        "50 GS--ASGQLGQ-NGVRGATSQIQPGSTSNSSF----PRGHEIAYRLMY-IHEQDNRSVHSISV GSHFSSGHL-QIH-V-G---Q-HSGAYANNQFAAVKPPGHP-S-QAMYCAHA-ESISIHS-SI\n",
        "start"
       ]
      },
      {
       "output_type": "stream",
       "stream": "stdout",
       "text": [
        " 46 266\n",
        "idx1 24 idx2 248\n",
        "45 KGPATTSQ-PNNNISAQTQCTYA K-PG-TSQYAANH-SAQSH--YA\n",
        "start"
       ]
      },
      {
       "output_type": "stream",
       "stream": "stdout",
       "text": [
        " 62 684\n",
        "idx1 29 idx2 649\n",
        "41 YQRLQ--STGTASDRGFPINIGSSQ-SA-SSRQ-TPTS YQSTQIRSDSAASDHE--LN-GAGQINGQVNRQDSPKS\n",
        "start"
       ]
      },
      {
       "output_type": "stream",
       "stream": "stdout",
       "text": [
        " 268 795\n",
        "idx1 254 idx2 783\n",
        "44 PPQHSSPRDPELLT PTQHEG--DPELMT\n",
        "start"
       ]
      },
      {
       "output_type": "stream",
       "stream": "stdout",
       "text": [
        " 193 689\n",
        "idx1 134 idx2 626\n",
        "58 SPEQPLRGTRTS-DLTT--ATQS-AIS-SDPT-PRTRPP-GGS-NTIYD-NSSPLPSRSVPRSGNESY SAEHSTQGEITSCVLTSRQPTISFPISNSDPAMA-TSPAHGPAMTSI-DHNSGR-SGDSV--SSDGSY\n",
        "start"
       ]
      },
      {
       "output_type": "stream",
       "stream": "stdout",
       "text": [
        " 105 512\n",
        "idx1 82 idx2 487\n",
        "49 AQLS-VEATSI-PW-GVPG-PEPDAQM AHVSWVKA-SIEPSHG-PGRSEPSNQL\n",
        "start"
       ]
      },
      {
       "output_type": "stream",
       "stream": "stdout",
       "text": [
        " 421 455\n",
        "idx1 384 idx2 420\n",
        "42 RGMGSGDPTINNPYTAQKSAYFTRASDIEPE-V-P-V-TSI RGVAAHNPTF-DR-SAENS-YLI-AS-L-AEHIGPLVQSSI\n",
        "start"
       ]
      },
      {
       "output_type": "stream",
       "stream": "stdout",
       "text": [
        " 289 69\n",
        "idx1 255 idx2 34\n",
        "45 SPRIGPKA-SRS-YPSNPIV-VPENQETGRLEQMQ-LT SP-AG-KATSQSGFVHHPFARSPANANL-RTEQMENLS\n",
        "start"
       ]
      },
      {
       "output_type": "stream",
       "stream": "stdout",
       "text": [
        " 313 59\n",
        "idx1 272 idx2 12\n",
        "56 DSNTHRDRGPTKPAQL-GIIQ-TAG-G-VR-SPSSM-VT-IV-PQRQ-P-N NSD-HR-SG-TLERQLYG-SHWNAGMEIIQSSPSSMTITAIATAHQQSPKN\n",
        "start"
       ]
      },
      {
       "output_type": "stream",
       "stream": "stdout",
       "text": [
        " 323 692\n",
        "idx1 281 idx2 655\n",
        "50 L-QGESYCEYPTRTHPSPSTQRNPRSRMS-SQPGTALSQ-SN-SPQ LSQG-SK-QY--KS-PAP-T-SN-RSSLPRTH-DTALSDNSSYSAQ\n",
        "start"
       ]
      },
      {
       "output_type": "stream",
       "stream": "stdout",
       "text": [
        " 188 825\n",
        "idx1 155 idx2 793\n",
        "54 TGSIGSAQVQRSPDRE--EF--LAGGSHSSGIDRAY-E SGSVASS-VE-SSSREVAAFNSLA-ANH-S-V-RSYGE\n",
        "start"
       ]
      },
      {
       "output_type": "stream",
       "stream": "stdout",
       "text": [
        " 320 350\n",
        "idx1 283 idx2 315\n",
        "51 TQSLVIDVLERVRWPI--IMQSL-TLTA-DGMTVAASCQLP TSSLVVNI-E-I--PVGYILDALRTASSKEDLSV-PSCR-P\n",
        "start"
       ]
      },
      {
       "output_type": "stream",
       "stream": "stdout",
       "text": [
        " 198 816\n",
        "idx1 178 idx2 797\n",
        "45 GFVPQNESNRVPR-R-GGRGCL GFVAQG-S-RHPSLREGGTG-L\n",
        "start"
       ]
      },
      {
       "output_type": "stream",
       "stream": "stdout",
       "text": [
        " 252 218\n",
        "idx1 207 idx2 178\n",
        "55 FPSQPWPISDILALSSTR-V-RPQPHQLVF-SGSKRNPTPGKGHNGPP FASSP-PI--I-CLSGEHLLTHPAPPEL-FDSGGM-N-TP-QSVSSPP\n",
        "start"
       ]
      },
      {
       "output_type": "stream",
       "stream": "stdout",
       "text": [
        " 169 479\n",
        "idx1 121 idx2 434\n",
        "40 SLKIGQTMSHQEDSN-APT-ANP-S-GRWPLNANPPQHESQVQTKM-ED-RNAG NL-VG-IMS-VESPNYPPILA-PFSKG--P-SASGPLRLPQ-PS-MSEETRASG\n",
        "start"
       ]
      },
      {
       "output_type": "stream",
       "stream": "stdout",
       "text": [
        " 269 616\n",
        "idx1 241 idx2 583\n",
        "61 PR-TSEGS--DSGE-TGQD--G-LQHDMSRILNSL PRASSQGSHHDSGNFMSEDRSSNIQHSMS--LASL\n",
        "start"
       ]
      },
      {
       "output_type": "stream",
       "stream": "stdout",
       "text": [
        " 180 184\n",
        "idx1 130 idx2 135\n",
        "47 TSVT-Y-GDIASNSDPPVIIVPTKNASTDPISLSGYNK-IITNP--AS-TRNLRGS TSVTIFSSNLASSSN-SGTLEESESASAQ---FS-YSTPIIT-PVGPSQTQS-RSS\n",
        "start"
       ]
      },
      {
       "output_type": "stream",
       "stream": "stdout",
       "text": [
        " 285 149\n",
        "idx1 258 idx2 118\n",
        "55 S-PFGQRD-KP-EDAQ-PPASPPPQGG-SANL SAP-GKREGKPHSDDQMNLQSDPPQGGESVAL\n",
        "start"
       ]
      },
      {
       "output_type": "stream",
       "stream": "stdout",
       "text": [
        " 75 590\n",
        "idx1 62 idx2 576\n",
        "44 LS-GLPP-SAVHSQS LSNGLCPFSA-QSQS\n",
        "start"
       ]
      },
      {
       "output_type": "stream",
       "stream": "stdout",
       "text": [
        " 187 411\n",
        "idx1 150 idx2 372\n",
        "44 SSP-TNK-RSAIEQS-I-RS-SRSGTGRKVGGEAGIVQSPPV SSPISNMLMSS-NPSETHRSHPRSGDLRTV-NET-LSSSAPV\n",
        "start"
       ]
      },
      {
       "output_type": "stream",
       "stream": "stdout",
       "text": [
        " 398 280\n",
        "idx1 376 idx2 253\n",
        "56 TPL-GATRSPQ-SSQMQ-LT--YTNTS TPIVNPIRSVQASSQVQDLSHRYTGKS\n",
        "start"
       ]
      },
      {
       "output_type": "stream",
       "stream": "stdout",
       "text": [
        " 37 146\n",
        "idx1 15 idx2 125\n",
        "43 SPVRGLPLSQREE-QE-VHRSSS-F SP-RG-PFSTRSGLQDGV--SASHF\n",
        "start"
       ]
      },
      {
       "output_type": "stream",
       "stream": "stdout",
       "text": [
        " 61 337\n",
        "idx1 39 idx2 316\n",
        "47 ADQSHL-E--GQQRPGSRNGFGPYQ AN-SHQAEPSG-PRAGSHNGF--YE\n",
        "start"
       ]
      },
      {
       "output_type": "stream",
       "stream": "stdout",
       "text": [
        " 82 682\n",
        "idx1 35 idx2 631\n",
        "54 SSDGDLGSHATG-QTGTN-SS--MDHPTTTEQFG-ASGSNAQPSI--EFR-LSAS SSDGTI-RNGNGVH-GTSIASHPLVHPTSTSN-GLQSGSSERTQILGE-RSVAAS\n",
        "start"
       ]
      },
      {
       "output_type": "stream",
       "stream": "stdout",
       "text": [
        " 183 621\n",
        "idx1 157 idx2 593\n",
        "43 SQRAQENTPLN-FWMPQ-PCPTQ-LIQSS SQH-QETSSFSIFSLPQDGSEAQALVHES\n",
        "start"
       ]
      },
      {
       "output_type": "stream",
       "stream": "stdout",
       "text": [
        " 389 144\n",
        "idx1 376 idx2 130\n",
        "61 SPGRPE-L-QRAPEE SPGRPDSMSQ-APEE\n",
        "start"
       ]
      },
      {
       "output_type": "stream",
       "stream": "stdout",
       "text": [
        " 155 453\n",
        "idx1 115 idx2 409\n",
        "48 RQGIGPFGRLQVGLEAPG-NGSPISMQDPR-Y--TSPTF--N-R--SHQ RRNIGT-GKKQ---EA-GFDSSAVSSGGPRGCGTTSPAFPANGPTYSHQ\n",
        "start"
       ]
      },
      {
       "output_type": "stream",
       "stream": "stdout",
       "text": [
        " 139 316\n",
        "idx1 101 idx2 274\n",
        "49 TP-TDP-TPSNTP-MLGRPALRQQH-T-KSSQSQ-GQTATPLSS SPKSDPHTPA-SPQVIGSVE-RSAHFTPQSSRSHRGPSGSEISN\n",
        "start"
       ]
      },
      {
       "output_type": "stream",
       "stream": "stdout",
       "text": [
        " 311 690\n",
        "idx1 288 idx2 668\n",
        "37 QPRLAKSDRGGTGGPETS-AWDNG QPP-SRPHSAGT-QPQTPINWSNG\n",
        "start"
       ]
      },
      {
       "output_type": "stream",
       "stream": "stdout",
       "text": [
        " 161 442\n",
        "idx1 120 idx2 403\n",
        "41 PGQMRGETTLFNGQQG-T-PKML-PFSGLVRNF-LSL-TI-SASVSQ PGNL--ESSV--GQKGITEALLLSPF-G--PNTPLRLASIASDS-SQ\n",
        "start"
       ]
      },
      {
       "output_type": "stream",
       "stream": "stdout",
       "text": [
        " 206 766\n",
        "idx1 163 idx2 722\n",
        "52 PVGVQGQT-DYKPSGP-YSTNYIRVQEN-S-M--SRNGRLTTEALAPAV PHGVHSQSGSLK-SGSWYGPDYL-CGESGSPTPASR-GDLSTQAL-P-V\n",
        "start"
       ]
      },
      {
       "output_type": "stream",
       "stream": "stdout",
       "text": [
        " 276 703\n",
        "idx1 263 idx2 688\n",
        "40 ARRMS-RMLNS-NTP AHRMTLNLINSQSTP\n",
        "start"
       ]
      },
      {
       "output_type": "stream",
       "stream": "stdout",
       "text": [
        " 210 641\n",
        "idx1 199 idx2 630\n",
        "44 PT-DAGQMACPC PTVNAGQLP-PC\n",
        "start"
       ]
      },
      {
       "output_type": "stream",
       "stream": "stdout",
       "text": [
        " 335 412\n",
        "idx1 306 idx2 385\n",
        "51 P-PKAAGNPEPRVQVWQV-PEGHSEGTSGLK PGPVGAGNP-SCVTIYPVSSE-HTE-TSG-K\n",
        "start"
       ]
      },
      {
       "output_type": "stream",
       "stream": "stdout",
       "text": [
        " 302 81\n",
        "idx1 290 idx2 69\n",
        "51 NSPVPGVSF-SSN SSQVP-VSFGSSN\n",
        "start"
       ]
      },
      {
       "output_type": "stream",
       "stream": "stdout",
       "text": [
        " 207 105\n",
        "idx1 195 idx2 95\n",
        "47 RGEKGSGIRRVY RGE-G-GLHRVY\n",
        "start"
       ]
      },
      {
       "output_type": "stream",
       "stream": "stdout",
       "text": [
        " 262 521\n",
        "idx1 229 idx2 480\n",
        "55 PPS-S-SRPEPSMK--LQTTVPLYSF---N-QQSSSGNSQ-T PPSGPDAKAEP-MNTSLDSSPPLYSSVPPDLSQNKAGNAQAT\n",
        "start"
       ]
      },
      {
       "output_type": "stream",
       "stream": "stdout",
       "text": [
        " 61 458\n",
        "idx1 10 idx2 414\n",
        "49 RPPTIDTEQNVAETSDRGVSGTNSRSPGPLSPPL-KQN-LTEE-G-RSTTYAAAP R-PTI-A-Q-ASEESD-GILGCN--S-GA-SSPLC-HDRIAESCGAKSPR-SAAP\n",
        "start"
       ]
      },
      {
       "output_type": "stream",
       "stream": "stdout",
       "text": [
        " 298 334\n",
        "idx1 281 idx2 321\n",
        "45 LTQSMTAVNYSSQYQSQ LT-S-TSIGF-S-YQSQ\n",
        "start"
       ]
      },
      {
       "output_type": "stream",
       "stream": "stdout",
       "text": [
        " 53 448\n",
        "idx1 2 idx2 385\n",
        "51 IP-T-QN-SQSGRGAG-DR-SDLPHTSSTEQ----SSDR---QSKSYYI-RELPSG-A-K--VQ-RLTQ IARTRHNPNQRGH-AGVNRFSG--HSSAAAQSVAYSSNRPFLHAEPHHIFR--PSGIAPQLLVQSR-SQ\n",
        "start"
       ]
      },
      {
       "output_type": "stream",
       "stream": "stdout",
       "text": [
        " 66 390\n",
        "idx1 11 idx2 347\n",
        "49 SSMSESATPPSYSALP--K-ATVHPYEQWEQSQLMLTFETTTKNGSRDSNV-SSDNVRR TS-SDS-S-HS-SA-PVGRAATVQ-Y--WARTR----FGIPT-N-S--SQVGSSDGIRK\n",
        "start"
       ]
      },
      {
       "output_type": "stream",
       "stream": "stdout",
       "text": [
        " 116 119\n",
        "idx1 74 idx2 87\n",
        "44 RDMQGFLAVWYSSGTFGSYNKMSTINQSSRLR-GPVRRTWSEL RD-EG--ASSYSSAAVES---LFT-NVAN-LRTGP--RT-SEL\n",
        "start"
       ]
      },
      {
       "output_type": "stream",
       "stream": "stdout",
       "text": [
        " 93 721\n",
        "idx1 29 idx2 662\n",
        "68 YNL-LPSTME-VNPRLAENDSDLSPDMEFQMHP-NSNVGMPSMPNNVTH--LRNHSEIA-RFPSP-YEQS-Y Y-LAL-STMARINTRIG---SQVSAG--Y--HPSNASAGAP--PENVSQPTASDHSDLPNR-QEPAY-RSPY\n",
        "start"
       ]
      },
      {
       "output_type": "stream",
       "stream": "stdout",
       "text": [
        " 160 855\n",
        "idx1 142 idx2 838\n",
        "42 RSVC-EESALIPG-QGSPNL RSACNAES-L-PVKQGIP-L\n",
        "start"
       ]
      },
      {
       "output_type": "stream",
       "stream": "stdout",
       "text": [
        " 226 384\n",
        "idx1 198 idx2 360\n",
        "51 PSNPM-QFSTDYSRSSGQMNIEGGSHVRP PSDPLIQ-TAQVSNSSNQ-QL--GS-VRP\n",
        "start"
       ]
      },
      {
       "output_type": "stream",
       "stream": "stdout",
       "text": [
        " 201 221\n",
        "idx1 158 idx2 177\n",
        "52 SG--DRTT-TD-LSRARHPMKPQQVENVAIHVRSS-VHGQTMSN-NTTK SGNSNSTTHSEQISR-QNSM-SDR-QNAGIHITNRYV-GGT-ANADTTR\n",
        "start"
       ]
      },
      {
       "output_type": "stream",
       "stream": "stdout",
       "text": [
        " 44 73\n",
        "idx1 17 idx2 47\n",
        "49 QQLMGQV-EPDTAQC-VSNTQALLRTDAV QPISGQVANP-PSQSPISSG-A-LRTSAV\n",
        "start"
       ]
      },
      {
       "output_type": "stream",
       "stream": "stdout",
       "text": [
        " 133 566\n",
        "idx1 102 idx2 538\n",
        "43 EMTRME-LPSKDRLPTSGTSRYWQSTSKSGDP EQVRLSVIPSGTS-PAS-LSQYWNSGS-S-QP\n",
        "start"
       ]
      },
      {
       "output_type": "stream",
       "stream": "stdout",
       "text": [
        " 368 244\n",
        "idx1 281 idx2 152\n",
        "54 SG-EP-TSPSTYQNPALRIS-FESE--S-PAEA-PRPTMLIVGCQS-TSGY-QVPEV--ENP-NNSSTD-RE-NAWFSYDQSKRSSSESSIWPRGIF-VSYR TGAEPQEGPN-HPNSCFRVTKYSSEDGSMREESLGR-T-L-GGSQSLVSGSAAAPKVKLANPLANSTSEVPELTANLG-NHVN-ESSESN---RGGFAAS-R\n",
        "start"
       ]
      },
      {
       "output_type": "stream",
       "stream": "stdout",
       "text": [
        " 73 569\n",
        "idx1 52 idx2 548\n",
        "46 IGTTEAPGTN-VQLP-PYETASE IG-TDNPEADPVQ-PNPSEAQSQ\n",
        "start"
       ]
      },
      {
       "output_type": "stream",
       "stream": "stdout",
       "text": [
        " 359 396\n",
        "idx1 307 idx2 342\n",
        "56 HITSPVPFSTQ-WFSTNADPPMGPTVTNSTAS-N-ALGGP-P-QDKVMPSLS-ESARE HIDSELPMKARAWLSSNSDTTQG--VRRPSPSLSYVI-GPNSIQDRA-ASLTRETGQE\n",
        "start"
       ]
      },
      {
       "output_type": "stream",
       "stream": "stdout",
       "text": [
        " 303 692\n",
        "idx1 263 idx2 649\n",
        "45 PF-PLSVSD-A--K-RNGEIPN-R-NFKPITRQNMPSGGPQSS-NQVS PLRPLS-GDRAGLEARAGGAPNARGSSSPVA--DFP-GG-RSSTNHSS\n",
        "start"
       ]
      },
      {
       "output_type": "stream",
       "stream": "stdout",
       "text": [
        " 67 122\n",
        "idx1 31 idx2 85\n",
        "38 MELSQLDPSLKQGE-GTVQTVNLAS-PS--G-RGSVY-PWGG MDTSQ-AP--HPGAINTA-SVCLSNLPSYDGSQGSVNGP-GG\n",
        "start"
       ]
      },
      {
       "output_type": "stream",
       "stream": "stdout",
       "text": [
        " 44 112\n",
        "idx1 18 idx2 80\n",
        "58 TP-RSMP-GTNPSGNSFI--ARNW---WSS-PIE TASRSAPAGSE-A-DSVIAGARNWVSAWSSMSID\n",
        "start"
       ]
      },
      {
       "output_type": "stream",
       "stream": "stdout",
       "text": [
        " 45 150\n",
        "idx1 30 idx2 133\n",
        "39 PSP-ETNTSYR-CPRQS PAPYENNSSFKLAARRS\n",
        "start"
       ]
      },
      {
       "output_type": "stream",
       "stream": "stdout",
       "text": [
        " 357 130\n",
        "idx1 304 idx2 80\n",
        "72 VVAGSILQTYARIDRGIQVPTQRPS-GNGVPARMGSNMQHESQD-L--MESTPPQAL VGTNSV-SSYAEINRG---PSSRHEW-NSPPSSMHDNAQ-ESQDGMSPME-IAPHSL\n",
        "start"
       ]
      },
      {
       "output_type": "stream",
       "stream": "stdout",
       "text": [
        " 401 122\n",
        "idx1 375 idx2 92\n",
        "43 NGTT-QGRRD--G--IEANYQTNTPTRPSSG NGTVCRARRDPTGPRIVVKSHTSSQT-PESG\n",
        "start"
       ]
      },
      {
       "output_type": "stream",
       "stream": "stdout",
       "text": [
        " 208 619\n",
        "idx1 150 idx2 559\n",
        "68 SPHLTNSKAPAQGTTGIIQIS--TAP-CLAPSIIVSD-SQSRPKH-PLQP-V-SCHNS-GDLVSAI SPQ---SRLPARDTN-LTQASPHNPPRCPAPSISNCDHSQSSPNAIPLEAEINSALDSYG-L-AGI\n",
        "start"
       ]
      },
      {
       "output_type": "stream",
       "stream": "stdout",
       "text": [
        " 98 854\n",
        "idx1 35 idx2 785\n",
        "51 RLRPGCQALSR-P-E----PSSWRQMGA-NNEQSGGRQ-P-YGAPTRNTELKKTDQ--QRVVRV-SSADSTLQGP RLSP-C-SISRDPTDLTLIPSGL-HSGVISSD-VAGRALPVF-INDRATYVTKNGHKNHR-TRVTSTADPQLRGP\n",
        "start"
       ]
      },
      {
       "output_type": "stream",
       "stream": "stdout",
       "text": [
        " 203 847\n",
        "idx1 159 idx2 788\n",
        "58 NYMRVQGQ--TR----KPSR-DRSISRDL--GQ--YP-T--S-GV-SQ-PPSM-VGENP-S-GP DYMR-QGQCRVRLNFEKQ-RTQRAV-R-LFSGQNEFTYTWQSPGVWSQIPSNLQIG-PPAAFGP\n",
        "start"
       ]
      },
      {
       "output_type": "stream",
       "stream": "stdout",
       "text": [
        " 24 135\n",
        "idx1 1 idx2 106\n",
        "54 V-KPPYPQ-P-S-G-QSSCHLLGP--IPPM VTKHPY-QIPLSYGPHPTRRILGPESIPHM\n",
        "start"
       ]
      },
      {
       "output_type": "stream",
       "stream": "stdout",
       "text": [
        " 310 502\n",
        "idx1 266 idx2 463\n",
        "42 RWNENHVGRLPTN-AYDNYEISPNGG-TSTTMRMSAATAGKDSSQP R-AEDHI-R-PVRVP-AAYEIEHNAAYASTDGR--GG-VGTDASDP\n",
        "start"
       ]
      },
      {
       "output_type": "stream",
       "stream": "stdout",
       "text": [
        " 338 148\n",
        "idx1 324 idx2 130\n",
        "50 SPG-M-GQ-P-SNWAITV SPSMMSSRVPQSNWQITI\n",
        "start"
       ]
      },
      {
       "output_type": "stream",
       "stream": "stdout",
       "text": [
        " 318 132\n",
        "idx1 275 idx2 91\n",
        "42 NPQRPS-GLQGG-VDPSPPIQSTSRPTGSRPIYS-SALQELTPR--MC NP--PSFASQSACASPCQP-RSTN-LTGNNA--SASALPTL-ARHMMC\n",
        "start"
       ]
      },
      {
       "output_type": "stream",
       "stream": "stdout",
       "text": [
        " 33 773\n",
        "idx1 16 idx2 756\n",
        "50 DSERP-SE-DPSINSYPQI DSESPHSECEPS-SS-THI\n",
        "start"
       ]
      },
      {
       "output_type": "stream",
       "stream": "stdout",
       "text": [
        " 260 799\n",
        "idx1 217 idx2 758\n",
        "50 SERKVDGRVKSGTTFQR-ISRQPVSRDYHV-TTGNYV-GEPSMHQN TERSGNAR-SSGPTSQRLI--Q-VDGDNPVESKGHAASGEP-LQSN\n",
        "start"
       ]
      },
      {
       "output_type": "stream",
       "stream": "stdout",
       "text": [
        " 173 343\n",
        "idx1 144 idx2 314\n",
        "59 PRRGTPVSPP-CWLRII-D-SDPSGVQGPTVS PVR-QPASPPSC-FRMVRDFWDPSSA-NPVIS\n",
        "start"
       ]
      },
      {
       "output_type": "stream",
       "stream": "stdout",
       "text": [
        " 57 654\n",
        "idx1 32 idx2 627\n",
        "64 SENPAHDPEMALIQ-SDC-LN-FR-RPGT TENPPNQPEM--VQESDSNTDRFRMQPPT\n",
        "start"
       ]
      },
      {
       "output_type": "stream",
       "stream": "stdout",
       "text": [
        " 313 549\n",
        "idx1 281 idx2 515\n",
        "51 GAGGRMQKRLVSPTSS-KGPQ-P-SYQDGASNRSS GASPHMGMSSVSNTTSFNGAQEAISYSE-ASNHHS\n",
        "start"
       ]
      },
      {
       "output_type": "stream",
       "stream": "stdout",
       "text": [
        " 117 192\n",
        "idx1 99 idx2 172\n",
        "66 SCRPSLLGI-FHPR--GPGGW S-RCSLLGIVLHPRSLSPGTW\n",
        "start"
       ]
      },
      {
       "output_type": "stream",
       "stream": "stdout",
       "text": [
        " 362 848\n",
        "idx1 332 idx2 818\n",
        "45 QSKPQIR-TRVNGRSSEATKKF-NSDAGIR-DF Q-KS-ISATRSNA-SAQAGEKAPNGNSSIRSEF\n",
        "start"
       ]
      },
      {
       "output_type": "stream",
       "stream": "stdout",
       "text": [
        " 92 58\n",
        "idx1 51 idx2 22\n",
        "55 YCKPSRPPNTLSSRGPASTLQQ-R-SFVRINQTSDTDSSIVQN Y-KSSAGSN--NSPG-ETALQRGRHTF-REHQ-SISGASI-QN\n",
        "start"
       ]
      },
      {
       "output_type": "stream",
       "stream": "stdout",
       "text": [
        " 231 854\n",
        "idx1 181 idx2 800\n",
        "52 PIKVPS-PSEIRST-SKTMQCSYIG-SICHRPQRLMV--PRTGLLSSHSSKAT-AR PISNSSVPGEATSTGPSSIPCSARAVCIYHRSSSVGVRAPYTS--SSPSSKASLAR\n",
        "start"
       ]
      },
      {
       "output_type": "stream",
       "stream": "stdout",
       "text": [
        " 29 162\n",
        "idx1 12 idx2 145\n",
        "57 STPAGTVQVSSNNSRTP SSPAASVHSSSSDARSP\n",
        "start"
       ]
      },
      {
       "output_type": "stream",
       "stream": "stdout",
       "text": [
        " 247 768\n",
        "idx1 214 idx2 737\n",
        "50 RA-PPRCNAR-S-V-SRPALGMMGNVQVQNNVSHFIY RAVAAIC--RGSCIPTRAAHG--GTVQIH-N-PHIIF\n",
        "start"
       ]
      },
      {
       "output_type": "stream",
       "stream": "stdout",
       "text": [
        " 156 640\n",
        "idx1 138 idx2 623\n",
        "45 TSSPA-GANTTSQHGQSNI TTAPERGG-TASQHTHS-I\n",
        "start"
       ]
      },
      {
       "output_type": "stream",
       "stream": "stdout",
       "text": [
        " 236 591\n",
        "idx1 179 idx2 537\n",
        "46 NSP-SKTNY-LNVRKSPVPNPSKTIVQ--NVVCRCVMGGMSTGQESLGSPSSMPFPITQNT NAPGSITHTRMSTKSSPTPQPS--FAHRDDVL-ECGLGAVHTG--AI-SSASVS-PVAENS\n",
        "start"
       ]
      },
      {
       "output_type": "stream",
       "stream": "stdout",
       "text": [
        " 79 481\n",
        "idx1 43 idx2 449\n",
        "42 IE-Q-QSGESTQNYSETR-SGSIPLSPPQG-WQNTLKTEQ IESASQSG--T-NFS--RVAGVIT-S-VHGHRQ-SLEPEQ\n",
        "start"
       ]
      },
      {
       "output_type": "stream",
       "stream": "stdout",
       "text": [
        " 102 743\n",
        "idx1 62 idx2 708\n",
        "55 NETIKAPLLPRAYIAMSPVWPAGVCTSEIRSSASNG-SQPD NGSIGAS-VPR---ALSNAW-AN-SSSEITPSQSSAVSSPD\n",
        "start"
       ]
      },
      {
       "output_type": "stream",
       "stream": "stdout",
       "text": [
        " 156 270\n",
        "idx1 86 idx2 212\n",
        "45 TSKKA-PS-Q-SARDRATLYTY-GRSEYRVCSKMEPSVSRGNESSPMFPNSVGWYMWQSNTDVAPTKPSPSGSQ SSSMAHPSGPASAKPRGGAHAYKGKSSLTMCS--ENS-S-GH--S--FVNNV-----QS-SG-GPSIP-PGGSQ\n",
        "start"
       ]
      },
      {
       "output_type": "stream",
       "stream": "stdout",
       "text": [
        " 257 511\n",
        "idx1 206 idx2 455\n",
        "57 C-P-IHSV-SGQ--VPVQVR-GIKLQGVSYHKVR--TSFEPNREAQVNSGPT-LM-GVYRG CAPSTHSVLPGDPSIPLHPRHEHKLQ-PS-HR-RSGTSL-SGSESHIHA-PSEYMVGSLRG\n",
        "start"
       ]
      },
      {
       "output_type": "stream",
       "stream": "stdout",
       "text": [
        " 206 501\n",
        "idx1 125 idx2 408\n",
        "55 FYMDN--SS-GP--SNSSDG-G--S--PSTEMSEITNCKSGSQ-RRLSPNMVA--S-RPLPRFFNLS-AEQQP--QSLKVPTAP-DTSII--GC-PGHSSVM FFPDNVSSSLGSLISISSVGQGAMSGRPSSG-SE-SS-PNASQNPQMPSDSVAGISQRQ-SS-FNSSQAGQRTVIQA-R-PY-PWQT-VVSPSCGPGTESVM\n",
        "start"
       ]
      },
      {
       "output_type": "stream",
       "stream": "stdout",
       "text": [
        " 52 358\n",
        "idx1 5 idx2 304\n",
        "61 STEI-T--QSQSLL-RVPSSV-R--IGGTHFPNSIYIPPR----MGTHLSL-TQPPWPM STAINTWPQSQPIIGRAPDSITHPSLGSTS-ADA--IPSRCEAPSGS-LALCS-PSWPL\n",
        "start"
       ]
      },
      {
       "output_type": "stream",
       "stream": "stdout",
       "text": [
        " 350 213\n",
        "idx1 323 idx2 187\n",
        "58 NTRWSDIQFGAYRQ-T-SPMPDDPTS-SQT STR-SAIH-GE--QGSFSGIPNDSTSNSQT\n",
        "start"
       ]
      },
      {
       "output_type": "stream",
       "stream": "stdout",
       "text": [
        " 213 813\n",
        "idx1 148 idx2 750\n",
        "53 TGDN-EGNGSTGGTRGSNATRCSSS-AE-MRSGLD-PRSDLASAQYCIRIPSSHPQALTASQTHR--ESPM TSDNVEGSNCN-SAR-RTPSSSSSSYGQNISSGREHPK-NLEKTEYSNRL-FS--KSL-PS-THILLGSPM\n",
        "start"
       ]
      },
      {
       "output_type": "stream",
       "stream": "stdout",
       "text": [
        " 360 105\n",
        "idx1 344 idx2 91\n",
        "52 ETNSSTGRSWWPPP-ER DANSR--RD-WPPPSER\n",
        "start"
       ]
      },
      {
       "output_type": "stream",
       "stream": "stdout",
       "text": [
        " 319 176\n",
        "idx1 292 idx2 144\n",
        "52 PSDI-T-VSLRSVSAG-QT-TATPVTE-GSV-N P-DISTGVSSHSATEGSQQRAAKPATQSGSMPN\n",
        "start"
       ]
      },
      {
       "output_type": "stream",
       "stream": "stdout",
       "text": [
        " 389 37\n",
        "idx1 360 idx2 10\n",
        "47 QLS-VSPSPTEP-MSPSSQNTPMQIGSNVRS QMSNVSPGGTAASMNPEAHSIQ-Q--SR-RS\n",
        "start"
       ]
      },
      {
       "output_type": "stream",
       "stream": "stdout",
       "text": [
        " 163 143\n",
        "idx1 135 idx2 112\n",
        "50 YP-LRPAS-T-YTPT-RNTSPCSRDTTGLRGR YPELKSNSCSRRTASQRATSPPSRASAG-AGR\n",
        "start"
       ]
      },
      {
       "output_type": "stream",
       "stream": "stdout",
       "text": [
        " 100 318\n",
        "idx1 36 idx2 257\n",
        "47 PSGKEGSTPSPAL--G--RSMESSPIVRAQG-VSDSPARPT-ANPQAHVGEP-S-RAVQALDLINSIRRGES PS-K--AIPSPRVNPGSCRGL-NSPSVSVQPCVTSSSTFTNGAYP-AEVS-PLTRRPAQ--EL-QS-HRG-S\n",
        "start"
       ]
      },
      {
       "output_type": "stream",
       "stream": "stdout",
       "text": [
        " 370 800\n",
        "idx1 351 idx2 781\n",
        "45 RSV-GPVSCRSRYHV-YLQGG RSAQGPLSSQ-R-HLRFLQTG\n",
        "start"
       ]
      },
      {
       "output_type": "stream",
       "stream": "stdout",
       "text": [
        " 256 849\n",
        "idx1 205 idx2 804\n",
        "47 PPTMDSWR--TE-RFSGQLQYDQPTAPGAENNTNWQ-MGGGELSVVMSN--GLIKAW PP-MNT-RVPTAPSLS-Q-Q-GEAS-PGT--STKLETTGASE-N-V-SNVLGMI-GW\n",
        "start"
       ]
      },
      {
       "output_type": "stream",
       "stream": "stdout",
       "text": [
        " 130 681\n",
        "idx1 93 idx2 648\n",
        "49 PSTSDIGLYPICKRSGSSLSSGSVT-GTQVRMTSRY-SL PS-SEISL-P-S-QGGNNTHSGAGAYGRQ-R-NSSYMSL\n",
        "start"
       ]
      },
      {
       "output_type": "stream",
       "stream": "stdout",
       "text": [
        " 250 671\n",
        "idx1 148 idx2 567\n",
        "52 QNGPSKW--T-EISITPATHYGNQT-P--I-VSSLDMKGNSKGS-QMSMREVVYEMAAR-SLSNTSGRQQLA-FEETIRQSRQDSPPPRSLQD-EHDMSATGAE-T-EGRGGIRP QSDSS-WGVNVEMS-SPETS-GSSAFPCDLSVSSAQM-GFA-GSGE-S--AIISSGNSRVGLS-TS-R-PLTIYGEQFNNNHGKGPDARDAQDLEHPQSSCGAPRILHGHTAIRP\n",
        "start"
       ]
      },
      {
       "output_type": "stream",
       "stream": "stdout",
       "text": [
        " 304 206\n",
        "idx1 287 idx2 188\n",
        "56 PRTEGSWPGRQQFENV-S PRAEGAHSGRHQFSIVPS\n",
        "start"
       ]
      },
      {
       "output_type": "stream",
       "stream": "stdout",
       "text": [
        " 267 563\n",
        "idx1 240 idx2 534\n",
        "51 FV-VRD-PVR-SL-SPSAGL-QVVQTKRVSTN FVPVSDPPGRTSLIS-S-GLAQ-KQSPQVNSS\n",
        "start"
       ]
      },
      {
       "output_type": "stream",
       "stream": "stdout",
       "text": [
        " 210 428\n",
        "idx1 161 idx2 371\n",
        "51 GLSL-S-S-L---SPV-SQSRVLIYNNISEPNPSLSKVPMRDG-E-A-SP-A-LH-CFSLRI GLRLESQSELYIASPIRS-SRS-IENPI--PGPHLSGASAKHGSEMVRSPSPCVHMCSS-KI\n",
        "start"
       ]
      },
      {
       "output_type": "stream",
       "stream": "stdout",
       "text": [
        " 377 399\n",
        "idx1 343 idx2 362\n",
        "51 KYP-HPGNSA--REM-DP-C-GLSGLNTVYLRSFVPSSMS K-PAQPGQPALKR-LSGPDITG-SGLHSGYLVSSGPSSKS\n",
        "start"
       ]
      },
      {
       "output_type": "stream",
       "stream": "stdout",
       "text": [
        " 121 554\n",
        "idx1 94 idx2 529\n",
        "52 SG-PG-YDRATN-ISLSRSSTDLALRSPES SGTPDLYD-ATSAVG-S-SNTD-P-RSSAS\n",
        "start"
       ]
      },
      {
       "output_type": "stream",
       "stream": "stdout",
       "text": [
        " 147 266\n",
        "idx1 58 idx2 171\n",
        "52 FCQTVS-S--MTK--QVSPNAR-VVPGH-GPPNLLEVQWRSSP-TDIDPQKSRTG-SKLP-ERAQRSQYP-CNPSSRV-Q-SNGSSNGSWN-ATYPEPKRATP F-RTVSHSLPM-KAYQ-GRAAHGAI-GHAGAPDSFPPPWSCGAHAGMNPEQERAATSSLPKGRAL-SGIPESSANIPVIEKSAEIARG-WAVAG-PHPK-GTP\n",
        "start"
       ]
      },
      {
       "output_type": "stream",
       "stream": "stdout",
       "text": [
        " 342 572\n",
        "idx1 304 idx2 532\n",
        "79 W-PISQSNSRGPLPLGNVV-QAS-S-IS-LDPRDSPR-MTTLPL WKAIS-ATSRGGI-VANMVTQSSQSPVSVL-A-SPPRELTNLPL\n",
        "start"
       ]
      },
      {
       "output_type": "stream",
       "stream": "stdout",
       "text": [
        " 142 504\n",
        "idx1 100 idx2 455\n",
        "61 CGTF-ESV--PQTFMEENVN--T-SQSPRTGPGSIRS-IAT-PGMSRGA-T CTSYAEGINAPQSW-EESISLASASHSP-SGSGSSRAQIISEVGLPHGPHT\n",
        "start"
       ]
      },
      {
       "output_type": "stream",
       "stream": "stdout",
       "text": [
        " 376 92\n",
        "idx1 344 idx2 59\n",
        "52 LEQSPP-ESNKGRSDDPNDSSVDEQVNPSTS-NT L-QGPSIELDNGKNDIHTERSGNQHLEPSTSHHT\n",
        "start"
       ]
      },
      {
       "output_type": "stream",
       "stream": "stdout",
       "text": [
        " 348 489\n",
        "idx1 333 idx2 470\n",
        "46 WR---TTMPDDGT-SPAMS WRVNVSTIPSSNTCSPSMS\n",
        "start"
       ]
      },
      {
       "output_type": "stream",
       "stream": "stdout",
       "text": [
        " 118 533\n",
        "idx1 89 idx2 501\n",
        "50 NR-P-GE-GVSEGPYALQVIGPPMIGR--PMSTS NREPSSEPGASQ-PWTLQV-DSRSTGRTVPPTTS\n",
        "start"
       ]
      },
      {
       "output_type": "stream",
       "stream": "stdout",
       "text": [
        " 356 711\n",
        "idx1 319 idx2 677\n",
        "56 GTRSTQSNDSGTSPSPVYLVKRASPVPKTRSVP--QSG-L G-RSKPRSDA-ASASPA--V-QASTMPQT-STPRRQNGTL\n",
        "start"
       ]
      },
      {
       "output_type": "stream",
       "stream": "stdout",
       "text": [
        " 364 852\n",
        "idx1 329 idx2 813\n",
        "66 RESG---SS-NWRSPSGYIMGD-QNGTANWSMFGPPNY--QT RASGNSTSSCDQRSPPAHINGEHQNASIN-A--SPPNYGEQT\n",
        "start"
       ]
      },
      {
       "output_type": "stream",
       "stream": "stdout",
       "text": [
        " 153 183\n",
        "idx1 135 idx2 161\n",
        "47 WS--TNEL-RPG-SEGRNTISD WSGETKDLGSPADADHRNTINN\n",
        "start"
       ]
      },
      {
       "output_type": "stream",
       "stream": "stdout",
       "text": [
        " 185 366\n",
        "idx1 132 idx2 320\n",
        "53 TPPESVLI-AVRKPEILCQQGIHPKSSLGSSTQPSVSR-YR--IS-TSGVLGTHT-PAN TPP--VFIRGVS-CNI-C--G-H--STLSAGKSP-V-RNYRGVITATAGS-G-NARPAS\n",
        "start"
       ]
      },
      {
       "output_type": "stream",
       "stream": "stdout",
       "text": [
        " 132 154\n",
        "idx1 88 idx2 107\n",
        "60 QGASDIAALRTFNTSND--SATKPARHITSQ--EPLDS-NGDR-HN-T-T-Q-S Q-ASAVTA---FNEENGMISA-NPS-H-TNQMINPIESASGSRGNNRTATLQVS\n",
        "start"
       ]
      },
      {
       "output_type": "stream",
       "stream": "stdout",
       "text": [
        " 418 721\n",
        "idx1 399 idx2 705\n",
        "44 TDSGSLAEITLPSPDGHLP TES-S-AEIAVSTGDGQ-P\n",
        "start"
       ]
      },
      {
       "output_type": "stream",
       "stream": "stdout",
       "text": [
        " 119 335\n",
        "idx1 72 idx2 293\n",
        "49 PSGYIRENRIESPTIWDFDTVYGNTVRSATSG-SR-QF-MSLEKV-QQQSQ PS-Y-R-HRIEG-A--DPASL--RAQQSEISGRSSVQYWV-LQNVYQQTSQ\n",
        "start"
       ]
      },
      {
       "output_type": "stream",
       "stream": "stdout",
       "text": [
        " 389 627\n",
        "idx1 381 idx2 620\n",
        "46 RITRNTRS RI-RNTRS\n",
        "start"
       ]
      },
      {
       "output_type": "stream",
       "stream": "stdout",
       "text": [
        " 24 579\n",
        "idx1 1 idx2 552\n",
        "38 QGIIRRTTCP-S--PSSRKNQ--PD-FEQ QG--RSTSSPESHLPSSPSTQLSSEAFAQ\n",
        "start"
       ]
      },
      {
       "output_type": "stream",
       "stream": "stdout",
       "text": [
        " 277 79\n",
        "idx1 231 idx2 23\n",
        "59 SGKA-AMIE-SQ---D-NGAPIQG--RPPL-QYNCYDYESNTQ-A-G-PQTSTISRTS SQKVQAMSDCSQSTRERNSHPI-GSSRGPMRQTSG-NNNSNLQTAHGSPTTTSISITS\n",
        "start"
       ]
      },
      {
       "output_type": "stream",
       "stream": "stdout",
       "text": [
        " 283 186\n",
        "idx1 265 idx2 167\n",
        "54 Q-QFASGSEPSNP-HSIT-DR QDQ-A-GTEPGHPDHSATYNR\n",
        "start"
       ]
      },
      {
       "output_type": "stream",
       "stream": "stdout",
       "text": [
        " 247 773\n",
        "idx1 203 idx2 727\n",
        "38 MI-A-HQYL-SLTV-RPSYLSGSYSFDCNFTLPNY-GMAP--WPNDPDASQ MVSPQHQWTPGLLVSRSSYLTHANKLGTKF--P-YGGQAPGIF-NSPGA-Q\n",
        "start"
       ]
      },
      {
       "output_type": "stream",
       "stream": "stdout",
       "text": [
        " 188 218\n",
        "idx1 150 idx2 171\n",
        "60 SVLVTRN-LS-M-IP-S--ASGNGIK-LPSSG--H-SAPSSSSINSQS SIVVSKNAMSALGIGLTHEANGSSANALPTATIHHLSSPSSSS-ESPS\n",
        "start"
       ]
      },
      {
       "output_type": "stream",
       "stream": "stdout",
       "text": [
        " 132 269\n",
        "idx1 102 idx2 242\n",
        "47 RQRDYIRP-P--QPKSQPPEVS-QEDMRLRPVRY R-REY-GPGPAIEPTS--PQ-SCQTN-RLK-VSY\n",
        "start"
       ]
      },
      {
       "output_type": "stream",
       "stream": "stdout",
       "text": [
        " 366 523\n",
        "idx1 344 idx2 499\n",
        "46 AITPH-Q-PS-SHITDASSSSVRTK AI-PSGQTPSPSKISGANGTSPRSR\n",
        "start"
       ]
      },
      {
       "output_type": "stream",
       "stream": "stdout",
       "text": [
        " 116 610\n",
        "idx1 95 idx2 585\n",
        "44 PRNFTNPG-KAQ-S-VQTDQ--NRAS PQQIAN-GKKQQGSNVHADQPNNPAS\n",
        "start"
       ]
      },
      {
       "output_type": "stream",
       "stream": "stdout",
       "text": [
        " 218 62\n",
        "idx1 195 idx2 36\n",
        "42 S-PEI-F---AMSNKEQLAH--RRPIEGSP SPPAILFSENAM-NRD-LTPKSKRP-E-SP\n",
        "start"
       ]
      },
      {
       "output_type": "stream",
       "stream": "stdout",
       "text": [
        " 201 617\n",
        "idx1 188 idx2 601\n",
        "42 LNE-MTTVVQ--QAPP LNEIMTQVEDNSQSPP\n",
        "start"
       ]
      },
      {
       "output_type": "stream",
       "stream": "stdout",
       "text": [
        " 391 604\n",
        "idx1 363 idx2 577\n",
        "55 AQRVIATTESVPWLNPY-E-A-KP-LQSNSSD ADR-I-SNGS-PWLN-YSSCASSAGLQSD-SD\n",
        "start"
       ]
      },
      {
       "output_type": "stream",
       "stream": "stdout",
       "text": [
        " 47 478\n",
        "idx1 19 idx2 452\n",
        "66 TD-RPLSPALSSETR-TPHWTGAPVHTERL TNLRPIG-AHSSYTRGT--WRGAPV-SEHL\n",
        "start"
       ]
      },
      {
       "output_type": "stream",
       "stream": "stdout",
       "text": [
        " 273 304\n",
        "idx1 238 idx2 267\n",
        "48 VIPNS-SIPDRQVPGRMD-TSGT-EIIELNL-G--V-NGGQQ VIANALS-PVRQSPD--DGSNGSPE-VQ-KLPGSFVTTSSQQ\n",
        "start"
       ]
      },
      {
       "output_type": "stream",
       "stream": "stdout",
       "text": [
        " 371 699\n",
        "idx1 331 idx2 663\n",
        "57 RANHRQTPLQMGESVPRIISLTV-RRIPGTQK-RGMQGSYIP RDGQSQSPLH---SHP--FSLVLDKRL-DSQGYRGLQGPYSP\n",
        "start"
       ]
      },
      {
       "output_type": "stream",
       "stream": "stdout",
       "text": [
        " 198 752\n",
        "idx1 186 idx2 739\n",
        "46 NV-TSGMLCQPQP HVSSSGIISQPQP\n",
        "start"
       ]
      },
      {
       "output_type": "stream",
       "stream": "stdout",
       "text": [
        " 46 550\n",
        "idx1 9 idx2 517\n",
        "52 VGGSMSPNIVETSSPPN-SSSRCNSGKPTGISESGSGH IGASLNAAI-Q---PPTLSSDR-KAGKPRGLTKPPFGH\n",
        "start"
       ]
      },
      {
       "output_type": "stream",
       "stream": "stdout",
       "text": [
        " 164 857\n",
        "idx1 133 idx2 830\n",
        "48 SLTDPNGMSKD-RMISPSITCSRIFPA-RS-QVN TLS-PGG-SIDGKM---SIA-SRI-ASIRPIQVS\n",
        "start"
       ]
      },
      {
       "output_type": "stream",
       "stream": "stdout",
       "text": [
        " 191 102\n",
        "idx1 156 idx2 66\n",
        "52 RGFSQTKNVLANQSYHPQNM-AV--GS-TRESLLQSFPI RG-S-TRGVRSESSFHPAHLEAVEAGSASR-SNAASYSI\n",
        "start"
       ]
      },
      {
       "output_type": "stream",
       "stream": "stdout",
       "text": [
        " 351 193\n",
        "idx1 333 idx2 177\n",
        "50 SQSNKF-IPVNLTHLSSVT SQ-N-LGIPVG-THPSSVS\n",
        "start"
       ]
      },
      {
       "output_type": "stream",
       "stream": "stdout",
       "text": [
        " 335 265\n",
        "idx1 315 idx2 240\n",
        "47 NS-SSGQISY--SS---SRGLSMQSN HSGNSGQLSNIQSSGDASQG-SMPSN\n",
        "start"
       ]
      },
      {
       "output_type": "stream",
       "stream": "stdout",
       "text": [
        " 383 439\n",
        "idx1 356 idx2 413\n",
        "43 SVSTHPIRGTPTTYSWMEL-IWITILPD SVGFHPPRAFPSSLTSM-LNV-IVILAN\n",
        "start"
       ]
      },
      {
       "output_type": "stream",
       "stream": "stdout",
       "text": [
        " 337 699\n",
        "idx1 249 idx2 607\n",
        "58 FSPSRD--VASRS-N-SLNY-L-NPKQVSDEYRRPDGKTRLEPTSTI-LQIMA-SN-NKRE--ESSITQPN-PQMP-RLEEPAPYSDVHEVSSSELSRPSH FEPDRSYPGASSSINCSVGFLLMN-ME-TEPFRSSQGGNG-EITSALGL-IPAQSDSSRRAFKHTGLSDSSWAESPIRLLE-AP-SQI-E-SGGE-GHPPH\n",
        "start"
       ]
      },
      {
       "output_type": "stream",
       "stream": "stdout",
       "text": [
        " 224 743\n",
        "idx1 205 idx2 724\n",
        "58 TKEMESSPIT-RNALAGKSQ TKEMLSTP-SHRSPLATKSH\n",
        "start"
       ]
      },
      {
       "output_type": "stream",
       "stream": "stdout",
       "text": [
        " 82 408\n",
        "idx1 46 idx2 372\n",
        "65 PGPLDPIQRGIARKK--SH-NSRPQSGD--RDMVNETAAVG P-PLESVQR-ISRNPFLSSGDA-PES-ECYRDL-HEASSVG\n",
        "start"
       ]
      },
      {
       "output_type": "stream",
       "stream": "stdout",
       "text": [
        " 185 259\n",
        "idx1 131 idx2 193\n",
        "49 TIKSG-A--TVH-G-YALR-I--TV-INAG--PGRAE-Q--DHQP-QEKS-PRGGPVPTSRSTL-KTPTMN TIQSGNAPPSLHRGDSPLRGVTSTIEIHIGTVQGRTDMRFVGHRPGQ-LSMPI-DRVP-NPS-LESTP-LN\n",
        "start"
       ]
      },
      {
       "output_type": "stream",
       "stream": "stdout",
       "text": [
        " 206 148\n",
        "idx1 168 idx2 111\n",
        "53 SSGLGYPSS-SL-SIGSAGPLRSS-V-MEGSIQ-VASSVTPDQ SSS-G-TSSISLGS-GNTAP-SSSGAPRSGS-QSICSS-TEDQ\n",
        "start"
       ]
      },
      {
       "output_type": "stream",
       "stream": "stdout",
       "text": [
        " 279 74\n",
        "idx1 260 idx2 57\n",
        "43 PEAIAMAPDDPVAPLPDAP PASISNAA-SPV-HLPDSP\n",
        "start"
       ]
      },
      {
       "output_type": "stream",
       "stream": "stdout",
       "text": [
        " 26 296\n",
        "idx1 1 idx2 272\n",
        "64 TRLAQAGQHGFPARNSSGVSSSNTS SRSSQ-GQSGFPSPAASGIDSPHTS\n",
        "start"
       ]
      },
      {
       "output_type": "stream",
       "stream": "stdout",
       "text": [
        " 157 780\n",
        "idx1 135 idx2 763\n",
        "40 PKWYLPAMIPETELPSSSSYLG P-W-LPS-VPPS--PTSPNLLG\n",
        "start"
       ]
      },
      {
       "output_type": "stream",
       "stream": "stdout",
       "text": [
        " 289 222\n",
        "idx1 233 idx2 166\n",
        "55 ENH-SANYSGVK-NSRRIGVR--PR-STVPQELG-IQEAYMEAYTAE-LGKSFGTTQRQNMTS DGHVSSSNSSRKANS-PV-ARWHPRDDTTPQASNPVESA-LSV-TSGIL--SFG-SHRGEMTS\n",
        "start"
       ]
      },
      {
       "output_type": "stream",
       "stream": "stdout",
       "text": [
        " 70 213\n",
        "idx1 11 idx2 147\n",
        "47 NSPG-PPRNMSTSRLR-TEGYLSMI-S-RKY-MTSRFS-R---S-QEVT-M--VS-IER-PLSQSTKGGGSAAP NGAGDPP-S-GNSR-RGTQ--L-LIPSPSSYFVGSPLSARHPASGHAATRMQDLSYSGRCP-GQTT-SGASSSP\n",
        "start"
       ]
      },
      {
       "output_type": "stream",
       "stream": "stdout",
       "text": [
        " 410 119\n",
        "idx1 393 idx2 105\n",
        "45 RLDLLGNSSIYQTRI-QH RM-LL-DSSIY-S-ILDH\n",
        "start"
       ]
      },
      {
       "output_type": "stream",
       "stream": "stdout",
       "text": [
        " 390 661\n",
        "idx1 372 idx2 647\n",
        "50 ST-RTGRSSGSVYSALVGL STLRT-R--GSV-S-LIGL\n",
        "start"
       ]
      },
      {
       "output_type": "stream",
       "stream": "stdout",
       "text": [
        " 291 92\n",
        "idx1 221 idx2 17\n",
        "80 AASSQ-S--N-GGSP-QP-SK-SPRYSI-GLKDNSQLLGREPSRMQQPLFIPRPSPMPPSSK--IRNARSEITS---TRTLRP AESSEPSVWSVAGSPTQRGSKTSPR-AVPG-PAMIVLFGRRPS-T-Q---ISHPEIMVPSSTGPISSPRGGIASNVYSR-LRP\n",
        "start"
       ]
      },
      {
       "output_type": "stream",
       "stream": "stdout",
       "text": [
        " 129 434\n",
        "idx1 86 idx2 388\n",
        "51 PKTLCSPHPSAY-R-TRMFSREN-RPELF-TQ--NLSVGVSPHPGGRLG PKYVSTPDAGAYSSYTRSFN-DNHHPHPSGTQESNPS-GPSSTPGS-LG\n",
        "start"
       ]
      },
      {
       "output_type": "stream",
       "stream": "stdout",
       "text": [
        " 416 222\n",
        "idx1 340 idx2 135\n",
        "65 SSTPTPMR-QPG-NM-P-TTYEESQR--RVAGNYTYSR--PEPN---GVQGCR-SDYVTFCQDFVS-PPFVDRENKS-GAPCR--RPS-V--LG-P SSSPLQ-RSSPGLKMDSRSPYYSSQRSARTAGTHTYLKYIAESNVTRGIQGAAGSEMIT--Q-F-SGQRF--R-NSSHSSP-RLGSASFVACLGRP\n",
        "start"
       ]
      },
      {
       "output_type": "stream",
       "stream": "stdout",
       "text": [
        " 210 153\n",
        "idx1 192 idx2 136\n",
        "57 WYLRLRQGIFPMERYGL-R WHWRRRQGVYAME--GLFR\n",
        "start"
       ]
      },
      {
       "output_type": "stream",
       "stream": "stdout",
       "text": [
        " 184 412\n",
        "idx1 164 idx2 391\n",
        "43 KSNLPVSTRP--ALATLSSSLR KSNLS-SLRPIDAFPQLSHSAR\n",
        "start"
       ]
      },
      {
       "output_type": "stream",
       "stream": "stdout",
       "text": [
        " 182 500\n",
        "idx1 152 idx2 474\n",
        "58 RTMESRQIIRRSIQSSMQHEHENGS-EGATV RGMHSSQTT-RSI-SA-Q--PESSSQEGTSV\n",
        "start"
       ]
      },
      {
       "output_type": "stream",
       "stream": "stdout",
       "text": [
        " 277 86\n",
        "idx1 250 idx2 60\n",
        "44 TLSPE-GPRSVQEPIQ--IGQHGGWNSPCP SLSHEAGGMAAAAP-QESIGM-GAW-S-CP\n",
        "start"
       ]
      },
      {
       "output_type": "stream",
       "stream": "stdout",
       "text": [
        " 343 281\n",
        "idx1 322 idx2 261\n",
        "45 APMSVMKQQP-QVNRPVRSRYP APVSTTPPQPFRGN-PVR-RTP\n",
        "start"
       ]
      },
      {
       "output_type": "stream",
       "stream": "stdout",
       "text": [
        " 272 768\n",
        "idx1 252 idx2 747\n",
        "48 ITLYS-SKGPA-SRL-QQTFQDI IT--SDSLGPILSRLCEESFHHI\n",
        "start"
       ]
      },
      {
       "output_type": "stream",
       "stream": "stdout",
       "text": [
        " 404 293\n",
        "idx1 367 idx2 255\n",
        "47 NMSL-SS-SITQ-ETEGKVRPLE--QPNDIPIGIQTGSAITN N-SLCSRMSMSQHNAKGTD-PLAPGEPNDVP-S-HSISALTS\n",
        "start"
       ]
      },
      {
       "output_type": "stream",
       "stream": "stdout",
       "text": [
        " 248 115\n",
        "idx1 158 idx2 34\n",
        "58 DESVINQTSYGQRSEYLNHIYNSFKIV-ARQEGHKDSQ-----SELEGPPGQRPNPRLSSVPSSN-HVVVDPSV-MHCVWSWQYRTSTQSKFE-T-PRPD DEPGIG-KSY-PSND-LN-I--SLKICKARL-GY-SSQTNRPSSQL-SPP-E-AS-QLSS--SSNCNECLAAAVGPN-A-A--YRMNSDSSYETTIPR-D\n",
        "start"
       ]
      },
      {
       "output_type": "stream",
       "stream": "stdout",
       "text": [
        " 373 273\n",
        "idx1 352 idx2 256\n",
        "52 QTTYNSQHSQ-LSPVSQGGVRG QTT-ASQ-SQALGA-S-GGV-G\n",
        "start"
       ]
      },
      {
       "output_type": "stream",
       "stream": "stdout",
       "text": [
        " 255 527\n",
        "idx1 242 idx2 511\n",
        "49 G-SPD-MAQPSST-DS GLAPNHSAQPSSTVDS\n",
        "start"
       ]
      },
      {
       "output_type": "stream",
       "stream": "stdout",
       "text": [
        " 394 582\n",
        "idx1 352 idx2 542\n",
        "52 TSAQAQRNMTWS-V--S-GRKESTSPRIEVSPLQ-H-VPGSISASSER TSGPSER-RA-SQVNSSIGSN-STS-R-EVSTMQLRPMP-SV--NTDR\n",
        "start"
       ]
      },
      {
       "output_type": "stream",
       "stream": "stdout",
       "text": [
        " 74 467\n",
        "idx1 50 idx2 444\n",
        "51 K-V-RITQIKSNLET-AQERFSAYELL KEVSR-SEI-SN-ESMGQE-FRKYTLL\n",
        "start"
       ]
      },
      {
       "output_type": "stream",
       "stream": "stdout",
       "text": [
        " 185 91\n",
        "idx1 160 idx2 68\n",
        "42 ERDRQSP-NNLDTVTSNSVETVELSR E-ERETPRHSLISHNSNTDE-VEF-R\n",
        "start"
       ]
      },
      {
       "output_type": "stream",
       "stream": "stdout",
       "text": [
        " 266 766\n",
        "idx1 191 idx2 692\n",
        "56 SRPQTGR-KRSAQLTPAPSPTEIEYYGISVFPAKVP-QSQKDRDPRESGSLTLIQNATPVP-GRSAM-DQ-LIWTVPSQG SAPQSSNAPRAAN-TPISCPHDVNYHGVSA-RATSPWAALY-RN--IS-SMYLVHGGPPSPESKEAMGERILIHISPSTG\n",
        "start"
       ]
      },
      {
       "output_type": "stream",
       "stream": "stdout",
       "text": [
        " 200 596\n",
        "idx1 150 idx2 551\n",
        "57 NSL-LQTSERMPRLVRHPFQSCAYDSPGELDGSAQPPVRYQQS-VVAQ-RAIV N-LDLQPSA--SH-VSRSFQSPSY-IRG-ME-SAVSP-SEDQSDVVERNRDIV\n",
        "start"
       ]
      },
      {
       "output_type": "stream",
       "stream": "stdout",
       "text": [
        " 89 841\n",
        "idx1 74 idx2 827\n",
        "45 YSENNQVLVGPCASS YTPNHVVLI-SCASS\n",
        "start"
       ]
      },
      {
       "output_type": "stream",
       "stream": "stdout",
       "text": [
        " 223 794\n",
        "idx1 178 idx2 740\n",
        "54 SMSQA-RP-S-NP-SQ-I-GCPE-PR--PLG-TQMEVEMQVPRPLPDSNRDI-P-NT SKVQASRPVSTSPNTMTITASPESPRHAPINWSLVTVELDHASP-P-GN-NVSPANS\n",
        "start"
       ]
      },
      {
       "output_type": "stream",
       "stream": "stdout",
       "text": [
        " 161 739\n",
        "idx1 141 idx2 716\n",
        "49 NA--NARVGNHGPP-SNSNQVAL NAKVHAHVGPRGGHLSNSSQAAL\n",
        "start"
       ]
      },
      {
       "output_type": "stream",
       "stream": "stdout",
       "text": [
        " 211 144\n",
        "idx1 171 idx2 108\n",
        "52 ANAESYPSNCISNLETSPGPYLRLAG-GNVS-QEDPSQGDNE AASQDY-AK-ISNADVSSSNY--I-GQSEVAMQEDLSQAD-E\n",
        "start"
       ]
      },
      {
       "output_type": "stream",
       "stream": "stdout",
       "text": [
        " 337 846\n",
        "idx1 313 idx2 827\n",
        "43 DPPNLVSNQSRFGMIGSWPDSDTL DVPNLVRGGSR---IQNWV-SD-L\n",
        "start"
       ]
      },
      {
       "output_type": "stream",
       "stream": "stdout",
       "text": [
        " 238 138\n",
        "idx1 214 idx2 114\n",
        "41 PR--ERE-GKQSRESCSRVPKWNPIS-L PRSLE-EKAMQS-ASSSS-PN-NPVAPL\n",
        "start"
       ]
      },
      {
       "output_type": "stream",
       "stream": "stdout",
       "text": [
        " 322 185\n",
        "idx1 303 idx2 169\n",
        "49 TSVPLFISSGAEVSLP-PNR SSVPL-I--GGESS-PSPNK\n",
        "start"
       ]
      },
      {
       "output_type": "stream",
       "stream": "stdout",
       "text": [
        " 263 363\n",
        "idx1 150 idx2 255\n",
        "70 DSPSYSQMDTDKGTYVPSDRYQFRL--ISSPRG-PSS-VM--PINQDRADNGPGAQGKC--RDS-REAA-MVSHKSIPTEPGNSPS-NWSTTLPR-RMFHTLIRSRYGITVHRCGRTRTRAPDQV ES-SYS-FSSD-AS-SP-HRF-LRLDPFASVAGSPSSTIMAGP-AQ-SGEK-P-ARGLCTTRASFGEVACTTELDSTARQP-SSASYN-SQKVSSCRL-QT-AHSRHPSTT-R-LRSRA-ASNQV\n",
        "start"
       ]
      },
      {
       "output_type": "stream",
       "stream": "stdout",
       "text": [
        " 152 339\n",
        "idx1 117 idx2 306\n",
        "55 TMKSTNCVGATFDKHSACIVVNIMTSQ---SGTLNGSP TM-SYN--EADLD-NSASTVIGILTHQADFSGTYN-TP\n",
        "start"
       ]
      },
      {
       "output_type": "stream",
       "stream": "stdout",
       "text": [
        " 366 746\n",
        "idx1 346 idx2 724\n",
        "49 QSRSWEDPSQ-TII-TSNGTF-H QSRS-PDPAKSSVIRLSEPTFLH\n",
        "start"
       ]
      },
      {
       "output_type": "stream",
       "stream": "stdout",
       "text": [
        " 230 448\n",
        "idx1 211 idx2 431\n",
        "56 RSRSLALAPVWTVQNVQRK R-RSFS-TPISPIQNVHRK\n",
        "start"
       ]
      },
      {
       "output_type": "stream",
       "stream": "stdout",
       "text": [
        " 253 653\n",
        "idx1 227 idx2 631\n",
        "49 PQ-RPITASTSQFGSETVVELPSSV-PL PQPR-IT-GASQ-GSNA--S-PGSVSPM\n",
        "start"
       ]
      },
      {
       "output_type": "stream",
       "stream": "stdout",
       "text": [
        " 238 624\n",
        "idx1 181 idx2 576\n",
        "59 SVEP-ERPRNSAPIQS---TCMSGSELQTLKSQSISRRNSRMSDEGGDFGSERKSSVTRGQ SI-PYEHPRE-IP-QTFRLT-LS-S-LH--K-QCISSSNS--SNLGASSG-HRRGS-SPGQ\n",
        "start"
       ]
      },
      {
       "output_type": "stream",
       "stream": "stdout",
       "text": [
        " 395 122\n",
        "idx1 370 idx2 94\n",
        "45 TP-QQ--ARIRSG-SP--SWSIIIRIGQMPH SPHQQVGGQ-RSGLSPFIS-SRIER-AQSPN\n",
        "start"
       ]
      },
      {
       "output_type": "stream",
       "stream": "stdout",
       "text": [
        " 333 402\n",
        "idx1 268 idx2 340\n",
        "42 RMLHWNMNNLILPQPPQLI-QT-Q-SM-YDYPN-TGRYP-MSLSDRKSP-WDDTPSNRALR-ENS-TNSSTLRS RLLP-SMSN-I-GQ--QGVGATSLFSKHYNYANVTT--PKMS-S---VPCHTNSPKGPA-RNANSFTPSDTFSS\n",
        "start"
       ]
      },
      {
       "output_type": "stream",
       "stream": "stdout",
       "text": [
        " 63 149\n",
        "idx1 37 idx2 125\n",
        "45 PAAEYSGHPYEVTSRQI-QRNIS--QSLT PDAHYSG-P-DI-A--ISQSKESAQQSLT\n",
        "start"
       ]
      },
      {
       "output_type": "stream",
       "stream": "stdout",
       "text": [
        " 129 415\n",
        "idx1 110 idx2 394\n",
        "50 TGQQ-S-GIRPE-GQSRAQSIS TSQDPSAGSRPASSQSRS-SIT\n",
        "start"
       ]
      },
      {
       "output_type": "stream",
       "stream": "stdout",
       "text": [
        " 412 822\n",
        "idx1 356 idx2 753\n",
        "49 MER-NVAY-IP----ALH-T-ANSSSDGVRYTPPSTQDG-FEDR-ETGGRTGD-N-TRPL--E-STRTYQP MAQLSPPYSIPAGNSALSFTIAN-RSDG-SESQRSAPEGWFDIRLVSGNHNGEREGSPPLTEERGPRTFRP\n",
        "start"
       ]
      },
      {
       "output_type": "stream",
       "stream": "stdout",
       "text": [
        " 118 509\n",
        "idx1 33 idx2 423\n",
        "66 HPV-TPQSAYPP-TYRV-VTSGAGPEESSFGGPYQS-Q-L-VTEPF--MHQLAGRFKGGMVDVYTNMRVSNLAPM--VRNRQQNQSSI-Q-RPSRDS HSVMTPLSARASLALPISSSSAASPAKANF--PFLSNDGFCVSQPLCNSHPY-GEYKGG-GEV--NIVVS-MSPTGSVRS--AN-SSIAPSHPSR-S\n",
        "start"
       ]
      },
      {
       "output_type": "stream",
       "stream": "stdout",
       "text": [
        " 279 474\n",
        "idx1 244 idx2 440\n",
        "53 EGSYHSSSSNTMQSST-TQLQN-SPTF-PWDLGGDSYR DSAYEASSSN-VEVAILSQRHNQSP-FHP-QVDADS-R\n",
        "start"
       ]
      },
      {
       "output_type": "stream",
       "stream": "stdout",
       "text": [
        " 249 472\n",
        "idx1 204 idx2 429\n",
        "73 DSDVTDQLTVSPACEINSINPAAEPMSTNQ--PDGHKGDSGVT-EQQ-R NSEVTE--CVSNA-ATASL-PSAEAQSSNRSKSNGHN-DGG-TRSQQCR\n",
        "start"
       ]
      },
      {
       "output_type": "stream",
       "stream": "stdout",
       "text": [
        " 228 839\n",
        "idx1 172 idx2 777\n",
        "51 P-VRNS-KQCDTGIYG--EIEKIMQTNQNS-SCTLQYT-ALP-S-DPPTYGSPRV-S-W--SPYRPDY PGVLNSLAQSNSAI-GKAEQEQINSSSQDSYS-T-PTTNAHPKTRRSPA-GSPFLSSPWIGGP--PDY\n",
        "start"
       ]
      },
      {
       "output_type": "stream",
       "stream": "stdout",
       "text": [
        " 88 26\n",
        "idx1 77 idx2 16\n",
        "44 PRLGISPSGSS P-LGLSSSGSS\n",
        "start"
       ]
      },
      {
       "output_type": "stream",
       "stream": "stdout",
       "text": [
        " 328 636\n",
        "idx1 277 idx2 583\n",
        "58 GLRI-P-TQIT-EPLN-QAVSQATNRRLNI-NTLTRRP-E-Y-EDFPSETSSNHPSSTP GLKIGGIAPITSNPADIQAVPGAPS-R-GVYN-LSRQSLEQYPQAGPS--STAHQ-SAP\n",
        "start"
       ]
      },
      {
       "output_type": "stream",
       "stream": "stdout",
       "text": [
        " 226 721\n",
        "idx1 202 idx2 700\n",
        "46 GISSTRSQGDREMVAEPASSSD-TP GISHNRS--T-EMVT-SGSSKDGNP\n",
        "start"
       ]
      },
      {
       "output_type": "stream",
       "stream": "stdout",
       "text": [
        " 156 549\n",
        "idx1 69 idx2 468\n",
        "60 E-LRRPHLSFNSCRIEYSARM-TPVPSQSHTSEKRIPDNRSRAGTKVSGGPMLGFLPMCQA-LVVQ-T-R-I-RGPDS-LTVAGRNQTRGAQETV EILKWSRLA-NHC-YE-TAKICVHTPS-GHQAEAHIPANQSRV-T--T-GP--G-VGTSQARLGSNASNREISSGSASTLSVRG-IET-GESE-V\n",
        "start"
       ]
      },
      {
       "output_type": "stream",
       "stream": "stdout",
       "text": [
        " 413 59\n",
        "idx1 401 idx2 46\n",
        "47 ERSATSPES-FRV EHSPTSPASAFSV\n",
        "start"
       ]
      },
      {
       "output_type": "stream",
       "stream": "stdout",
       "text": [
        " 397 797\n",
        "idx1 356 idx2 752\n",
        "47 RV-NSEQKRLYNNTRETANI-YWP--STK--Q-E-LSPTAFDIS-DPE-VR RAQNRDQ--L--HARDS-NEQYWPTYTTKFSRSSPLSSTE-SVSPKPACVR\n",
        "start"
       ]
      },
      {
       "output_type": "stream",
       "stream": "stdout",
       "text": [
        " 108 642\n",
        "idx1 69 idx2 609\n",
        "44 SPP-PSAQLPQERLPKYESTAIRMNRTGRSGS-YISLY--GMP SPSLPSA--S-E--PK---THLR--RQGRSSSPTISSYDLGKP\n",
        "start"
       ]
      },
      {
       "output_type": "stream",
       "stream": "stdout",
       "text": [
        " 25 516\n",
        "idx1 13 idx2 503\n",
        "44 PQG-THSENSPTS PQNLTASDNSPVS\n",
        "start"
       ]
      },
      {
       "output_type": "stream",
       "stream": "stdout",
       "text": [
        " 289 724\n",
        "idx1 260 idx2 694\n",
        "56 SSIDIQMKYNL--RDTQPAGPRN-IPSRGPSS STIDM-MDFSKCSR-TRPTSPQGYFPIRGSSS\n",
        "start"
       ]
      },
      {
       "output_type": "stream",
       "stream": "stdout",
       "text": [
        " 287 488\n",
        "idx1 258 idx2 457\n",
        "54 SLFRASPCV-SQ-LSLD-IL-WALQQLWTPSSR SL-RASPSVLTRAFA-DGTLIWIVQPLSYPNGR\n",
        "start"
       ]
      },
      {
       "output_type": "stream",
       "stream": "stdout",
       "text": [
        " 326 468\n",
        "idx1 285 idx2 424\n",
        "49 TPGT--KSQL--GEQ-NGEP-RT-DVGLYNSVVHR-PTP-ATQLSSALRI TPGSAAKSALMNGTQWH-MPLITADLNLY-S-VRKFSSPIETR-SS-L-I\n",
        "start"
       ]
      },
      {
       "output_type": "stream",
       "stream": "stdout",
       "text": [
        " 125 539\n",
        "idx1 96 idx2 514\n",
        "51 DSFVSIVNSSQSGIASLGPLG-AQSDSYSE NGF-ST-SSPQSATAP--P-GSAHSKRYSE\n",
        "start"
       ]
      },
      {
       "output_type": "stream",
       "stream": "stdout",
       "text": [
        " 37 317\n",
        "idx1 16 idx2 292\n",
        "47 LIS-GNL-VS-AARTPLNF-ESRRH LISDGPLDSSMASKGPLAYCESSRN\n",
        "start"
       ]
      },
      {
       "output_type": "stream",
       "stream": "stdout",
       "text": [
        " 63 291\n",
        "idx1 45 idx2 275\n",
        "46 GRSPSDRNNPEPKGVSAL GQSITNR--PENKAVSAL\n",
        "start"
       ]
      },
      {
       "output_type": "stream",
       "stream": "stdout",
       "text": [
        " 156 157\n",
        "idx1 123 idx2 130\n",
        "45 R-IRNIM-ANSQSGQKLICYHMIRSEISQIYSQRP RSLR-VMVAPGQS-Q-LV--HS-RPS-SNI-DQHP\n",
        "start"
       ]
      },
      {
       "output_type": "stream",
       "stream": "stdout",
       "text": [
        " 330 451\n",
        "idx1 316 idx2 438\n",
        "51 SSVSSQRFQVPIIQ SS-SSQPFQVSQIE\n",
        "start"
       ]
      },
      {
       "output_type": "stream",
       "stream": "stdout",
       "text": [
        " 266 673\n",
        "idx1 247 idx2 653\n",
        "50 SSTKP-ACCGER-T-RNYRYSE NSARPEA-CGHRGTYRSLRY-E\n",
        "start"
       ]
      },
      {
       "output_type": "stream",
       "stream": "stdout",
       "text": [
        " 338 455\n",
        "idx1 313 idx2 430\n",
        "43 MEGSSHLSGYRASQNQQ-NHFVSMLG MAGNSHV-GYNLSMPGEFKQFIWMYG\n",
        "start"
       ]
      },
      {
       "output_type": "stream",
       "stream": "stdout",
       "text": [
        " 348 431\n",
        "idx1 313 idx2 399\n",
        "47 TSHGISRVA-VGGESSTTAFSQRDVGSPTVGSSSPV SSN-I-RTAPTPSPNSTRA--QSAIGLPIVGSSNHV\n",
        "start"
       ]
      },
      {
       "output_type": "stream",
       "stream": "stdout",
       "text": [
        " 271 454\n",
        "idx1 230 idx2 418\n",
        "78 SESQGLPESSGSTTSRSSS-S-PGQPDARVPLTIPTVELSS-PI SISEG-P-AGGSQT-RSASDNKPG-P-PRVS-QLPA-E-SSTPI\n",
        "start"
       ]
      },
      {
       "output_type": "stream",
       "stream": "stdout",
       "text": [
        " 42 833\n",
        "idx1 23 idx2 809\n",
        "46 SQ-A-NP-D-PQCL-MTYPLLESS SQHATDPLSLPTALAMKYPYIESS\n",
        "start"
       ]
      },
      {
       "output_type": "stream",
       "stream": "stdout",
       "text": [
        " 305 222\n",
        "idx1 277 idx2 197\n",
        "50 GQSSMSQTMQTHSGDG-AQNMRTGGFMR-V GQRSTS-AMMLH--DGPAQ-MSNGVY-RHV\n",
        "start"
       ]
      },
      {
       "output_type": "stream",
       "stream": "stdout",
       "text": [
        " 117 116\n",
        "idx1 78 idx2 80\n",
        "50 TENSHQ-KEEI-RLH--NMRQSLNPQQPSNTSMGLCDSNAPAV TDTTQQPKSGIER-HEYN-RGDLSV--SSSSSM-L-NTAAP-V\n",
        "start"
       ]
      },
      {
       "output_type": "stream",
       "stream": "stdout",
       "text": [
        " 349 76\n",
        "idx1 297 idx2 30\n",
        "60 IDYGIWSIETSEGVTMEEFTRRSVLRVGTRPAG-AISQTC-SNQSDISTQHSKL IDYGM--IMPC-GATM-E-SIRP-LR--KLPEQHQVTDVCSSNEDDASTSNRKL\n",
        "start"
       ]
      },
      {
       "output_type": "stream",
       "stream": "stdout",
       "text": [
        " 55 398\n",
        "idx1 23 idx2 371\n",
        "59 ENSPSPPPSVWGAVSTIPTSSRGSQWLQLSSI QNTDGPPP--WGA-SQ-HTAGRDLHW-SLSPI\n",
        "start"
       ]
      },
      {
       "output_type": "stream",
       "stream": "stdout",
       "text": [
        " 306 751\n",
        "idx1 270 idx2 713\n",
        "47 FNVGSEHMQRP-QPRRVLHDRGSDQQSSSA-G-MNSDST FLV-STPKQVPVQPSPIFPNPENDSTSSEAPGDVQSDST\n",
        "start"
       ]
      },
      {
       "output_type": "stream",
       "stream": "stdout",
       "text": [
        " 139 330\n",
        "idx1 73 idx2 261\n",
        "54 G-SGT-QVTSMEYN--VVNEITPLSGV-PM-QTR-LAIENGLP-T-TGS-Y---SGTPIIQLEPVGAQNNSKVSSPQTR GWS-TQQVSALE-NEGILNGIEAL--VTAMISAHGLGDQNNVTNIFTGSPYHTSSSTTAI-L----SEHESDV-SPQSR\n",
        "start"
       ]
      },
      {
       "output_type": "stream",
       "stream": "stdout",
       "text": [
        " 123 596\n",
        "idx1 92 idx2 559\n",
        "57 V-KNGIT--TPSEPVSRRSG-WAR--PMINQ-ATLRMG VPKLGMTPRTPAERV-HPLGKWSSTPPLMSQCAVIRMG\n",
        "start"
       ]
      },
      {
       "output_type": "stream",
       "stream": "stdout",
       "text": [
        " 193 813\n",
        "idx1 159 idx2 780\n",
        "48 SINPKSTYSIIRSSYLTGQPEQLREM-SS-VHESSL SIKPTLTCS-LRSVFTTGLSEA-SELFTSPI-GSSL\n",
        "start"
       ]
      },
      {
       "output_type": "stream",
       "stream": "stdout",
       "text": [
        " 411 606\n",
        "idx1 384 idx2 584\n",
        "48 PICGQENGPLQ-GTNREQNSPTSEQRGG PTC--ENG-IQGGSGYE-NSP-S-PRPG\n",
        "start"
       ]
      },
      {
       "output_type": "stream",
       "stream": "stdout",
       "text": [
        " 219 17\n",
        "idx1 203 idx2 2\n",
        "46 V-PDLNTLHPPGLNANG VRP-VST-HPPSLSAAG\n",
        "start"
       ]
      },
      {
       "output_type": "stream",
       "stream": "stdout",
       "text": [
        " 198 231\n",
        "idx1 167 idx2 205\n",
        "48 SSCCMRSQNAAVTRLTVKSRN-PIFPSSTGPT SS-C-RF-GTSVGR--VGSANAP-FPSSFEPT\n",
        "start"
       ]
      },
      {
       "output_type": "stream",
       "stream": "stdout",
       "text": [
        " 242 703\n",
        "idx1 228 idx2 688\n",
        "45 PIHTSSAPG-RAP-NV PIHISNE-GCRTPVSV\n",
        "start"
       ]
      },
      {
       "output_type": "stream",
       "stream": "stdout",
       "text": [
        " 130 753\n",
        "idx1 99 idx2 720\n",
        "52 PVLLHEPRS-CVTE-YSD---GPQAKHISEP-PDSR-S PV-LQE-RSASISGIYSATVRG-QSS--STPQPDSRFS\n",
        "start"
       ]
      },
      {
       "output_type": "stream",
       "stream": "stdout",
       "text": [
        " 133 31\n",
        "idx1 106 idx2 0\n",
        "49 LAKCPRNIPSP-TQDI--S-MIGPRAMG-SSM LPRSPQHIASSHSQ-IVESARVSPAAIGLASM\n",
        "start"
       ]
      },
      {
       "output_type": "stream",
       "stream": "stdout",
       "text": [
        " 367 599\n",
        "idx1 336 idx2 572\n",
        "44 GEVS-EGTMSAHSSIVPGQKQVSRGHAIGDWS GEVSPAG--PANCSTMSSPK--S-GGAEGNWS\n",
        "start"
       ]
      },
      {
       "output_type": "stream",
       "stream": "stdout",
       "text": [
        " 394 206\n",
        "idx1 373 idx2 185\n",
        "47 YSDL-NS-QGASTPPDSLQV-ERQ YSDLYKPLQ-ESS-P-SLRIAESQ\n",
        "start"
       ]
      },
      {
       "output_type": "stream",
       "stream": "stdout",
       "text": [
        " 420 451\n",
        "idx1 392 idx2 421\n",
        "62 ISYSTTPRHRNTISGQSTYR--MASAG-M--QP ISYS-IPRNRSA-SPEP-YSIDMTSSGPISEQP\n",
        "start"
       ]
      },
      {
       "output_type": "stream",
       "stream": "stdout",
       "text": [
        " 265 152\n",
        "idx1 236 idx2 118\n",
        "50 ADQ-N-DPTV--QRAATDAPSRRERI--MNSQESR ADQTHRTPSVSWTRSPAAVPLRHA-IEGMNPEQSR\n",
        "start"
       ]
      },
      {
       "output_type": "stream",
       "stream": "stdout",
       "text": [
        " 60 426\n",
        "idx1 15 idx2 378\n",
        "52 SERTDATTV-P---SAPGTPERYSEMMV-RSN--SGE-AQSTGVMPNLSPVAF SGRT-STTVRAERQSNPGSP-S-S-IKIDQSNCGSGPLSRGTG-RPTSSPSPF\n",
        "start"
       ]
      },
      {
       "output_type": "stream",
       "stream": "stdout",
       "text": [
        " 326 443\n",
        "idx1 287 idx2 411\n",
        "55 NGLSWQGKSISS-NQEPEGSHPPDGNPPHDYQ-EFVSNDSI NGIA-IGKSISSISM-PQAS-ASNG-PTNE-QIE--S-D-I\n",
        "start"
       ]
      },
      {
       "output_type": "stream",
       "stream": "stdout",
       "text": [
        " 96 222\n",
        "idx1 66 idx2 192\n",
        "49 SVPPNSGELANI-ETYT-MPTLSTNNVHL-RCP SVPP-VGS-PSVLDTSTDIVSMSTSHVLLMR-P\n",
        "start"
       ]
      },
      {
       "output_type": "stream",
       "stream": "stdout",
       "text": [
        " 392 647\n",
        "idx1 320 idx2 571\n",
        "66 NQRQSLKVGSNCIPSPSRRDGSSRLKEW-MP-VRGE-GLYECQGEKQENS-SRFR--E-Q-LSYQGQFS-NP-LLS-PH-SEQP NPR-S--VGSS---SNSIRSTSVRVNSWPAPQSQGEQTLSESQVES-ANGQSSFHGSESQSLATHGHISHHAKILGY-HDSDNP\n",
        "start"
       ]
      },
      {
       "output_type": "stream",
       "stream": "stdout",
       "text": [
        " 183 805\n",
        "idx1 163 idx2 784\n",
        "48 GGRE-TNSHPSQDSM-HASEMI GQRHPTKSHLSQNNLHHRS-MV\n",
        "start"
       ]
      },
      {
       "output_type": "stream",
       "stream": "stdout",
       "text": [
        " 220 255\n",
        "idx1 200 idx2 235\n",
        "52 GN-INTSQYGP-QNSIAAQGFN GNDISSSQY-PLQQ-LVSQAIN\n",
        "start"
       ]
      },
      {
       "output_type": "stream",
       "stream": "stdout",
       "text": [
        " 151 844\n",
        "idx1 125 idx2 815\n",
        "45 TYRTLPQMEGSPQL-N-IN--YGSR-SSQLS TFRGNSSMQSAPQLRKYKNPSYG-RTSSE-S\n",
        "start"
       ]
      },
      {
       "output_type": "stream",
       "stream": "stdout",
       "text": [
        " 368 76\n",
        "idx1 320 idx2 26\n",
        "52 QISNPNIPQQEDNRSYS-GK-N-GAGNTKRGS-G-PTPLSSNARVAPQELRPE QSSTTHMGQQ-DSRSSSPGNQHGGTGSAHSDSHALASPLSLPG-VGSSDL-PE\n",
        "start"
       ]
      },
      {
       "output_type": "stream",
       "stream": "stdout",
       "text": [
        " 418 195\n",
        "idx1 397 idx2 173\n",
        "51 IPTTQ-T-PKSNQRIR-RGYL-GQY IATTQRILA-SNQR-RASG-LSGAY\n",
        "start"
       ]
      },
      {
       "output_type": "stream",
       "stream": "stdout",
       "text": [
        " 131 726\n",
        "idx1 96 idx2 694\n",
        "50 MLSS-RVRMQGQLTNSSGFISLPT-NGSIGGGPSTQE MLSSLRLIVVGEL--ST-LI-LPNFSNPV-GSPAKDE\n",
        "start"
       ]
      },
      {
       "output_type": "stream",
       "stream": "stdout",
       "text": [
        " 42 179\n",
        "idx1 29 idx2 164\n",
        "43 HLRLSS--NGA-GSES HLK-SSPHNGAPGSNS\n",
        "start"
       ]
      },
      {
       "output_type": "stream",
       "stream": "stdout",
       "text": [
        " 233 294\n",
        "idx1 204 idx2 259\n",
        "51 GTVQPRAPSG-GVT-PSF-N-A-PQQ-HIR--SSAQG G-IQPNSARGASVIWPSARDRALPQQGR-RSTSSAEG\n",
        "start"
       ]
      },
      {
       "output_type": "stream",
       "stream": "stdout",
       "text": [
        " 365 201\n",
        "idx1 264 idx2 115\n",
        "49 RSLMS-SDVVPPWTNGGICSCSSLRNTRNYPVEGIGQLSTTSPEMQTLLSTAKPMDSKLDQMICAMLSEGPQ-MRFAPEWPNASTIDT-MAPQN-SVQDT-GPLNP RSL-SPSN---PWLGADL-ACGS-RNAAGFAAADPSHV--TEPEARE-VS---P-NPRL--M--T-LNIGSHALR-AGSSPSTSSSSSAQAPMAYSVQNSHAPL-P\n",
        "start"
       ]
      },
      {
       "output_type": "stream",
       "stream": "stdout",
       "text": [
        " 326 115\n",
        "idx1 314 idx2 105\n",
        "49 SNRLGTAWRGGM SNQ-D-AWRGGM\n",
        "start"
       ]
      },
      {
       "output_type": "stream",
       "stream": "stdout",
       "text": [
        " 188 387\n",
        "idx1 158 idx2 359\n",
        "60 QPQ-NSQRPLASVEA-GLQGDPPPGWTGS-TSR QPNINCAKP--TVIANAL---PPPSWTGNLKSR\n",
        "start"
       ]
      },
      {
       "output_type": "stream",
       "stream": "stdout",
       "text": [
        " 178 118\n",
        "idx1 167 idx2 108\n",
        "42 SAASTPEYSAQ SAPSAP-FSAQ\n",
        "start"
       ]
      },
      {
       "output_type": "stream",
       "stream": "stdout",
       "text": [
        " 194 524\n",
        "idx1 182 idx2 513\n",
        "47 SSSQTGMTYSPV SSSQS-MNLSPV\n",
        "start"
       ]
      },
      {
       "output_type": "stream",
       "stream": "stdout",
       "text": [
        " 343 713\n",
        "idx1 335 idx2 706\n",
        "41 CTSPSSRM CSSPSS-M\n",
        "start"
       ]
      },
      {
       "output_type": "stream",
       "stream": "stdout",
       "text": [
        " 140 416\n",
        "idx1 115 idx2 389\n",
        "43 Y-PFN-MWIGI-Q-SGSEQPYPKDI--HALP YSPTSPM-TGICTVTGAEQ--P-NIRSHSLP\n",
        "start"
       ]
      },
      {
       "output_type": "stream",
       "stream": "stdout",
       "text": [
        " 254 130\n",
        "idx1 236 idx2 111\n",
        "42 EESTS-SVC--N-WLRSLSGPV QESSSRSYCSRNHW--SLTG-V\n",
        "start"
       ]
      },
      {
       "output_type": "stream",
       "stream": "stdout",
       "text": [
        " 147 126\n",
        "idx1 122 idx2 104\n",
        "45 GGPEDPQTSRV-PIAYTQK-SGPIYMS GNPID-Q--RVAPIS-AKKNTGSI-LS\n",
        "start"
       ]
      },
      {
       "output_type": "stream",
       "stream": "stdout",
       "text": [
        " 308 749\n",
        "idx1 279 idx2 721\n",
        "49 NNALQKNAT-QSREEQRNQMTSNRNM-S-QVP SSGLNK-ATLQPH-AQRA-L-SNRSVNSRQSP\n",
        "start"
       ]
      },
      {
       "output_type": "stream",
       "stream": "stdout",
       "text": [
        " 402 349\n",
        "idx1 365 idx2 319\n",
        "74 PSYTTSSGGTLPELPTLTG-IQGQDSNPTGAAASDEGT PSYSSGAGGIL-EL--LTGPIP-QIS---GVAAS-EST\n",
        "start"
       ]
      },
      {
       "output_type": "stream",
       "stream": "stdout",
       "text": [
        " 323 114\n",
        "idx1 305 idx2 97\n",
        "43 GPSNLNNFST-ASGP-GGRH G-SN-GN-DTRSSGPRGERH\n",
        "start"
       ]
      },
      {
       "output_type": "stream",
       "stream": "stdout",
       "text": [
        " 164 133\n",
        "idx1 97 idx2 68\n",
        "43 YGSM-KGDLPNITKI-PEEQGSV-GPLKQPVRASKLECGGNGL-DNL-GKPHSF-LRSI-RSRSTGSLTLTENN YGSPYGGDLGDVQIICPAKHSSPKGP-K-SIR-SR--RASRPLIHSLAGEQH-FAYR-LGSSPSIGN-T-TQKN\n",
        "start"
       ]
      },
      {
       "output_type": "stream",
       "stream": "stdout",
       "text": [
        " 23 46\n",
        "idx1 7 idx2 29\n",
        "49 YQSLVMMGGMAAV-PSP YQSLQLSGGKSPVLPCP\n",
        "start"
       ]
      },
      {
       "output_type": "stream",
       "stream": "stdout",
       "text": [
        " 324 506\n",
        "idx1 288 idx2 462\n",
        "48 QG--RPNGAPPS-EV-EHTPRTLVAIASEPN-R--S---R-IYIVL-V QGDNRPS-VSGSQQVIQDRP-T-VPIGS-SNVRSISLQGRQITIVLNV\n",
        "start"
       ]
      },
      {
       "output_type": "stream",
       "stream": "stdout",
       "text": [
        " 134 825\n",
        "idx1 119 idx2 809\n",
        "44 LLTPGKQAGSRQ-PT-R LL-PGAQPSSRHLPNGR\n",
        "start"
       ]
      },
      {
       "output_type": "stream",
       "stream": "stdout",
       "text": [
        " 226 657\n",
        "idx1 206 idx2 641\n",
        "40 SC-AGTGSPSPPWLGQVMSKR SCSSATGS-G-PWV-Q--SSR\n",
        "start"
       ]
      },
      {
       "output_type": "stream",
       "stream": "stdout",
       "text": [
        " 197 75\n",
        "idx1 166 idx2 39\n",
        "64 PW-EPGFE-PSVRVQMLQ-RP-QQRM-FDF-KLSDAQ PWFEA-IARPSIRLQVIHGDPSQQRTEYVFHTLSQPE\n",
        "start"
       ]
      },
      {
       "output_type": "stream",
       "stream": "stdout",
       "text": [
        " 202 756\n",
        "idx1 179 idx2 730\n",
        "44 IAGVN-A-LIECGMMPS-GGSNSC-FQ IGG-NTANLVESTSPPSAGGSKSITFH\n",
        "start"
       ]
      },
      {
       "output_type": "stream",
       "stream": "stdout",
       "text": [
        " 110 174\n",
        "idx1 77 idx2 139\n",
        "52 CGSGGTSR-AKR-GIPVA-PESPRNY-L-SPNIRQTID CSSAG-SRQPGHMGRDVANPEPP-SYGSGSRDIKQ-IN\n",
        "start"
       ]
      },
      {
       "output_type": "stream",
       "stream": "stdout",
       "text": [
        " 170 447\n",
        "idx1 152 idx2 430\n",
        "51 SSMCESTRS-LNSVTISSQ STM-DSTLSYISSV-IPSQ\n",
        "start"
       ]
      },
      {
       "output_type": "stream",
       "stream": "stdout",
       "text": [
        " 70 641\n",
        "idx1 22 idx2 596\n",
        "51 PSVY-AYPVGSDQ-SIQSDPALLPGAV-PVRSGERNGMKRRC-DYGSQQRRL PGHYGAFR-GS-QKSSQG-PAHLSGPGFPLISSEATG---RCRSL-SPQHRM\n",
        "start"
       ]
      },
      {
       "output_type": "stream",
       "stream": "stdout",
       "text": [
        " 118 705\n",
        "idx1 101 idx2 685\n",
        "42 SG-E-SVP-LPGF-NPGQKVT SGLETNLSLLPSFQSP-QSVT\n",
        "start"
       ]
      },
      {
       "output_type": "stream",
       "stream": "stdout",
       "text": [
        " 148 762\n",
        "idx1 134 idx2 748\n",
        "45 SDGMRIRE-PVNF-PS SSGMR-NDLPV-FSPS\n",
        "start"
       ]
      },
      {
       "output_type": "stream",
       "stream": "stdout",
       "text": [
        " 404 181\n",
        "idx1 386 idx2 166\n",
        "47 IRMYLSTKSMHCGRQTQA IR-YLNV-SMVC-RSTAA\n",
        "start"
       ]
      },
      {
       "output_type": "stream",
       "stream": "stdout",
       "text": [
        " 234 700\n",
        "idx1 185 idx2 655\n",
        "49 STT-SSPTTFGGTSLMPPSSEGSVSRHTSLPP-V--YQ-MMYPAGKYTG-PAQQS STTASSP--Y----L-PPSSIGSQFQYSSLRAGIRSCRGMSFPI--YNGYP-QPS\n",
        "start"
       ]
      },
      {
       "output_type": "stream",
       "stream": "stdout",
       "text": [
        " 362 817\n",
        "idx1 345 idx2 795\n",
        "44 GSS-QMINR--R-PSP-QM-GQ-E GSSRQ--NRNYSPPTPSHMDGQSE\n",
        "start"
       ]
      },
      {
       "output_type": "stream",
       "stream": "stdout",
       "text": [
        " 324 399\n",
        "idx1 303 idx2 376\n",
        "50 PQYSLTTQQ-PT--T-PSHFDIHVR PD-SISSQQGSAGKVPPSQFDVH-R\n",
        "start"
       ]
      },
      {
       "output_type": "stream",
       "stream": "stdout",
       "text": [
        " 247 352\n",
        "idx1 218 idx2 327\n",
        "45 RSACTPSAIEESLPSAGTRRHSVTHINPP RAECSLGPIESSL-AIGTHLH-LT--TPP\n",
        "start"
       ]
      },
      {
       "output_type": "stream",
       "stream": "stdout",
       "text": [
        " 84 542\n",
        "idx1 62 idx2 519\n",
        "39 SVQDEMSGNSSGES-SSSL-V--PDT STQ-ERP-N-SVESVSSHLSVAQPNT\n",
        "start"
       ]
      },
      {
       "output_type": "stream",
       "stream": "stdout",
       "text": [
        " 400 561\n",
        "idx1 313 idx2 470\n",
        "52 PVPRMTKQTTIQPDSPCAAMG-RS-GESS-P-FELMTMA-DGFP-DMHCNDN-SRLSDN-T-AI-QFSNYQVSPTYH-TGQLQL-SDDAGLQRSP-G-SPN PIAR--NLIIIHP--PSTEMTISSIGQGNYQNFKLLPHSRDS-PSGVHCSEHRSILRGNPPHSILHHPHTDPGP-YNSTGHL-FASEN-G-P-SPEACSPS\n",
        "start"
       ]
      },
      {
       "output_type": "stream",
       "stream": "stdout",
       "text": [
        " 240 296\n",
        "idx1 216 idx2 275\n",
        "43 SIT-EGESHMGSSYGFCVPAASSPL SVSCEGQDNF--A-G-CVPGGPSPL\n",
        "start"
       ]
      },
      {
       "output_type": "stream",
       "stream": "stdout",
       "text": [
        " 140 433\n",
        "idx1 110 idx2 404\n",
        "43 Q-IP-DLLGQRFYTRSQQQPGRSMENYPASST QDIPAGLLSH-LVSLSNQHPG-C-GNSPATTT\n",
        "start"
       ]
      },
      {
       "output_type": "stream",
       "stream": "stdout",
       "text": [
        " 72 372\n",
        "idx1 53 idx2 353\n",
        "39 IQSQPYPSHQLPAVPPSV-R VQGAPNSSHQ-PGNHGSVTR\n",
        "start"
       ]
      },
      {
       "output_type": "stream",
       "stream": "stdout",
       "text": [
        " 101 752\n",
        "idx1 73 idx2 722\n",
        "51 I-MGGIST--TQSP-ESDIQESSPKYPTP-SMI ISMGSRGTPYAHSPSESD--E-SLRIPTALSII\n",
        "start"
       ]
      },
      {
       "output_type": "stream",
       "stream": "stdout",
       "text": [
        " 185 657\n",
        "idx1 156 idx2 630\n",
        "70 VTPVYNASIPKQS-PQP-NARVPGGESEQQT VIP-YIAS-P-QSERQQVNASIPAGAS-RQT\n",
        "start"
       ]
      },
      {
       "output_type": "stream",
       "stream": "stdout",
       "text": [
        " 375 85\n",
        "idx1 285 idx2 3\n",
        "58 SGN-R-PDEAMIGPPTYYREPSSVMGTPLC---GGQLGRKSEYSQEGMK-GHNVYANMGLGG--L-NS-LRT-SRYIPSPMENMSSGPPYVSVVIGFEDSG SGHGQDPTE-M--PVT--K-P--V-GTAVCTSLAGQLA--TE-G-EATNVGSNV--NVG-DGFTLWESILNVGSRN-PSARKSESTAQP-VTSVSAFQ-SG\n",
        "start"
       ]
      },
      {
       "output_type": "stream",
       "stream": "stdout",
       "text": [
        " 153 146\n",
        "idx1 89 idx2 81\n",
        "52 P-LT-E-PPL-DGSDSSP-SR-WEITNS-PWCIMNDISVKLIETESNTSH-RQ-MG-RESGGSPIIR-QPIRY-RS PKLTNESPSTSDG-DSAALSSVSE-SQTQP-CI-HEVP-R-IGNQ-KSPQGSQALGLR---GSALLQMQP-PYSRT\n",
        "start"
       ]
      },
      {
       "output_type": "stream",
       "stream": "stdout",
       "text": [
        " 36 368\n",
        "idx1 2 idx2 338\n",
        "46 MNWANESYPKIYESKIGYAIPQS-TNQ-CPVTLSHP MGWPCE-Y-QLLNSRRA-A-P-SITNPSCNVSLS-P\n",
        "start"
       ]
      },
      {
       "output_type": "stream",
       "stream": "stdout",
       "text": [
        " 296 595\n",
        "idx1 261 idx2 560\n",
        "46 SGYRPEQFVA-ASPRQLSQRGP-PRKRQT-SSQ-NTGPS SGNKPESSKPWAGPVHLT-R-PISQKR-TWASQFNP-PT\n",
        "start"
       ]
      },
      {
       "output_type": "stream",
       "stream": "stdout",
       "text": [
        " 248 39\n",
        "idx1 218 idx2 8\n",
        "43 ST-S-EET-P-SPQLGPFPMTGAPWPSRKGL-VSV STVSLEATAPQSPSAGA-SSDGAA-PT--GLQVNV\n",
        "start"
       ]
      },
      {
       "output_type": "stream",
       "stream": "stdout",
       "text": [
        " 255 141\n",
        "idx1 226 idx2 114\n",
        "48 RGWQDERGTSCGGHTVSPDM-S-Y-R-GN-QPEQ RG--EQRGTN---NT-S-NMKTQFNRNANGEPEQ\n",
        "start"
       ]
      },
      {
       "output_type": "stream",
       "stream": "stdout",
       "text": [
        " 292 174\n",
        "idx1 276 idx2 157\n",
        "39 GS-PT-SNMSSRGVAVVS GNRPSKSN-ANRNVTVTS\n",
        "start"
       ]
      },
      {
       "output_type": "stream",
       "stream": "stdout",
       "text": [
        " 251 297\n",
        "idx1 224 idx2 270\n",
        "47 RN-DVGPAQTFTSPSRADQNTQT-GYSEG RDTQVGAAQS-AEASPAPQDMQKPG-AEG\n",
        "start"
       ]
      },
      {
       "output_type": "stream",
       "stream": "stdout",
       "text": [
        " 310 100\n",
        "idx1 233 idx2 36\n",
        "43 QITISVPNRQINVSSARLY-CAPNIVENLLTQCQK-KTMNKEPDPYQSTIFVISPRMP-LKR-EPSLQDSNASSQGSSRPG QAAINTPN-E-SPSSG-LLDAPPTEVD---T-CHTGK-MG-SPAP----I-VMRPWSAEV-RTTSSVHDAQSSS--NSRSG\n",
        "start"
       ]
      },
      {
       "output_type": "stream",
       "stream": "stdout",
       "text": [
        " 182 293\n",
        "idx1 165 idx2 275\n",
        "51 PNSPLGE-E-WSSIVITS-Q PMSPLGESEVWGS-G-TSTQ\n",
        "start"
       ]
      },
      {
       "output_type": "stream",
       "stream": "stdout",
       "text": [
        " 262 251\n",
        "idx1 209 idx2 193\n",
        "50 PNQLY-SIFQTRIEV---NRP-SASVKITSDQYVSVN-RHR-S-VASSI-VRVNESSLKY-SA PNQLTERT-STSIDVSTASSPGNESMSVAS-QFICNNSWNRYGHPESSFNV-ADE-A-KYESA\n",
        "start"
       ]
      },
      {
       "output_type": "stream",
       "stream": "stdout",
       "text": [
        " 174 411\n",
        "idx1 145 idx2 384\n",
        "60 PTLQP-RNSRGGDP-LIDNQRLTRSPFRATS PNMQPSRSSR-TDASLTGN-R-GRTPL-ITS\n",
        "start"
       ]
      },
      {
       "output_type": "stream",
       "stream": "stdout",
       "text": [
        " 325 364\n",
        "idx1 315 idx2 354\n",
        "47 YNPR-VLGGQT Y-PRSVLGAQT\n",
        "start"
       ]
      },
      {
       "output_type": "stream",
       "stream": "stdout",
       "text": [
        " 75 85\n",
        "idx1 59 idx2 69\n",
        "40 V-VEGF-SDQSQIPADSP VGVEGHPSD-CERP-DSP\n",
        "start"
       ]
      },
      {
       "output_type": "stream",
       "stream": "stdout",
       "text": [
        " 167 545\n",
        "idx1 125 idx2 502\n",
        "49 WPPNQ-APQ-TTGSHSSV-GSRVQPAMIEGSESC-GVNSEQLN-GSS WSP-QLNAENNAGT-SSLY-SEASPEPVQGTLSSEG-GSPQLNVGSS\n",
        "start"
       ]
      },
      {
       "output_type": "stream",
       "stream": "stdout",
       "text": [
        " 256 750\n",
        "idx1 175 idx2 675\n",
        "50 ERLVNTVSSGELRWLGGLE-MSTTIIAPSQPAKEFINARGDVNGDDH-N-IMYDNGCQEASVDIVYDTCTPR-S--GVRVSE-S-HTPS E-LA-SLSSG-I--LAG-QCNASTRIAPSQHV-E-TDVPNAANGDAQWGRVLTQSGPR-SSHATVY-T-K-RESCIGER--EFSHHYPS\n",
        "start"
       ]
      },
      {
       "output_type": "stream",
       "stream": "stdout",
       "text": [
        " 153 337\n",
        "idx1 140 idx2 323\n",
        "47 PP-SLQERGSLQS-Q PPQALM-RGSLQTIQ\n",
        "start"
       ]
      },
      {
       "output_type": "stream",
       "stream": "stdout",
       "text": [
        " 79 798\n",
        "idx1 4 idx2 727\n",
        "60 SWENRPTGSVQ--TPPRDFWTRIIAPSRFMQPVARVLGPVYYSENTTTRR-QDTV-FKL--A-ENSSRLNLPLN--NHNCSP-NA TW-SRP-GAFQGRASARAY-ISLITHND--QRV-R-L-PA--AE--ANRRNRSSVPYMMHEASANSSSPSL-VNQYNHD-SPTNA\n",
        "start"
       ]
      },
      {
       "output_type": "stream",
       "stream": "stdout",
       "text": [
        " 276 792\n",
        "idx1 225 idx2 746\n",
        "43 QAGVPEGLSMSSSNRNKSQGMSKIPPMISLSS-TSRT-LQSEIASIAGLN-S-SS QAS-S-GVS-SFSA-GQS-AMA-I-P-IR-NSVTSRSDLHNGRANESQLDPTLSS\n",
        "start"
       ]
      },
      {
       "output_type": "stream",
       "stream": "stdout",
       "text": [
        " 386 69\n",
        "idx1 354 idx2 42\n",
        "48 SAASCGDTSIQAQDNNQSNWTIMEAQVGDQ-EL SAAACNNQYVHSQ---QSNRAII-TK--DQSEL\n",
        "start"
       ]
      },
      {
       "output_type": "stream",
       "stream": "stdout",
       "text": [
        " 276 334\n",
        "idx1 200 idx2 253\n",
        "61 SFHLQQR-D-ITTTQRPFERSGTRAA---TP-KR-GRTEPLF-PPWRATD-GYSYKGPTPLPP-LISIYSSERKIASGGCSESQQS SFH-RGRLDKISSGQSPNDRVEASAAPQGTACNRQGRQQSYFYLG--GADLAAS-NSPAGLPSELLSIHSPTGDESSGGTSQS-RS\n",
        "start"
       ]
      },
      {
       "output_type": "stream",
       "stream": "stdout",
       "text": [
        " 201 428\n",
        "idx1 108 idx2 325\n",
        "53 R-DRGAGSES-E-SMD-M-A-LYTV-LDDRS-SRYDSLKHSIKR-EP-GQ-EL---SMSQV-IG-SM-SRQRQSWSCRDGVHSNQAQS-G-TAIRGVNNTLDD-N-ENEGTTGR RIAHG-GSAALENSRDSMYSCKY-VQVETPSPSH--S-TH-VQRSSPIGAFGLIVASMGPLYVGHPFGSRKSQTSSHSDGI-P-Q-RSTGHSAVAG-NSGLEDFSLAS-VTAGR\n",
        "start"
       ]
      },
      {
       "output_type": "stream",
       "stream": "stdout",
       "text": [
        " 150 400\n",
        "idx1 127 idx2 374\n",
        "49 VRYPVTFQGSSSIQSQ-RNQ---SSAG IRYVINFQASTA-GSSFRNPVATSSAG\n",
        "start"
       ]
      },
      {
       "output_type": "stream",
       "stream": "stdout",
       "text": [
        " 285 555\n",
        "idx1 235 idx2 505\n",
        "43 GAHT-TSN-SPM-SGV-SRDGGVNVSGMYGSINRNSPESSHSRTPYMISPTSEL GTPTDSSNLSAIQSLINSSTGG-NHSHAY-WISSDSTAGGHLRNG--ISASTEM\n",
        "start"
       ]
      },
      {
       "output_type": "stream",
       "stream": "stdout",
       "text": [
        " 125 497\n",
        "idx1 57 idx2 431\n",
        "48 WAF--RNPR-RSQGEVSGMLGYGSRTHITRERMVSSRPQYLQMSNR-TKGVTRLEEH-PEIE-SVQRT-EA-SR-GS WPFDNSNPSFPTSG-VSE--AW-SATSI-CEPVISS-P--L-SSSRVTNGPSS-ESHSSHIGRSV-RSLENYSQLGN\n",
        "start"
       ]
      },
      {
       "output_type": "stream",
       "stream": "stdout",
       "text": [
        " 120 552\n",
        "idx1 82 idx2 517\n",
        "52 SNYRPRTVQHPSSRSVVLLINTELWSGNP---DQRIASYSS SYY-PDTV-HGSSQTVGTSI-FELL-GNPNYTDEQ-AS-SS\n",
        "start"
       ]
      },
      {
       "output_type": "stream",
       "stream": "stdout",
       "text": [
        " 363 518\n",
        "idx1 345 idx2 497\n",
        "59 N-L-TPTTIGSQN-YALPSTR NTLSSPTSTSSANCYGLPTTR\n",
        "start"
       ]
      },
      {
       "output_type": "stream",
       "stream": "stdout",
       "text": [
        " 71 341\n",
        "idx1 32 idx2 294\n",
        "58 VHS--SSDRGVP-QE--Y-AQGEM-NG--TQVCVKCVDV-RAI-DTSATS VHAQGTSER--PTQDPSYIAPSDITEGVPTSISSSCI-ISRAIYNNSATS\n",
        "start"
       ]
      },
      {
       "output_type": "stream",
       "stream": "stdout",
       "text": [
        " 27 305\n",
        "idx1 2 idx2 274\n",
        "43 RSQNQHSG-SKGP---HAGTS-VSPSD-F-DS KS-NKHSGMSQGPILSPGGSSQISHSQTLGDS\n",
        "start"
       ]
      },
      {
       "output_type": "stream",
       "stream": "stdout",
       "text": [
        " 387 572\n",
        "idx1 330 idx2 517\n",
        "44 FQIPVPPNPQQEIM-PRPV-WPEQSSGPDNVS-RG-PHQ-G-SYQYHPIKGGYPVVKETQS-NS FKL-VSPNAGGGVMNPAPLCFHA-SSTEDGESPPSLPKQNGPS----PI-SAYPPV-Q-QSANS\n",
        "start"
       ]
      },
      {
       "output_type": "stream",
       "stream": "stdout",
       "text": [
        " 205 698\n",
        "idx1 159 idx2 654\n",
        "58 I-RQ-PSLPPSPRRQRVPRKGSKGRASLTLPPQLLQ-QSTLETPRPTGA ILKQGSSLLPS--HTRGAR-GS-GR-GLVHTANLQQWHSSLKAPNHSGA\n",
        "start"
       ]
      },
      {
       "output_type": "stream",
       "stream": "stdout",
       "text": [
        " 36 543\n",
        "idx1 10 idx2 515\n",
        "59 W-HAPTY-YDGDVL-IAP-PQRSTGQ-ES-GR WGSAPVYKF---VLPITPTPQ-STHQYASNGR\n",
        "start"
       ]
      },
      {
       "output_type": "stream",
       "stream": "stdout",
       "text": [
        " 268 828\n",
        "idx1 199 idx2 743\n",
        "57 IPP-FLTERKAWVA-L-SGADKSSARIIS-S-ATSVA-PRP--QQNA-IG-ASDHA----SSH-S-RAPTDSL-KV-TI-SQRSTGAY IAPNFL--RLSHGAKLNSPSDPNSGTIAADAPAASVGIPSSVLSQKEIIGQGTDQAPKYLSSHPSTHAPTKRLSQVATEPSGR-TNSF\n",
        "start"
       ]
      },
      {
       "output_type": "stream",
       "stream": "stdout",
       "text": [
        " 252 408\n",
        "idx1 234 idx2 385\n",
        "52 GFDMSL--SRRTPE-S-TS-T-ED GFS-SLRISRRAAEGSPTSGTSQD\n",
        "start"
       ]
      },
      {
       "output_type": "stream",
       "stream": "stdout",
       "text": [
        " 160 124\n",
        "idx1 128 idx2 95\n",
        "73 S-R-RINGTVGPIVPTRRIS-NSHIQFFPIQLNQI SGRCRVNGS--PI-PS-SISNNSSAS-FA-QLSQI\n",
        "start"
       ]
      },
      {
       "output_type": "stream",
       "stream": "stdout",
       "text": [
        " 409 130\n",
        "idx1 378 idx2 100\n",
        "46 PISSMQVTCG-PGVPGQW--GLTSAQVPAYEVRL PIIG-QVASGDPG-AS-WETSLASAH-SGRSVRL\n",
        "start"
       ]
      },
      {
       "output_type": "stream",
       "stream": "stdout",
       "text": [
        " 98 264\n",
        "idx1 64 idx2 236\n",
        "43 STGSTVAQPPPYPITVLHQVPYPNELPEPRGGSQ SS-SNV-QRPA-GVSTPHRAPY-SQ-PAP-AASH\n",
        "start"
       ]
      },
      {
       "output_type": "stream",
       "stream": "stdout",
       "text": [
        " 318 522\n",
        "idx1 296 idx2 494\n",
        "44 APL-KRIWPET-WTTQ--PSV--NGNNP APLAKQVSTESASVTQSYPSVASSGLNP\n",
        "start"
       ]
      },
      {
       "output_type": "stream",
       "stream": "stdout",
       "text": [
        " 282 436\n",
        "idx1 256 idx2 405\n",
        "56 ANDFASP-IQ-V-ANQ---GLCES-PRAQQTTR ANQY-SPCIQRASAHESTYGL-ESEPRTQSSQR\n",
        "start"
       ]
      },
      {
       "output_type": "stream",
       "stream": "stdout",
       "text": [
        " 118 96\n",
        "idx1 80 idx2 57\n",
        "50 GESPSLERENAVPG-DASSNPPETSAQ-PKVGC-LT-NVPIG GQ-PSVNRVSSSGGLSTCSSPPKIHSQLPMV-CPHTYN-SIG\n",
        "start"
       ]
      },
      {
       "output_type": "stream",
       "stream": "stdout",
       "text": [
        " 187 193\n",
        "idx1 169 idx2 174\n",
        "45 SQSRPESK-C--SEAQSQSSA S-NRPENKASGNSE-QGKSSA\n",
        "start"
       ]
      },
      {
       "output_type": "stream",
       "stream": "stdout",
       "text": [
        " 259 318\n",
        "idx1 237 idx2 298\n",
        "47 YT-REQVSPYARHVEVIESYPSN YTQR-QLS-F-MVVEVQNSLPSN\n",
        "start"
       ]
      },
      {
       "output_type": "stream",
       "stream": "stdout",
       "text": [
        " 210 195\n",
        "idx1 133 idx2 127\n",
        "46 S-LTT-SQNHKIASASGTPSLRAPSAVGS-QT-RYSPTRVEIIRTCSVEN-L-TAVSG-IFTMLRATRNWQSFFIEQFGSYNSS SILSVFS-SHRPAPVPGT-S-R--S--GSFQTSRSSGA-V-FPHESAIQHTLATSARGAAYSM-RQTRY-LS--TA--G-YNSS\n",
        "start"
       ]
      },
      {
       "output_type": "stream",
       "stream": "stdout",
       "text": [
        " 229 336\n",
        "idx1 211 idx2 318\n",
        "57 NNE-EGESPS-SVQGRSPE-W NNEF-GASPSGSA-G-SPDAW\n",
        "start"
       ]
      },
      {
       "output_type": "stream",
       "stream": "stdout",
       "text": [
        " 177 449\n",
        "idx1 131 idx2 410\n",
        "51 VSRSPASNSERRNSFGVKSSEEAR-LLKTYSTRRGIPQPADPGESNI VSSSSNSHSE-AES--ISATED-RILLSTASG-WG-PQ-TGSS-SSI\n",
        "start"
       ]
      },
      {
       "output_type": "stream",
       "stream": "stdout",
       "text": [
        " 374 704\n",
        "idx1 340 idx2 677\n",
        "50 SQSSRQNEYESNPGEGRLGSSKPLSVT-SPILTYV SQENRPNE-E--PAQASL--SLPFS-SCSPV-T-V\n",
        "start"
       ]
      },
      {
       "output_type": "stream",
       "stream": "stdout",
       "text": [
        " 341 715\n",
        "idx1 320 idx2 692\n",
        "49 SWA-VNKLSTLSVA-SSSS-SPSE TWAYYSKAST-SVAHSTSNLTASD\n",
        "start"
       ]
      },
      {
       "output_type": "stream",
       "stream": "stdout",
       "text": [
        " 338 201\n",
        "idx1 326 idx2 188\n",
        "51 S-PKI-SNLIQNRS SAPKVSSDL-QNRS\n",
        "start"
       ]
      },
      {
       "output_type": "stream",
       "stream": "stdout",
       "text": [
        " 28 489\n",
        "idx1 14 idx2 473\n",
        "43 SGNR-AV-NSILAVQ-P SGSRGAIGDSAL-VQHP\n",
        "start"
       ]
      },
      {
       "output_type": "stream",
       "stream": "stdout",
       "text": [
        " 94 774\n",
        "idx1 66 idx2 750\n",
        "55 VQVNNTVNDLCHEET-RVSFSQQQPHQHP VEVDPS-NSLCNIASPQAS-S---PHQHP\n",
        "start"
       ]
      },
      {
       "output_type": "stream",
       "stream": "stdout",
       "text": [
        " 267 421\n",
        "idx1 244 idx2 400\n",
        "63 GIYLTLPTKDSVNRQSKPNTVLQ GI-TSLSTSDSENRQ-HPASVLQ\n",
        "start"
       ]
      },
      {
       "output_type": "stream",
       "stream": "stdout",
       "text": [
        " 147 850\n",
        "idx1 129 idx2 830\n",
        "40 SGPSTA-PYDTLSSISR-GG SEASSAYPYNEAGSVKRIGG\n",
        "start"
       ]
      },
      {
       "output_type": "stream",
       "stream": "stdout",
       "text": [
        " 400 436\n",
        "idx1 366 idx2 403\n",
        "58 GSI--SI-ASEAYEVVGFRLHVQTVPLLATSTDLSVL GSIQNSIPASN--EVSNFP-KVPGIRLSATS-DQSVL\n",
        "start"
       ]
      },
      {
       "output_type": "stream",
       "stream": "stdout",
       "text": [
        " 396 367\n",
        "idx1 328 idx2 299\n",
        "51 SRSVDQGSCVMAFFSGIG-CIAQD-PSA--P--SGGS-AD-EPRQRSSNSESAGRTQMGPAEI-RAEILGNLTTVSS SRIVNP-STTKN-FSGVSL-ISSKISAAFRPKHTGGNVADRQPRH-LSHSH--DKTTIGLA-IPRASSL-NM-GISS\n",
        "start"
       ]
      },
      {
       "output_type": "stream",
       "stream": "stdout",
       "text": [
        " 165 128\n",
        "idx1 94 idx2 69\n",
        "62 EPEPMINSGPNLSRIELVPIRVVPQWHSPDGDNEQSKRVEPKAQT-FP-GIYRIWQRYLR-SVQGIGSNSAMSF E-EA-I-A-PAI-RTEL-P-S-GPNYRSPNGAK-QPAR-KATA-TKFPRGI-QI--RLLHFSPR-ISPDTTASY\n",
        "start"
       ]
      },
      {
       "output_type": "stream",
       "stream": "stdout",
       "text": [
        " 68 292\n",
        "idx1 54 idx2 281\n",
        "41 WSANNINSAGQMLS WTCNSINS-G--LS\n",
        "start"
       ]
      },
      {
       "output_type": "stream",
       "stream": "stdout",
       "text": [
        " 59 571\n",
        "idx1 34 idx2 551\n",
        "39 SQIAELQGQSTKAPSG-STQINSGAG SQIATI-S-SSKA-SEHSS--NS-AG\n",
        "start"
       ]
      },
      {
       "output_type": "stream",
       "stream": "stdout",
       "text": [
        " 414 345\n",
        "idx1 340 idx2 266\n",
        "54 LG-A-S-SP-F-SPDNSSVPSSPRSQPIRIGDYTESTSEI-PTDVKS---PTYNMVS-SEY-T---SSHGNKQE-AKGGSPPVMERAAP LGRAESMSACFIGPTPSEVH--ARS-ALRLSN---SSSDTGRT-VKSGEEPANDTQSRSQAKSLPRSSNVNEQEFA--GLPPMMNK-PP\n",
        "start"
       ]
      },
      {
       "output_type": "stream",
       "stream": "stdout",
       "text": [
        " 182 182\n",
        "idx1 99 idx2 98\n",
        "52 IQGSDQPPLVL--QSST-GNNMGTCGRL-T--S-G-HEELASRTGEAPCSWETPLTS-GRTVLKTEDQSDEPAHWPQRIVSTREKVESPT-GI IHGS--SP-VIRGEGSDYGNGAGS-MKLRSPDSGGIH-ELLGPPGIAPSSSPTNLSGQGPTV-KA-G-SPDPSNSAE-IEGTHMKSAGPEHGI\n",
        "start"
       ]
      },
      {
       "output_type": "stream",
       "stream": "stdout",
       "text": [
        " 235 148\n",
        "idx1 161 idx2 74\n",
        "59 C-HQR-P-PSRT-AGDEVL--IAPKP-K-NLSGIGSQNLGTQQECPT-TTQSPNNSPINTTQSDDPRPSSS--VTPIQS-QGSRYG CTHQSYSGPS-THLSEDISCCMSQRPNRANV-GPGSLN-G-RQE-PKDTT-SSIASP-AADQS---RLSSAPKLNRI-SVHGSR-G\n",
        "start"
       ]
      },
      {
       "output_type": "stream",
       "stream": "stdout",
       "text": [
        " 149 793\n",
        "idx1 134 idx2 777\n",
        "47 TINGPSTS-MPTSN--PT T-HG-STSLMPSNNLVPT\n",
        "start"
       ]
      },
      {
       "output_type": "stream",
       "stream": "stdout",
       "text": [
        " 368 538\n",
        "idx1 298 idx2 476\n",
        "48 DGERESPETSHIGAQQRI-VLVPSPNHLSCLGISPSKDQPYPSRQEVGADDV-TQWSQMT-SNNGPSPRMSEI DGVRAQHDASY--PEQ-IKVHIGSRN--SS-SISP-IDGT-ASNSSAGA-GVRARWS-LDGSSHAPSE-VFEI\n",
        "start"
       ]
      },
      {
       "output_type": "stream",
       "stream": "stdout",
       "text": [
        " 311 843\n",
        "idx1 286 idx2 815\n",
        "55 P-GSPR-LSQAMN-PSPQLDAVSAFR--PE PHNSSRSLSPANNAPS-QHDSISV-RSLPE\n",
        "start"
       ]
      },
      {
       "output_type": "stream",
       "stream": "stdout",
       "text": [
        " 14 755\n",
        "idx1 3 idx2 742\n",
        "55 ISPS--SQRRNQP ISPSPDSERRNKP\n",
        "start"
       ]
      },
      {
       "output_type": "stream",
       "stream": "stdout",
       "text": [
        " 222 629\n",
        "idx1 191 idx2 593\n",
        "54 S-SSSQSAP-SPQMLT-SQ-NLNRRS-WPPSR-C-SES SIASPQNNPRSP-LLSGNRGELSKSSERSP-RACGSDS\n",
        "start"
       ]
      },
      {
       "output_type": "stream",
       "stream": "stdout",
       "text": [
        " 409 449\n",
        "idx1 360 idx2 402\n",
        "49 LLKFS--NLQQQPS--MSQLQQPQGN--DGSLKNNSNLDINTGPSREFKQQSLSW MLKLTAETLQPNSSLGMS--AAPD-NRRSGSHSENSNYD-Q-GES-D--QSSLSW\n",
        "start"
       ]
      },
      {
       "output_type": "stream",
       "stream": "stdout",
       "text": [
        " 363 192\n",
        "idx1 340 idx2 166\n",
        "46 PEP-SS--ITSGQLSHRFNV-SK-GPSR P-PLSTRVIPGGKAGH-FNASSTLGPSR\n",
        "start"
       ]
      },
      {
       "output_type": "stream",
       "stream": "stdout",
       "text": [
        " 192 277\n",
        "idx1 164 idx2 254\n",
        "49 PTSFHTVTHGSIGYAWIVPTGT--QGSP-EL PSGL-T-THG-I--A-I--SGTVFQGSPGQL\n",
        "start"
       ]
      },
      {
       "output_type": "stream",
       "stream": "stdout",
       "text": [
        " 85 211\n",
        "idx1 46 idx2 170\n",
        "43 SNTYDIPTI-PMASQFTNKHNS-SGSY--LEEG-TSP-AHTYLES SNS-SLP-IKHTGSVFVSM-SSLS-SYTALQEALVSPDGRTNLPS\n",
        "start"
       ]
      },
      {
       "output_type": "stream",
       "stream": "stdout",
       "text": [
        " 32 348\n",
        "idx1 11 idx2 322\n",
        "52 SARNE-S-S-PSAS-MM--TSSLSMPS SSRSDRTGTFPTASALMSCTSS-RMPT\n",
        "start"
       ]
      },
      {
       "output_type": "stream",
       "stream": "stdout",
       "text": [
        " 341 775\n",
        "idx1 291 idx2 721\n",
        "60 RLVESMRYIQMSQTPQTV-VIEP-DP-R--LHG--NGPESGTNQEPR-KDIEDGMAFT RLV-SV--IEVTHTPTTSWRIAALDRGRAGL-GTANSAVSSTSQESRYTQLHEGIPIT\n",
        "start"
       ]
      },
      {
       "output_type": "stream",
       "stream": "stdout",
       "text": [
        " 64 789\n",
        "idx1 49 idx2 776\n",
        "39 GMVN-ETGENSSAVSP G-VNSET-PNSTAI-P\n",
        "start"
       ]
      },
      {
       "output_type": "stream",
       "stream": "stdout",
       "text": [
        " 237 339\n",
        "idx1 223 idx2 326\n",
        "44 LSNEGQGTEQEAQH LSAEG-STEQGAGH\n",
        "start"
       ]
      },
      {
       "output_type": "stream",
       "stream": "stdout",
       "text": [
        " 176 834\n",
        "idx1 132 idx2 793\n",
        "67 SYSEKTVRFDANRMSTQATNSASQLTE-E-NNNTYGNLSLPSA-NVP TFSENAPRF--NR-DS-ASNSPSQ-SQHQASDKSESSAS-PKARNVP\n",
        "start"
       ]
      },
      {
       "output_type": "stream",
       "stream": "stdout",
       "text": [
        " 372 290\n",
        "idx1 329 idx2 250\n",
        "58 GDTTGTAERQNVTSSNASKVGPIGPASPNGI--LTTLHEPGSP-SL GD-TGSAEHQD-TPSSP-RSG-VAH-SPSVVFDFSSVRESG-PGTL\n",
        "start"
       ]
      },
      {
       "output_type": "stream",
       "stream": "stdout",
       "text": [
        " 294 131\n",
        "idx1 275 idx2 114\n",
        "60 SQSRSLSEGHYADPAQPSN S-SRSQSDSNYANAPQP-N\n",
        "start"
       ]
      },
      {
       "output_type": "stream",
       "stream": "stdout",
       "text": [
        " 171 107\n",
        "idx1 130 idx2 61\n",
        "47 V-PG-SSMSDGE-YP-TYQTARLNKEKSL-SDRG-QQ-S-RI--SQRGNIE VLPAHPS-S-GQHFPHT-QS-QPN-QASLGADRGVQRGSVPIAGTRRVAVE\n",
        "start"
       ]
      },
      {
       "output_type": "stream",
       "stream": "stdout",
       "text": [
        " 46 674\n",
        "idx1 12 idx2 637\n",
        "67 SRSTRI--D--TDQTWNRQ-PDPKAIKDGTPVSF-LRLPK SRSTRIFRGLPADETSN-ESPDSSLI--AQPPSFAQRLPK\n",
        "start"
       ]
      },
      {
       "output_type": "stream",
       "stream": "stdout",
       "text": [
        " 152 443\n",
        "idx1 133 idx2 427\n",
        "52 SISVPDTTRTIRSSASSSG SI-IPGATRYI-SS-SSEG\n",
        "start"
       ]
      },
      {
       "output_type": "stream",
       "stream": "stdout",
       "text": [
        " 110 706\n",
        "idx1 99 idx2 695\n",
        "44 LSD-SNGGNSVI LSDLSNSGN-VV\n",
        "start"
       ]
      },
      {
       "output_type": "stream",
       "stream": "stdout",
       "text": [
        " 386 803\n",
        "idx1 364 idx2 778\n",
        "49 PEIMTISN-PPYSDPLQL--GR-VSR PEVKTRSKRAAY-EILHLSAGRYVTR\n",
        "start"
       ]
      },
      {
       "output_type": "stream",
       "stream": "stdout",
       "text": [
        " 36 126\n",
        "idx1 3 idx2 98\n",
        "52 ESATI-SGIDLQDVARKLPTLTVFRQQQTIESKS EPVSVLS-I-LQSASR---SLTAFHEQPAITS-S\n",
        "start"
       ]
      },
      {
       "output_type": "stream",
       "stream": "stdout",
       "text": [
        " 244 856\n",
        "idx1 214 idx2 829\n",
        "46 TTSINMANVSNEQIMITSEGKTNMSQGHGV TASIHSSN-SNSQTVISRH-RQIMHESH-V\n",
        "start"
       ]
      },
      {
       "output_type": "stream",
       "stream": "stdout",
       "text": [
        " 204 461\n",
        "idx1 161 idx2 412\n",
        "57 PAPRLRLKPQDLRYSSE-R-S-QLSEH---YLTSS-R-STPVTPTLESARI PSPRQTAHPYNLS-SSELHCSGQLSNHTQNNLNSSGRLENPAT-TIHSHQI\n",
        "start"
       ]
      },
      {
       "output_type": "stream",
       "stream": "stdout",
       "text": [
        " 208 428\n",
        "idx1 192 idx2 413\n",
        "45 SSTMNHMDSYNVKGAS STSLPHM-SYNSPGSS\n",
        "start"
       ]
      },
      {
       "output_type": "stream",
       "stream": "stdout",
       "text": [
        " 267 258\n",
        "idx1 235 idx2 230\n",
        "54 S-MGPPESNGDTPPRQFQSIRVSSIGV-VS-SY-PP SVMG---SNKD--PR-FES--ASTISVRISVSAEPP\n",
        "start"
       ]
      },
      {
       "output_type": "stream",
       "stream": "stdout",
       "text": [
        " 116 846\n",
        "idx1 61 idx2 788\n",
        "51 SNPT-CYN-RPMPRGPDSHTMP-QSISKL--G-N-VMDERGPTQTCSNIPRGDSEGMSQS-PE SNPTE-HHLAPLA-SANCHSVAFKGLSKVSRSPNFIV-ARE-TSICSEQQRG-SNGASQSKAE\n",
        "start"
       ]
      },
      {
       "output_type": "stream",
       "stream": "stdout",
       "text": [
        " 112 233\n",
        "idx1 36 idx2 150\n",
        "60 AQTG-I-T---RPLSARSEGPSTN-PYVR-SN-SAAIFSQYEDAQMSSV-GISNSS-ELMRTSKSLSRPIQ-PES--D-N-TPSNGMNSS-E AQSGHINAHYDRSISTRSN-P-TNESWHKTSGLSDESFPH-RD-ELGNAQSISSSSNEL---S-N-RRPTRSAESAYDLGFSQARTMNSSGE\n",
        "start"
       ]
      },
      {
       "output_type": "stream",
       "stream": "stdout",
       "text": [
        " 277 701\n",
        "idx1 255 idx2 682\n",
        "54 SRSPSNVWEKDVPASVVHTSPT S-SPSSVRA-NVH-SIEHTRPT\n",
        "start"
       ]
      },
      {
       "output_type": "stream",
       "stream": "stdout",
       "text": [
        " 341 638\n",
        "idx1 320 idx2 615\n",
        "54 QRGQS-E-N-QNCPG-PTYAPSEPS QRG-SKESHLQN-PGVPKDSPTEAS\n",
        "start"
       ]
      },
      {
       "output_type": "stream",
       "stream": "stdout",
       "text": [
        " 71 636\n",
        "idx1 50 idx2 618\n",
        "45 CLQSLLSCISTKAVLGQQMIS CFDSVLS-ISSK--HGPRLIS\n",
        "start"
       ]
      },
      {
       "output_type": "stream",
       "stream": "stdout",
       "text": [
        " 420 315\n",
        "idx1 379 idx2 274\n",
        "53 SG-GS-STSSPLEQNSAQ---TQYYSVSSLEENRGRESNSVAEWL-P SGSGSPSTASA-EQGIAEKGITS-NSVHSLASNQLH-S-S--DWLTP\n",
        "start"
       ]
      },
      {
       "output_type": "stream",
       "stream": "stdout",
       "text": [
        " 198 262\n",
        "idx1 178 idx2 239\n",
        "47 ICSGL-NSELAAMAFTSQP--PP ICSPLHNPQLGTSEITSIPVTPP\n",
        "start"
       ]
      },
      {
       "output_type": "stream",
       "stream": "stdout",
       "text": [
        " 166 578\n",
        "idx1 151 idx2 563\n",
        "42 QLRSQSFPNVQM-HTS EVQSQ-FPHSQLSNTS\n",
        "start"
       ]
      },
      {
       "output_type": "stream",
       "stream": "stdout",
       "text": [
        " 123 495\n",
        "idx1 111 idx2 479\n",
        "44 RAV-PRTS-L--PTDN RVVLPRNSELYFPTNN\n",
        "start"
       ]
      },
      {
       "output_type": "stream",
       "stream": "stdout",
       "text": [
        " 252 171\n",
        "idx1 223 idx2 141\n",
        "51 S-PFRRRSYLIYIPST--LTGRASNENDAQSL SGPFRTEAYSTC-PSSDIL-GRASNASSYHSL\n",
        "start"
       ]
      },
      {
       "output_type": "stream",
       "stream": "stdout",
       "text": [
        " 313 612\n",
        "idx1 286 idx2 592\n",
        "48 PTDQILPVGVPDMSMVDNQQSVNGSWM PS-RILQ-GVS--S--DSQQSPSGT-M\n",
        "start"
       ]
      },
      {
       "output_type": "stream",
       "stream": "stdout",
       "text": [
        " 110 682\n",
        "idx1 33 idx2 605\n",
        "46 GS-L-GTQTCVP-VRGASWFPSSIR--T-PYETARPGTDVVFS--RILNESERDIVSH--WDIVGNRPSGTT--TTYTQCMIFCP-PTSS GTRLASSQ-CVHWIRGHN--P--IRAQTRSYETVVQAIDITHNDWRTTN-SQHD--SQAGSAVEGN-SCGPTLGQT-T--LI-CEYPNSS\n",
        "start"
       ]
      },
      {
       "output_type": "stream",
       "stream": "stdout",
       "text": [
        " 253 315\n",
        "idx1 184 idx2 252\n",
        "63 WPSSPRSPLPVSHTRFGE-P-RQGPGSQVTTVGRGS-GL-IQPGNESSESARGKTQNSSVARPRMDTSNIIQS W-SE-RTILA-S-GRTGSRPLRRGAGTQPASVNTASNGLNLRQ-HIGAESV-GE-Q-TPVHRPH--TCKTIRS\n",
        "start"
       ]
      },
      {
       "output_type": "stream",
       "stream": "stdout",
       "text": [
        " 282 663\n",
        "idx1 231 idx2 607\n",
        "53 S-PIQLTRITSDLG--DSLSVIFPGMPSDS-E-IVS-SNDLSR---C-FSKPSPSTMAHMT SAPIS-SS-STGLGCQDGLSA-YP-MINDAFEPLDSRSN-LARLKDCHHNQPAPRRRAHLS\n",
        "start"
       ]
      },
      {
       "output_type": "stream",
       "stream": "stdout",
       "text": [
        " 383 77\n",
        "idx1 356 idx2 45\n",
        "45 SFT-IGRFLGN---PDHSSEDP-Q-PSK-G-C-TSN S-TGIGS-L-NYPAPGH-NEDPVQLSSNLSCCRSSN\n",
        "start"
       ]
      },
      {
       "output_type": "stream",
       "stream": "stdout",
       "text": [
        " 167 274\n",
        "idx1 119 idx2 236\n",
        "44 RQNMPSTSIGAPYYSTQGPHSPSHNRSIGVAVMPGYPVG-IEVP-MI-PGI RRDKAS-S-EA--YS--G-HR-SKNSS-S-AI-PD--IGSIAVSWVVSPGI\n",
        "start"
       ]
      },
      {
       "output_type": "stream",
       "stream": "stdout",
       "text": [
        " 361 596\n",
        "idx1 311 idx2 550\n",
        "46 PTIQV-LNRQGAPFPGSI-WRPSPSSQSRSNIINASLRLLHE-QGQGSVSE-SN PRFQVTFTRMGLAYPPSIVLSVRPQFQSRT---H----LLHQVQ-EGRMEEPSN\n",
        "start"
       ]
      },
      {
       "output_type": "stream",
       "stream": "stdout",
       "text": [
        " 359 197\n",
        "idx1 322 idx2 163\n",
        "52 SPGNSRPNDNETGRGTMIATLID-S-PKIQSSPELEVSL SPQSTR-NSNEI-HGSR-PVLLDYSGPR-QRAPSHE-TL\n",
        "start"
       ]
      },
      {
       "output_type": "stream",
       "stream": "stdout",
       "text": [
        " 348 717\n",
        "idx1 329 idx2 701\n",
        "51 TTFRQSPRNLSNQ-IKWSPI STLR-S-RN-SAEGL-WSPI\n",
        "start"
       ]
      },
      {
       "output_type": "stream",
       "stream": "stdout",
       "text": [
        " 405 725\n",
        "idx1 390 idx2 709\n",
        "40 SPSSDYRLVPEST-PN SPQSAISIVTESTYPN\n",
        "start"
       ]
      },
      {
       "output_type": "stream",
       "stream": "stdout",
       "text": [
        " 165 795\n",
        "idx1 119 idx2 748\n",
        "56 QSGMVGATNMSG--EPANSTRSNPKGQGEIS-AG-GKGVEAVP-PTRAYRQ QSGSVHRAHVNGESEPVNVTRSD-KDQ-DSSLVGASTGGTTGPAP-RE-HQ\n",
        "start"
       ]
      },
      {
       "output_type": "stream",
       "stream": "stdout",
       "text": [
        " 240 580\n",
        "idx1 209 idx2 544\n",
        "48 TVHTPD-V-LS-SRST-TAPRFR-AEYRQMLI-PPP-G TLNTPQSASLAMSESGLTPPRSRLIPY-A-LIRPPPQG\n",
        "start"
       ]
      },
      {
       "output_type": "stream",
       "stream": "stdout",
       "text": [
        " 46 422\n",
        "idx1 24 idx2 398\n",
        "60 NE-PPSS-VPNSASIN--T-YRPQYPP NQKPSSSDVGTS-TINSPTLY-P-YPP\n",
        "start"
       ]
      },
      {
       "output_type": "stream",
       "stream": "stdout",
       "text": [
        " 305 346\n",
        "idx1 290 idx2 332\n",
        "44 PMIYGIHPLSRTDLH PRINGAHGLSR-DTH\n",
        "start"
       ]
      },
      {
       "output_type": "stream",
       "stream": "stdout",
       "text": [
        " 173 827\n",
        "idx1 159 idx2 815\n",
        "38 SSGERDANRNAQRL SSGSR-ANQSA-KL\n",
        "start"
       ]
      },
      {
       "output_type": "stream",
       "stream": "stdout",
       "text": [
        " 351 505\n",
        "idx1 326 idx2 480\n",
        "49 TGSDSKDGTTFQSLGS-SPVLE-YA-RT TSSDASEGTVF-G-DSENPTLEP-ASRT\n",
        "start"
       ]
      },
      {
       "output_type": "stream",
       "stream": "stdout",
       "text": [
        " 312 783\n",
        "idx1 292 idx2 766\n",
        "58 SYLTNGVMS-SAKQRMNQTPF S-LTNSEMSFS--Q-LHQTPF\n",
        "start"
       ]
      },
      {
       "output_type": "stream",
       "stream": "stdout",
       "text": [
        " 205 500\n",
        "idx1 198 idx2 492\n",
        "47 SPFRN-QG SPFRNAQG\n",
        "start"
       ]
      },
      {
       "output_type": "stream",
       "stream": "stdout",
       "text": [
        " 161 261\n",
        "idx1 152 idx2 251\n",
        "45 SPVM-SVQSI SPVMVSSQTI\n",
        "start"
       ]
      },
      {
       "output_type": "stream",
       "stream": "stdout",
       "text": [
        " 347 537\n",
        "idx1 271 idx2 459\n",
        "46 EVLQP-PG--TNQR-DQ-YIDAKGKLG-SFDRLRSAPSAV-SEPVD-RYMTVP-SRTLDAISQAQSQ-RIFSPGKSA-NSTLEPQNR E-LEPGGGSVTSERGDGISIGP-GQAGKSFARPHSILS-VSSSPIPLCYPSLPIPHVFSA-SPNHDQDQ--SNSKSSQNS-L-P-SR\n",
        "start"
       ]
      },
      {
       "output_type": "stream",
       "stream": "stdout",
       "text": [
        " 54 806\n",
        "idx1 36 idx2 781\n",
        "45 EGS--VN-SNG--G-SPSSRTP-SV EGSVPVSLSRGPQGHMPSPRSPDSV\n",
        "start"
       ]
      },
      {
       "output_type": "stream",
       "stream": "stdout",
       "text": [
        " 283 722\n",
        "idx1 250 idx2 686\n",
        "51 TDRQR-R-GDQSATSSEWDSWQ--ARQQELE-GG-SLTS TN-QRLRHGSNSNTASD-DS-QTAASSPESQVGSWSLAS\n",
        "start"
       ]
      },
      {
       "output_type": "stream",
       "stream": "stdout",
       "text": [
        " 194 84\n",
        "idx1 171 idx2 63\n",
        "42 S-RS-FPNPSPDGGRGQSSPK-APVP SEKSHFPN-SPK--PAQ--PKHAAIP\n",
        "start"
       ]
      },
      {
       "output_type": "stream",
       "stream": "stdout",
       "text": [
        " 58 534\n",
        "idx1 14 idx2 485\n",
        "50 QTIP--IARAGVPVRPVTRDSNTE-NAQN-EK-QSP-L---TVQSP-EYTSNS-L Q-LPQLI-RM-VPI-PGAR-SYTQHNASNVEILNAPGIDNPTVQ-PLACISSSAL\n",
        "start"
       ]
      },
      {
       "output_type": "stream",
       "stream": "stdout",
       "text": [
        " 121 251\n",
        "idx1 96 idx2 229\n",
        "43 PPP-GR--DQSTSPNVRAQPGRSDYNSP PPPISWTSGESTSPT-R--PE-SD-N-P\n",
        "start"
       ]
      },
      {
       "output_type": "stream",
       "stream": "stdout",
       "text": [
        " 83 178\n",
        "idx1 34 idx2 132\n",
        "48 PNGS-CSKV-NLP-TPYVYQERMN-PSSSPQTSYIKNKIGDLP-PSWKEGT-TSS PS-SLC-EVGN-PSSPIAY--R-NQPNSN-DFS-ISGSLSDMPDAN-KNGVRTST\n",
        "start"
       ]
      },
      {
       "output_type": "stream",
       "stream": "stdout",
       "text": [
        " 127 785\n",
        "idx1 92 idx2 748\n",
        "50 SS-V-Q-FSSPVDNG-GALSD-QQMQGMTFQSIRLTASKE STHVSQIYSSPPANSHGAWSDNRPRAGL-LQSM-FT-SAE\n",
        "start"
       ]
      },
      {
       "output_type": "stream",
       "stream": "stdout",
       "text": [
        " 255 793\n",
        "idx1 238 idx2 778\n",
        "50 SVLLVPRGGDDPKGLGA SVLIVPHGG-HA-GLSA\n",
        "start"
       ]
      },
      {
       "output_type": "stream",
       "stream": "stdout",
       "text": [
        " 133 817\n",
        "idx1 102 idx2 790\n",
        "45 AIRTQGPTRIGISSSLGGDERS-TWQENRTDT ATSSQ-P-HSGV-SR-GGAENAQT-EENRSES\n",
        "start"
       ]
      },
      {
       "output_type": "stream",
       "stream": "stdout",
       "text": [
        " 406 774\n",
        "idx1 380 idx2 751\n",
        "48 SYNNGDERDSKTNTFHSNIVVATRPT S-DAGDERHSHSSSPHSN-PGTT-PT\n",
        "start"
       ]
      },
      {
       "output_type": "stream",
       "stream": "stdout",
       "text": [
        " 183 14\n",
        "idx1 167 idx2 0\n",
        "52 QENQSNGRPGIPPGAA Q-NASSG-VGVPPGAA\n",
        "start"
       ]
      },
      {
       "output_type": "stream",
       "stream": "stdout",
       "text": [
        " 349 789\n",
        "idx1 336 idx2 772\n",
        "50 E-GQPPSS-S-VP-STV ELGRPRSSASPVPGSTV\n",
        "start"
       ]
      },
      {
       "output_type": "stream",
       "stream": "stdout",
       "text": [
        " 275 418\n",
        "idx1 231 idx2 373\n",
        "51 RVPDAAL--SSSPVPPPPCSGNTKRGITQMQYISN-TVINSTTLT-SP RLPD-GLDPATSPLSPSP-SAPQLFGLS-IRSLSNPSIVESVPLTGSP\n",
        "start"
       ]
      },
      {
       "output_type": "stream",
       "stream": "stdout",
       "text": [
        " 29 26\n",
        "idx1 7 idx2 4\n",
        "43 IS-PRESNYQGFLSPS-PMSSEPQ ISRPAD-NYHS-NSPAVEKSAEPE\n",
        "start"
       ]
      },
      {
       "output_type": "stream",
       "stream": "stdout",
       "text": [
        " 238 597\n",
        "idx1 171 idx2 533\n",
        "53 HVER-NQNQPNPLNCRAPSGGP--YYA-P-EPR-RRSSIFSQQSTAPQTPPMSSTATPSS-I-GGNKSDMKLTRE H-ARISEN--NP-NVGGPAGGSHIFHARPTDPPGTQSA--GTQRY-PQSDP-SVIPAPNSHVSAGS-SG-K-TRE\n",
        "start"
       ]
      },
      {
       "output_type": "stream",
       "stream": "stdout",
       "text": [
        " 67 682\n",
        "idx1 8 idx2 624\n",
        "55 HANSPNSQNTRSCWRPYDWLKPSEAALPIPR--M--N-QTTSTWSAVFIIGHSSQSIWDTLH-EK HSPPPHAQSRRA-WQA-E-VHPGQPQ-TEPHETMNSNTQKQAT-SAGFIIPVRN-GI-QSLHTER\n",
        "start"
       ]
      },
      {
       "output_type": "stream",
       "stream": "stdout",
       "text": [
        " 219 807\n",
        "idx1 185 idx2 768\n",
        "52 P-ESPIGSTSI-QM-MNM-ESV-TIRTAG-CVLPNRSS-SH PSNPPV-STSLGQSNRHLTEAVPTLRIGSTSVLV-RSELSH\n",
        "start"
       ]
      },
      {
       "output_type": "stream",
       "stream": "stdout",
       "text": [
        " 114 273\n",
        "idx1 72 idx2 232\n",
        "46 YPN-LTT-SSPDCNVPES--EKPYEQVRISIKLAIKSAQSSKRYG-I YPDSLTVPANP--SLPVSHNDRACGQA-VAED-AI-SARASN-YGPI\n",
        "start"
       ]
      },
      {
       "output_type": "stream",
       "stream": "stdout",
       "text": [
        " 77 675\n",
        "idx1 60 idx2 658\n",
        "40 CDGSAT-RNSIPRMGISI CSSSVMCSNSSPSMG-SI\n",
        "start"
       ]
      },
      {
       "output_type": "stream",
       "stream": "stdout",
       "text": [
        " 90 856\n",
        "idx1 66 idx2 834\n",
        "47 SPVISI-PYQGRSSKQGRSGAQEKS SPS-STGPYHTSSSR--RSASEETS\n",
        "start"
       ]
      },
      {
       "output_type": "stream",
       "stream": "stdout",
       "text": [
        " 28 411\n",
        "idx1 7 idx2 394\n",
        "48 RDRASRNS-NSRSTTSVTSQGN R-RPARNSGNN-S-T-V-GQGH\n",
        "start"
       ]
      },
      {
       "output_type": "stream",
       "stream": "stdout",
       "text": [
        " 226 217\n",
        "idx1 207 idx2 197\n",
        "45 TSREQGS-SISRNEVEN-VVP TSATEGSAS-SRQESQNEVTP\n",
        "start"
       ]
      },
      {
       "output_type": "stream",
       "stream": "stdout",
       "text": [
        " 398 704\n",
        "idx1 381 idx2 684\n",
        "68 PSGS--RENLRTPASGR-PQ PGGSVPRDSLISPASGRDPQ\n",
        "start"
       ]
      },
      {
       "output_type": "stream",
       "stream": "stdout",
       "text": [
        " 342 827\n",
        "idx1 308 idx2 799\n",
        "44 GVNSQEKSQQEPPPQPD-EPGRSESGFGVDQFAPQ GV-SGE-S-EGPPSRNEIEPN-S-SSFN-HRI-PQ\n",
        "start"
       ]
      },
      {
       "output_type": "stream",
       "stream": "stdout",
       "text": [
        " 96 491\n",
        "idx1 71 idx2 467\n",
        "41 PS--TS-SRSGLMDSNMGDPNRRASRQE PSGETSGGR-GII-RSL-TPTRRTT-QE\n",
        "start"
       ]
      },
      {
       "output_type": "stream",
       "stream": "stdout",
       "text": [
        " 364 508\n",
        "idx1 319 idx2 457\n",
        "56 SI-NDGRPPSPFPSQSE-I--PE-MYTGT-VS-QTDKQTPGN-NIA-PIIVNDP SIYSSAR-SSSF-SRSNVVSPPSVMFSGTDTSVPTPKL-PGNPSMSRPEEGHDP\n",
        "start"
       ]
      },
      {
       "output_type": "stream",
       "stream": "stdout",
       "text": [
        " 227 509\n",
        "idx1 135 idx2 426\n",
        "61 IYTTQVRSTPDYEHRVNQ-QN-PSTLNQACMMSGLWNNV-PMDQ-PRSAAKIGR-PQNAYNGP-PRSAQNREGVI-QEFSNKNEIGGYNDEILVPGV-RQ IATTQ--SS---EHRVSALQNHPANVNGA-VL-G-RQSISPASPVAQSAARFSNTPLS--NGVKERS-QA-GGLVDHQ-PNAN-LGP-VD--LRPSVSRQ\n",
        "start"
       ]
      },
      {
       "output_type": "stream",
       "stream": "stdout",
       "text": [
        " 158 36\n",
        "idx1 145 idx2 25\n",
        "45 DRVPSGYPISEPE DSVTSGY-IS-PD\n",
        "start"
       ]
      },
      {
       "output_type": "stream",
       "stream": "stdout",
       "text": [
        " 316 487\n",
        "idx1 285 idx2 460\n",
        "52 FP-VS-ADRERGWLYRRRTRLIYPHDE-SAMSPN FPLVAPTSR-RS-FFPRR-R---PHAETSP-PPN\n",
        "start"
       ]
      },
      {
       "output_type": "stream",
       "stream": "stdout",
       "text": [
        " 118 801\n",
        "idx1 78 idx2 762\n",
        "47 SPIINRDSRPR-RPD-V-ISPSWIAESSTANFQLIDP-RQTELL NPITT-NSRPSGIADLAPIGAS-QATSSTAK---ISAERATAIL\n",
        "start"
       ]
      },
      {
       "output_type": "stream",
       "stream": "stdout",
       "text": [
        " 263 104\n",
        "idx1 180 idx2 31\n",
        "58 SASE-PGYEVSSQGVSPDSSLAP-INALTQRSSVNNSLEPV-F-SDGPIKSE-H-IFTYMLMKTQ-VGSQNPPLIPSTTESINVVGKMPL SASESPANSVTS-AVC-TSHLVPWI--WVQ--SVLNT-TAVRLVMQG-INSNIHSILAN-LL-THSAG--N-PLFP---Q-VAHVSKFPL\n",
        "start"
       ]
      },
      {
       "output_type": "stream",
       "stream": "stdout",
       "text": [
        " 359 601\n",
        "idx1 296 idx2 540\n",
        "51 VQ-MDPRVSPRGGMWTYRTTL-LSPL-IPSQS-QYPSNPSI-VGTNQVFG-N--PQAVHK--AGPTHPGPDSG VQAFD--VSP-SA--SNR--LVLTPFSIQS-SKQ-TS-PSYDVSKSDG-GSSIAAQA-HSLVAVPSNLGPNSG\n",
        "start"
       ]
      },
      {
       "output_type": "stream",
       "stream": "stdout",
       "text": [
        " 110 827\n",
        "idx1 59 idx2 780\n",
        "49 SPPSVGNPVS-VTPSRIQGLNPQMQ-DITLCPAK-SPL-D-AGMRQLLVVGGDDP-P SPDS-SDPVAIVVPSS-QNLES-LAYN-T--P-KVSPYRSTTG-RA-M-IGPDEPFP\n",
        "start"
       ]
      },
      {
       "output_type": "stream",
       "stream": "stdout",
       "text": [
        " 396 194\n",
        "idx1 371 idx2 165\n",
        "47 RPSNNPQSTVS-PET-M-SIE-LQPNGRS RPASIPNSSVEMNATAMRGIHILEPQGIS\n",
        "start"
       ]
      },
      {
       "output_type": "stream",
       "stream": "stdout",
       "text": [
        " 83 505\n",
        "idx1 49 idx2 477\n",
        "48 R-PPRESQPRIKGMGGPLQGSQDT-SPYGFNTGGSS RAPP--SHG-IKSM-SPL---DETVSS-GANTAGRS\n",
        "start"
       ]
      },
      {
       "output_type": "stream",
       "stream": "stdout",
       "text": [
        " 55 271\n",
        "idx1 25 idx2 242\n",
        "44 PE-S-HAGSEAVA-TISPAPPKSQTNTIGPAQG PEPSTHK-TQA-ACGIHPN--NSEASEIGTAQG\n",
        "start"
       ]
      },
      {
       "output_type": "stream",
       "stream": "stdout",
       "text": [
        " 365 460\n",
        "idx1 344 idx2 442\n",
        "53 EAPKVSSPRIMWYPQNRQALS EAPTVNG--ILLY-QGRNALS\n",
        "start"
       ]
      },
      {
       "output_type": "stream",
       "stream": "stdout",
       "text": [
        " 256 568\n",
        "idx1 202 idx2 518\n",
        "60 SSCDAAP-E-AIY-SSSPIKISTSSSYPRPN-PETTLRASSTQT-YMSDHNPLNTEAMI SS-TSGPVESALYLERS-CKIP-SSTFSR-NTP-SSI-PSP-QSVYPSNQYSL-P-SMI\n",
        "start"
       ]
      },
      {
       "output_type": "stream",
       "stream": "stdout",
       "text": [
        " 393 195\n",
        "idx1 333 idx2 130\n",
        "52 VE-P-DRQNLHIERGRPSIPYEPTSPGK-GSRRVWETSKVGVYP--PQP-HG-T---P-N-QQT-WGIKNGQR VEVPNDR--L--SPGRAA-PRAPSS-SKHHSRSA-GSSEVS-YAHGPSPSHGPSCGLPTDSLQSVWEMSSGHR\n",
        "start"
       ]
      },
      {
       "output_type": "stream",
       "stream": "stdout",
       "text": [
        " 174 45\n",
        "idx1 135 idx2 7\n",
        "56 PSLKMI--AIRSS-VISRNPIVTQ-IPQSPSMYHSPQQQRTPH PSLS-IQGATVSTKVDPR-PSPTDAIPPS-SMAISS-NQR-PH\n",
        "start"
       ]
      },
      {
       "output_type": "stream",
       "stream": "stdout",
       "text": [
        " 51 251\n",
        "idx1 7 idx2 201\n",
        "69 NPSSTDSPKGSSP-IN-TPSFDIEG-MAAMPGQLGPPT-Q-I-NGG-T-AGS NPSGQAGANGNAAEINFISNSEV-SWMSP-AGQLNPPILNGIYHGGPTEAGS\n",
        "start"
       ]
      },
      {
       "output_type": "stream",
       "stream": "stdout",
       "text": [
        " 309 675\n",
        "idx1 223 idx2 592\n",
        "84 NAGKSP-QAV--GTP-SGGHAARLSPE-YALGYKTVSTIWLEPPGV-TP--ESP-RITNSHNVSNTTIPVDNGQSRQS-SEPNIAQYQPEQDNPRQ DAGSSPTRAIDRGVGLSTSHADKFT-EAYASGYATASST---HPGIPIPFSESPVRV--PLG-SNAT-P--N-QGPTSGSG-TIGASHAE-GNPRH\n",
        "start"
       ]
      },
      {
       "output_type": "stream",
       "stream": "stdout",
       "text": [
        " 319 293\n",
        "idx1 302 idx2 279\n",
        "49 GETTIYYNGYATMNQRR G-TT-YSN-YSTTNQHR\n",
        "start"
       ]
      },
      {
       "output_type": "stream",
       "stream": "stdout",
       "text": [
        " 317 322\n",
        "idx1 292 idx2 300\n",
        "54 R-SVMHPATVFCQTSISIGSIPPDSV RDSVVHP-IV-SP-SATISSI-SNSV\n",
        "start"
       ]
      },
      {
       "output_type": "stream",
       "stream": "stdout",
       "text": [
        " 265 383\n",
        "idx1 244 idx2 366\n",
        "48 QWGQAPSVSQAPRM-TSRDAPL QW--NPSASQ-P-ICAGRD-PM\n",
        "start"
       ]
      },
      {
       "output_type": "stream",
       "stream": "stdout",
       "text": [
        " 165 429\n",
        "idx1 120 idx2 384\n",
        "61 RPSLLQNSE--QYAKSQRLSEMQWCSAAT-TSHL--ESSRTE-QDRESASN RAFLL-SSESSHYGNY--LSESA-ASNSTYNNQLRMHSSR-EPRD-ESASN\n",
        "start"
       ]
      },
      {
       "output_type": "stream",
       "stream": "stdout",
       "text": [
        " 116 154\n",
        "idx1 92 idx2 129\n",
        "51 SDEEVWYTLTG-RIPDRSQYIP--GT-G SSNE-W-SLSALR-PTQSIYIPTVGTAG\n",
        "start"
       ]
      },
      {
       "output_type": "stream",
       "stream": "stdout",
       "text": [
        " 60 120\n",
        "idx1 22 idx2 86\n",
        "49 LGIISS-FPQWPRILPMPNSQPVSTKTSSP-S--VQTTDRST LG-ISALIGQ-PR--P-A-SQPGSTPI-GPLSRGV-AEDPST\n",
        "start"
       ]
      },
      {
       "output_type": "stream",
       "stream": "stdout",
       "text": [
        " 216 756\n",
        "idx1 118 idx2 668\n",
        "47 SRGRPYRVGPQRSTQP-STLAT-SGMNGGGVPMSDH-QRQPSSVNNIQNRGIPELGA-ISSTWQLTTPYSSPGG-PNRNQIYRGTPGPL-T--TSKPRHISTSGSQ S-G-P-R-APTHSSPPIKQLASRSE-N-GGVRTSSSC-ILPNRLPYADN-SIA--GNKIRS--QI-TG-GGPGSIPNRNNG-R-T-G-LHSDLTPPPGHVPVPGEQ\n",
        "start"
       ]
      },
      {
       "output_type": "stream",
       "stream": "stdout",
       "text": [
        " 84 46\n",
        "idx1 65 idx2 25\n",
        "60 NS-QPPDPLNEPS-R-STSLSS SSCQHP-PMNAPSLRMSPSLTS\n",
        "start"
       ]
      },
      {
       "output_type": "stream",
       "stream": "stdout",
       "text": [
        " 266 25\n",
        "idx1 252 idx2 8\n",
        "47 QG-S-PSLP-NRGSESS QGTSVHSVPYNRSGESS\n",
        "start"
       ]
      },
      {
       "output_type": "stream",
       "stream": "stdout",
       "text": [
        " 187 563\n",
        "idx1 167 idx2 540\n",
        "52 R-DG-PSDTVSM-SIQVRQA-SIE RANGTPSEHVSMPS-RGRPAFDIE\n",
        "start"
       ]
      },
      {
       "output_type": "stream",
       "stream": "stdout",
       "text": [
        " 70 430\n",
        "idx1 46 idx2 408\n",
        "45 TATGNGARNQNSKDWVGMP-LWQT-P TAASSGAR--NSR--AGLPSLNQSHP\n",
        "start"
       ]
      },
      {
       "output_type": "stream",
       "stream": "stdout",
       "text": [
        " 177 818\n",
        "idx1 130 idx2 771\n",
        "51 VPST-NAQTQDSS-SPSTHAPLR-NRA-TPGWPTESS-LTKDS-HLSKFLMRI IP-TFDAET-NRSHNPAVEGFLRQNNGCTQG-P-ESSDTTAGSNHM--YAVRI\n",
        "start"
       ]
      },
      {
       "output_type": "stream",
       "stream": "stdout",
       "text": [
        " 187 83\n",
        "idx1 134 idx2 32\n",
        "50 SIRAVRSQ--GGQPTGSSAPRELNSNPSGNKNPKNQS--VGPLVQTSSSTP-PPREIP SIKSGQNQSCAGRKRGASAP-A--CTASGANSP-AQSTGAGP-EESHSSTGY--RETP\n",
        "start"
       ]
      },
      {
       "output_type": "stream",
       "stream": "stdout",
       "text": [
        " 396 91\n",
        "idx1 325 idx2 18\n",
        "58 HRTLSDPWSQVGQAAI-Q-SSAMPVEYSFGMPDGESPSE---EQTGSQAIME-STVPAERVNP--ML--D-GQPIIGQPSCS HHT-SK--S-VG--VITPYTAALPEQY-YCKSGGDSSNESGIEPAASSPILHWSSLPNEHIDARCMANRDLGQ-IRNMP-CT\n",
        "start"
       ]
      },
      {
       "output_type": "stream",
       "stream": "stdout",
       "text": [
        " 308 558\n",
        "idx1 275 idx2 527\n",
        "50 GS-GPRMALSDIDEQSGGISVPTQPCVQYTSHQ-S GSQGAR-PLS-ISHGSRVIS-AIQPAI-YSSRRIS\n",
        "start"
       ]
      },
      {
       "output_type": "stream",
       "stream": "stdout",
       "text": [
        " 289 553\n",
        "idx1 266 idx2 532\n",
        "44 YSGPEPLILPSMSPPV-VP-SLQSE YGAPD-LI--S-SPPSRGPYGLEAE\n",
        "start"
       ]
      },
      {
       "output_type": "stream",
       "stream": "stdout",
       "text": [
        " 346 229\n",
        "idx1 321 idx2 202\n",
        "43 RSSSFIMQDSEM---SPQQEISMSNTS-G RSAS-AAAESELSIESPQAE-PASNISAG\n",
        "start"
       ]
      },
      {
       "output_type": "stream",
       "stream": "stdout",
       "text": [
        " 73 343\n",
        "idx1 40 idx2 311\n",
        "54 SSFSVSS-GP-SIGPYTASGRYPGKPV-VCTYNWLP SGFTTSSMGPSSLNINAAGG--PEKPVRV-R-NFLP\n",
        "start"
       ]
      },
      {
       "output_type": "stream",
       "stream": "stdout",
       "text": [
        " 273 608\n",
        "idx1 236 idx2 574\n",
        "58 NIFGKGYSLVNRPGSS--P--RYSTTPN-DDTLQNTRVDQSG NI-G-S-SLENRP-SSILPASRYSAHPAIAQT-Q--PV-HSG\n",
        "start"
       ]
      },
      {
       "output_type": "stream",
       "stream": "stdout",
       "text": [
        " 415 231\n",
        "idx1 389 idx2 206\n",
        "53 LVVL-SIRN-GQLSRRMIS-PVSLKQIPQ LVSLASVRHEG-LS---VSVPVGIGSIPQ\n",
        "start"
       ]
      },
      {
       "output_type": "stream",
       "stream": "stdout",
       "text": [
        " 71 296\n",
        "idx1 1 idx2 221\n",
        "50 GHDVKMQQSARSQSPP-MPS--PQ-A-TML---RQ-DIE-AQGWG-GSSSQTWRTGTP-GGDDEIISVRHLRERSVLYAD-RS G-DIQ-EQS-RKLSSTLM-SLLPASAVTALAQAKQIAIELSQSSAFPSPSTTHRSGKIYSAAPQ-IGVKH-RGHSV--ANRRS\n",
        "start"
       ]
      },
      {
       "output_type": "stream",
       "stream": "stdout",
       "text": [
        " 381 552\n",
        "idx1 338 idx2 511\n",
        "48 THGP-KN-NSSSNQTSEGVPRPGDS-AKRNQVLTANE-IQVR-KGSLR TH-PHRNPNSSC-EIS-SV--PSQSIA-HN-LLNRSDRLRLSDSGSLR\n",
        "start"
       ]
      },
      {
       "output_type": "stream",
       "stream": "stdout",
       "text": [
        " 422 344\n",
        "idx1 363 idx2 292\n",
        "56 QIDEGISYGSNQPSGEVNQQWSRANDS-VNASMPFLVQTQPRLYIRSLTLMISRIPC--MPN QNAEDIN-QA-QPS-AVLMQWEPASSSPSNA-LSF-VH-DAHL-IVS-SFGV-RLNCGSM-N\n",
        "start"
       ]
      },
      {
       "output_type": "stream",
       "stream": "stdout",
       "text": [
        " 48 144\n",
        "idx1 17 idx2 115\n",
        "49 MRPMAP-PGLAGKSEC-DIPELESGRTKQSCS-G MR-TSPLPSLNERNDCAQLSDLGS-R--QS-SQG\n",
        "start"
       ]
      },
      {
       "output_type": "stream",
       "stream": "stdout",
       "text": [
        " 113 164\n",
        "idx1 65 idx2 115\n",
        "54 SEPRSAMDGQPVAY--M--NKPYRKSPGSIDS-SRGTRTS-LKMGFFPS-PFSQG SESRTATAGAPVSFGSMVGNTA-SAS-NSIDRQS-G-RAQFVR-GLNPQIP-SQG\n",
        "start"
       ]
      },
      {
       "output_type": "stream",
       "stream": "stdout",
       "text": [
        " 242 451\n",
        "idx1 190 idx2 392\n",
        "52 PSSMNEDRPATSQKSTSEIET-P-R-GIQ-NT-A--NRQRMQVISYIT-SSTE-RP-NI--KSG PASINQER-ET-MRG-A-IQTSPISCSDKSSTSAIINRQNVQLF-FNTLSSAESRASDFCRKSG\n",
        "start"
       ]
      },
      {
       "output_type": "stream",
       "stream": "stdout",
       "text": [
        " 125 315\n",
        "idx1 89 idx2 279\n",
        "54 TARRS-GR-SNRVRLHY-ISYMPRRQVNASQIAGS-LPSQ TSHQSTSRPTSRIS-QSAVSY-ARR-IS-SAVEGTDAPSQ\n",
        "start"
       ]
      },
      {
       "output_type": "stream",
       "stream": "stdout",
       "text": [
        " 302 363\n",
        "idx1 269 idx2 329\n",
        "49 QI-T--QETTFI-SVFRSIGQTPPMQSTQQRRSLNHP HITTQCQQDEFVGSAGQSSGES-AMQ--ENRRSFTRP\n",
        "start"
       ]
      },
      {
       "output_type": "stream",
       "stream": "stdout",
       "text": [
        " 98 551\n",
        "idx1 68 idx2 522\n",
        "52 TV-SYPQAQPTTGMPHAAALQMTV-SGT-SGNV TISSCPSENPSSGLPQ---L-LNVYSGSKSANV\n",
        "start"
       ]
      },
      {
       "output_type": "stream",
       "stream": "stdout",
       "text": [
        " 366 632\n",
        "idx1 355 idx2 620\n",
        "47 C-P-TERLQSISF CTPRSERL-SISY\n",
        "start"
       ]
      },
      {
       "output_type": "stream",
       "stream": "stdout",
       "text": [
        " 421 472\n",
        "idx1 368 idx2 418\n",
        "47 SQNA-LVPKYI-R-TWSAAQ-TSAAV-AVPSNQRGYLEAPRSHSSPP-PKEKQTQNIIR SRSAGMVPK-ISHPTL-GGQGASPALQAETSN-R-Y-AAALSNPTGAYASERPPEGITR\n",
        "start"
       ]
      },
      {
       "output_type": "stream",
       "stream": "stdout",
       "text": [
        " 364 273\n",
        "idx1 306 idx2 223\n",
        "70 RPALKWGQ--LQVNHTLDRQTPSS-S-GSSRQAQTLPGQTYASQTVG-QTSSQEPMTGPNHAQ RSAV-W-QSSLQ-NN-L-I-NPSSVAPG-NRDSQSTSAQQY--QT-GCQSNS-D-M-EQNYEQ\n",
        "start"
       ]
      },
      {
       "output_type": "stream",
       "stream": "stdout",
       "text": [
        " 137 116\n",
        "idx1 114 idx2 94\n",
        "41 RVNGDALR-ATHYP--SDERPTSFSI RAS-EAYRGATRSPSASDE-P-DF-I\n",
        "start"
       ]
      },
      {
       "output_type": "stream",
       "stream": "stdout",
       "text": [
        " 86 231\n",
        "idx1 61 idx2 206\n",
        "59 PERVDTQATGGSSR-TSSCE-ASDNDT PE-EDYSATTGSSRPASSSDFASDS-T\n",
        "start"
       ]
      },
      {
       "output_type": "stream",
       "stream": "stdout",
       "text": [
        " 143 771\n",
        "idx1 117 idx2 750\n",
        "47 PYIGSQMFGSEMHGRSTIEQNEELAR P-IGSDILGSE-HFH-T-A-NERLPR\n",
        "start"
       ]
      },
      {
       "output_type": "stream",
       "stream": "stdout",
       "text": [
        " 404 811\n",
        "idx1 368 idx2 778\n",
        "47 GS-SRALMREGNYSV-ELNPSK-RPVRSPSRYLNQTNG-G GSISSA-VRQTDY-VGE-NGTRERPI-GQ-R--EQSSGAG\n",
        "start"
       ]
      },
      {
       "output_type": "stream",
       "stream": "stdout",
       "text": [
        " 347 806\n",
        "idx1 327 idx2 788\n",
        "46 TGSAPADTSMDTQRLSSRPN SGSGTSNNSVE-QRL-SRAS\n",
        "start"
       ]
      },
      {
       "output_type": "stream",
       "stream": "stdout",
       "text": [
        " 96 103\n",
        "idx1 76 idx2 82\n",
        "46 NRPGSEVG-GTPKDRSSA-EAH SRPGSGIGAGASMN-SAVLEEH\n",
        "start"
       ]
      },
      {
       "output_type": "stream",
       "stream": "stdout",
       "text": [
        " 49 368\n",
        "idx1 30 idx2 350\n",
        "44 TQAAQYTSGVQTSTPSGRG TQSSHFGSSV-YSTVSSRG\n",
        "start"
       ]
      },
      {
       "output_type": "stream",
       "stream": "stdout",
       "text": [
        " 295 643\n",
        "idx1 268 idx2 616\n",
        "52 STELLCSTTVASGAPRQTSIGM-DG-S-TG SSE-LCS-PVASGNGKD-NIDLPQGISPTG\n",
        "start"
       ]
      },
      {
       "output_type": "stream",
       "stream": "stdout",
       "text": [
        " 404 206\n",
        "idx1 384 idx2 186\n",
        "49 NTSRPSIEAMVMLGTQTRSG NTNTPSRDGIVSLGAQHSSG\n",
        "start"
       ]
      },
      {
       "output_type": "stream",
       "stream": "stdout",
       "text": [
        " 362 826\n",
        "idx1 328 idx2 797\n",
        "56 SQSQGYARYRSYRGLTNSIWDSSVEKSPSVFCPS SDSHGSLSYHAYRG--SS--ASS-EATPYLFCVS\n",
        "start"
       ]
      },
      {
       "output_type": "stream",
       "stream": "stdout",
       "text": [
        " 183 762\n",
        "idx1 141 idx2 728\n",
        "60 SGASSSQEN-TS-TRETKLELTVSVQVSSSGALQPTRIQNSESD SGASPT-GNGTSYSRES--E--VSIQAPANG--QAS--HHSD-D\n",
        "start"
       ]
      },
      {
       "output_type": "stream",
       "stream": "stdout",
       "text": [
        " 336 576\n",
        "idx1 307 idx2 549\n",
        "52 QLPSM-GE-QQP-QRRGQTSTPGMTMRTTNGS QVPSMGGSLSSPAQQL-QTSS-G--MKTAN-S\n",
        "start"
       ]
      },
      {
       "output_type": "stream",
       "stream": "stdout",
       "text": [
        " 79 531\n",
        "idx1 15 idx2 465\n",
        "60 IQLKAMSGQALFNPIMSQQTPSRPAL-L---RP-QGTP-LQQ-SS-YRSNVMVI-FMPKSSTHLSR-QTYAYVE VQVDSKGEQAQSNAI-SPL-ASQPMLIMSSTRASQ-SPRLHTCSPEYRHKVLGIE-SP-SSA--SWCE-YAYTE\n",
        "start"
       ]
      },
      {
       "output_type": "stream",
       "stream": "stdout",
       "text": [
        " 66 333\n",
        "idx1 35 idx2 309\n",
        "44 QNQIVMLGR-QSNRVRTTSSAIALEQVGS-MAG EN-I-ML-RAPSN-V--ASSRI---QASSGLAG\n",
        "start"
       ]
      },
      {
       "output_type": "stream",
       "stream": "stdout",
       "text": [
        " 153 231\n",
        "idx1 68 idx2 145\n",
        "66 QRQSPYM-GT--PFLSVDPEYMDS--LHL-SN-LVM-GD-A-PTNQLYGSSPQP-TVRINMNSAGQPRGSNIHSDQVGSNARVP-WSQTL-NAPTSFQ QRARPLLINTSEPF-C-EPDLQEPRELQQASSELVRNGEGANGTSH-Y-CCPAPLYVSL-IN-AGH-R-FEIQTAQ--SSPRVAQLAQSLCGGP-S-Q\n",
        "start"
       ]
      },
      {
       "output_type": "stream",
       "stream": "stdout",
       "text": [
        " 369 70\n",
        "idx1 349 idx2 46\n",
        "43 GGISKRV-GQMR-LRSMG-R--LIR GGVSRRTCSQISTMRP-GPRSCLVR\n",
        "start"
       ]
      },
      {
       "output_type": "stream",
       "stream": "stdout",
       "text": [
        " 268 482\n",
        "idx1 178 idx2 401\n",
        "53 RSSR--GNDTRHGT-YTRDNGMSGSSASMP-P-TPSTSFSLLCIYLMAAQASQQGKQGRFKSQSSSTIGICAGSTNPTAERPTPD-NVRI-V-GV-RRQ RASRAFGNITR-STKLSPSH-QA-SSSSRPCPSSPVAG-SLQPI--TESGASHDHIQ-RL-A-SNTAMG--A--T-PTG---IPEFSV-IGVGGVDQRQ\n",
        "start"
       ]
      },
      {
       "output_type": "stream",
       "stream": "stdout",
       "text": [
        " 362 346\n",
        "idx1 344 idx2 331\n",
        "60 RGINGKNSFGTPQELNNS RGLSGMN-F-TPQD-NSS\n",
        "start"
       ]
      },
      {
       "output_type": "stream",
       "stream": "stdout",
       "text": [
        " 31 238\n",
        "idx1 4 idx2 206\n",
        "40 SGIPATGAPGEG-PW-P--PLR-GTR-FRGNSM TGIQASSSPADAVNWSSGVP-RIATHIFHGSNL\n",
        "start"
       ]
      },
      {
       "output_type": "stream",
       "stream": "stdout",
       "text": [
        " 211 28\n",
        "idx1 196 idx2 13\n",
        "46 QNC-SATQPQRPQLEP QACASATEGQAP-IEP\n",
        "start"
       ]
      },
      {
       "output_type": "stream",
       "stream": "stdout",
       "text": [
        " 199 202\n",
        "idx1 179 idx2 177\n",
        "43 TQA-NAAGLQPQ-GP-PT-GP-T-PR TQSQQQASLE-QTGPTATNAPITVPR\n",
        "start"
       ]
      },
      {
       "output_type": "stream",
       "stream": "stdout",
       "text": [
        " 140 733\n",
        "idx1 114 idx2 706\n",
        "54 YSCISNDGKVD-SINT-QEAAYQSLESS FSAASSDGNISPAVNTIRQAVY-SMISS\n",
        "start"
       ]
      },
      {
       "output_type": "stream",
       "stream": "stdout",
       "text": [
        " 110 728\n",
        "idx1 29 idx2 641\n",
        "55 RMRGVPGKPNS-QRLTLPNKLESQPNNSYNG--LLDKPFIGSTLIHSVVGTNIS-GSL-AT-GYDPQN-LRSHST-AD--V--PQSDAYN-LVS RNKG-SSKRDTIQPVPLPHG-GPQAYNSYAGLLLLD-SHIASSL-DRVIE-N-SRAAVNANGG-DKLSEIRRTSTLSNQKVKGPPIDQYSVVVS\n",
        "start"
       ]
      },
      {
       "output_type": "stream",
       "stream": "stdout",
       "text": [
        " 188 755\n",
        "idx1 143 idx2 711\n",
        "62 RVFESSSPSS-ASPQQRQG-ESH--CSNSAEIA-KGI-SLGNTVKTIRIQS R-FQSSSPPNYLS-QER-SYTSNLD-RNS-EIGHRQIDSLPITV-D-RITS\n",
        "start"
       ]
      },
      {
       "output_type": "stream",
       "stream": "stdout",
       "text": [
        " 263 231\n",
        "idx1 241 idx2 209\n",
        "51 SKPEESQRVFDSGRNIRIVPRA SNPAETAREYNPDMPIRIASRA\n",
        "start"
       ]
      },
      {
       "output_type": "stream",
       "stream": "stdout",
       "text": [
        " 224 121\n",
        "idx1 155 idx2 54\n",
        "82 NKDRI-G--SASRPTVPPPTQPASGPNTGSLQA-S-SQTSQEKFCPCQN-PMAVNSNRIMAERSPGVPSPVS-SVT SKQRIVANVNAT-STI-SPSHPARGRGTNKLQPRSRSPSSHDE-VP-LSVPK-LN-YRLISEHS---SSPVARSVT\n",
        "start"
       ]
      },
      {
       "output_type": "stream",
       "stream": "stdout",
       "text": [
        " 242 244\n",
        "idx1 221 idx2 218\n",
        "43 P-QGITQS-ESGDQQVV----PNNRSP PSQGR-QSYASASQAVVLGLFPSDRRP\n",
        "start"
       ]
      },
      {
       "output_type": "stream",
       "stream": "stdout",
       "text": [
        " 55 58\n",
        "idx1 33 idx2 37\n",
        "52 PV-EQLVPMMSEGLSSSNYQSVG PVGGQLLSAMSES-SGSN-TSAG\n",
        "start"
       ]
      },
      {
       "output_type": "stream",
       "stream": "stdout",
       "text": [
        " 194 739\n",
        "idx1 166 idx2 714\n",
        "48 LTSDTRHAPSDEPDPVTPAQNQPS-YQSS L-STTRH-HSH-SNHI-PALPRSSNYQSS\n",
        "start"
       ]
      },
      {
       "output_type": "stream",
       "stream": "stdout",
       "text": [
        " 75 488\n",
        "idx1 45 idx2 459\n",
        "42 ESIGNLRWHSGQTA-ATCRE-ELIDQSVT-NPT DSLG--R-LSGQAPGVT-IESEPIEPTVVLSPT\n",
        "start"
       ]
      },
      {
       "output_type": "stream",
       "stream": "stdout",
       "text": [
        " 94 695\n",
        "idx1 66 idx2 671\n",
        "40 ASDEGSTRWSDMPVG-EWSPGPVIKSRGP ASSSGSI---DMP-GAE-HQGGVVAPRSP\n",
        "start"
       ]
      },
      {
       "output_type": "stream",
       "stream": "stdout",
       "text": [
        " 102 351\n",
        "idx1 60 idx2 299\n",
        "50 RFS-VI-SSSL-TVTN----YIKS-QTRMA-NKIGNP-QS-A-VNGNRSKQ-SVP RYSHVLGPSSPEDVSNRYAQYI-SVQPAMSKHQI-DPGPSRGHVS-NTEKHGSVP\n",
        "start"
       ]
      },
      {
       "output_type": "stream",
       "stream": "stdout",
       "text": [
        " 49 53\n",
        "idx1 16 idx2 18\n",
        "41 PARNVRKA-PGQP--DSSLLDSMTLKSLPLVL--SGSA P-KNGRSIHPGASHFGNS-LETMQM-SVASVLAPSGSA\n",
        "start"
       ]
      },
      {
       "output_type": "stream",
       "stream": "stdout",
       "text": [
        " 111 457\n",
        "idx1 79 idx2 424\n",
        "58 SSDGGEHLGPLSPIPN-G-Q--SQAHEPNGKTVEAN SGDGSA-L-PSSPVPDSGVQSVSPGHAPAA-SISAN\n",
        "start"
       ]
      },
      {
       "output_type": "stream",
       "stream": "stdout",
       "text": [
        " 69 552\n",
        "idx1 36 idx2 515\n",
        "45 SI-LMGPAM--LKININSS-SDIPGQRDE-IQIQDGQS SIRLAGPGRSPLSSTIRSTLSHNAAERAEPV-IQSGNS\n",
        "start"
       ]
      },
      {
       "output_type": "stream",
       "stream": "stdout",
       "text": [
        " 62 834\n",
        "idx1 31 idx2 801\n",
        "46 L-EDRSPKVMSD--LEMRTPSTGTRCTI-S---IWPGH LGQDIIPSV-NEAKLEL--PS-EIRCPIPSHNVI-PGH\n",
        "start"
       ]
      },
      {
       "output_type": "stream",
       "stream": "stdout",
       "text": [
        " 264 741\n",
        "idx1 231 idx2 706\n",
        "51 QQSRDP-G----NFQLAQ-AYNGSGSKVTGAPV-SGRDPG QQSQ-PTGSVSSNYQL-QKA-TDSGS-I-ENPISSGSSAG\n",
        "start"
       ]
      },
      {
       "output_type": "stream",
       "stream": "stdout",
       "text": [
        " 144 333\n",
        "idx1 114 idx2 310\n",
        "59 ENFGGLGEFLEGVLAPMSTDQMNPPGCAPT ENF-SL-P-LE-VLA-LS-DH-GPEICAPT\n",
        "start"
       ]
      },
      {
       "output_type": "stream",
       "stream": "stdout",
       "text": [
        " 255 292\n",
        "idx1 231 idx2 266\n",
        "47 Y-GRPFGS-LVNDSMTE-NSAR-SGNLR YPG-PFGSFMVAGSVKEGEPVHGSAN-R\n",
        "start"
       ]
      },
      {
       "output_type": "stream",
       "stream": "stdout",
       "text": [
        " 251 647\n",
        "idx1 238 idx2 633\n",
        "45 GLNRLSATRSGE-P GLAQLSITRSTERP\n",
        "start"
       ]
      },
      {
       "output_type": "stream",
       "stream": "stdout",
       "text": [
        " 180 683\n",
        "idx1 147 idx2 644\n",
        "54 SV-T-H-ES-S-RPQQEGT---PINRDTNQSLNQNS-TP-PTG TVSTIHSQSISARPQNEGAYMMPMN--ASL-LS-SSRTAHPTG\n",
        "start"
       ]
      },
      {
       "output_type": "stream",
       "stream": "stdout",
       "text": [
        " 203 579\n",
        "idx1 161 idx2 538\n",
        "46 ER-GSPDSVPNSLQSLTNRTSQITSNLRRT--VTV-SIAVDMPGEP ERHHSRSNAPSS-E---HRSSLLISNIIETLFVSVTSMASDLPS-P\n",
        "start"
       ]
      },
      {
       "output_type": "stream",
       "stream": "stdout",
       "text": [
        " 397 473\n",
        "idx1 362 idx2 437\n",
        "42 NHMYPQKYIQ-GC-SS-SITTGNMPVSESQPAS--GPTRT NHK-PATHRQSGSFSSPSGNTGNHP-S-PASASLRGP-RS\n",
        "start"
       ]
      },
      {
       "output_type": "stream",
       "stream": "stdout",
       "text": [
        " 113 557\n",
        "idx1 32 idx2 487\n",
        "52 YSENHSNMAQSNT-PQNVITLLETFATRMRVE-R-SNNT--GPYNMTPPTTV--PWIRHQFQPGYQSDLASISQSPQHGTKNNGWI-QP FSQ-H-Y-SQGDTSPASCI---ETF-TR-HVQARDTSSAGEGP-SQ-HQTTVHLP-L-HAPEPG--A-L-S-AQ--QNDPKAAPWAGHP\n",
        "start"
       ]
      },
      {
       "output_type": "stream",
       "stream": "stdout",
       "text": [
        " 157 263\n",
        "idx1 116 idx2 223\n",
        "50 E-QSDPEEV-QYRSQEQK-L-AVIG-PLMPDITSFSGNGVRPHSRN EADSDP--VGQ-QSQGHDGLSPVGGFPL-PVIMRLT--PVQPQSPN\n",
        "start"
       ]
      },
      {
       "output_type": "stream",
       "stream": "stdout",
       "text": [
        " 199 504\n",
        "idx1 125 idx2 433\n",
        "61 VTSTVN-EGLSSSA-PEKMSPLSRQ-LQPVQTPSGIAQWLRPS-PYSFQQSSQPGLEHGTIANPVGWGC-GTSPY-H-MST V-SPIDSQAVSSTAGPSKMASIVRHTLE--QEP--LARRLAACLP-V-EKSTEL-LNH-SISTGAS-SCHSQSPYTNALST\n",
        "start"
       ]
      },
      {
       "output_type": "stream",
       "stream": "stdout",
       "text": [
        " 218 201\n",
        "idx1 140 idx2 118\n",
        "49 SIRIEWIPRLE-ITIFSLEVSSQQMELSD-GRCNGFSEPVRCDTAPPQIQ-N--YKP-QRD-GSPSQ-NQI----SI---VMNSSGT-EPRMRI SISI--TP-VQYSTIASL-ASSEQSE-TEWQQ-N--T-LIQTESNPPHAQSNDSF-PSLRSPGSGSSYHHIPECRSVFRNV-HSSGTLQPTVQI\n",
        "start"
       ]
      },
      {
       "output_type": "stream",
       "stream": "stdout",
       "text": [
        " 422 439\n",
        "idx1 408 idx2 423\n",
        "49 TSRIRAGE-R-QDPPS TSHVRAASLRDQDPQS\n",
        "start"
       ]
      },
      {
       "output_type": "stream",
       "stream": "stdout",
       "text": [
        " 309 525\n",
        "idx1 277 idx2 493\n",
        "55 ENPPANIASGPNNKQIKASNP-SSSRTPSSS-IL EAAPAPIA-GPSN-GIAASASYNSGRERGSGLVL\n",
        "start"
       ]
      },
      {
       "output_type": "stream",
       "stream": "stdout",
       "text": [
        " 56 41\n",
        "idx1 27 idx2 8\n",
        "44 SDTSPFYSWSFM-DGQS-EPE-PTS-P-NANNGG SQSPPIFS-SFMSNSHAGDLELRTSTQIKATAGG\n",
        "start"
       ]
      },
      {
       "output_type": "stream",
       "stream": "stdout",
       "text": [
        " 283 630\n",
        "idx1 265 idx2 614\n",
        "40 HRTPLSQLPAERI-VFYGP HR-PVVTLPSD-IQVSY-P\n",
        "start"
       ]
      },
      {
       "output_type": "stream",
       "stream": "stdout",
       "text": [
        " 93 491\n",
        "idx1 73 idx2 471\n",
        "40 W-SQSGSLGKWGSVKRNEHST WMTQSSNLIHSSSA-RSDHSS\n",
        "start"
       ]
      },
      {
       "output_type": "stream",
       "stream": "stdout",
       "text": [
        " 357 65\n",
        "idx1 307 idx2 15\n",
        "47 VPQGTNNS-TDEI-VMSESNAMSYTGGGAATIL--THKSSL-KQEYSSQDTQKSI VPHGTKNAYSNTFRNLTVTS-MKYL--SAVSLLSPSH-GGLNKNEATS-ETNRSI\n",
        "start"
       ]
      },
      {
       "output_type": "stream",
       "stream": "stdout",
       "text": [
        " 291 309\n",
        "idx1 136 idx2 168\n",
        "53 FGCPN-LPYGDGKNGVSNRSPELWSSQMRSMTRVSREGVLEIGEEPYVPEASVAMFSEGNMSSAN-IG-IPHT-E--S-QTKDQQRN-LNAESMTPTIQGSPILH-PGCDV-TS-G-RALPFVQRP-LGDSASNGI-TQPVSSSCGQAQEPGEWKTTKD-P-TIT-VMNSQS FGCSNSL-YPAS-SGRSNK-QE--GV-LRPMHRIC----LD-G--P-SSDVS-E--STRTLSSANALGNFPSTVNPSSCPSRSEQSTGLGGES---AI-VSS-LRAAG-EVMNSTACRA-S-SQHPAL-RSA-I-IDSRPLWISC-QAIE-VA-STLKSYPCSITQASNSSS\n",
        "start"
       ]
      },
      {
       "output_type": "stream",
       "stream": "stdout",
       "text": [
        " 77 212\n",
        "idx1 67 idx2 203\n",
        "43 SPNPEGNSAG SPNPD-ESAG\n",
        "start"
       ]
      },
      {
       "output_type": "stream",
       "stream": "stdout",
       "text": [
        " 57 352\n",
        "idx1 15 idx2 303\n",
        "51 TPCPG---WTLVIQ-SR-TAR-ER-DS-GRKLS--VG-ANQAASMICSTLEST TP-PGTKIWILNYQESRITNKLESCISQGR-LAVFVSPTSQRA-QINST-DST\n",
        "start"
       ]
      },
      {
       "output_type": "stream",
       "stream": "stdout",
       "text": [
        " 179 543\n",
        "idx1 155 idx2 522\n",
        "44 VRSGSWESERASQVRNENTGSTPN VNNAS-SSE-SSQASN-SPGSPPN\n",
        "start"
       ]
      },
      {
       "output_type": "stream",
       "stream": "stdout",
       "text": [
        " 403 485\n",
        "idx1 372 idx2 453\n",
        "53 QATSPINTSS-SPMSV--SP-TGFQQNGLKQDSHP QSASPLSCSNISSLSVRHSSGSGF--NGV-HTYHP\n",
        "start"
       ]
      },
      {
       "output_type": "stream",
       "stream": "stdout",
       "text": [
        " 206 650\n",
        "idx1 178 idx2 625\n",
        "48 SLVPHSGWR-TDLKIDDVQRQPVSSIMSR SL--HRGWRKANL--SNMQQDSQNAILGR\n",
        "start"
       ]
      },
      {
       "output_type": "stream",
       "stream": "stdout",
       "text": [
        " 342 811\n",
        "idx1 308 idx2 777\n",
        "46 PMSQSD-RNRGIYFESFATG-MSTVLQAYPNSIVLP PVAQSDSSNHSLHFQD-VHGHVN-VPTSYPRSLVKP\n",
        "start"
       ]
      },
      {
       "output_type": "stream",
       "stream": "stdout",
       "text": [
        " 301 545\n",
        "idx1 267 idx2 506\n",
        "49 GS-VLI-GQAR--SSGMPD-NEEPEM-TLETT--RAS-SG--PHY GSFV-IAGH-RHFSS-MSSLN--PALPSLETAIGRSSLSANFP-Y\n",
        "start"
       ]
      },
      {
       "output_type": "stream",
       "stream": "stdout",
       "text": [
        " 210 636\n",
        "idx1 156 idx2 578\n",
        "64 TYPDPVL-REKRVSPLT-P-GGKRSVSMPDIEHMHQSNFQ-MS-T-WD-YRAGRGR-S-ITSS SFPANLMGRNRR-S-LSKSRAGPRGHSMPSI---HPSDFHGRSFSINDVYRAANGSLAVISNS\n",
        "start"
       ]
      },
      {
       "output_type": "stream",
       "stream": "stdout",
       "text": [
        " 154 113\n",
        "idx1 130 idx2 89\n",
        "51 NMPRWSIP-RPF-ASPSVYTPSLLLP NMAQ-SEPLKHFRAEPQV-TTSLALP\n",
        "start"
       ]
      },
      {
       "output_type": "stream",
       "stream": "stdout",
       "text": [
        " 331 212\n",
        "idx1 301 idx2 186\n",
        "50 GGLPSYSPGGSVSSPRSDKFGTSPAHN-MAF GG-PRNSPPGSAKSRRS-R-E-SP-HTVLAY\n",
        "start"
       ]
      },
      {
       "output_type": "stream",
       "stream": "stdout",
       "text": [
        " 206 729\n",
        "idx1 180 idx2 700\n",
        "53 PGVDKPYSID--S-SE-DRTRLIAGDNPTT PEVSQPASNDLTSVSDTERT-VVPGSSPTT\n",
        "start"
       ]
      },
      {
       "output_type": "stream",
       "stream": "stdout",
       "text": [
        " 376 119\n",
        "idx1 343 idx2 85\n",
        "52 STPF-R-GSVIMVPERQGMAQLSYS-NVLT-IGQSGN ST-LQRLSGLILV-NRQP-TEVHNSNNVISAIAQSGS\n",
        "start"
       ]
      },
      {
       "output_type": "stream",
       "stream": "stdout",
       "text": [
        " 140 573\n",
        "idx1 67 idx2 485\n",
        "68 S-GKSLT-DQ-T--GKSLVFITISV-YSFNPN-VA--QSEAHT-MP-QRN--PFD-S-RVTLLSGLASPNGRVEIPTGRQ-LP-Q-SSL-HS SDGSSLSVNQSSGMGRSPSFISPAHWY-IEQNGSAFVQ-EVNTRISLQKSAPPYAPAGR-TLLASQASPNGNL-ISSKRALLPVQVGNLTRS\n",
        "start"
       ]
      },
      {
       "output_type": "stream",
       "stream": "stdout",
       "text": [
        " 201 709\n",
        "idx1 120 idx2 627\n",
        "56 LP-LVEGQSSGP-PP-RGEAR-QEAPETQVS-PLVMMIPVSPPGAPRNSQDQRNDLSAM-ST-SIMT--AT-SSIGTFTR-S-SSKISVG-RGC LPNL-EGLTTSPQPPGSANANDQEM-DCR-SRP-V--AP-SPTGT--STQIEASEQSIVHKTGS-LTGQPMRRSIATYGCLSASSS-SVGSR-C\n",
        "start"
       ]
      },
      {
       "output_type": "stream",
       "stream": "stdout",
       "text": [
        " 358 516\n",
        "idx1 306 idx2 465\n",
        "44 SPQT-SLRSGNRLA--VQRTS--FPVCSMSHVLINTGSPHIWDGEAFAIAM-WDSSK-P NPLTQS-SSASRYASMVH-ASGWFRK-SMS--LIRA-KPSF-DSHAY-ISMSFASSNLP\n",
        "start"
       ]
      },
      {
       "output_type": "stream",
       "stream": "stdout",
       "text": [
        " 25 439\n",
        "idx1 6 idx2 421\n",
        "47 GSPQESQPST-LIFVRGEPH GEPQDS-ASAHLDYVR-QSH\n",
        "start"
       ]
      },
      {
       "output_type": "stream",
       "stream": "stdout",
       "text": [
        " 201 250\n",
        "idx1 180 idx2 227\n",
        "61 NSA-SSNI--SLS-QPVSGPVSDPN NSAISSNILGSLSHQSIEGS-SE-N\n",
        "start"
       ]
      },
      {
       "output_type": "stream",
       "stream": "stdout",
       "text": [
        " 105 322\n",
        "idx1 67 idx2 283\n",
        "54 PSGGSGSRYDTI--EGSNPGPRTWSP-EG-RSITTSNNLP-PT PSSGPGTS-D-ISSDAQSPSSRA-SPVQGCTSFSIS-AIPFPT\n",
        "start"
       ]
      },
      {
       "output_type": "stream",
       "stream": "stdout",
       "text": [
        " 241 199\n",
        "idx1 173 idx2 128\n",
        "60 STMIPHPARYSGPESSSPTH---VLFQYQVSINWGDPSCI-GHR--EF-I--LSSS-N-RLNR--PLEGT-QTPSINRTNNN SQM-PHTIR-SEPEASSPVQDSGGTF---VSIP-G-SSSILHHSPVEIHIPGPSTSYNESLLWAGPL-GSVQ-PS-S-SNAN\n",
        "start"
       ]
      },
      {
       "output_type": "stream",
       "stream": "stdout",
       "text": [
        " 38 364\n",
        "idx1 2 idx2 332\n",
        "47 KNTQRIRSPNS-NVDF-RYCGRNPMSDSLYQNAP---LPHL KHSKRI-S-NSMKV-FLRE-G-SA-SN--YKN-PTNGFPHL\n",
        "start"
       ]
      },
      {
       "output_type": "stream",
       "stream": "stdout",
       "text": [
        " 38 541\n",
        "idx1 18 idx2 521\n",
        "48 GPN-FGESLGP-RVTGMGIEGR GPNQSSENLGSLR-TGLEI-GK\n",
        "start"
       ]
      },
      {
       "output_type": "stream",
       "stream": "stdout",
       "text": [
        " 224 309\n",
        "idx1 200 idx2 285\n",
        "52 PQALENY-DETCQSPS-SSVK-GLSSV PQA---YSDHTGRSPSFRSGKRGMSSI\n",
        "start"
       ]
      },
      {
       "output_type": "stream",
       "stream": "stdout",
       "text": [
        " 280 130\n",
        "idx1 253 idx2 101\n",
        "46 KPSISQTM-RLANP---PSQSSLGERTSLQQ KADMSE-MARLAMPMAGPLLSSLNARGT-QQ\n",
        "start"
       ]
      },
      {
       "output_type": "stream",
       "stream": "stdout",
       "text": [
        " 142 588\n",
        "idx1 107 idx2 553\n",
        "55 CFNLIPQ-Q-TLAQTTSDQ-SRL-ASQWTVPGERTSSRS CL-LVPHSEATIVR--SDEPSRMIASHNSSPAEW-PSRN\n",
        "start"
       ]
      },
      {
       "output_type": "stream",
       "stream": "stdout",
       "text": [
        " 71 236\n",
        "idx1 44 idx2 205\n",
        "51 HLPMG---QGWTLTMIQ-R-NQR-NEIDMRL--GT HLPGGSPSQFWS-T--HGRINQRANE-PMHLHAGT\n",
        "start"
       ]
      },
      {
       "output_type": "stream",
       "stream": "stdout",
       "text": [
        " 228 652\n",
        "idx1 127 idx2 544\n",
        "51 GS--GIS-SC--G-GSPSG-VFPGSNE-S-RADYSSYEMR--E----SPTT-DTS-GPDNNQINQSCIQYDSSRRHTG-GSSFMNMVSGTE-ALGLDQGTLST-E-PS-YLGEI-P-GIS-RVLQR GSHLGVSASCYHGAGQREGNV--G-EQCSFHA--SSFAMRFKEIICASPTNRAQSY-P-GHE--RA-T-YD--QR-VGNDSSHKHQVPGSSRAL-LNSPS-STPDSPSIYVG-LNPASLAGR-LQK\n",
        "start"
       ]
      },
      {
       "output_type": "stream",
       "stream": "stdout",
       "text": [
        " 109 648\n",
        "idx1 95 idx2 632\n",
        "47 LP-C-AQYRPRSP-ASI LPNCIVQ-RIRSPGSSI\n",
        "start"
       ]
      },
      {
       "output_type": "stream",
       "stream": "stdout",
       "text": [
        " 421 704\n",
        "idx1 366 idx2 647\n",
        "62 TLANRVNWSSRNSSLVSPTGQGG-SGTPDGLLS--V-SDLPPVRVM-GLQN-HIT-SQPSMY SLAHHPNR-DR-SALASLRAQPALSCTS-G-LSPEVPSTLAGVQSMQGL-NLQISISNTSVY\n",
        "start"
       ]
      },
      {
       "output_type": "stream",
       "stream": "stdout",
       "text": [
        " 110 570\n",
        "idx1 80 idx2 536\n",
        "50 SCI-SLCQALEGTTPV-K-S--Q-PNFP-HL-SSRSHS SCVYN-C-G-NG-TPVANVTEEQFPDGPDHLRSTTSHS\n",
        "start"
       ]
      },
      {
       "output_type": "stream",
       "stream": "stdout",
       "text": [
        " 334 414\n",
        "idx1 295 idx2 375\n",
        "48 SRREAEFTGK-PRTGSRTNHHSRSSLTPS-SPVYSRNMRGP SQSEAAFSGRVPITEDHTPEQG-GSISRGHSPI-RRSTVGP\n",
        "start"
       ]
      },
      {
       "output_type": "stream",
       "stream": "stdout",
       "text": [
        " 341 453\n",
        "idx1 303 idx2 414\n",
        "46 TTQREGENY--G-GPQTPI-SSM-HSYW-AMGDVLP-PWSPNCSP ST-RSGSGYHPGKEPQS-IGSSLYHG-RSSMNE-NPYP--ANSSP\n",
        "start"
       ]
      },
      {
       "output_type": "stream",
       "stream": "stdout",
       "text": [
        " 190 348\n",
        "idx1 91 idx2 247\n",
        "63 PS-RRLADATREPIVSDSQVIPTTAPDS-KQL-VPNENNPISVRRQPSISKIYR--EAR-SSKM-Q-GV--IGGMSFSSSNMA-PSLSI--QTRP-PNPGNSLTDWSPNTG-HF PNCRS-ANAT---LIS-SQ-I--SGPSSVDQARCPDVAGCSSIKS-PGVTKVEKVAEGRPSSSMSHTTLNHVDAIAHNSASSAHPTWSVPSQRRSTPLP--SKTN-SPN-GLHF\n",
        "start"
       ]
      },
      {
       "output_type": "stream",
       "stream": "stdout",
       "text": [
        " 130 106\n",
        "idx1 82 idx2 55\n",
        "64 KEPSTSP-SP-ERRVFIPSDRESTPNS-VQLQPVG-F-TSNS-LPDG--PGPQSRA RDAS-SALSPGEQS-YARS-HE-QPSSEIQ-HPVKHYSTSSSHLPPSLIAGSQVRA\n",
        "start"
       ]
      },
      {
       "output_type": "stream",
       "stream": "stdout",
       "text": [
        " 175 504\n",
        "idx1 126 idx2 456\n",
        "55 ELRTNPLKAHYQNLQVRMQDRNPCIPERG-TQPG-MAQS-PS--P-PFSLRL-VVP ELRVSGL-G-Y-AI-VD-Q-KNASI--RGPSTPGLLARSVRSDQPWPNSLSLFLVP\n",
        "start"
       ]
      },
      {
       "output_type": "stream",
       "stream": "stdout",
       "text": [
        " 199 692\n",
        "idx1 163 idx2 650\n",
        "52 SRTTSSA-GVQMHWD-YNQ-N--SV-P-VPYLLSLGGM-SG-EWV S-SASSASGAQIHNEPESQKNGGSERPLIQ-LLVMGGMGSSVE-V\n",
        "start"
       ]
      },
      {
       "output_type": "stream",
       "stream": "stdout",
       "text": [
        " 400 721\n",
        "idx1 355 idx2 668\n",
        "48 QSHELNM-PQ--SF-ASHGTR-QG--SLELN-QAHTVEL--GRPMPVFM-SDCEMQ QSQD-NLFSHGPSFSPSSGTKHQGPHSSSINSQSATNQLIPGRNNQ-LMESE-DIQ\n",
        "start"
       ]
      },
      {
       "output_type": "stream",
       "stream": "stdout",
       "text": [
        " 414 704\n",
        "idx1 390 idx2 680\n",
        "62 V-RPPCSAPYQEIPESQRVSIDTI-I VARPP-SSPY-DSPAALSSSVDSISI\n",
        "start"
       ]
      },
      {
       "output_type": "stream",
       "stream": "stdout",
       "text": [
        " 71 63\n",
        "idx1 57 idx2 49\n",
        "50 QSAHLSQP-PRSQG-S QRAH--QPLPHSQGLS\n",
        "start"
       ]
      },
      {
       "output_type": "stream",
       "stream": "stdout",
       "text": [
        " 139 600\n",
        "idx1 112 idx2 565\n",
        "50 SC-S-DPPSAQ-I-QTEPQTI-L--S-LNS-EAFS-H SCKSEDPLRLQGISQQEPQ-INVDGSTLLSKE-YSPH\n",
        "start"
       ]
      },
      {
       "output_type": "stream",
       "stream": "stdout",
       "text": [
        " 283 594\n",
        "idx1 270 idx2 583\n",
        "48 IPSVNNTWDQVYS IPSLNNS-QQ-YS\n",
        "start"
       ]
      },
      {
       "output_type": "stream",
       "stream": "stdout",
       "text": [
        " 97 176\n",
        "idx1 56 idx2 138\n",
        "51 NSSTYSRPSASRQVDSLGS-ISLPPR-GIDPM-EIIPDSSKRRV NSPT--RNHATR--NA-GSPTSI-HRSGLSPMPSFIVNTNRRSV\n",
        "start"
       ]
      },
      {
       "output_type": "stream",
       "stream": "stdout",
       "text": [
        " 392 744\n",
        "idx1 322 idx2 678\n",
        "53 SSPNE-C-KENEEI-SAS-WGPIPLSGPEDRRDGSQRSTNTYLS--DQVGRGLLAFSGGGEPASP-TSEFPSSAEAP TSNNESCVKDS-TIRRGSGW--IT-NAPPDHH--SQACTATSESKTDRAG-GFLA--GSTAPVAHLTS--ASSLPAP\n",
        "start"
       ]
      },
      {
       "output_type": "stream",
       "stream": "stdout",
       "text": [
        " 56 202\n",
        "idx1 46 idx2 191\n",
        "41 RY-T-QPSQTTG RYPTLQSSQ-TG\n",
        "start"
       ]
      },
      {
       "output_type": "stream",
       "stream": "stdout",
       "text": [
        " 205 159\n",
        "idx1 166 idx2 113\n",
        "51 PRLQRNTLTGNLL-T-IG-G-QGK--IGSSTATRSWQ-RQP-S-MDES PRAPRSTLIGPLQASRNGAGFRGRTTIGAN-LTRA-QLSEPSSHMSSS\n",
        "start"
       ]
      },
      {
       "output_type": "stream",
       "stream": "stdout",
       "text": [
        " 156 217\n",
        "idx1 125 idx2 183\n",
        "56 ISSSQLKPPLTML-LV--S-S-EEPLNSSSSKLTSP ISSSP-NNA-TQISLVAHSLNVEEPLRNPSVRLSSP\n",
        "start"
       ]
      },
      {
       "output_type": "stream",
       "stream": "stdout",
       "text": [
        " 235 348\n",
        "idx1 199 idx2 314\n",
        "52 ETARSKSLSPTVLTQINTRTQL-IRGARL-GPIQNRIY DSAQSESLTPD-LNSLPTANQYSIR-S-LCGEILNR-Y\n",
        "start"
       ]
      },
      {
       "output_type": "stream",
       "stream": "stdout",
       "text": [
        " 286 191\n",
        "idx1 253 idx2 161\n",
        "55 RQES-GQPPKHTTRRLSTPSNRGPMID-SSMVSSK KQESEGQ---DGT-R-GVPASRAPMQERSSIICGK\n",
        "start"
       ]
      },
      {
       "output_type": "stream",
       "stream": "stdout",
       "text": [
        " 326 460\n",
        "idx1 296 idx2 431\n",
        "53 IQVRVSGPPRYG--DSDSNSQLF--SSINQPNRG IQVR-SD-PQFGPIPSASSNH-FWLQSVDQ--RG\n",
        "start"
       ]
      },
      {
       "output_type": "stream",
       "stream": "stdout",
       "text": [
        " 213 588\n",
        "idx1 189 idx2 562\n",
        "46 PPSV--ESGAYDV-GAPRRISATLSTR PPGIQSDSGPHSAHSAPQK-NANISTR\n",
        "start"
       ]
      },
      {
       "output_type": "stream",
       "stream": "stdout",
       "text": [
        " 375 509\n",
        "idx1 329 idx2 469\n",
        "50 P-RIGVKQRSEDRKIN-RG-Q-PVSIQRQGNQ-SLLTYRVEFTDISRQAMQ PHRIG-K--S-N-TIHPRETQCP-S-QRPNTEVS-LANHVD--DHSSQ-VQ\n",
        "start"
       ]
      },
      {
       "output_type": "stream",
       "stream": "stdout",
       "text": [
        " 194 169\n",
        "idx1 169 idx2 145\n",
        "50 RGL-PSPSSTVFPPSTIPVSRRSVSG RNLDESSSAVVNPPSHVPL--RSESG\n",
        "start"
       ]
      },
      {
       "output_type": "stream",
       "stream": "stdout",
       "text": [
        " 325 512\n",
        "idx1 305 idx2 496\n",
        "54 ESKRQTKPTTKGSVASVVPY ESKRQ--PTS-GMAASSV-Y\n",
        "start"
       ]
      },
      {
       "output_type": "stream",
       "stream": "stdout",
       "text": [
        " 65 166\n",
        "idx1 42 idx2 142\n",
        "44 TL-SS-TWQRTKVLTRGVTSSR-MSQ TLVASETRRRTEFLTR--AGSRTISH\n",
        "start"
       ]
      },
      {
       "output_type": "stream",
       "stream": "stdout",
       "text": [
        " 193 391\n",
        "idx1 157 idx2 355\n",
        "71 VSFYRPAEYNESYNSAP--S-N-SGHER--NYSPPKSTCRSG VS-HRP-EY-ES-SSPPGQSLNYAGRESIDDYSPGLSS-R-G\n",
        "start"
       ]
      },
      {
       "output_type": "stream",
       "stream": "stdout",
       "text": [
        " 305 597\n",
        "idx1 270 idx2 564\n",
        "46 FP-QSRVSGNWSQSKSAVTTDNDYTKSQESLNSLAS FSTRSRLSGVL-QSKHAVKA-N-YVHALDILKQLPS\n",
        "start"
       ]
      },
      {
       "output_type": "stream",
       "stream": "stdout",
       "text": [
        " 53 483\n",
        "idx1 24 idx2 452\n",
        "52 SRH-GAPSL-RVIVRTTPGSTSP--LVS-Q-EPRT S-HLGA-SLSSAISQATPGP-NPLRLLSCQRQP-T\n",
        "start"
       ]
      },
      {
       "output_type": "stream",
       "stream": "stdout",
       "text": [
        " 194 557\n",
        "idx1 169 idx2 530\n",
        "49 SIGSVSRLVSEGNQWDNRV--VP-N-LPM SIVPPTHLV-ENNL-DHRACTVSHNSLPM\n",
        "start"
       ]
      },
      {
       "output_type": "stream",
       "stream": "stdout",
       "text": [
        " 88 759\n",
        "idx1 65 idx2 739\n",
        "42 VASHGS-QNLVSHDQTL-STNPQDS VA-QGGHQH--SHGQSVTST-P-DT\n",
        "start"
       ]
      },
      {
       "output_type": "stream",
       "stream": "stdout",
       "text": [
        " 187 694\n",
        "idx1 161 idx2 670\n",
        "47 C-EIGMESP-VLEDTRFRSSYPKIEVMR CGEI-MASLYV-HDVRLRAN-ATTEV-R\n",
        "start"
       ]
      },
      {
       "output_type": "stream",
       "stream": "stdout",
       "text": [
        " 226 75\n",
        "idx1 214 idx2 63\n",
        "44 RRPHAGG-GRSNS RRPHASGMA-PNS\n",
        "start"
       ]
      },
      {
       "output_type": "stream",
       "stream": "stdout",
       "text": [
        " 174 294\n",
        "idx1 110 idx2 238\n",
        "51 SRSSLRARKTWEVGEQDTRIVCLRGSSELLNPQL-ISR-D-T-TTQ-SPLVIGPTTIPLYFESSMSIQG SSSNFRARMS-E-GI-AT-AA-FDGSQHAQNSRLPLSRGQISGSTQPSEL-IG---IPL-I-SGM--QG\n",
        "start"
       ]
      },
      {
       "output_type": "stream",
       "stream": "stdout",
       "text": [
        " 150 492\n",
        "idx1 102 idx2 447\n",
        "46 EVG-AVEQSNKA-GQWEDNTEN-GQSRTM-IP-NIQMINCRVDCRPPSFINQN EIGNTV-QVGSASSQ-Q-H-ESAGTS-TSEAPIRIDMASC-DDC-PSS-APQN\n",
        "start"
       ]
      },
      {
       "output_type": "stream",
       "stream": "stdout",
       "text": [
        " 55 767\n",
        "idx1 28 idx2 733\n",
        "52 IPISS-PSQ--AC-L--RHMTMNSARPPMT--LTS IA-SSGPSNCLACSQPPSHMTASKSRPPAAVHLTS\n",
        "start"
       ]
      },
      {
       "output_type": "stream",
       "stream": "stdout",
       "text": [
        " 39 784\n",
        "idx1 5 idx2 752\n",
        "49 SPQSAQPGTFGMPK-DVN-RATP-PRMES-SAQTKPST S-RSNQ-GTFGVAQFS-NPSPSPRPR-ERIS-ES-PAT\n",
        "start"
       ]
      },
      {
       "output_type": "stream",
       "stream": "stdout",
       "text": [
        " 326 589\n",
        "idx1 296 idx2 561\n",
        "52 PAMMIKYGE-SSA-S-RS-NMARIGNITMSRELS P-LMTS-GQGSSAGAMRSLSLP-IG--TMPR-LT\n",
        "start"
       ]
      },
      {
       "output_type": "stream",
       "stream": "stdout",
       "text": [
        " 384 427\n",
        "idx1 360 idx2 402\n",
        "44 SGS-DM-G-PRRL-RTGQLNGDIQQR-PV SGSCEVGGLP--LNRIS--SGHIQQSTPV\n",
        "start"
       ]
      },
      {
       "output_type": "stream",
       "stream": "stdout",
       "text": [
        " 66 797\n",
        "idx1 0 idx2 737\n",
        "59 PTSATSHSLT-RLLSTMQQVEVGPARHNI-SINQQSEGIISASLKSSTGITTVMTVNPFQKQSGPT-PS PSSTKSSSYTVR--S-VQPPHLGH-RNSIMCLN-GSQA-VSAAVATSLGFHTELAINP---QNGNSCPS\n",
        "start"
       ]
      },
      {
       "output_type": "stream",
       "stream": "stdout",
       "text": [
        " 416 212\n",
        "idx1 322 idx2 114\n",
        "46 GI-MYLPN-N-YAS-WSLE-VP-VGHERDGTIS---SSG-PNRLG-EG--IALA--RAQIEFTKTRISGGAASVML-YLVVTQARSGLNNTLIETSARPMETMGQL-T-T-QR GISINAPSGNG-ASVW-LNSPPLV-HGHD-SISPRMATGRP-R-GHAGMSIAYPGGSNQIR-SSASIA-APISA-LSNMVANQ--SGL-RT-SE--GKGLDSAGQLNANACQR\n",
        "start"
       ]
      },
      {
       "output_type": "stream",
       "stream": "stdout",
       "text": [
        " 204 729\n",
        "idx1 190 idx2 714\n",
        "51 QPSSSGSRPMK--SSN HPSSS-SHPMRYIASN\n",
        "start"
       ]
      },
      {
       "output_type": "stream",
       "stream": "stdout",
       "text": [
        " 192 740\n",
        "idx1 146 idx2 699\n",
        "50 AILSLYLPPDIWTSV--QDDKSIRRFAS-QIEEFAQSQAGITIEPDPGR AILP-YTAP-IRPGVTTQGGASI---ATDRVQDHDASHA-VTR-P-PGR\n",
        "start"
       ]
      },
      {
       "output_type": "stream",
       "stream": "stdout",
       "text": [
        " 130 827\n",
        "idx1 115 idx2 810\n",
        "53 DRANPNITE-IYH-KNG DRADVNTAEAIYQGKSG\n",
        "start"
       ]
      },
      {
       "output_type": "stream",
       "stream": "stdout",
       "text": [
        " 192 488\n",
        "idx1 162 idx2 462\n",
        "44 NHSNSINERVATQKAQGGQSTQAPLLKSPG DH-HGLNAQ-STTRPE-GPSSES-LLSSPG\n",
        "start"
       ]
      },
      {
       "output_type": "stream",
       "stream": "stdout",
       "text": [
        " 244 740\n",
        "idx1 228 idx2 719\n",
        "49 VIVP-SS-PK-QQSSL--VPH VRMPLSNGPKAQQSGLASVSH\n",
        "start"
       ]
      },
      {
       "output_type": "stream",
       "stream": "stdout",
       "text": [
        " 157 769\n",
        "idx1 143 idx2 756\n",
        "44 PSPFQCTT-KQKLAS PSP-QGTNDKQ-LAS\n",
        "start"
       ]
      },
      {
       "output_type": "stream",
       "stream": "stdout",
       "text": [
        " 256 271\n",
        "idx1 182 idx2 200\n",
        "64 LPQPSEIEQQHKNG-SGR-YTKPTS-SGPSFTGSSQLGR-LDIQYAGKSRTYP-SSILGNVSDSCMNHVTRLPS--TRPSL LQQP-E-QEESIDSIASRIITSPIPQS-RSIEGSSQ-SHPLSIPRTSKAH-YAGSPMFTN-S-S-LNQNSR-PSAGSR-SL\n",
        "start"
       ]
      },
      {
       "output_type": "stream",
       "stream": "stdout",
       "text": [
        " 231 225\n",
        "idx1 197 idx2 193\n",
        "55 QTRGSK--PHTSLPPATSGTI-HMPQKCAQGYGKSP-E QTQGNKHAPYVSTPSSDSASIENMP---A--YG-NPSE\n",
        "start"
       ]
      },
      {
       "output_type": "stream",
       "stream": "stdout",
       "text": [
        " 247 161\n",
        "idx1 230 idx2 143\n",
        "44 HVPPLGLQ-NPNSQS--PRP H-PP-ALEGEPPSNSWLPRP\n",
        "start"
       ]
      },
      {
       "output_type": "stream",
       "stream": "stdout",
       "text": [
        " 62 602\n",
        "idx1 49 idx2 588\n",
        "45 ASTST-ISS-NLNRP AS-SVGINSASLNRP\n",
        "start"
       ]
      },
      {
       "output_type": "stream",
       "stream": "stdout",
       "text": [
        " 106 665\n",
        "idx1 87 idx2 648\n",
        "52 SQPQSP-MSTSLQSLTISGQ SAPQ-PDRSSSL-SL-IFGQ\n",
        "start"
       ]
      },
      {
       "output_type": "stream",
       "stream": "stdout",
       "text": [
        " 138 816\n",
        "idx1 120 idx2 798\n",
        "44 VAAPPVISTTRGS---QPMRP VAAPRV--ATQSSYTIQPM-P\n",
        "start"
       ]
      },
      {
       "output_type": "stream",
       "stream": "stdout",
       "text": [
        " 290 480\n",
        "idx1 245 idx2 441\n",
        "48 SPTG-RESQGSSMGRQNSSEGCRQPCP-RWIVRSRSGRGDEF-TPSQG S-AGIRDTQSASAA-HHTQKG--NP-PVR--V-SSSG-GGELNAPSNG\n",
        "start"
       ]
      },
      {
       "output_type": "stream",
       "stream": "stdout",
       "text": [
        " 50 372\n",
        "idx1 20 idx2 344\n",
        "46 NSI-VIRVYESSTS-PRATSNQLEPPSNCS-TP NAINII-I-ESSKILP-GTSSA-EGQSN-SVAP\n",
        "start"
       ]
      },
      {
       "output_type": "stream",
       "stream": "stdout",
       "text": [
        " 291 500\n",
        "idx1 253 idx2 460\n",
        "48 NYSSNS-PK-P-T---IPQTPDQRLPTASLRMAGIGDSSTVGVT SYSRNSTPRNQDTGSQVAATPNEILRSES--IANIA-SPS-GVT\n",
        "start"
       ]
      },
      {
       "output_type": "stream",
       "stream": "stdout",
       "text": [
        " 151 359\n",
        "idx1 103 idx2 301\n",
        "47 NKLSAED-P-EP-SARRSRGPAPTS--REQTRPRQSGMQYESA-Q-SSK--YM-NRS-Q NKASYDNSSVEPCSMWSSHTEGSISLHRAALRS-ENGMEHATAVPSSSQGSFMTNRSGQ\n",
        "start"
       ]
      },
      {
       "output_type": "stream",
       "stream": "stdout",
       "text": [
        " 207 525\n",
        "idx1 170 idx2 492\n",
        "50 FTKNYIEA-SQAMVCFSAVGTRMSRSPPSRGIST-GRVS FSRGYVEADSHS--C-SP-STQLP-DTSSRAL-TFGRHS\n",
        "start"
       ]
      },
      {
       "output_type": "stream",
       "stream": "stdout",
       "text": [
        " 146 107\n",
        "idx1 92 idx2 51\n",
        "58 LSSYNDWQEVDVMMKNTFNSEPTRTRPKQNEI-S---D-MYQRPSG-NTP-DRR-HKLPQGR LSSY-DWK-PG-LIGGEFAGLPDQTRP-LNAVRSTAQEAL-LRPSGIHSSTDRNANSVPQ-R\n",
        "start"
       ]
      },
      {
       "output_type": "stream",
       "stream": "stdout",
       "text": [
        " 75 88\n",
        "idx1 51 idx2 62\n",
        "58 P-FPLNP-QI-P-IESQEDSAPGHEGAL PNFPLEPAAIPPKVHSPQSSNP-H-GSL\n",
        "start"
       ]
      },
      {
       "output_type": "stream",
       "stream": "stdout",
       "text": [
        " 274 629\n",
        "idx1 227 idx2 575\n",
        "47 NS-ISRPDLPDPSKTA-SE--P-VQGTYYIKSQR-SVIT-P-RAGPPSQV--RGSAV SSLI-RSAGP-AGRTATSEAAPNGEASHNIASKHGSAITGSMSAG-QSQVHEQGSSI\n",
        "start"
       ]
      },
      {
       "output_type": "stream",
       "stream": "stdout",
       "text": [
        " 103 654\n",
        "idx1 81 idx2 632\n",
        "43 STQGGRASSDQPV--PFCVYISSS NTQNPHTSSSQPVNWP--VSINHS\n",
        "start"
       ]
      },
      {
       "output_type": "stream",
       "stream": "stdout",
       "text": [
        " 327 269\n",
        "idx1 310 idx2 256\n",
        "49 NLSILSIMSTPPPGEGV NL-FL--MSQPPP-QGV\n",
        "start"
       ]
      },
      {
       "output_type": "stream",
       "stream": "stdout",
       "text": [
        " 311 116\n",
        "idx1 296 idx2 100\n",
        "42 GTQRPWASQTR-QREP GLQRPLFSQSRVSHEP\n",
        "start"
       ]
      },
      {
       "output_type": "stream",
       "stream": "stdout",
       "text": [
        " 148 562\n",
        "idx1 66 idx2 488\n",
        "56 GMVSTDGWCRCSERLKHPLESST-NMPGV---CPGVVPMEILFERKAVYL-RE-RSVEPLQQTESKQAQTTSGLSSNRVAQDP-P-EPTT GLSST--WSSC-E-L-NPLQCHQRN-PGLHKQC-STIPSA-L--R-A--LGPDGRS-GPREDSASHQSQ--SNLSDARNPASPGSEESTT\n",
        "start"
       ]
      },
      {
       "output_type": "stream",
       "stream": "stdout",
       "text": [
        " 275 661\n",
        "idx1 263 idx2 646\n",
        "38 PYIYPS-PPE--N-PN PFI-PGCPAEGYNIPN\n",
        "start"
       ]
      },
      {
       "output_type": "stream",
       "stream": "stdout",
       "text": [
        " 119 348\n",
        "idx1 84 idx2 317\n",
        "46 NVVAR-SVASDPERWVSRPAKITSDSIHASS-FER-GS NIVSQESIAGAQGR--SQP--I-SNS--ANTVFDSEGS\n",
        "start"
       ]
      },
      {
       "output_type": "stream",
       "stream": "stdout",
       "text": [
        " 134 72\n",
        "idx1 101 idx2 44\n",
        "48 GT-ISP--DLSSQAVFQGS-PAHGLSKPERPSVGSAW GTGIDPASAL-SHA--QVSNP---LS-P-KPRVG-GW\n",
        "start"
       ]
      },
      {
       "output_type": "stream",
       "stream": "stdout",
       "text": [
        " 292 855\n",
        "idx1 276 idx2 842\n",
        "45 LFSAESSRSPCVTARP LFSTASG-SP-VSA-P\n",
        "start"
       ]
      },
      {
       "output_type": "stream",
       "stream": "stdout",
       "text": [
        " 201 279\n",
        "idx1 175 idx2 256\n",
        "46 IVQS-SQ-N-GMARNVVRRSRLKDGPGPS IIPSDSASNTG-A-N---RGRLRSGP-PS\n",
        "start"
       ]
      },
      {
       "output_type": "stream",
       "stream": "stdout",
       "text": [
        " 211 350\n",
        "idx1 147 idx2 281\n",
        "48 P-RESHGVVGSGAIPPEGHLCH--ISTGLTLPFP--GSIAGSRPS--NIPFVPNIGS--SSRTNIAQRGISEG PLRGINGMANAGA--PEPHTCSCIIPEGVVQVYTIIGSIGSSPPAGMSLP-VPP-SSYPSGPSTIGHPGVQAG\n",
        "start"
       ]
      },
      {
       "output_type": "stream",
       "stream": "stdout",
       "text": [
        " 293 662\n",
        "idx1 227 idx2 594\n",
        "56 KAPTARQPTPQSRDRQA-E--YGF--AQSRG-T-FR----QVTCPIS--PNKN-TSASSYGICRVRVMSLSTADVQYPSG RAASATPPAPISRNRQPNNSTFNFYNSHQRGSSMYSYLIAQIT-P-SYLPSISQTS-SAKG--R-RV----T--VDYPSG\n",
        "start"
       ]
      },
      {
       "output_type": "stream",
       "stream": "stdout",
       "text": [
        " 362 234\n",
        "idx1 345 idx2 216\n",
        "49 QPPL-G-PKPVIPTGEGPP HAPLPGNAKPINPSG-GAP\n",
        "start"
       ]
      },
      {
       "output_type": "stream",
       "stream": "stdout",
       "text": [
        " 244 750\n",
        "idx1 214 idx2 719\n",
        "47 PESS-PKKRSQWTQ-ITATP-S--S-PRLPPSVPQP PETTLP--SSQ-HQSLAVEPRSRHSHP--PPTVSQP\n",
        "start"
       ]
      },
      {
       "output_type": "stream",
       "stream": "stdout",
       "text": [
        " 120 327\n",
        "idx1 66 idx2 281\n",
        "50 TASRILGSLGRDNENVF-V--TSPCLPEPKEDVNMNP-PNNPLISTINPGYPYASPPF TVSR-LDRIGRD--TVFQPYDSSP-ISVTNSN-NGHAEPSNPL-P-L--G-P-AS-PF\n",
        "start"
       ]
      },
      {
       "output_type": "stream",
       "stream": "stdout",
       "text": [
        " 192 556\n",
        "idx1 163 idx2 525\n",
        "42 IEVSR--QYANRASPYESFMAPVI--SG-PIGLV ISASRTEQTSSGVSPYQS--ASAIAESARAIG-V\n",
        "start"
       ]
      },
      {
       "output_type": "stream",
       "stream": "stdout",
       "text": [
        " 240 281\n",
        "idx1 208 idx2 244\n",
        "52 SNGHPP--S-PRSK--T-IL-SGETVRTTGGKTSEESSN SHGHRPIGSNPRSSPLSYIAKTGVTVQIR-G-AGEESAN\n",
        "start"
       ]
      },
      {
       "output_type": "stream",
       "stream": "stdout",
       "text": [
        " 299 397\n",
        "idx1 262 idx2 364\n",
        "51 RPDARSMQPHTGTMQGSPIPRLQCWTPFTT-RQNPGN-S RP-PRT-Q--AGSL-GEPIVNI-CWNANKTFRNHAGSAS\n",
        "start"
       ]
      },
      {
       "output_type": "stream",
       "stream": "stdout",
       "text": [
        " 130 313\n",
        "idx1 77 idx2 261\n",
        "60 PNTLE-AQQYLD-S-EESPRSMSCSWG-LSPSSDPSYGSPSLQHT-E-LINQLR-RTPMP PSN-EHSDHFLDESTEGSCK-IFCS-GVISPSSETR--SP--QETSECQAN-MRSRNSAP\n",
        "start"
       ]
      },
      {
       "output_type": "stream",
       "stream": "stdout",
       "text": [
        " 267 339\n",
        "idx1 248 idx2 324\n",
        "50 ERPRSITAWPYENQLEPVS ERP-PLSA-PY-SQL-HVS\n",
        "start"
       ]
      },
      {
       "output_type": "stream",
       "stream": "stdout",
       "text": [
        " 92 340\n",
        "idx1 54 idx2 301\n",
        "45 ES-PGTGSVYG--SISHSRTQ-VTTQTNYNNDQQDSIRPDVS ESHPDKGSINGEDPMTRERAHDVTSNLIYSPS-QNN-RSD-S\n",
        "start"
       ]
      },
      {
       "output_type": "stream",
       "stream": "stdout",
       "text": [
        " 302 769\n",
        "idx1 288 idx2 751\n",
        "47 RR-HG-F--TPFPTTPPL RRLHPKFEPNPFPSSPTL\n",
        "start"
       ]
      },
      {
       "output_type": "stream",
       "stream": "stdout",
       "text": [
        " 214 246\n",
        "idx1 189 idx2 221\n",
        "52 ATEP-S-PI-KQNPEPPIQRSKGDITPV ATAPNSWPIVKL-ADHPI-RSLGA-TSV\n",
        "start"
       ]
      },
      {
       "output_type": "stream",
       "stream": "stdout",
       "text": [
        " 203 256\n",
        "idx1 167 idx2 213\n",
        "44 RSQEPH------QELVS-SSQL-A-KYKASQSPEVGMTFRDW---SLW R-QEPHSSGRYDEEQYSQTSEIVSIRYKA-LSAEV--SIQ-WISSSLW\n",
        "start"
       ]
      },
      {
       "output_type": "stream",
       "stream": "stdout",
       "text": [
        " 296 614\n",
        "idx1 266 idx2 581\n",
        "54 QEPQRSEPSS-GNPS-HANTVKIGK-E-SIQVNI HEPGRA-PSSHAAPSGHPCTSPTSKSESSIDPNV\n",
        "start"
       ]
      },
      {
       "output_type": "stream",
       "stream": "stdout",
       "text": [
        " 382 332\n",
        "idx1 359 idx2 306\n",
        "46 SSSQ-VGEVGLDPQ--HQ--QSK-QSAED NSSQSV--I-LDAQYPHNFVPSKMHSAQD\n",
        "start"
       ]
      },
      {
       "output_type": "stream",
       "stream": "stdout",
       "text": [
        " 225 758\n",
        "idx1 202 idx2 732\n",
        "46 SQQPHSYSLISWTGE-GE--G-QCA-RL SQEAHSHS-VS-SSDHNNPPGIQCSIRL\n",
        "start"
       ]
      },
      {
       "output_type": "stream",
       "stream": "stdout",
       "text": [
        " 151 289\n",
        "idx1 116 idx2 250\n",
        "53 W-S-PDQMTSIFGDS-GHQQEPCLVSQGV--QDGRPVRGQ WRSNPDPMNSNATHRKPHRQNPRQVRDGVNAEDNSPLR-Q\n",
        "start"
       ]
      },
      {
       "output_type": "stream",
       "stream": "stdout",
       "text": [
        " 158 407\n",
        "idx1 135 idx2 381\n",
        "52 ATS-SATELP-NPSRD-GPEP-ELASR ATSGSETAYSGSPN-DVGSEPNNLPSR\n",
        "start"
       ]
      },
      {
       "output_type": "stream",
       "stream": "stdout",
       "text": [
        " 298 319\n",
        "idx1 288 idx2 310\n",
        "42 QLSSRPMSLG QLSSH-MSVG\n",
        "start"
       ]
      },
      {
       "output_type": "stream",
       "stream": "stdout",
       "text": [
        " 413 479\n",
        "idx1 386 idx2 455\n",
        "55 DGIP-IRLNTPAWSIGNMGPTRLLH-YSN NG-PEIW-NDPA-SISH-SP-QLLHTTSN\n",
        "start"
       ]
      },
      {
       "output_type": "stream",
       "stream": "stdout",
       "text": [
        " 121 299\n",
        "idx1 93 idx2 277\n",
        "52 STMWRHSTSRNSQPTIDNQ-ERGKQEPPK SSAWR-S-ARSCE--L--QAERG-QAPPR\n",
        "start"
       ]
      },
      {
       "output_type": "stream",
       "stream": "stdout",
       "text": [
        " 285 266\n",
        "idx1 261 idx2 241\n",
        "48 QRS-LSMPRLSVATVASR---PGSIENG QSSLLS-PR-E-PNLISRGQCPGSVESG\n",
        "start"
       ]
      },
      {
       "output_type": "stream",
       "stream": "stdout",
       "text": [
        " 303 55\n",
        "idx1 279 idx2 27\n",
        "68 RAPINS-P--FE-QPQDPMSASISTPF-P RPPINSAPTKYESHTH-PSSPSVPNPFSP\n",
        "start"
       ]
      },
      {
       "output_type": "stream",
       "stream": "stdout",
       "text": [
        " 404 560\n",
        "idx1 377 idx2 529\n",
        "50 APTSVQ-L-SG-T-ERRLG-VLKPRSMEPPSP APISVQTLSSSITSSHKLSWQL-SSSMSAPAP\n",
        "start"
       ]
      },
      {
       "output_type": "stream",
       "stream": "stdout",
       "text": [
        " 374 441\n",
        "idx1 329 idx2 396\n",
        "47 SSTSH-VEN-R--V-VNWPSGIVGEGE-SGAKSSDMNHIPQSGVSSPGH-AP SPTAHNNESPRTDVDAN-PSSIY-ASDRAGNKTSE--YIP--G-TTPSNLTP\n",
        "start"
       ]
      },
      {
       "output_type": "stream",
       "stream": "stdout",
       "text": [
        " 174 90\n",
        "idx1 108 idx2 18\n",
        "55 AY--I-VWS-PSF-LG-NNTLDTPSTLGSGSQSAPPINNPRVSS-WPE-AREATQLMP-PAEGSKRGD--RGPRRSS AYRQIAISSTPGFNLGLNIT-DVVGT-AACSLLA-LLSD-QGSSGSPGIARESDQIGSFPAQSAK-GAVLPGPQRTS\n",
        "start"
       ]
      },
      {
       "output_type": "stream",
       "stream": "stdout",
       "text": [
        " 48 190\n",
        "idx1 36 idx2 179\n",
        "45 SETISLRQDGQV SEDISVSQ-GQV\n",
        "start"
       ]
      },
      {
       "output_type": "stream",
       "stream": "stdout",
       "text": [
        " 160 39\n",
        "idx1 111 idx2 1\n",
        "49 VDILMDSPQRHGLGRLRQTLAGPTCQRSTGTIWSPGLQVKIHSSQVPSL INIL-DG-ESNG-G-L-ECL--PAHQR--GVI-NPTTESRI-SQQVESM\n",
        "start"
       ]
      },
      {
       "output_type": "stream",
       "stream": "stdout",
       "text": [
        " 374 382\n",
        "idx1 342 idx2 341\n",
        "50 LDQEEF----CRAP--P-LPPNVADLR-SPQGT-GQK-SNSS L-QQEFTNNRCTTPSSPHMPPGSGEFPASPQNSHSQDGSKSS\n",
        "start"
       ]
      },
      {
       "output_type": "stream",
       "stream": "stdout",
       "text": [
        " 126 600\n",
        "idx1 81 idx2 546\n",
        "41 AP--MSKQ---DG-ATFD-RWTSESQRQG-NSQVRS-Y---T-TKPLRQSPMQVY-SGQ APQIMSREASPDAPAHLNSRLMPE-QQHGINAQLHTVYIGSTSSNP--QEP--VYRPGE\n",
        "start"
       ]
      },
      {
       "output_type": "stream",
       "stream": "stdout",
       "text": [
        " 235 73\n",
        "idx1 206 idx2 43\n",
        "45 NTRGLSLLMGYCVTLPGT-SPQ-V--KNE--VLDV NTKGLTLL-G----LPGSHTCQDVGTKNACHVWEV\n",
        "start"
       ]
      },
      {
       "output_type": "stream",
       "stream": "stdout",
       "text": [
        " 290 256\n",
        "idx1 263 idx2 228\n",
        "49 D-VYN-R--G-RSGPSCE-FNRSMIGILSPYCR DSV-NGRYGGPRAGPP-DLFDRAK--ILC-YSR\n",
        "start"
       ]
      },
      {
       "output_type": "stream",
       "stream": "stdout",
       "text": [
        " 185 357\n",
        "idx1 155 idx2 327\n",
        "51 RPSSRFQQSSAYSQR-FQG-LST--GAKESSPMG RPPQRLQDPSI-P-RPLSGMLSTESGAHE--PMG\n",
        "start"
       ]
      },
      {
       "output_type": "stream",
       "stream": "stdout",
       "text": [
        " 252 759\n",
        "idx1 220 idx2 730\n",
        "50 REV-YQ-SQDKQAVTND-REST-QPSPESTPYMARP REVG-EGSQG-Q--SSEFRTSALQPR-ESI-Y-HRP\n",
        "start"
       ]
      },
      {
       "output_type": "stream",
       "stream": "stdout",
       "text": [
        " 44 103\n",
        "idx1 21 idx2 78\n",
        "54 LSSINEIESIDRE-P-RAISEP-AQD LSSSDDIQSTDPELPGRP-NYPGARD\n",
        "start"
       ]
      },
      {
       "output_type": "stream",
       "stream": "stdout",
       "text": [
        " 284 628\n",
        "idx1 247 idx2 582\n",
        "52 FQ--LDSGNP-GPSR-S-NWP--P-QS--GQMMRLV-RVK-S-QIIACAT FQIRL-AGTPHGPSRISHNFANLPSQAVHGP-V-LVNNAKLGIQIIT-TT\n",
        "start"
       ]
      },
      {
       "output_type": "stream",
       "stream": "stdout",
       "text": [
        " 392 145\n",
        "idx1 350 idx2 108\n",
        "53 FGENRQDVTENRDTAQRKSPSAASYR-NVSNGNLS-FQQNVSSE F-ANRQSIP-GQ-SPPKKAPSQE-HRAN-SGAN-SQF-SNVPSQ\n",
        "start"
       ]
      },
      {
       "output_type": "stream",
       "stream": "stdout",
       "text": [
        " 252 275\n",
        "idx1 229 idx2 250\n",
        "49 YTSTYVPVGTPL-V-PPEEEP-AHME Y-SNHVPHGSALGIRPAQPEPIPNLE\n",
        "start"
       ]
      },
      {
       "output_type": "stream",
       "stream": "stdout",
       "text": [
        " 373 429\n",
        "idx1 344 idx2 395\n",
        "74 C-F-GSS-R-SDEEQQHVSGSL-TPPEK-LEE-PRI CSFPGSSTRSSSEEQQ--PGSMRSPVSTPLAEHARI\n",
        "start"
       ]
      },
      {
       "output_type": "stream",
       "stream": "stdout",
       "text": [
        " 223 525\n",
        "idx1 206 idx2 507\n",
        "50 PA-TGLMSN-GRSN-GGWGN PAESG--SNIGRSHFGGSGN\n",
        "start"
       ]
      },
      {
       "output_type": "stream",
       "stream": "stdout",
       "text": [
        " 84 487\n",
        "idx1 51 idx2 457\n",
        "45 AR-NL-MPGNHFMV-SNSHPSVQPGRRPV-GWMILSI ARVSLWMPG-Q-LIKGGGN-S-Q-GQSSVFG-VI-SI\n",
        "start"
       ]
      },
      {
       "output_type": "stream",
       "stream": "stdout",
       "text": [
        " 227 698\n",
        "idx1 216 idx2 684\n",
        "46 P-PVVQ-MD-PSTL PSPNVQPMDAPSNL\n",
        "start"
       ]
      },
      {
       "output_type": "stream",
       "stream": "stdout",
       "text": [
        " 129 43\n",
        "idx1 84 idx2 2\n",
        "55 SVNQISDPS-SQTV-PN-GN-STKRYQWNQTISGPPDKGNYLKAPATGS SVTN-S-ASRSRTIGPDFGGLGANRSDWT-SI----DQGSY-RASATAS\n",
        "start"
       ]
      },
      {
       "output_type": "stream",
       "stream": "stdout",
       "text": [
        " 70 479\n",
        "idx1 47 idx2 455\n",
        "48 VP-IIGGR-EGQLMMNSYTSPTRTP VPKILSAPFDSD-MPNSYTSSASSP\n",
        "start"
       ]
      },
      {
       "output_type": "stream",
       "stream": "stdout",
       "text": [
        " 353 675\n",
        "idx1 300 idx2 622\n",
        "54 NEQLPRVNRYSLSY-NYQ-T-SY-WQRSQAPQINE-SIQQASSVDVGSENSVMPMRA-R NQNKP-ASRISTSFLNSASSRSYNRQPS-TPNI-EPS-RSNSSI-LSSEGK-RPKRATR\n",
        "start"
       ]
      },
      {
       "output_type": "stream",
       "stream": "stdout",
       "text": [
        " 240 23\n",
        "idx1 215 idx2 2\n",
        "49 VTSIYSRILNRSSSSNNQG-RMAIQL VTS-YGSI--RHASVDA-GTRM-IEL\n",
        "start"
       ]
      },
      {
       "output_type": "stream",
       "stream": "stdout",
       "text": [
        " 150 271\n",
        "idx1 136 idx2 256\n",
        "46 TSS-IESYEVSSNYS TSSFISSYGASAPYS\n",
        "start"
       ]
      },
      {
       "output_type": "stream",
       "stream": "stdout",
       "text": [
        " 235 650\n",
        "idx1 197 idx2 612\n",
        "53 SAEDANNTLPGFGNKKTVD-CQPS-NE-ILSSG-SS-T-KHSPR SSE-ANIT--S-GN-QTHDGSEESVAEAI-EAGTSNCTCKHSPR\n",
        "start"
       ]
      },
      {
       "output_type": "stream",
       "stream": "stdout",
       "text": [
        " 280 756\n",
        "idx1 193 idx2 662\n",
        "44 RPRFSSQTR-K-A-TGGSVNGRAKESH-MRQSVVGETYRSQRAPKPE-SENETI-QTFCSRTP-A-PVRRR-SVEPSG-L-S-SQLI-NRSIGDSIWMGS RP-LSSRPRHQGVCSAGAQSGGPSNSHSL-EPVSGEA-HNHMAMTREITSHINIANSLASRSASTNP-HTNYGAQPSGTYESLSN-IPAPSAGDSIR-GS\n",
        "start"
       ]
      },
      {
       "output_type": "stream",
       "stream": "stdout",
       "text": [
        " 133 40\n",
        "idx1 106 idx2 13\n",
        "47 P-PTFSR-EPPITLII-SELTRERVDG-SPI PTPSY-RSAPP-THIILSTGTRQK--GQSTI\n",
        "start"
       ]
      },
      {
       "output_type": "stream",
       "stream": "stdout",
       "text": [
        " 71 246\n",
        "idx1 45 idx2 222\n",
        "48 S-QSPVKVHSVQDRPIMNDKIVI-MSTS SDQSTGK-HSTQERS--GA-ISIHLSTS\n",
        "start"
       ]
      },
      {
       "output_type": "stream",
       "stream": "stdout",
       "text": [
        " 324 737\n",
        "idx1 288 idx2 703\n",
        "44 F-YP--GK-VNALNQNASYAISKEPTPPNRISP-PFKSHQS FQYPSHGTSIHAENQ-AS-NL--E-TIP--LSPSAIQAHQS\n",
        "start"
       ]
      },
      {
       "output_type": "stream",
       "stream": "stdout",
       "text": [
        " 298 220\n",
        "idx1 269 idx2 187\n",
        "42 SARTPVFRILH--ERSGRVMTSG--GYVL-PSEN SAKSSISMILNIVDHNAHISTSGLPGFLINP-EN\n",
        "start"
       ]
      },
      {
       "output_type": "stream",
       "stream": "stdout",
       "text": [
        " 293 609\n",
        "idx1 246 idx2 554\n",
        "55 YSGPDDTQQ-I-R--PVVR-EWNNGV-NVFQEMGGGSLDGPNRPSE----S--SALGRS FSSAEQTHESIFRQDPVTRSA-STGMGSMRRE--GTT-DVPARTSESPQLSKFSALGRS\n",
        "start"
       ]
      },
      {
       "output_type": "stream",
       "stream": "stdout",
       "text": [
        " 330 443\n",
        "idx1 305 idx2 417\n",
        "51 SMTPQISPRPEG-GSALQADITY--QHH S-T-QIASRGDGCAPNLHHQIYYLLQHH\n",
        "start"
       ]
      },
      {
       "output_type": "stream",
       "stream": "stdout",
       "text": [
        " 281 216\n",
        "idx1 269 idx2 205\n",
        "49 DNLQWPRQLWQS DNVN-PRQLRQS\n",
        "start"
       ]
      },
      {
       "output_type": "stream",
       "stream": "stdout",
       "text": [
        " 71 147\n",
        "idx1 34 idx2 112\n",
        "47 GQSR-QS-SSEETSLTAGSRQS-QETPITRISISEN-EVY-S GESSAASGSSQE-SV-AG-R-SGPESS-T-ASV-QNVNVFHS\n",
        "start"
       ]
      },
      {
       "output_type": "stream",
       "stream": "stdout",
       "text": [
        " 285 342\n",
        "idx1 244 idx2 297\n",
        "47 G-TS-PIRISPTPKNDFSKT--SDTTPHMLMPKSL-QEQFG-PR-PTQ GPASISIGITASPKNGVSHSLGSETRP-SLVS-GVHQGQYGDGRLP-Q\n",
        "start"
       ]
      },
      {
       "output_type": "stream",
       "stream": "stdout",
       "text": [
        " 306 230\n",
        "idx1 281 idx2 206\n",
        "53 S-L-RPFSV-SQ-MQFYMQPQPDSMSWSV SGLNRSSSVDSQCIEVY-QPR---MSW-V\n",
        "start"
       ]
      },
      {
       "output_type": "stream",
       "stream": "stdout",
       "text": [
        " 85 399\n",
        "idx1 23 idx2 327\n",
        "50 WETTGP-QQ--RPRKPGLG--RGSTR-DS--R-SEANGMMQHISESNP-GQMSPNYRES-TDGPVPD---SSPSIG WGTV-PEQQSNSPLNQEIGKLRGPTRIPSGQRKSMA-VTMDEISGPDPYLQ-S-ECGDSCASGPQPAPLYSSPKVG\n",
        "start"
       ]
      },
      {
       "output_type": "stream",
       "stream": "stdout",
       "text": [
        " 203 666\n",
        "idx1 175 idx2 641\n",
        "49 STLILP-LGQYDVNSCGEHMSSM-LPPDGR ST-YLPLLGEY-L--CGNHKGAIRLASD-R\n",
        "start"
       ]
      },
      {
       "output_type": "stream",
       "stream": "stdout",
       "text": [
        " 414 223\n",
        "idx1 393 idx2 203\n",
        "47 GSKPS-KRNTLLIS-L-SVRVLQS GSAPSFK-NT-LVNDLPS-H-LQS\n",
        "start"
       ]
      },
      {
       "output_type": "stream",
       "stream": "stdout",
       "text": [
        " 407 842\n",
        "idx1 383 idx2 816\n",
        "49 N-FSADPKSLRMSSR-QSIS-GPSVRS NLLSADSRSLSGNSQAPSTSYGAS-RS\n",
        "start"
       ]
      },
      {
       "output_type": "stream",
       "stream": "stdout",
       "text": [
        " 219 818\n",
        "idx1 194 idx2 794\n",
        "48 Q-SEKVQNQ-ANREALQSVSTAGMNER QASAGVQNHSANRKA--NPGTAG-DSR\n",
        "start"
       ]
      },
      {
       "output_type": "stream",
       "stream": "stdout",
       "text": [
        " 313 434\n",
        "idx1 296 idx2 417\n",
        "48 T-DTGLTE-PWRSGTKIIE TNDTGPVEVP-RS-INIIE\n",
        "start"
       ]
      },
      {
       "output_type": "stream",
       "stream": "stdout",
       "text": [
        " 370 805\n",
        "idx1 350 idx2 786\n",
        "46 GSNANFMVQEGT-LYAGNDQI GSTSEVMV-SGSQLY-GSGQI\n",
        "start"
       ]
      },
      {
       "output_type": "stream",
       "stream": "stdout",
       "text": [
        " 137 482\n",
        "idx1 118 idx2 466\n",
        "50 IGGSGWSPMFGQQPSSSSI IAQS-WTGTFG--PSSSSV\n",
        "start"
       ]
      },
      {
       "output_type": "stream",
       "stream": "stdout",
       "text": [
        " 38 446\n",
        "idx1 22 idx2 429\n",
        "48 LNVDRVSTSNA-PGWAG LPVNRVSSSTSCPGSVG\n",
        "start"
       ]
      },
      {
       "output_type": "stream",
       "stream": "stdout",
       "text": [
        " 226 722\n",
        "idx1 185 idx2 682\n",
        "46 TTPGSETLRDSSVFLSPKRQRPV-SEPYPTRNNEGPPSL-VY-P TSPFT-SLWNSGV-LSSN-N-PTQTEPYMSISSSSTPILSVFQP\n",
        "start"
       ]
      },
      {
       "output_type": "stream",
       "stream": "stdout",
       "text": [
        " 55 546\n",
        "idx1 20 idx2 508\n",
        "49 SSGRSLN-ITGPS-S-P-V-NWPIETMASQSGSSV-RQLNS SEDRA-NSITTPNVSDPSVSHRHNE-MCY-TESSVQQQLHS\n",
        "start"
       ]
      },
      {
       "output_type": "stream",
       "stream": "stdout",
       "text": [
        " 377 500\n",
        "idx1 327 idx2 458\n",
        "53 ESNTRSDLYTRQ-SM--IAGMLQSQDVSGRLPHKSNTESSGL-PQLKRSVWKTI QS-SRSE--SSQTNMHYLAGPL-N-AVSG--P-RTHTASS-LIC-LRRS--STI\n",
        "start"
       ]
      },
      {
       "output_type": "stream",
       "stream": "stdout",
       "text": [
        " 118 165\n",
        "idx1 65 idx2 106\n",
        "49 VLS-IT-RSEPP-GPSQRQGLTTCREVGSN-GNART-SSQQ--EQ-TSNLSPKCGRTP-KST VVSQKTERSSPSTGLS-WPG-TNHHSVATDLSHS-THSSNQIVSQITSALAPNSASAPARSS\n",
        "start"
       ]
      },
      {
       "output_type": "stream",
       "stream": "stdout",
       "text": [
        " 224 158\n",
        "idx1 188 idx2 123\n",
        "61 SGHTC-DRAQLVRSEGDPN-RYPT-SAGESPTSRNSQTP SEH-CFSRAP-SRSNRAPGIQ-PTLS-GDSPYNRNPPSP\n",
        "start"
       ]
      },
      {
       "output_type": "stream",
       "stream": "stdout",
       "text": [
        " 237 796\n",
        "idx1 197 idx2 751\n",
        "44 QASTKPP---FSAWCYPLQ-PQV-E-KQL-QNTPYSWSFD-GLSTAGD HAGAKPPGGGLSGRSYPMQTSHMNELSLLVTNGPF--NYDQG-SYRGD\n",
        "start"
       ]
      },
      {
       "output_type": "stream",
       "stream": "stdout",
       "text": [
        " 345 110\n",
        "idx1 319 idx2 81\n",
        "48 MTTSSSAPTVTR-GP-RDSCSGQE-QSS-W MRSSSASPTHAMEGSVKAS-AGQEGRGSKW\n",
        "start"
       ]
      },
      {
       "output_type": "stream",
       "stream": "stdout",
       "text": [
        " 162 311\n",
        "idx1 136 idx2 283\n",
        "46 DEPRRISENPPVVTASTVEGRSR--S-YS DESSSASQTQPGVTTSP-ESCSRGISAYS\n",
        "start"
       ]
      },
      {
       "output_type": "stream",
       "stream": "stdout",
       "text": [
        " 107 794\n",
        "idx1 74 idx2 760\n",
        "49 AS-FQQIREQVSSVYN-NLPRVNPI-NCSAPDS-RVR ATFFDPIREGVSDLYHID-AHSY-IVH-SAPARKRAR\n",
        "start"
       ]
      },
      {
       "output_type": "stream",
       "stream": "stdout",
       "text": [
        " 29 311\n",
        "idx1 21 idx2 302\n",
        "49 QKSAQEL-R QKSAQELGR\n",
        "start"
       ]
      },
      {
       "output_type": "stream",
       "stream": "stdout",
       "text": [
        " 270 68\n",
        "idx1 232 idx2 30\n",
        "63 SDQGLSSIPSL-RESTGGGW-SAQPQ-TNTG-TTSSFG-VERR SQQG-ASLP-LNHGST--VWFNSSPHGALYGHTTSA-GQVERR\n",
        "start"
       ]
      },
      {
       "output_type": "stream",
       "stream": "stdout",
       "text": [
        " 176 322\n",
        "idx1 143 idx2 287\n",
        "50 TSEGIHAPTITTE-RVQRTPDGI-SV--SGP---PPLQNT TSSS-H-P-I-AEVRINQF-DSIGSVPITGPCHAPPLSNS\n",
        "start"
       ]
      },
      {
       "output_type": "stream",
       "stream": "stdout",
       "text": [
        " 67 462\n",
        "idx1 46 idx2 437\n",
        "44 SMT-AE-IRRSTFISVSGNF--RV-P S-TFAESLRGSTLQPVSSSFCRRVEP\n",
        "start"
       ]
      },
      {
       "output_type": "stream",
       "stream": "stdout",
       "text": [
        " 297 68\n",
        "idx1 252 idx2 19\n",
        "44 STQGRSAPTSRLASRRQTRS-ARLLTQTPSRTLPLE-PGR--NS-VSRPN SSASRAPPNIPLPSRHMPKTPARSHNSTPSAPFPTSCPSHAYNSAVGR-N\n",
        "start"
       ]
      },
      {
       "output_type": "stream",
       "stream": "stdout",
       "text": [
        " 257 441\n",
        "idx1 211 idx2 398\n",
        "47 N-SSKMSRNPELAISRYQG-YAISQQDSLRG--Q-NVSGLPTGLLGLSSSP NFSCTL-R-PQIP-S-YDNTYEESTHIS-SGKPQPQQSG-PTS-L-LSSNP\n",
        "start"
       ]
      },
      {
       "output_type": "stream",
       "stream": "stdout",
       "text": [
        " 384 601\n",
        "idx1 333 idx2 556\n",
        "50 S-L-VVMCECPLPKHVLKDPPAETSVRQPTAFSGHTGN-GDNGPGCSNSGMERS SQLYVV-C-SPLPSGAL--LPLETHVCMPT-FVT-AGSKADN-AG-RLSGLD-S\n",
        "start"
       ]
      },
      {
       "output_type": "stream",
       "stream": "stdout",
       "text": [
        " 91 250\n",
        "idx1 80 idx2 238\n",
        "46 RTS-SRTGQNLN RSSLSRTSQDIN\n",
        "start"
       ]
      },
      {
       "output_type": "stream",
       "stream": "stdout",
       "text": [
        " 221 803\n",
        "idx1 201 idx2 782\n",
        "44 HSPN-ST-AAWK-PRNMDQPAGN NSSNSSTSAAWNCPHSKG-PS-N\n",
        "start"
       ]
      },
      {
       "output_type": "stream",
       "stream": "stdout",
       "text": [
        " 371 474\n",
        "idx1 282 idx2 376\n",
        "49 EVSETQGQS-VNSHSSESSPG--L--VQARPPMPNEPRP-S-PQSEPTTRTSP-PYILTAFPSPCSCP-QLL-G--TGT-GANLTQRRNNIP---SH--QGVVPSRW DISPSQG-SPAN-QSQNNSTGAKLNRVQG-SSRAQEAGAESMNHSDPNSSGGQNP-ALTA---VCDCATQLPSGLCMPNRGPNATPRR-SIAECSSQKAQAKVAS-W\n",
        "start"
       ]
      },
      {
       "output_type": "stream",
       "stream": "stdout",
       "text": [
        " 114 32\n",
        "idx1 76 idx2 1\n",
        "55 NSRTTRYSGLSDASLQPAQGGQYFISMQGDGSYSSVSS N-WTAMYPG--QTS-DAGQGGQYYNSL--NGSHAN-ST\n",
        "start"
       ]
      },
      {
       "output_type": "stream",
       "stream": "stdout",
       "text": [
        " 189 39\n",
        "idx1 152 idx2 2\n",
        "44 MQPQRQQVR-NGGRPDTTEQAIGQVLTSA-G-S-SRGQQVT MGPKAQLLRPH-S-PGTSVNSL-Q-LADGQGESASRGQQGT\n",
        "start"
       ]
      },
      {
       "output_type": "stream",
       "stream": "stdout",
       "text": [
        " 35 359\n",
        "idx1 19 idx2 345\n",
        "49 ASIGSESSNSAARSSR AS-GS-SSTAAARTRR\n",
        "start"
       ]
      },
      {
       "output_type": "stream",
       "stream": "stdout",
       "text": [
        " 39 327\n",
        "idx1 24 idx2 315\n",
        "50 SQPNTSFQTSPRDAI S-PNPS-Q-SPRAAI\n",
        "start"
       ]
      },
      {
       "output_type": "stream",
       "stream": "stdout",
       "text": [
        " 46 696\n",
        "idx1 21 idx2 668\n",
        "43 GRAS-TEY-GSPNPTIEN-PQMRHQRSE GRSSGTESPGSANTSPKNGSEGYHQRCE\n",
        "start"
       ]
      },
      {
       "output_type": "stream",
       "stream": "stdout",
       "text": [
        " 332 762\n",
        "idx1 297 idx2 722\n",
        "43 SQSHGG-LDRPVSP-SY-RTLTIL---SDA-AG-RGSQQSCL-P SES-GNYVE-SVTPHAYHRT-SLLEGGSSAPSGARMCQQP-LSP\n",
        "start"
       ]
      },
      {
       "output_type": "stream",
       "stream": "stdout",
       "text": [
        " 279 461\n",
        "idx1 247 idx2 431\n",
        "50 YTGQP-TGQRPP-A-SLESCESSTDTPY-GPD-TGSL Y-G-PNTSE-PPIGRSAQP-PSSTE--YQG-DTTGSL\n",
        "start"
       ]
      },
      {
       "output_type": "stream",
       "stream": "stdout",
       "text": [
        " 105 89\n",
        "idx1 36 idx2 23\n",
        "52 R-TPSSTDGSSRDPIHTLDAIPY-TSLNRPKD-AM--E-FIPWQSATKKGSSFTPSSPPNRNCGQLS--E-QQYMPQR RLNSNSTE-CSR-A-HEIN-I-YHGSLS---DGSLRIEGFIP--SSS-DASSSTTSS-RHMPCQQSSHIDAEETSPQR\n",
        "start"
       ]
      },
      {
       "output_type": "stream",
       "stream": "stdout",
       "text": [
        " 289 252\n",
        "idx1 253 idx2 222\n",
        "53 PQSWV-NVTAIGGIYLYMYGLPSPARAQRGTEPRQP-S PHS-VINI-ATSGSYA-I-GLQSPSR-H--PEP-EPHS\n",
        "start"
       ]
      },
      {
       "output_type": "stream",
       "stream": "stdout",
       "text": [
        " 110 715\n",
        "idx1 53 idx2 668\n",
        "44 GQDKTTGGGGSMPAPSSVYQ-SDPS-SIWRIVERRPPASCANSNVFYPEEVISLPRSWS GQAKSA-GGMFLTDKSQAFHKS-PSGSDSRI-Q-R-TAS--NPHV--A---IPQRRSWS\n",
        "start"
       ]
      },
      {
       "output_type": "stream",
       "stream": "stdout",
       "text": [
        " 113 679\n",
        "idx1 90 idx2 660\n",
        "47 GQSMGNNELIVVWRGGWRIRDTS GQS-SNSRLI-CW-EG-RIPNSS\n",
        "start"
       ]
      },
      {
       "output_type": "stream",
       "stream": "stdout",
       "text": [
        " 169 483\n",
        "idx1 147 idx2 460\n",
        "53 NDYVTR-VGDDYRAKS-R-GWLPRP NEYVTKSIPEDLQANSARNG--ARP\n",
        "start"
       ]
      },
      {
       "output_type": "stream",
       "stream": "stdout",
       "text": [
        " 81 697\n",
        "idx1 53 idx2 661\n",
        "49 ENT-P-QETML-TG-SVEYRPI---L-SQIQNGNPS ESSEPSQKIIQNSGAAIQYRQITFFLSSQSSTGNPS\n",
        "start"
       ]
      },
      {
       "output_type": "stream",
       "stream": "stdout",
       "text": [
        " 73 482\n",
        "idx1 59 idx2 469\n",
        "46 YGR-SSPSDSPNLGS YGHTSSNSDS-NL-S\n",
        "start"
       ]
      },
      {
       "output_type": "stream",
       "stream": "stdout",
       "text": [
        " 45 451\n",
        "idx1 4 idx2 411\n",
        "46 RNCERSSQ-TASFM--N-SRLSAPQSTSQGLLRPYDPERAP-DDNG R-CA-ASQISGNFVSGSGSR-S-P-S-SPGMNSSHGPESTGKNENG\n",
        "start"
       ]
      },
      {
       "output_type": "stream",
       "stream": "stdout",
       "text": [
        " 396 385\n",
        "idx1 331 idx2 316\n",
        "53 VGDASQTVSP-GLGD--GSVSNLHPATI-TVILIKPVSPMILIEPPQ-TQSWT--S-SERSLS-DYPG-SAWDF-E VAN-SQSGSPLSINECCAAISELHGGSSHKAIPILSIDG-I-IEPPPCS-S-TGPPYGERS-STSSSSRSA-DFNE\n",
        "start"
       ]
      },
      {
       "output_type": "stream",
       "stream": "stdout",
       "text": [
        " 375 815\n",
        "idx1 348 idx2 785\n",
        "51 SSNGMYCFR--LVLKPE-PS-LHSR-ANTNQW SNNTMYCFSGGF-LGGEQPAGLASRKA-SNFW\n",
        "start"
       ]
      },
      {
       "output_type": "stream",
       "stream": "stdout",
       "text": [
        " 258 274\n",
        "idx1 223 idx2 236\n",
        "47 MA-LDLWATGMYPLRSSL-TNS-SGSS-SKI-G-VNAKY-SY MAVIEHW-TSRYT--SSHGTYSDSASSLTHITGEIAA-YASF\n",
        "start"
       ]
      },
      {
       "output_type": "stream",
       "stream": "stdout",
       "text": [
        " 112 731\n",
        "idx1 83 idx2 701\n",
        "51 PA-SRLSSGPQKGGPVMSHT-QTL-P-QEITEN PNWSRLSN-P--SSPHLSPAFVTLSPGEECTEN\n",
        "start"
       ]
      },
      {
       "output_type": "stream",
       "stream": "stdout",
       "text": [
        " 96 447\n",
        "idx1 72 idx2 424\n",
        "47 SMECISKMGYM-RGQTQVPAKP-NQ-T SIE-ISGSG-MAR-EMQVP-RHVNQFT\n",
        "start"
       ]
      },
      {
       "output_type": "stream",
       "stream": "stdout",
       "text": [
        " 365 709\n",
        "idx1 336 idx2 686\n",
        "53 PTLQGVSIYGPQKIRVSRLSLTSASLRE-V P-LQS-NV--PESIR-NR-SLPSA-MRAGV\n",
        "start"
       ]
      },
      {
       "output_type": "stream",
       "stream": "stdout",
       "text": [
        " 182 806\n",
        "idx1 138 idx2 765\n",
        "59 QPVQFVPRTH-RPWNYDQISMKSLFTW-RPQRTTPQCAT-SV-SRAGS HPA-FVASSHERP-K-S-LS-NSPATWNSP-STT-QAASGTVHGQAGS\n",
        "start"
       ]
      },
      {
       "output_type": "stream",
       "stream": "stdout",
       "text": [
        " 355 710\n",
        "idx1 320 idx2 672\n",
        "54 SIVVAALV--L--Q-G-INQGSQAIPF-LNPGRRSV-GTNS-PG SIIAGDLMSGLPSQAGKI-QGS--LPFSL-PS--TVRGAGSQPG\n",
        "start"
       ]
      },
      {
       "output_type": "stream",
       "stream": "stdout",
       "text": [
        " 171 64\n",
        "idx1 109 idx2 3\n",
        "52 PQGQSIFR-TERKGHQKQSPMIPVRNIMVTGQIDR--GKASL-P-GGSLS-WITSVTDT-NQS-QSLSIV PRG-TIIRYPESDAAE-GSP--P-RDISI-GHFSSPAGNGSLIPIGARLGDW-NGVSASAN-SVPS-HII\n",
        "start"
       ]
      },
      {
       "output_type": "stream",
       "stream": "stdout",
       "text": [
        " 233 463\n",
        "idx1 173 idx2 407\n",
        "62 NSGPGQNTYS-GIPDTWSMRSAVASSLGKQSERVSPS-YSSELR--SDGLACNVEVIYQ-GISDS SSDSG-NASSFGISSS-NM-EPIAAP-DEQSSTSSSSNYSS-LRLAAQPL--N-ATI-QSGISNT\n",
        "start"
       ]
      },
      {
       "output_type": "stream",
       "stream": "stdout",
       "text": [
        " 278 401\n",
        "idx1 256 idx2 377\n",
        "52 LGLIPISS-RASSAP-SPSDN-YRN LGPRP-SSGNASSSPQSPSSSTTRN\n",
        "start"
       ]
      },
      {
       "output_type": "stream",
       "stream": "stdout",
       "text": [
        " 185 185\n",
        "idx1 145 idx2 147\n",
        "58 DSQEIRNMSSDM--TGLKPHTATLTS-FSERGTVTKKGSSPIH DS-ELRHISA-MCNT-IT-HSIPLMSVFTKR-VVAEHGDSPEH\n",
        "start"
       ]
      },
      {
       "output_type": "stream",
       "stream": "stdout",
       "text": [
        " 420 560\n",
        "idx1 377 idx2 518\n",
        "47 P-RSN-TSASSDIGM-QLPTRGITSFRGSTPTGSIGRV-PELEA-H-GP PSQANTTNESSAVGFSEI-V-GL-SVRGN--DGP-GKVY-ELQSLHLGP\n",
        "start"
       ]
      },
      {
       "output_type": "stream",
       "stream": "stdout",
       "text": [
        " 181 437\n",
        "idx1 162 idx2 417\n",
        "47 G-PGRPLPLGIPQPT-AYEQE GSPAR-LPNGSPQPANTHELE\n",
        "start"
       ]
      },
      {
       "output_type": "stream",
       "stream": "stdout",
       "text": [
        " 420 438\n",
        "idx1 401 idx2 416\n",
        "48 GL--M-ISPS-WSDASNNSNSAQ GLPSMQIAPELW-ENGENRNSPQ\n",
        "start"
       ]
      },
      {
       "output_type": "stream",
       "stream": "stdout",
       "text": [
        " 309 108\n",
        "idx1 285 idx2 83\n",
        "53 SIPS-NTNGPGNLNNSNQS-TDRPKP STPSTNANSSDSLGHSD-SPISRPTP\n",
        "start"
       ]
      },
      {
       "output_type": "stream",
       "stream": "stdout",
       "text": [
        " 142 490\n",
        "idx1 88 idx2 438\n",
        "52 WGVMSYAPVR-LQQSVGPSSSQRRDSRTGVPPQGP--VTGEGQQMTDKSH----GPEHSNG WG-STFSGVRSLSESV-ISSPE--E-RSGFAINAPFMVSGN---MTS-SHLLANAPEHGTG\n",
        "start"
       ]
      },
      {
       "output_type": "stream",
       "stream": "stdout",
       "text": [
        " 317 246\n",
        "idx1 282 idx2 213\n",
        "45 TSGKGVGRT-RCTG-GQHRPMLWQGNISLSTPP-TSSR TSSEGI--TVSSSGYDQV-PLNW-SH-SQSSPPQSNSR\n",
        "start"
       ]
      },
      {
       "output_type": "stream",
       "stream": "stdout",
       "text": [
        " 273 104\n",
        "idx1 219 idx2 35\n",
        "44 QQ--AHVEYWSERTANSGHSSP-P--N--TAI--MRG-YA-Y-ML-I-PGQ-EN--LKGS-Q-GVSISVQNQ-R QQDEPDISY-S-HS-HS-HSTPDSITHRFTRITGMSDPYPRYNQLAISPGNLSNTYANGSNQFGLS-SLINQAR\n",
        "start"
       ]
      },
      {
       "output_type": "stream",
       "stream": "stdout",
       "text": [
        " 323 476\n",
        "idx1 295 idx2 449\n",
        "44 TGVGENVAPVSLQQDNEGEGSSMHGGTG SGVGEHQKSIDL-HESSGSGSGTHVASG\n",
        "start"
       ]
      },
      {
       "output_type": "stream",
       "stream": "stdout",
       "text": [
        " 289 642\n",
        "idx1 266 idx2 619\n",
        "47 PLP-NVGLSTTPKH-LSPDLTP-SPI PVPGN-G-S-CPNHPIPPTLTPHTSI\n",
        "start"
       ]
      },
      {
       "output_type": "stream",
       "stream": "stdout",
       "text": [
        " 94 264\n",
        "idx1 35 idx2 206\n",
        "54 SQP-TSQMRPGGSNGVFTVEVSTDN-SQ---RYDNSQ-LKSWYERN-T-QSLGYPGSEESQ--NPSGSG SRPYAPQV---GQNG-YTVGSATENRSETNNR-DESEGL-ALYVRGPTAQ--G-P-SNTSRPLHPT-SG\n",
        "start"
       ]
      },
      {
       "output_type": "stream",
       "stream": "stdout",
       "text": [
        " 196 538\n",
        "idx1 170 idx2 515\n",
        "42 SFSQITPHMRSVGSGGQSI-VPLHGTN SWPQ-PPH-RK-GSGGAATNV-LPGSS\n",
        "start"
       ]
      },
      {
       "output_type": "stream",
       "stream": "stdout",
       "text": [
        " 319 112\n",
        "idx1 275 idx2 75\n",
        "48 SGGLPELAQIYEKREDTSHPFH-IQIST-QSVLPYHASNSSYLENF SGG-PS-AE-HPRKLDT--PFQKLHVALFQSG-S-HPSVSS-L-NF\n",
        "start"
       ]
      },
      {
       "output_type": "stream",
       "stream": "stdout",
       "text": [
        " 394 128\n",
        "idx1 378 idx2 112\n",
        "48 RMT-S-TPEVRIGCNNSN RMTRSLTP--RQGVNNSS\n",
        "start"
       ]
      },
      {
       "output_type": "stream",
       "stream": "stdout",
       "text": [
        " 383 827\n",
        "idx1 336 idx2 780\n",
        "46 S-KR-QSGPGQPLQMSNYPSLFS-KA-KVERRSTRTIEEID--GSSL-SGSQTN SIRRTTSNPG-A-QMS---SIFVIQPYEV-SKSSENV-QLDQRGSSLHSGGASN\n",
        "start"
       ]
      },
      {
       "output_type": "stream",
       "stream": "stdout",
       "text": [
        " 205 128\n",
        "idx1 155 idx2 65\n",
        "57 GY-PSSVRR-D-R-AQR--HSRQGGRSIGIQ-SSNAEENS-YGG-P--T-KRWPF---IQSFMPS GYGPSAVRALDASIEQRAGQLRRAS-ANGIQGSTYASINAKFPGWPSATLDSWRLGGHIES-LPS\n",
        "start"
       ]
      },
      {
       "output_type": "stream",
       "stream": "stdout",
       "text": [
        " 106 797\n",
        "idx1 65 idx2 763\n",
        "51 GL-KPPNSLRLTPSRNMTKSLLSLG-RPGFQAVPCMLPKESTR GLSK-LHSTRATTSRNISPA--S-GQR-GFQT-PS-I-N-STR\n",
        "start"
       ]
      },
      {
       "output_type": "stream",
       "stream": "stdout",
       "text": [
        " 326 782\n",
        "idx1 237 idx2 705\n",
        "46 WSGPSNMSVHSVANDVQRDSVQLVTGTPTGKKSARPDSLFPTAQTPLKSESGPEVDQSCEMRTQAEIGLYWRTQHPPQL-VIF-LR-S-N--HPD WS-PSGLS-FGNGEDV-R-G-Q-VT-N-LD-SSASGNSGYPSG-SA--SSSG--VGQSND--EQSE-GLI-HSHYPLAFSVISESRPSLNGGHPD\n",
        "start"
       ]
      },
      {
       "output_type": "stream",
       "stream": "stdout",
       "text": [
        " 38 279\n",
        "idx1 10 idx2 247\n",
        "59 TSPSSPQVGSIS-SWQAP--SPTP--P-YTST-SE SSPSGP-C-SISDS-QTHCLSPNPIAPHYSTTNSD\n",
        "start"
       ]
      },
      {
       "output_type": "stream",
       "stream": "stdout",
       "text": [
        " 417 546\n",
        "idx1 358 idx2 490\n",
        "52 VSRG-AG--NHLQGLQGPSAM--ASLPQLNGFGHSQTQKTP-DSESYQIRKIERNNPE-SDGYISQ VSRGHRGHPNHYQSPEG-AVMNYAS-S--N--SNANTQASPFTSGA--IRAIQ-SLSELSN-YLSH\n",
        "start"
       ]
      },
      {
       "output_type": "stream",
       "stream": "stdout",
       "text": [
        " 367 828\n",
        "idx1 358 idx2 818\n",
        "47 WFVSQ-DSAS WFVSHFHSAS\n",
        "start"
       ]
      },
      {
       "output_type": "stream",
       "stream": "stdout",
       "text": [
        " 328 389\n",
        "idx1 241 idx2 310\n",
        "60 VPFE-LEKYSRNGWNPT-FPANE-R-DSTLSPEGTSILAWPGTVQTPTSAPDS--RRSEPQVFNPVPSQRPVGLEIR-ESRQLIGNLG-RSRSGP VPLENIATNNRPG-SPSGI-SIEMKNDGTLT-E---IIA-AEKIDI-TRAADALINRSETRG-SPVSS--CV-LN-RSNSAQLK-SLGAR-RP-P\n",
        "start"
       ]
      },
      {
       "output_type": "stream",
       "stream": "stdout",
       "text": [
        " 186 25\n",
        "idx1 159 idx2 1\n",
        "48 QGSNSNKSTISNS--AVRRPTSKRVRMPV QGS-ST-SNLTNGHLAIRH-TA-RIS-PV\n",
        "start"
       ]
      },
      {
       "output_type": "stream",
       "stream": "stdout",
       "text": [
        " 295 317\n",
        "idx1 264 idx2 284\n",
        "51 RIA--LNVSNLRPITSGDDRAA-QFQYNPQL-WA-E RIASDISVSN-SVITLGSSSSNLDFQ-H-QLGWGRE\n",
        "start"
       ]
      },
      {
       "output_type": "stream",
       "stream": "stdout",
       "text": [
        " 411 156\n",
        "idx1 346 idx2 83\n",
        "54 PRIG-STL-LGQGGPI-DPQT-G-CPRC--MRRGSPVYSPWAS-NGQIG--NDV--E-AVSISRQRIS-PL-E-TSIPLIG PRANCSPLEL-QPAPLCN-QSWSL-PRSQTLYHGS-GY-PRASIDPQVSKTSDIQMQYQQSLSRN-ISTPLREGAS--LLG\n",
        "start"
       ]
      },
      {
       "output_type": "stream",
       "stream": "stdout",
       "text": [
        " 264 299\n",
        "idx1 220 idx2 259\n",
        "53 DARVSQHVAL-HSSSVTFGEFA-MTI-ATPTDSECPKGVQNQRMYTQ DAGVSDHIAIAQVSA-NL-EIAYSIIQALATNS--PKS-QN-S-YGQ\n",
        "start"
       ]
      },
      {
       "output_type": "stream",
       "stream": "stdout",
       "text": [
        " 169 729\n",
        "idx1 139 idx2 695\n",
        "47 P-AGLSGFVSTRRPP-YG-DSPQ-TTSVPDTMQ-H PNAGLPGSQNTRSGGYYGSGNLEGGTSVP-ALQSH\n",
        "start"
       ]
      },
      {
       "output_type": "stream",
       "stream": "stdout",
       "text": [
        " 156 807\n",
        "idx1 127 idx2 777\n",
        "54 NITDGRAGMNMR-SWTRLRP-TLG-DIQ-TH-QT NIADG--GMH-RESNTR-HPYTHGRQCRMSHPQT\n",
        "start"
       ]
      },
      {
       "output_type": "stream",
       "stream": "stdout",
       "text": [
        " 73 771\n",
        "idx1 42 idx2 732\n",
        "48 PRKMPFQRSPSPSS-K-G-M-L--R-SATNG-SLSKPL-R PRRAPSEHVPSNSSGNGGAKDISSRFSP-NGCSLNAPLPR\n",
        "start"
       ]
      },
      {
       "output_type": "stream",
       "stream": "stdout",
       "text": [
        " 278 110\n",
        "idx1 244 idx2 82\n",
        "45 GT-I-ASPWVHPRPRLLLAGKSRERNT-SSLASPIET GSNIEAIP-V-P-PH--IA--SHEQDSISS-ES-IET\n",
        "start"
       ]
      },
      {
       "output_type": "stream",
       "stream": "stdout",
       "text": [
        " 140 534\n",
        "idx1 112 idx2 504\n",
        "42 GDIGVTSENE--PGLFSALTS-PPQTPIT-SR GDIS-NSEYAGHPGRFSS-NGEGPHNSLTGSR\n",
        "start"
       ]
      },
      {
       "output_type": "stream",
       "stream": "stdout",
       "text": [
        " 364 204\n",
        "idx1 311 idx2 155\n",
        "50 ARMLGSDA-SFEPNNP-TPKGQGRVNRTFLVNQMLRRY--LPGGSSDPLSWRLAQPE AR-HGQNADS-VPSDPFTPNGPFRL-PIFLPSEHASRLVALP-GSS-S-S-R-AESE\n",
        "start"
       ]
      },
      {
       "output_type": "stream",
       "stream": "stdout",
       "text": [
        " 65 741\n",
        "idx1 8 idx2 690\n",
        "56 ESIQKQIDPSGASHQIMTRNQNRLMAS-SELTVLTVSYSVDPRAIVPPNGD-AGTDVQT E-IHTSADPNIAVVQIKSR-R-RSMAAYSS-PGHS-TFAV-P-PMGPPEGDFSVTE-QT\n",
        "start"
       ]
      },
      {
       "output_type": "stream",
       "stream": "stdout",
       "text": [
        " 44 362\n",
        "idx1 7 idx2 321\n",
        "54 QAPDNSSGVGE-S-PTSDSGQ-NQQNLISS-DMPPS--INSTS QSTEESDGPTEATEATSAS-EYTQAEIIDSWG-PPSDAINSPS\n",
        "start"
       ]
      },
      {
       "output_type": "stream",
       "stream": "stdout",
       "text": [
        " 20 471\n",
        "idx1 3 idx2 445\n",
        "53 EN--Q--S-SGR-W-PPS-QTL-QIS ENLGQGPSAAGSLWNPPSAQTASQIS\n",
        "start"
       ]
      },
      {
       "output_type": "stream",
       "stream": "stdout",
       "text": [
        " 314 216\n",
        "idx1 293 idx2 188\n",
        "51 GPVQTA-MT-S---Q-MISS-RPVWPRQ GPVPTASSTCSNFEETLISSDHALWERQ\n",
        "start"
       ]
      },
      {
       "output_type": "stream",
       "stream": "stdout",
       "text": [
        " 228 626\n",
        "idx1 171 idx2 581\n",
        "48 IPSSPQPASQSFINYWNVAWLLSLSPSR--FVQSPPGIESRSMRGPGTQGSGSIEN-RQH IQRSP-PVAR---NA-DTA-LLS-DPAKESFT-S-P-I-SR-L-GP-YNGPAS-EDYKQQ\n",
        "start"
       ]
      },
      {
       "output_type": "stream",
       "stream": "stdout",
       "text": [
        " 171 810\n",
        "idx1 154 idx2 791\n",
        "44 SQMHAT-STRSLGV-VKSP SQRHTTDNSKSYGVHIGSP\n",
        "start"
       ]
      },
      {
       "output_type": "stream",
       "stream": "stdout",
       "text": [
        " 166 772\n",
        "idx1 150 idx2 759\n",
        "50 SPLSPFVGAPYAAYSS SPISPY---PYAQFSS\n",
        "start"
       ]
      },
      {
       "output_type": "stream",
       "stream": "stdout",
       "text": [
        " 347 84\n",
        "idx1 285 idx2 9\n",
        "62 SSYL-TED---GQPVMRRTPKI---QPVRR-ASLSQCG-RY-ARNLPVTG-P--IPYLP-TAVV-S-STERETSSSEY SSYIVSEDHSGGKSY-SRTPALGCSPPVCSGASQS-SGLRYCESGY-IAGNPVKISYLPATSMAYNGSSQRAPPSTNY\n",
        "start"
       ]
      },
      {
       "output_type": "stream",
       "stream": "stdout",
       "text": [
        " 264 629\n",
        "idx1 236 idx2 598\n",
        "54 GVPQSSTTRASS--QPRESENIESQGN-Y-RP GVPEVCSKPGSSDEQARDSPN-DSSGSAYGSP\n",
        "start"
       ]
      },
      {
       "output_type": "stream",
       "stream": "stdout",
       "text": [
        " 88 628\n",
        "idx1 59 idx2 604\n",
        "42 SGPVGSSWQYWMQLKSSPMNSPTRTQL-PQ SGEIGAS-QV-LHLYSS--NDP-RS-LTPE\n",
        "start"
       ]
      },
      {
       "output_type": "stream",
       "stream": "stdout",
       "text": [
        " 60 571\n",
        "idx1 36 idx2 551\n",
        "47 VEFSASS-NARYKTVTQPDCMLPSS VAFPPSSMSA--K---RPSCMLGSS\n",
        "start"
       ]
      },
      {
       "output_type": "stream",
       "stream": "stdout",
       "text": [
        " 171 73\n",
        "idx1 142 idx2 47\n",
        "47 STP-QFQPGVGIQLSEKPRMTDAMLRTPQL NTPEEFQNGYDSQSSEKP--AD--IRSHEL\n",
        "start"
       ]
      },
      {
       "output_type": "stream",
       "stream": "stdout",
       "text": [
        " 235 644\n",
        "idx1 181 idx2 588\n",
        "46 QTTQTRSTWRQPLV-SYKSRRQYMG-PVQQPRSLCS-QVD-EPL-VR-SL-NSVEQGSEVS QSTPSVST-STTLACAY-S-RALLSEPVHPPRS-ASYQ-DRTNICLRIALASSPPEGSNTS\n",
        "start"
       ]
      },
      {
       "output_type": "stream",
       "stream": "stdout",
       "text": [
        " 280 554\n",
        "idx1 239 idx2 507\n",
        "58 RETR-RKSETGEDSPSGE-MR-I-SNNVQPA-SDN-T-PIKLLSQGRA RETQVRSSEPGA-SHSGNSFWNIYSSSIEHTQSEPLTAPVNILDENSA\n"
       ]
      }
     ],
     "prompt_number": 19
    },
    {
     "cell_type": "code",
     "collapsed": false,
     "input": [
      "sd"
     ],
     "language": "python",
     "metadata": {},
     "outputs": [
      {
       "metadata": {},
       "output_type": "pyout",
       "prompt_number": 20,
       "text": [
        "{37: 1,\n",
        " 38: 6,\n",
        " 39: 8,\n",
        " 40: 14,\n",
        " 41: 13,\n",
        " 42: 28,\n",
        " 43: 42,\n",
        " 44: 68,\n",
        " 45: 54,\n",
        " 46: 61,\n",
        " 47: 84,\n",
        " 48: 66,\n",
        " 49: 67,\n",
        " 50: 65,\n",
        " 51: 59,\n",
        " 52: 69,\n",
        " 53: 39,\n",
        " 54: 39,\n",
        " 55: 39,\n",
        " 56: 29,\n",
        " 57: 16,\n",
        " 58: 26,\n",
        " 59: 15,\n",
        " 60: 23,\n",
        " 61: 13,\n",
        " 62: 8,\n",
        " 63: 8,\n",
        " 64: 7,\n",
        " 65: 2,\n",
        " 66: 7,\n",
        " 67: 2,\n",
        " 68: 5,\n",
        " 69: 1,\n",
        " 70: 3,\n",
        " 71: 1,\n",
        " 72: 2,\n",
        " 73: 2,\n",
        " 74: 2,\n",
        " 76: 1,\n",
        " 78: 1,\n",
        " 79: 1,\n",
        " 80: 1,\n",
        " 82: 1,\n",
        " 84: 1}"
       ]
      }
     ],
     "prompt_number": 20
    },
    {
     "cell_type": "code",
     "collapsed": false,
     "input": [
      "%matplotlib inline\n",
      "from pylab import rcParams\n",
      "rcParams['figure.figsize'] = 9, 6\n",
      "\n",
      "\n",
      "xs = sorted(sd.keys())\n",
      "ys = [sd[x]/1000.0 for x in xs]\n",
      "plt.bar(xs, ys)\n",
      "plt.xlabel('Scores of local alignment')\n",
      "plt.ylabel('# scores / # trials')\n",
      "plt.title('Normalized distribution of local alignment between random permutations of human eyeless protein and fruitfly eyeless protein (1000 trials')"
     ],
     "language": "python",
     "metadata": {},
     "outputs": [
      {
       "metadata": {},
       "output_type": "pyout",
       "prompt_number": 32,
       "text": [
        "<matplotlib.text.Text at 0x110951490>"
       ]
      },
      {
       "metadata": {},
       "output_type": "display_data",
       "png": "[encoded data removed]",
       "text": [
        "<matplotlib.figure.Figure at 0x10f66c250>"
       ]
      }
     ],
     "prompt_number": 32
    },
    {
     "cell_type": "code",
     "collapsed": false,
     "input": [
      "# Question 5\n",
      "\n",
      "from itertools import chain\n",
      "import math\n",
      "\n",
      "\n",
      "scores = list(chain.from_iterable([x]*sd[x] for x in sd))\n",
      "print '# scores', len(scores)\n",
      "mean = sum(scores) / float(len(scores))\n",
      "print 'Mean:', mean\n",
      "sigma = math.sqrt(sum((x-mean)**2 for x in scores) / float(len(scores)))\n",
      "print 'Standard deviation:', sigma\n",
      "print 'Z-Score:', (human_fruitfly_score - mean) / float(sigma)"
     ],
     "language": "python",
     "metadata": {},
     "outputs": [
      {
       "output_type": "stream",
       "stream": "stdout",
       "text": [
        "# scores 1000\n",
        "Mean: 50.327\n",
        "Standard deviation: 6.61816220714\n",
        "Z-Score: 124.607553304\n"
       ]
      }
     ],
     "prompt_number": 47
    },
    {
     "cell_type": "code",
     "collapsed": false,
     "input": [
      "# Question 7\n",
      "def foo(word1, word2):\n",
      "    print '===', word1, word2\n",
      "    scoring_matrix = build_scoring_matrix(set(word1) | set(word2), 2, 1, 0)\n",
      "    alignment_matrix = compute_alignment_matrix(word1, word2, scoring_matrix, True)\n",
      "    score, x, y = compute_global_alignment(word1, word2, scoring_matrix, alignment_matrix)\n",
      "    print score, x, y\n",
      "    print 'Levenshtein distance:', len(word1) + len(word2) - score\n",
      "    \n",
      "foo('kitten', 'sitting')\n",
      "foo('foo', 'foo')\n",
      "foo('a', 'b')\n",
      "foo('aaa', 'bbb')\n",
      "foo('rosettacode', 'raisethysword')"
     ],
     "language": "python",
     "metadata": {},
     "outputs": [
      {
       "output_type": "stream",
       "stream": "stdout",
       "text": [
        "=== kitten sitting\n",
        "10 kitten- sitting\n",
        "Levenshtein distance: 3\n",
        "=== foo foo\n",
        "6 foo foo\n",
        "Levenshtein distance: 0\n",
        "=== a b\n",
        "1 a b\n",
        "Levenshtein distance: 1\n",
        "=== aaa bbb\n",
        "3 aaa bbb\n",
        "Levenshtein distance: 3\n",
        "=== rosettacode raisethysword\n",
        "16 r-oset-tacode raisethysword\n",
        "Levenshtein distance: 8\n"
       ]
      }
     ],
     "prompt_number": 78
    },
    {
     "cell_type": "code",
     "collapsed": false,
     "input": [
      "WORDS = read_words(WORD_LIST)\n",
      "\n",
      "def check_spelling(checked_word, dist, word_list):\n",
      "    scoring_matrix = build_scoring_matrix(set(checked_word) | set(chain.from_iterable(word_list)), 2, 1, 0)\n",
      "    proposed_spellings = []\n",
      "    for word in word_list:\n",
      "        alignment_matrix = compute_alignment_matrix(checked_word, word, scoring_matrix, True)\n",
      "        score, _, _ = compute_global_alignment(checked_word, word, scoring_matrix, alignment_matrix)\n",
      "        levenshtein_dist = len(checked_word) + len(word) - score\n",
      "        if levenshtein_dist <= dist:\n",
      "            proposed_spellings.append(word)\n",
      "    return proposed_spellings"
     ],
     "language": "python",
     "metadata": {},
     "outputs": [
      {
       "output_type": "stream",
       "stream": "stdout",
       "text": [
        "Loaded a dictionary with 79340 words\n"
       ]
      }
     ],
     "prompt_number": 84
    },
    {
     "cell_type": "code",
     "collapsed": false,
     "input": [
      "for word in check_spelling('humble', 1, WORDS):\n",
      "    print word\n",
      "\n",
      "print\n",
      "\n",
      "for word in check_spelling('firefly', 2, WORDS):\n",
      "    print word"
     ],
     "language": "python",
     "metadata": {},
     "outputs": [
      {
       "output_type": "stream",
       "stream": "stdout",
       "text": [
        "bumble\n",
        "fumble\n",
        "humble\n",
        "humbled\n",
        "humbler\n",
        "humbles\n",
        "humbly\n",
        "jumble\n",
        "mumble\n",
        "rumble\n",
        "tumble\n",
        "\n",
        "direly"
       ]
      },
      {
       "output_type": "stream",
       "stream": "stdout",
       "text": [
        "\n",
        "finely\n",
        "fireclay\n",
        "firefly\n",
        "firmly\n",
        "firstly\n",
        "fixedly\n",
        "freely\n",
        "liefly\n",
        "refly\n",
        "tiredly\n"
       ]
      }
     ],
     "prompt_number": 88
    },
    {
     "cell_type": "code",
     "collapsed": false,
     "input": [],
     "language": "python",
     "metadata": {},
     "outputs": []
    }
   ],
   "metadata": {}
  }
 ]
}