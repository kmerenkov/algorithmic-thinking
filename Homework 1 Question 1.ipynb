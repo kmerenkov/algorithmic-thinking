{
 "metadata": {
  "name": ""
 },
 "nbformat": 3,
 "nbformat_minor": 0,
 "worksheets": [
  {
   "cells": [
    {
     "cell_type": "code",
     "collapsed": false,
     "input": [
      "def compute_in_degrees(digraph):\n",
      "    \"\"\"Takes a directed graph digraph (represented as a dictionary)\n",
      "    and computes the in-degrees for the nodes in the graph\"\"\"\n",
      "    graph = {}\n",
      "    for node1 in digraph:\n",
      "        graph[node1] = 0\n",
      "    for nodes in digraph.itervalues():\n",
      "        for node in nodes:\n",
      "            graph[node] += 1\n",
      "    return graph\n",
      "\n",
      "\n",
      "def in_degree_distribution(digraph):\n",
      "    \"\"\"Takes a directed graph digraph (represented as a dictionary)\n",
      "    and computes the unnormalized distribution of the in-degrees of the graph\"\"\"\n",
      "    digraph = compute_in_degrees(digraph)\n",
      "    distribution = {}\n",
      "    for val in digraph.itervalues():\n",
      "        if val not in distribution:\n",
      "            distribution[val] = 0\n",
      "        distribution[val] += 1\n",
      "    return distribution\n",
      "\n",
      "\n",
      "def in_degree_norm_distribution(digraph):\n",
      "    \"\"\"Computes normalized indegree distribution of a digraph.\n",
      "    \"\"\"\n",
      "    indeg = compute_in_degrees(digraph)\n",
      "    result = {}\n",
      "    sum_indegrees = 0\n",
      "    for val in indeg.itervalues():\n",
      "        if val not in result:\n",
      "            result[val] = 0\n",
      "        result[val] += 1\n",
      "        sum_indegrees += 1\n",
      "    for val in result.iterkeys():\n",
      "        result[val] = result[val] / float(sum_indegrees)\n",
      "    return result"
     ],
     "language": "python",
     "metadata": {},
     "outputs": [],
     "prompt_number": 44
    },
    {
     "cell_type": "code",
     "collapsed": false,
     "input": [
      "import pickle\n",
      "\n",
      "with open(\"/Users/kmerenkov/Projects/algorithmic-thinking/ololo.bin\", \"r\") as f:\n",
      "    citation_graph = pickle.load(f)"
     ],
     "language": "python",
     "metadata": {},
     "outputs": [],
     "prompt_number": 45
    },
    {
     "cell_type": "code",
     "collapsed": false,
     "input": [
      "indeg_citation_graph = in_degree_norm_distribution(citation_graph)"
     ],
     "language": "python",
     "metadata": {},
     "outputs": [],
     "prompt_number": 46
    },
    {
     "cell_type": "code",
     "collapsed": false,
     "input": [
      "%matplotlib inline\n",
      "import matplotlib.pyplot as plt\n",
      "import numpy as np\n",
      "import matplotlib.pylab as pylab\n",
      "pylab.rcParams['figure.figsize'] = 10, 6"
     ],
     "language": "python",
     "metadata": {},
     "outputs": [],
     "prompt_number": 50
    },
    {
     "cell_type": "code",
     "collapsed": false,
     "input": [
      "icg = indeg_citation_graph\n",
      "icg = icg.items()\n",
      "\n",
      "xs = [x for (x, y) in icg]\n",
      "ys = [y for (x, y) in icg]\n",
      "\n",
      "xs[0], ys[0]"
     ],
     "language": "python",
     "metadata": {},
     "outputs": [
      {
       "metadata": {},
       "output_type": "pyout",
       "prompt_number": 51,
       "text": [
        "(0, 0.16528628015844438)"
       ]
      }
     ],
     "prompt_number": 51
    },
    {
     "cell_type": "code",
     "collapsed": false,
     "input": [
      "plt.xscale(\"log\")\n",
      "plt.xlabel(\"in-degree of nodes\")\n",
      "plt.yscale(\"log\")\n",
      "plt.ylabel(\"normalized distribution\")\n",
      "plt.title(\"In-degree normalized distribution\") \n",
      "plt.plot(xs, ys, 'r.')\n",
      "plt.show()"
     ],
     "language": "python",
     "metadata": {},
     "outputs": [
      {
       "metadata": {},
       "output_type": "display_data",
       "png": "[encoded data removed]",
       "text": [
        "<matplotlib.figure.Figure at 0x10efbed90>"
       ]
      }
     ],
     "prompt_number": 58
    },
    {
     "cell_type": "code",
     "collapsed": false,
     "input": [],
     "language": "python",
     "metadata": {},
     "outputs": []
    }
   ],
   "metadata": {}
  }
 ]
}