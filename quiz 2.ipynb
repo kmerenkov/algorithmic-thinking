{
 "metadata": {
  "name": ""
 },
 "nbformat": 3,
 "nbformat_minor": 0,
 "worksheets": [
  {
   "cells": [
    {
     "cell_type": "code",
     "collapsed": false,
     "input": [
      "def bfs_distance(graph, node):\n",
      "    \"\"\"BFS distance\"\"\"\n",
      "    queue = []\n",
      "    d_graph = {}\n",
      "    queue.append(node)\n",
      "    while queue:\n",
      "        node = queue.pop(0)\n",
      "        for neighbor in graph[node]:\n",
      "            if neighbor not in d_graph:\n",
      "                d_graph[neighbor] = d_graph.get(node, 0) + 1\n",
      "                queue.append(neighbor)\n",
      "    return d_graph"
     ],
     "language": "python",
     "metadata": {},
     "outputs": [],
     "prompt_number": 83
    },
    {
     "cell_type": "code",
     "collapsed": false,
     "input": [
      "graph = {\n",
      "    0:set([1,2]),\n",
      "    1:set([0]),\n",
      "    2:set([0]),\n",
      "    3:set(),\n",
      "}\n",
      "\n",
      "bfs_distance(graph, 0)"
     ],
     "language": "python",
     "metadata": {},
     "outputs": [
      {
       "metadata": {},
       "output_type": "pyout",
       "prompt_number": 84,
       "text": [
        "{0: 2, 1: 1, 2: 1}"
       ]
      }
     ],
     "prompt_number": 84
    },
    {
     "cell_type": "code",
     "collapsed": false,
     "input": [
      "def cc_distance(graph):\n",
      "    \"\"\"CC distance\"\"\"\n",
      "    remaining_nodes = list(graph.keys())\n",
      "    components = set()\n",
      "    while remaining_nodes:\n",
      "        arbitrary_node = remaining_nodes[0]\n",
      "        distance = bfs_distance(graph, arbitrary_node)\n",
      "        to_be_cced = set()\n",
      "        for remaining_node in remaining_nodes:\n",
      "            if remaining_node in distance:\n",
      "                to_be_cced.add(remaining_node)\n",
      "        components = components | to_be_cced\n",
      "        remaining_nodes = list(set(remaining_nodes) - {arbitrary_node})\n",
      "    return components"
     ],
     "language": "python",
     "metadata": {},
     "outputs": [],
     "prompt_number": 85
    },
    {
     "cell_type": "code",
     "collapsed": false,
     "input": [
      "graph = {\n",
      "    0:set([1,2]),\n",
      "    1:set([0]),\n",
      "    2:set([0]),\n",
      "    3:set(),\n",
      "}\n",
      "\n",
      "cc_distance(graph)"
     ],
     "language": "python",
     "metadata": {},
     "outputs": [
      {
       "metadata": {},
       "output_type": "pyout",
       "prompt_number": 86,
       "text": [
        "{0, 1, 2}"
       ]
      }
     ],
     "prompt_number": 86
    },
    {
     "cell_type": "code",
     "collapsed": false,
     "input": [
      "def bfs_visited(graph, node):\n",
      "    \"\"\"BFS visited\"\"\"\n",
      "    queue = [node]\n",
      "    visited = {node}\n",
      "    while queue:\n",
      "        node = queue.pop(0)\n",
      "        for neighbor in graph[node]:\n",
      "            if neighbor not in visited:\n",
      "                visited.add(neighbor)\n",
      "                queue.append(neighbor)\n",
      "    return visited"
     ],
     "language": "python",
     "metadata": {},
     "outputs": [],
     "prompt_number": 80
    },
    {
     "cell_type": "code",
     "collapsed": false,
     "input": [
      "graph = {\n",
      "    0:set([1,2]),\n",
      "    1:set([0]),\n",
      "    2:set([0]),\n",
      "    3:set(),\n",
      "}\n",
      "\n",
      "bfs_visited(graph, 2)"
     ],
     "language": "python",
     "metadata": {},
     "outputs": [
      {
       "metadata": {},
       "output_type": "pyout",
       "prompt_number": 81,
       "text": [
        "{0, 1, 2}"
       ]
      }
     ],
     "prompt_number": 81
    },
    {
     "cell_type": "code",
     "collapsed": false,
     "input": [
      "def cc_visited(graph):\n",
      "    \"\"\"CC visited\"\"\"\n",
      "    remaining_nodes = list(graph.keys())\n",
      "    components = []\n",
      "    while remaining_nodes:\n",
      "        node = remaining_nodes[0]\n",
      "        component = bfs_visited(graph, node)\n",
      "        if component not in components:\n",
      "            components.append(component)\n",
      "        remaining_nodes = list(set(remaining_nodes) - {node})\n",
      "    return components"
     ],
     "language": "python",
     "metadata": {},
     "outputs": [],
     "prompt_number": 76
    },
    {
     "cell_type": "code",
     "collapsed": false,
     "input": [
      "cc_visited(graph)"
     ],
     "language": "python",
     "metadata": {},
     "outputs": [
      {
       "metadata": {},
       "output_type": "pyout",
       "prompt_number": 77,
       "text": [
        "[{0, 1, 2}, {3}]"
       ]
      }
     ],
     "prompt_number": 77
    },
    {
     "cell_type": "code",
     "collapsed": false,
     "input": [
      "def largest_cc_size(graph):\n",
      "    \"\"\"Largest CC size\"\"\"\n",
      "    ccs = cc_visited(graph)\n",
      "    if not ccs:\n",
      "        return 0\n",
      "    return max(len(x) for x in ccs)"
     ],
     "language": "python",
     "metadata": {},
     "outputs": [],
     "prompt_number": 63
    },
    {
     "cell_type": "code",
     "collapsed": false,
     "input": [
      "largest_cc_size(graph)"
     ],
     "language": "python",
     "metadata": {},
     "outputs": [
      {
       "metadata": {},
       "output_type": "pyout",
       "prompt_number": 64,
       "text": [
        "3"
       ]
      }
     ],
     "prompt_number": 64
    },
    {
     "cell_type": "code",
     "collapsed": false,
     "input": [
      "def compute_resilience(graph, attack_order):\n",
      "    \"\"\"Resilience\"\"\"\n",
      "    graph = graph.copy()\n",
      "    resilience = [largest_cc_size(graph)]\n",
      "    for node in attack_order:\n",
      "        del graph[node]\n",
      "        for node2, neighbors in graph.iteritems():\n",
      "            if node in neighbors:\n",
      "                graph[node2] = {x for x in neighbors if x != node}\n",
      "        resilience.append(largest_cc_size(graph))\n",
      "    return resilience"
     ],
     "language": "python",
     "metadata": {},
     "outputs": [],
     "prompt_number": 78
    },
    {
     "cell_type": "code",
     "collapsed": false,
     "input": [
      "compute_resilience(graph, [0])"
     ],
     "language": "python",
     "metadata": {},
     "outputs": [
      {
       "metadata": {},
       "output_type": "pyout",
       "prompt_number": 79,
       "text": [
        "[3, 1]"
       ]
      }
     ],
     "prompt_number": 79
    },
    {
     "cell_type": "code",
     "collapsed": false,
     "input": [],
     "language": "python",
     "metadata": {},
     "outputs": []
    }
   ],
   "metadata": {}
  }
 ]
}